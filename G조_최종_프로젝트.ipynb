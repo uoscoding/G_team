{
 "cells": [
  {
   "cell_type": "markdown",
   "metadata": {},
   "source": [
    "# 데이터 취득 및 데이터 전처리 - 강범창"
   ]
  },
  {
   "cell_type": "code",
   "execution_count": 21,
   "metadata": {},
   "outputs": [],
   "source": [
    "import requests\n",
    "from bs4 import BeautifulSoup as bf\n",
    "import pandas as pd\n",
    "from tqdm import tqdm_notebook\n",
    "import numpy as np\n",
    "import seaborn as sns\n",
    "import warnings\n",
    "warnings.filterwarnings(action='ignore')\n",
    "# 출처 서울 열린데이터 광장, 카카오 developer\n",
    "#http://openapi.seoul.go.kr:8088/(인증키)/xml/CardBusStatisticsServiceNew/1/5/20151101/"
   ]
  },
  {
   "cell_type": "code",
   "execution_count": 2,
   "metadata": {},
   "outputs": [
    {
     "name": "stderr",
     "output_type": "stream",
     "text": [
      "<ipython-input-2-4093a7b441a1>:4: TqdmDeprecationWarning: This function will be removed in tqdm==5.0.0\n",
      "Please use `tqdm.notebook.tqdm` instead of `tqdm.tqdm_notebook`\n",
      "  for i in tqdm_notebook(date):\n"
     ]
    },
    {
     "data": {
      "application/vnd.jupyter.widget-view+json": {
       "model_id": "f202fcc88b6b474896a797c0308f4fe7",
       "version_major": 2,
       "version_minor": 0
      },
      "text/plain": [
       "HBox(children=(HTML(value=''), FloatProgress(value=0.0, max=731.0), HTML(value='')))"
      ]
     },
     "metadata": {},
     "output_type": "display_data"
    },
    {
     "name": "stdout",
     "output_type": "stream",
     "text": [
      "\n",
      "(432824, 6)\n"
     ]
    },
    {
     "data": {
      "text/plain": [
       "521"
      ]
     },
     "execution_count": 2,
     "metadata": {},
     "output_type": "execute_result"
    }
   ],
   "source": [
    "date=pd.date_range('2019-1-1',periods=731,freq='D') # 2019-2020년 날짜\n",
    "key='66696b6275746f7236336378485a52'# 서울 공공데이터 api 키\n",
    "df_li=[]\n",
    "for i in tqdm_notebook(date):\n",
    "    j=str(i).split()[0].replace('-','')\n",
    "    url='http://openapi.seoul.go.kr:8088/{}/json/CardSubwayStatsNew/1/900/{}'.format(key,j)\n",
    "    resp=requests.get(url).json()\n",
    "    df=pd.DataFrame(resp['CardSubwayStatsNew']['row'])\n",
    "    df_li.append(df)\n",
    "fi_df=pd.concat(df_li)\n",
    "print(fi_df.shape)\n",
    "station=fi_df['SUB_STA_NM'].unique()\n",
    "len(station)"
   ]
  },
  {
   "cell_type": "code",
   "execution_count": 3,
   "metadata": {},
   "outputs": [],
   "source": [
    "def xy(url,x_li,y_li):\n",
    "    resp=requests.get(url,headers={\"Authorization\":f\"KakaoAK {kakao_key}\"})\n",
    "    content=resp.json()\n",
    "    x_li.append(content['documents'][0]['x'])\n",
    "    y_li.append(content['documents'][0]['y'])"
   ]
  },
  {
   "cell_type": "code",
   "execution_count": 4,
   "metadata": {},
   "outputs": [],
   "source": [
    "def xy1(url,gu):\n",
    "    resp=requests.get(url,headers={\"Authorization\":f\"KakaoAK {kakao_key}\"})\n",
    "    content=resp.json()\n",
    "    gu.append(content['documents'][0]['address_name'].split()[1])"
   ]
  },
  {
   "cell_type": "code",
   "execution_count": 5,
   "metadata": {},
   "outputs": [],
   "source": [
    "def xy2(url):\n",
    "    resp=requests.get(url,headers={\"Authorization\":f\"KakaoAK {kakao_key}\"})\n",
    "    content=resp.json()\n",
    "    return content['documents'][0]['address_name'].split()[0]=='서울'"
   ]
  },
  {
   "cell_type": "code",
   "execution_count": 6,
   "metadata": {},
   "outputs": [
    {
     "name": "stderr",
     "output_type": "stream",
     "text": [
      "<ipython-input-6-46744e3afe42>:3: TqdmDeprecationWarning: This function will be removed in tqdm==5.0.0\n",
      "Please use `tqdm.notebook.tqdm` instead of `tqdm.tqdm_notebook`\n",
      "  for i in tqdm_notebook(station):\n"
     ]
    },
    {
     "data": {
      "application/vnd.jupyter.widget-view+json": {
       "model_id": "28035f2bba63423992cff5140e701fa5",
       "version_major": 2,
       "version_minor": 0
      },
      "text/plain": [
       "HBox(children=(HTML(value=''), FloatProgress(value=0.0, max=521.0), HTML(value='')))"
      ]
     },
     "metadata": {},
     "output_type": "display_data"
    },
    {
     "name": "stdout",
     "output_type": "stream",
     "text": [
      "\n",
      "1 1 1\n"
     ]
    }
   ],
   "source": [
    "kakao_key='5ada2bc5b69fcd7897c5b3c0db126933'# 카카오 키\n",
    "x_li=[];y_li=[];add_li=[];comple_li=[];gu=[]# x,y,추가할 역, 있는 역\n",
    "for i in tqdm_notebook(station):\n",
    "    try:\n",
    "        if i[-1]!='역':\n",
    "            url=\"https://dapi.kakao.com/v2/local/search/?query={}\".format(i+'역')\n",
    "            if xy2(url):\n",
    "                xy(url,x_li,y_li)\n",
    "                xy1(url,gu)\n",
    "                comple_li.append(i)\n",
    "        else:\n",
    "            url=\"https://dapi.kakao.com/v2/local/search/keyword?query={}\".format(i)\n",
    "            if xy2(url):\n",
    "                xy(url,x_li,y_li)\n",
    "                xy1(url,gu)\n",
    "                comple_li.append(i)\n",
    "    except:\n",
    "        add_li.append(i)\n",
    "print(len(x_li),len(y_li),len(gu))"
   ]
  },
  {
   "cell_type": "code",
   "execution_count": 7,
   "metadata": {},
   "outputs": [
    {
     "name": "stderr",
     "output_type": "stream",
     "text": [
      "<ipython-input-7-4b3ef24b18cd>:2: TqdmDeprecationWarning: This function will be removed in tqdm==5.0.0\n",
      "Please use `tqdm.notebook.tqdm` instead of `tqdm.tqdm_notebook`\n",
      "  for i in tqdm_notebook(add_li):\n"
     ]
    },
    {
     "data": {
      "application/vnd.jupyter.widget-view+json": {
       "model_id": "853cc69b8eb74483955efcd865071a01",
       "version_major": 2,
       "version_minor": 0
      },
      "text/plain": [
       "HBox(children=(HTML(value=''), FloatProgress(value=0.0, max=520.0), HTML(value='')))"
      ]
     },
     "metadata": {},
     "output_type": "display_data"
    },
    {
     "name": "stdout",
     "output_type": "stream",
     "text": [
      "\n",
      "300 300 300 300 0\n"
     ]
    }
   ],
   "source": [
    "li2=[]# 안된 것들 다시 하기\n",
    "for i in tqdm_notebook(add_li):\n",
    "    try:\n",
    "        j=i.split('(')[0]\n",
    "        url=\"https://dapi.kakao.com/v2/local/search/keyword?query={}\".format(j+'역')\n",
    "        if xy2(url):\n",
    "            xy(url,x_li,y_li)\n",
    "            xy1(url,gu)\n",
    "            comple_li.append(i)\n",
    "    except:\n",
    "        li2.append(i)\n",
    "print(len(x_li),len(y_li),len(gu),len(comple_li),len(li2))# 완성"
   ]
  },
  {
   "cell_type": "code",
   "execution_count": 8,
   "metadata": {},
   "outputs": [
    {
     "data": {
      "text/html": [
       "<div>\n",
       "<style scoped>\n",
       "    .dataframe tbody tr th:only-of-type {\n",
       "        vertical-align: middle;\n",
       "    }\n",
       "\n",
       "    .dataframe tbody tr th {\n",
       "        vertical-align: top;\n",
       "    }\n",
       "\n",
       "    .dataframe thead th {\n",
       "        text-align: right;\n",
       "    }\n",
       "</style>\n",
       "<table border=\"1\" class=\"dataframe\">\n",
       "  <thead>\n",
       "    <tr style=\"text-align: right;\">\n",
       "      <th></th>\n",
       "      <th>역명</th>\n",
       "      <th>구명</th>\n",
       "      <th>x</th>\n",
       "      <th>y</th>\n",
       "    </tr>\n",
       "  </thead>\n",
       "  <tbody>\n",
       "    <tr>\n",
       "      <th>0</th>\n",
       "      <td>서울역</td>\n",
       "      <td>용산구</td>\n",
       "      <td>126.970606917394</td>\n",
       "      <td>37.5546788388674</td>\n",
       "    </tr>\n",
       "    <tr>\n",
       "      <th>1</th>\n",
       "      <td>시청</td>\n",
       "      <td>중구</td>\n",
       "      <td>126.97719821079865</td>\n",
       "      <td>37.56534539636417</td>\n",
       "    </tr>\n",
       "    <tr>\n",
       "      <th>2</th>\n",
       "      <td>종각</td>\n",
       "      <td>종로구</td>\n",
       "      <td>126.98315081716676</td>\n",
       "      <td>37.570227990912244</td>\n",
       "    </tr>\n",
       "    <tr>\n",
       "      <th>3</th>\n",
       "      <td>종로3가</td>\n",
       "      <td>종로구</td>\n",
       "      <td>126.992153252476</td>\n",
       "      <td>37.570420844523</td>\n",
       "    </tr>\n",
       "    <tr>\n",
       "      <th>4</th>\n",
       "      <td>종로5가</td>\n",
       "      <td>종로구</td>\n",
       "      <td>127.00153834521934</td>\n",
       "      <td>37.57097610838373</td>\n",
       "    </tr>\n",
       "  </tbody>\n",
       "</table>\n",
       "</div>"
      ],
      "text/plain": [
       "     역명   구명                   x                   y\n",
       "0   서울역  용산구    126.970606917394    37.5546788388674\n",
       "1    시청   중구  126.97719821079865   37.56534539636417\n",
       "2    종각  종로구  126.98315081716676  37.570227990912244\n",
       "3  종로3가  종로구    126.992153252476     37.570420844523\n",
       "4  종로5가  종로구  127.00153834521934   37.57097610838373"
      ]
     },
     "execution_count": 8,
     "metadata": {},
     "output_type": "execute_result"
    }
   ],
   "source": [
    "station_xy_df=pd.DataFrame({'역명':comple_li,'구명':gu,'x':x_li,'y':y_li})\n",
    "station_xy_df.head()"
   ]
  },
  {
   "cell_type": "code",
   "execution_count": 9,
   "metadata": {},
   "outputs": [],
   "source": [
    "station_xy_df.to_csv('./정리/station_xy_gu.csv',encoding='cp949')"
   ]
  },
  {
   "cell_type": "markdown",
   "metadata": {},
   "source": [
    "서울내에 있는 구 파악하기"
   ]
  },
  {
   "cell_type": "code",
   "execution_count": 7,
   "metadata": {},
   "outputs": [
    {
     "data": {
      "text/html": [
       "<div>\n",
       "<style scoped>\n",
       "    .dataframe tbody tr th:only-of-type {\n",
       "        vertical-align: middle;\n",
       "    }\n",
       "\n",
       "    .dataframe tbody tr th {\n",
       "        vertical-align: top;\n",
       "    }\n",
       "\n",
       "    .dataframe thead th {\n",
       "        text-align: right;\n",
       "    }\n",
       "</style>\n",
       "<table border=\"1\" class=\"dataframe\">\n",
       "  <thead>\n",
       "    <tr style=\"text-align: right;\">\n",
       "      <th></th>\n",
       "      <th>SUB_STA_NM</th>\n",
       "      <th>구명</th>\n",
       "      <th>x</th>\n",
       "      <th>y</th>\n",
       "    </tr>\n",
       "  </thead>\n",
       "  <tbody>\n",
       "    <tr>\n",
       "      <th>0</th>\n",
       "      <td>서울역</td>\n",
       "      <td>용산구</td>\n",
       "      <td>126.970607</td>\n",
       "      <td>37.554679</td>\n",
       "    </tr>\n",
       "    <tr>\n",
       "      <th>1</th>\n",
       "      <td>시청</td>\n",
       "      <td>중구</td>\n",
       "      <td>126.977198</td>\n",
       "      <td>37.565345</td>\n",
       "    </tr>\n",
       "    <tr>\n",
       "      <th>2</th>\n",
       "      <td>종각</td>\n",
       "      <td>종로구</td>\n",
       "      <td>126.983151</td>\n",
       "      <td>37.570228</td>\n",
       "    </tr>\n",
       "    <tr>\n",
       "      <th>3</th>\n",
       "      <td>종로3가</td>\n",
       "      <td>종로구</td>\n",
       "      <td>126.992153</td>\n",
       "      <td>37.570421</td>\n",
       "    </tr>\n",
       "    <tr>\n",
       "      <th>4</th>\n",
       "      <td>종로5가</td>\n",
       "      <td>종로구</td>\n",
       "      <td>127.001538</td>\n",
       "      <td>37.570976</td>\n",
       "    </tr>\n",
       "  </tbody>\n",
       "</table>\n",
       "</div>"
      ],
      "text/plain": [
       "  SUB_STA_NM   구명           x          y\n",
       "0        서울역  용산구  126.970607  37.554679\n",
       "1         시청   중구  126.977198  37.565345\n",
       "2         종각  종로구  126.983151  37.570228\n",
       "3       종로3가  종로구  126.992153  37.570421\n",
       "4       종로5가  종로구  127.001538  37.570976"
      ]
     },
     "execution_count": 7,
     "metadata": {},
     "output_type": "execute_result"
    }
   ],
   "source": [
    "gu=pd.read_csv('./정리/station_xy_gu.csv',encoding='cp949',index_col=0)\n",
    "gu.rename(columns={gu.columns[0]:'SUB_STA_NM'},inplace=True)\n",
    "gu.head()"
   ]
  },
  {
   "cell_type": "code",
   "execution_count": 5,
   "metadata": {},
   "outputs": [
    {
     "data": {
      "text/html": [
       "<div>\n",
       "<style scoped>\n",
       "    .dataframe tbody tr th:only-of-type {\n",
       "        vertical-align: middle;\n",
       "    }\n",
       "\n",
       "    .dataframe tbody tr th {\n",
       "        vertical-align: top;\n",
       "    }\n",
       "\n",
       "    .dataframe thead th {\n",
       "        text-align: right;\n",
       "    }\n",
       "</style>\n",
       "<table border=\"1\" class=\"dataframe\">\n",
       "  <thead>\n",
       "    <tr style=\"text-align: right;\">\n",
       "      <th></th>\n",
       "      <th>USE_DT2</th>\n",
       "      <th>LINE_NUM</th>\n",
       "      <th>SUB_STA_NM</th>\n",
       "      <th>RIDE_PASGR_NUM</th>\n",
       "      <th>ALIGHT_PASGR_NUM</th>\n",
       "    </tr>\n",
       "  </thead>\n",
       "  <tbody>\n",
       "    <tr>\n",
       "      <th>0</th>\n",
       "      <td>201901</td>\n",
       "      <td>1호선</td>\n",
       "      <td>서울역</td>\n",
       "      <td>39420.0</td>\n",
       "      <td>31121.0</td>\n",
       "    </tr>\n",
       "    <tr>\n",
       "      <th>1</th>\n",
       "      <td>201901</td>\n",
       "      <td>1호선</td>\n",
       "      <td>시청</td>\n",
       "      <td>11807.0</td>\n",
       "      <td>10322.0</td>\n",
       "    </tr>\n",
       "    <tr>\n",
       "      <th>2</th>\n",
       "      <td>201901</td>\n",
       "      <td>1호선</td>\n",
       "      <td>종각</td>\n",
       "      <td>20944.0</td>\n",
       "      <td>16658.0</td>\n",
       "    </tr>\n",
       "    <tr>\n",
       "      <th>3</th>\n",
       "      <td>201901</td>\n",
       "      <td>1호선</td>\n",
       "      <td>종로3가</td>\n",
       "      <td>17798.0</td>\n",
       "      <td>15762.0</td>\n",
       "    </tr>\n",
       "    <tr>\n",
       "      <th>4</th>\n",
       "      <td>201901</td>\n",
       "      <td>1호선</td>\n",
       "      <td>종로5가</td>\n",
       "      <td>13578.0</td>\n",
       "      <td>13282.0</td>\n",
       "    </tr>\n",
       "  </tbody>\n",
       "</table>\n",
       "</div>"
      ],
      "text/plain": [
       "   USE_DT2 LINE_NUM SUB_STA_NM  RIDE_PASGR_NUM  ALIGHT_PASGR_NUM\n",
       "0   201901      1호선        서울역         39420.0           31121.0\n",
       "1   201901      1호선         시청         11807.0           10322.0\n",
       "2   201901      1호선         종각         20944.0           16658.0\n",
       "3   201901      1호선       종로3가         17798.0           15762.0\n",
       "4   201901      1호선       종로5가         13578.0           13282.0"
      ]
     },
     "execution_count": 5,
     "metadata": {},
     "output_type": "execute_result"
    }
   ],
   "source": [
    "fi_df=pd.read_csv('./data/raw.csv',index_col=0)\n",
    "fi_df.head()"
   ]
  },
  {
   "cell_type": "code",
   "execution_count": 8,
   "metadata": {},
   "outputs": [
    {
     "data": {
      "text/html": [
       "<div>\n",
       "<style scoped>\n",
       "    .dataframe tbody tr th:only-of-type {\n",
       "        vertical-align: middle;\n",
       "    }\n",
       "\n",
       "    .dataframe tbody tr th {\n",
       "        vertical-align: top;\n",
       "    }\n",
       "\n",
       "    .dataframe thead th {\n",
       "        text-align: right;\n",
       "    }\n",
       "</style>\n",
       "<table border=\"1\" class=\"dataframe\">\n",
       "  <thead>\n",
       "    <tr style=\"text-align: right;\">\n",
       "      <th></th>\n",
       "      <th>USE_DT2</th>\n",
       "      <th>LINE_NUM</th>\n",
       "      <th>구명</th>\n",
       "      <th>SUB_STA_NM</th>\n",
       "      <th>RIDE_PASGR_NUM</th>\n",
       "      <th>ALIGHT_PASGR_NUM</th>\n",
       "    </tr>\n",
       "  </thead>\n",
       "  <tbody>\n",
       "    <tr>\n",
       "      <th>0</th>\n",
       "      <td>201901</td>\n",
       "      <td>1호선</td>\n",
       "      <td>용산구</td>\n",
       "      <td>서울역</td>\n",
       "      <td>39420.0</td>\n",
       "      <td>31121.0</td>\n",
       "    </tr>\n",
       "    <tr>\n",
       "      <th>1</th>\n",
       "      <td>201901</td>\n",
       "      <td>4호선</td>\n",
       "      <td>용산구</td>\n",
       "      <td>서울역</td>\n",
       "      <td>5689.0</td>\n",
       "      <td>13266.0</td>\n",
       "    </tr>\n",
       "    <tr>\n",
       "      <th>2</th>\n",
       "      <td>201901</td>\n",
       "      <td>경부선</td>\n",
       "      <td>용산구</td>\n",
       "      <td>서울역</td>\n",
       "      <td>5983.0</td>\n",
       "      <td>731.0</td>\n",
       "    </tr>\n",
       "    <tr>\n",
       "      <th>3</th>\n",
       "      <td>201901</td>\n",
       "      <td>경의선</td>\n",
       "      <td>용산구</td>\n",
       "      <td>서울역</td>\n",
       "      <td>1278.0</td>\n",
       "      <td>919.0</td>\n",
       "    </tr>\n",
       "    <tr>\n",
       "      <th>4</th>\n",
       "      <td>201901</td>\n",
       "      <td>공항철도 1호선</td>\n",
       "      <td>용산구</td>\n",
       "      <td>서울역</td>\n",
       "      <td>14043.0</td>\n",
       "      <td>9955.0</td>\n",
       "    </tr>\n",
       "  </tbody>\n",
       "</table>\n",
       "</div>"
      ],
      "text/plain": [
       "   USE_DT2  LINE_NUM   구명 SUB_STA_NM  RIDE_PASGR_NUM  ALIGHT_PASGR_NUM\n",
       "0   201901       1호선  용산구        서울역         39420.0           31121.0\n",
       "1   201901       4호선  용산구        서울역          5689.0           13266.0\n",
       "2   201901       경부선  용산구        서울역          5983.0             731.0\n",
       "3   201901       경의선  용산구        서울역          1278.0             919.0\n",
       "4   201901  공항철도 1호선  용산구        서울역         14043.0            9955.0"
      ]
     },
     "execution_count": 8,
     "metadata": {},
     "output_type": "execute_result"
    }
   ],
   "source": [
    "fi_df2=fi_df.merge(gu,on='SUB_STA_NM')\n",
    "fi_df2=pd.DataFrame(fi_df2,columns=['USE_DT2','LINE_NUM','구명','SUB_STA_NM','RIDE_PASGR_NUM','ALIGHT_PASGR_NUM'])\n",
    "fi_df2.head()"
   ]
  },
  {
   "cell_type": "code",
   "execution_count": 13,
   "metadata": {
    "scrolled": true
   },
   "outputs": [
    {
     "data": {
      "text/html": [
       "<div>\n",
       "<style scoped>\n",
       "    .dataframe tbody tr th:only-of-type {\n",
       "        vertical-align: middle;\n",
       "    }\n",
       "\n",
       "    .dataframe tbody tr th {\n",
       "        vertical-align: top;\n",
       "    }\n",
       "\n",
       "    .dataframe thead th {\n",
       "        text-align: right;\n",
       "    }\n",
       "</style>\n",
       "<table border=\"1\" class=\"dataframe\">\n",
       "  <thead>\n",
       "    <tr style=\"text-align: right;\">\n",
       "      <th></th>\n",
       "      <th></th>\n",
       "      <th>ALIGHT_PASGR_NUM</th>\n",
       "      <th>RIDE_PASGR_NUM</th>\n",
       "    </tr>\n",
       "    <tr>\n",
       "      <th>USE_DT2</th>\n",
       "      <th>구명</th>\n",
       "      <th></th>\n",
       "      <th></th>\n",
       "    </tr>\n",
       "  </thead>\n",
       "  <tbody>\n",
       "    <tr>\n",
       "      <th rowspan=\"5\" valign=\"top\">201901</th>\n",
       "      <th>강남구</th>\n",
       "      <td>20763155.0</td>\n",
       "      <td>19969853.0</td>\n",
       "    </tr>\n",
       "    <tr>\n",
       "      <th>강동구</th>\n",
       "      <td>4529692.0</td>\n",
       "      <td>4643468.0</td>\n",
       "    </tr>\n",
       "    <tr>\n",
       "      <th>강북구</th>\n",
       "      <td>3211648.0</td>\n",
       "      <td>3310639.0</td>\n",
       "    </tr>\n",
       "    <tr>\n",
       "      <th>강서구</th>\n",
       "      <td>7103673.0</td>\n",
       "      <td>7437026.0</td>\n",
       "    </tr>\n",
       "    <tr>\n",
       "      <th>관악구</th>\n",
       "      <td>5324536.0</td>\n",
       "      <td>5488288.0</td>\n",
       "    </tr>\n",
       "    <tr>\n",
       "      <th>...</th>\n",
       "      <th>...</th>\n",
       "      <td>...</td>\n",
       "      <td>...</td>\n",
       "    </tr>\n",
       "    <tr>\n",
       "      <th rowspan=\"5\" valign=\"top\">202012</th>\n",
       "      <th>용산구</th>\n",
       "      <td>4009697.0</td>\n",
       "      <td>4005965.0</td>\n",
       "    </tr>\n",
       "    <tr>\n",
       "      <th>은평구</th>\n",
       "      <td>3841009.0</td>\n",
       "      <td>3940841.0</td>\n",
       "    </tr>\n",
       "    <tr>\n",
       "      <th>종로구</th>\n",
       "      <td>5461095.0</td>\n",
       "      <td>5501670.0</td>\n",
       "    </tr>\n",
       "    <tr>\n",
       "      <th>중구</th>\n",
       "      <td>6045862.0</td>\n",
       "      <td>5995432.0</td>\n",
       "    </tr>\n",
       "    <tr>\n",
       "      <th>중랑구</th>\n",
       "      <td>2315799.0</td>\n",
       "      <td>2364761.0</td>\n",
       "    </tr>\n",
       "  </tbody>\n",
       "</table>\n",
       "<p>600 rows × 2 columns</p>\n",
       "</div>"
      ],
      "text/plain": [
       "             ALIGHT_PASGR_NUM  RIDE_PASGR_NUM\n",
       "USE_DT2 구명                                   \n",
       "201901  강남구        20763155.0      19969853.0\n",
       "        강동구         4529692.0       4643468.0\n",
       "        강북구         3211648.0       3310639.0\n",
       "        강서구         7103673.0       7437026.0\n",
       "        관악구         5324536.0       5488288.0\n",
       "...                       ...             ...\n",
       "202012  용산구         4009697.0       4005965.0\n",
       "        은평구         3841009.0       3940841.0\n",
       "        종로구         5461095.0       5501670.0\n",
       "        중구          6045862.0       5995432.0\n",
       "        중랑구         2315799.0       2364761.0\n",
       "\n",
       "[600 rows x 2 columns]"
      ]
     },
     "execution_count": 13,
     "metadata": {},
     "output_type": "execute_result"
    }
   ],
   "source": [
    "fi_df3=fi_df2.pivot_table(index=['USE_DT2','구명'],aggfunc=np.sum)\n",
    "fi_df3"
   ]
  },
  {
   "cell_type": "code",
   "execution_count": 14,
   "metadata": {},
   "outputs": [],
   "source": [
    "fi_df3.to_csv('./정리/month2.csv',encoding='cp949') # 구별 인구 합"
   ]
  },
  {
   "cell_type": "markdown",
   "metadata": {},
   "source": [
    "# 그래프 및 데이터 확인 - 고준수\n",
    "# 년별로 승하차수의 차이가 있을까??"
   ]
  },
  {
   "cell_type": "code",
   "execution_count": 47,
   "metadata": {},
   "outputs": [
    {
     "data": {
      "text/html": [
       "<div>\n",
       "<style scoped>\n",
       "    .dataframe tbody tr th:only-of-type {\n",
       "        vertical-align: middle;\n",
       "    }\n",
       "\n",
       "    .dataframe tbody tr th {\n",
       "        vertical-align: top;\n",
       "    }\n",
       "\n",
       "    .dataframe thead th {\n",
       "        text-align: right;\n",
       "    }\n",
       "</style>\n",
       "<table border=\"1\" class=\"dataframe\">\n",
       "  <thead>\n",
       "    <tr style=\"text-align: right;\">\n",
       "      <th></th>\n",
       "      <th>USE_DT2</th>\n",
       "      <th>구명</th>\n",
       "      <th>ALIGHT_PASGR_NUM</th>\n",
       "      <th>RIDE_PASGR_NUM</th>\n",
       "    </tr>\n",
       "  </thead>\n",
       "  <tbody>\n",
       "    <tr>\n",
       "      <th>0</th>\n",
       "      <td>201901</td>\n",
       "      <td>강남구</td>\n",
       "      <td>20763155.0</td>\n",
       "      <td>19969853.0</td>\n",
       "    </tr>\n",
       "    <tr>\n",
       "      <th>1</th>\n",
       "      <td>201901</td>\n",
       "      <td>강동구</td>\n",
       "      <td>4529692.0</td>\n",
       "      <td>4643468.0</td>\n",
       "    </tr>\n",
       "    <tr>\n",
       "      <th>2</th>\n",
       "      <td>201901</td>\n",
       "      <td>강북구</td>\n",
       "      <td>3211648.0</td>\n",
       "      <td>3310639.0</td>\n",
       "    </tr>\n",
       "    <tr>\n",
       "      <th>3</th>\n",
       "      <td>201901</td>\n",
       "      <td>강서구</td>\n",
       "      <td>7103673.0</td>\n",
       "      <td>7437026.0</td>\n",
       "    </tr>\n",
       "    <tr>\n",
       "      <th>4</th>\n",
       "      <td>201901</td>\n",
       "      <td>관악구</td>\n",
       "      <td>5324536.0</td>\n",
       "      <td>5488288.0</td>\n",
       "    </tr>\n",
       "  </tbody>\n",
       "</table>\n",
       "</div>"
      ],
      "text/plain": [
       "   USE_DT2   구명  ALIGHT_PASGR_NUM  RIDE_PASGR_NUM\n",
       "0   201901  강남구        20763155.0      19969853.0\n",
       "1   201901  강동구         4529692.0       4643468.0\n",
       "2   201901  강북구         3211648.0       3310639.0\n",
       "3   201901  강서구         7103673.0       7437026.0\n",
       "4   201901  관악구         5324536.0       5488288.0"
      ]
     },
     "execution_count": 47,
     "metadata": {},
     "output_type": "execute_result"
    }
   ],
   "source": [
    "csv_month=pd.read_csv('./정리/month2.csv',encoding='cp949')\n",
    "csv_month.head()"
   ]
  },
  {
   "cell_type": "code",
   "execution_count": 48,
   "metadata": {},
   "outputs": [],
   "source": [
    "csv_month.rename(columns={'USE_DT2':'날짜'},inplace=True)\n",
    "csv_month['총승하차수']=csv_month['ALIGHT_PASGR_NUM']+csv_month['RIDE_PASGR_NUM']"
   ]
  },
  {
   "cell_type": "code",
   "execution_count": 49,
   "metadata": {},
   "outputs": [
    {
     "data": {
      "text/html": [
       "<div>\n",
       "<style scoped>\n",
       "    .dataframe tbody tr th:only-of-type {\n",
       "        vertical-align: middle;\n",
       "    }\n",
       "\n",
       "    .dataframe tbody tr th {\n",
       "        vertical-align: top;\n",
       "    }\n",
       "\n",
       "    .dataframe thead th {\n",
       "        text-align: right;\n",
       "    }\n",
       "</style>\n",
       "<table border=\"1\" class=\"dataframe\">\n",
       "  <thead>\n",
       "    <tr style=\"text-align: right;\">\n",
       "      <th></th>\n",
       "      <th>날짜</th>\n",
       "      <th>구명</th>\n",
       "      <th>ALIGHT_PASGR_NUM</th>\n",
       "      <th>RIDE_PASGR_NUM</th>\n",
       "      <th>총승하차수</th>\n",
       "    </tr>\n",
       "  </thead>\n",
       "  <tbody>\n",
       "    <tr>\n",
       "      <th>0</th>\n",
       "      <td>201901</td>\n",
       "      <td>강남구</td>\n",
       "      <td>20763155.0</td>\n",
       "      <td>19969853.0</td>\n",
       "      <td>40733008.0</td>\n",
       "    </tr>\n",
       "    <tr>\n",
       "      <th>1</th>\n",
       "      <td>201901</td>\n",
       "      <td>강동구</td>\n",
       "      <td>4529692.0</td>\n",
       "      <td>4643468.0</td>\n",
       "      <td>9173160.0</td>\n",
       "    </tr>\n",
       "    <tr>\n",
       "      <th>2</th>\n",
       "      <td>201901</td>\n",
       "      <td>강북구</td>\n",
       "      <td>3211648.0</td>\n",
       "      <td>3310639.0</td>\n",
       "      <td>6522287.0</td>\n",
       "    </tr>\n",
       "    <tr>\n",
       "      <th>3</th>\n",
       "      <td>201901</td>\n",
       "      <td>강서구</td>\n",
       "      <td>7103673.0</td>\n",
       "      <td>7437026.0</td>\n",
       "      <td>14540699.0</td>\n",
       "    </tr>\n",
       "    <tr>\n",
       "      <th>4</th>\n",
       "      <td>201901</td>\n",
       "      <td>관악구</td>\n",
       "      <td>5324536.0</td>\n",
       "      <td>5488288.0</td>\n",
       "      <td>10812824.0</td>\n",
       "    </tr>\n",
       "  </tbody>\n",
       "</table>\n",
       "</div>"
      ],
      "text/plain": [
       "       날짜   구명  ALIGHT_PASGR_NUM  RIDE_PASGR_NUM       총승하차수\n",
       "0  201901  강남구        20763155.0      19969853.0  40733008.0\n",
       "1  201901  강동구         4529692.0       4643468.0   9173160.0\n",
       "2  201901  강북구         3211648.0       3310639.0   6522287.0\n",
       "3  201901  강서구         7103673.0       7437026.0  14540699.0\n",
       "4  201901  관악구         5324536.0       5488288.0  10812824.0"
      ]
     },
     "execution_count": 49,
     "metadata": {},
     "output_type": "execute_result"
    }
   ],
   "source": [
    "csv_month.head()"
   ]
  },
  {
   "cell_type": "code",
   "execution_count": 50,
   "metadata": {},
   "outputs": [
    {
     "data": {
      "text/html": [
       "<div>\n",
       "<style scoped>\n",
       "    .dataframe tbody tr th:only-of-type {\n",
       "        vertical-align: middle;\n",
       "    }\n",
       "\n",
       "    .dataframe tbody tr th {\n",
       "        vertical-align: top;\n",
       "    }\n",
       "\n",
       "    .dataframe thead th {\n",
       "        text-align: right;\n",
       "    }\n",
       "</style>\n",
       "<table border=\"1\" class=\"dataframe\">\n",
       "  <thead>\n",
       "    <tr style=\"text-align: right;\">\n",
       "      <th></th>\n",
       "      <th>날짜</th>\n",
       "      <th>구명</th>\n",
       "      <th>ALIGHT_PASGR_NUM</th>\n",
       "      <th>RIDE_PASGR_NUM</th>\n",
       "      <th>총승하차수</th>\n",
       "    </tr>\n",
       "  </thead>\n",
       "  <tbody>\n",
       "    <tr>\n",
       "      <th>0</th>\n",
       "      <td>201901</td>\n",
       "      <td>강남구</td>\n",
       "      <td>20763155.0</td>\n",
       "      <td>19969853.0</td>\n",
       "      <td>40733008.0</td>\n",
       "    </tr>\n",
       "    <tr>\n",
       "      <th>1</th>\n",
       "      <td>201901</td>\n",
       "      <td>강동구</td>\n",
       "      <td>4529692.0</td>\n",
       "      <td>4643468.0</td>\n",
       "      <td>9173160.0</td>\n",
       "    </tr>\n",
       "    <tr>\n",
       "      <th>2</th>\n",
       "      <td>201901</td>\n",
       "      <td>강북구</td>\n",
       "      <td>3211648.0</td>\n",
       "      <td>3310639.0</td>\n",
       "      <td>6522287.0</td>\n",
       "    </tr>\n",
       "    <tr>\n",
       "      <th>3</th>\n",
       "      <td>201901</td>\n",
       "      <td>강서구</td>\n",
       "      <td>7103673.0</td>\n",
       "      <td>7437026.0</td>\n",
       "      <td>14540699.0</td>\n",
       "    </tr>\n",
       "    <tr>\n",
       "      <th>4</th>\n",
       "      <td>201901</td>\n",
       "      <td>관악구</td>\n",
       "      <td>5324536.0</td>\n",
       "      <td>5488288.0</td>\n",
       "      <td>10812824.0</td>\n",
       "    </tr>\n",
       "  </tbody>\n",
       "</table>\n",
       "</div>"
      ],
      "text/plain": [
       "       날짜   구명  ALIGHT_PASGR_NUM  RIDE_PASGR_NUM       총승하차수\n",
       "0  201901  강남구        20763155.0      19969853.0  40733008.0\n",
       "1  201901  강동구         4529692.0       4643468.0   9173160.0\n",
       "2  201901  강북구         3211648.0       3310639.0   6522287.0\n",
       "3  201901  강서구         7103673.0       7437026.0  14540699.0\n",
       "4  201901  관악구         5324536.0       5488288.0  10812824.0"
      ]
     },
     "execution_count": 50,
     "metadata": {},
     "output_type": "execute_result"
    }
   ],
   "source": [
    "csv_month_2019 = csv_month[csv_month['날짜']<202000]\n",
    "csv_month_2019.head()"
   ]
  },
  {
   "cell_type": "code",
   "execution_count": 51,
   "metadata": {},
   "outputs": [
    {
     "data": {
      "text/html": [
       "<div>\n",
       "<style scoped>\n",
       "    .dataframe tbody tr th:only-of-type {\n",
       "        vertical-align: middle;\n",
       "    }\n",
       "\n",
       "    .dataframe tbody tr th {\n",
       "        vertical-align: top;\n",
       "    }\n",
       "\n",
       "    .dataframe thead th {\n",
       "        text-align: right;\n",
       "    }\n",
       "</style>\n",
       "<table border=\"1\" class=\"dataframe\">\n",
       "  <thead>\n",
       "    <tr style=\"text-align: right;\">\n",
       "      <th></th>\n",
       "      <th>날짜</th>\n",
       "      <th>구명</th>\n",
       "      <th>ALIGHT_PASGR_NUM</th>\n",
       "      <th>RIDE_PASGR_NUM</th>\n",
       "      <th>총승하차수</th>\n",
       "    </tr>\n",
       "  </thead>\n",
       "  <tbody>\n",
       "    <tr>\n",
       "      <th>300</th>\n",
       "      <td>202001</td>\n",
       "      <td>강남구</td>\n",
       "      <td>19267648.0</td>\n",
       "      <td>18509432.0</td>\n",
       "      <td>37777080.0</td>\n",
       "    </tr>\n",
       "    <tr>\n",
       "      <th>301</th>\n",
       "      <td>202001</td>\n",
       "      <td>강동구</td>\n",
       "      <td>4425609.0</td>\n",
       "      <td>4531848.0</td>\n",
       "      <td>8957457.0</td>\n",
       "    </tr>\n",
       "    <tr>\n",
       "      <th>302</th>\n",
       "      <td>202001</td>\n",
       "      <td>강북구</td>\n",
       "      <td>3063191.0</td>\n",
       "      <td>3153484.0</td>\n",
       "      <td>6216675.0</td>\n",
       "    </tr>\n",
       "    <tr>\n",
       "      <th>303</th>\n",
       "      <td>202001</td>\n",
       "      <td>강서구</td>\n",
       "      <td>6773508.0</td>\n",
       "      <td>7035847.0</td>\n",
       "      <td>13809355.0</td>\n",
       "    </tr>\n",
       "    <tr>\n",
       "      <th>304</th>\n",
       "      <td>202001</td>\n",
       "      <td>관악구</td>\n",
       "      <td>4866716.0</td>\n",
       "      <td>5046961.0</td>\n",
       "      <td>9913677.0</td>\n",
       "    </tr>\n",
       "  </tbody>\n",
       "</table>\n",
       "</div>"
      ],
      "text/plain": [
       "         날짜   구명  ALIGHT_PASGR_NUM  RIDE_PASGR_NUM       총승하차수\n",
       "300  202001  강남구        19267648.0      18509432.0  37777080.0\n",
       "301  202001  강동구         4425609.0       4531848.0   8957457.0\n",
       "302  202001  강북구         3063191.0       3153484.0   6216675.0\n",
       "303  202001  강서구         6773508.0       7035847.0  13809355.0\n",
       "304  202001  관악구         4866716.0       5046961.0   9913677.0"
      ]
     },
     "execution_count": 51,
     "metadata": {},
     "output_type": "execute_result"
    }
   ],
   "source": [
    "csv_month_2020 = csv_month[csv_month['날짜']>=202000]\n",
    "csv_month_2020.head()"
   ]
  },
  {
   "cell_type": "code",
   "execution_count": 18,
   "metadata": {},
   "outputs": [],
   "source": [
    "# matplot에서 한글 폰트 정상화\n",
    "import matplotlib\n",
    "from matplotlib import font_manager, rc\n",
    "import platform\n",
    "\n",
    "try : \n",
    "    if platform.system() == 'Windows':\n",
    "    # 윈도우인 경우\n",
    "        font_name = font_manager.FontProperties(fname=\"c:/Windows/Fonts/malgun.ttf\").get_name()\n",
    "        rc('font', family=font_name)\n",
    "    else:    \n",
    "    # Mac 인 경우\n",
    "        rc('font', family='AppleGothic')\n",
    "except : \n",
    "    pass\n",
    "matplotlib.rcParams['axes.unicode_minus'] = False \n",
    "# 출처 페스트 켐퍼스"
   ]
  },
  {
   "cell_type": "code",
   "execution_count": 24,
   "metadata": {},
   "outputs": [
    {
     "data": {
      "image/png": "[encoded data removed]",
      "text/plain": [
       "<Figure size 432x288 with 1 Axes>"
      ]
     },
     "metadata": {
      "needs_background": "light"
     },
     "output_type": "display_data"
    }
   ],
   "source": [
    "import matplotlib.pyplot as plt\n",
    "plt.grid()\n",
    "plt.boxplot([csv_month_2019['총승하차수'], csv_month_2020['총승하차수']])\n",
    "plt.xlabel('when')\n",
    "plt.ylabel('총승하차수')\n",
    "plt.title('Box Plot')\n",
    "plt.grid()\n",
    "plt.show()"
   ]
  },
  {
   "cell_type": "markdown",
   "metadata": {},
   "source": [
    "# 데이터 정규성 확인"
   ]
  },
  {
   "cell_type": "code",
   "execution_count": 25,
   "metadata": {},
   "outputs": [
    {
     "data": {
      "text/plain": [
       "<AxesSubplot:xlabel='총승하차수', ylabel='Density'>"
      ]
     },
     "execution_count": 25,
     "metadata": {},
     "output_type": "execute_result"
    },
    {
     "data": {
      "image/png": "[encoded data removed]",
      "text/plain": [
       "<Figure size 432x288 with 1 Axes>"
      ]
     },
     "metadata": {
      "needs_background": "light"
     },
     "output_type": "display_data"
    }
   ],
   "source": [
    "sns.distplot(csv_month_2019['총승하차수'])"
   ]
  },
  {
   "cell_type": "code",
   "execution_count": 26,
   "metadata": {},
   "outputs": [
    {
     "data": {
      "text/plain": [
       "<AxesSubplot:xlabel='총승하차수', ylabel='Density'>"
      ]
     },
     "execution_count": 26,
     "metadata": {},
     "output_type": "execute_result"
    },
    {
     "data": {
      "image/png": "[encoded data removed]",
      "text/plain": [
       "<Figure size 432x288 with 1 Axes>"
      ]
     },
     "metadata": {
      "needs_background": "light"
     },
     "output_type": "display_data"
    }
   ],
   "source": [
    "sns.distplot(csv_month_2020['총승하차수'])"
   ]
  },
  {
   "cell_type": "code",
   "execution_count": 27,
   "metadata": {},
   "outputs": [
    {
     "data": {
      "text/plain": [
       "((array([-2.83270147, -2.5363011 , -2.36847471, -2.24887944, -2.15478411,\n",
       "         -2.07661294, -2.00938931, -1.95018201, -1.89711324, -1.84890481,\n",
       "         -1.80464581, -1.76366326, -1.72544529, -1.68959313, -1.65578984,\n",
       "         -1.62377915, -1.5933508 , -1.56433003, -1.53656998, -1.50994596,\n",
       "         -1.48435118, -1.45969344, -1.43589258, -1.41287842, -1.39058917,\n",
       "         -1.36897015, -1.34797267, -1.32755325, -1.30767283, -1.28829622,\n",
       "         -1.26939159, -1.25093005, -1.23288529, -1.21523328, -1.19795202,\n",
       "         -1.1810213 , -1.16442252, -1.1481385 , -1.13215338, -1.11645243,\n",
       "         -1.10102199, -1.08584934, -1.07092263, -1.0562308 , -1.04176348,\n",
       "         -1.02751099, -1.01346422, -0.99961462, -0.98595415, -0.97247524,\n",
       "         -0.95917073, -0.94603388, -0.93305829, -0.92023793, -0.90756706,\n",
       "         -0.89504026, -0.88265235, -0.87039844, -0.85827385, -0.84627414,\n",
       "         -0.83439507, -0.82263259, -0.81098284, -0.79944213, -0.78800692,\n",
       "         -0.77667384, -0.76543965, -0.75430125, -0.74325565, -0.73229999,\n",
       "         -0.72143154, -0.71064764, -0.69994576, -0.68932345, -0.67877835,\n",
       "         -0.66830821, -0.65791081, -0.64758406, -0.63732592, -0.6271344 ,\n",
       "         -0.61700761, -0.60694371, -0.59694091, -0.58699748, -0.57711175,\n",
       "         -0.56728211, -0.55750697, -0.54778482, -0.53811417, -0.52849359,\n",
       "         -0.51892168, -0.50939708, -0.49991847, -0.49048456, -0.4810941 ,\n",
       "         -0.47174588, -0.4624387 , -0.45317141, -0.44394288, -0.434752  ,\n",
       "         -0.42559771, -0.41647894, -0.40739467, -0.3983439 , -0.38932564,\n",
       "         -0.38033893, -0.37138284, -0.36245644, -0.35355883, -0.34468912,\n",
       "         -0.33584644, -0.32702995, -0.31823881, -0.30947219, -0.3007293 ,\n",
       "         -0.29200933, -0.28331151, -0.27463506, -0.26597925, -0.25734332,\n",
       "         -0.24872654, -0.24012818, -0.23154755, -0.22298393, -0.21443663,\n",
       "         -0.20590496, -0.19738826, -0.18888586, -0.18039708, -0.17192129,\n",
       "         -0.16345783, -0.15500606, -0.14656535, -0.13813507, -0.12971459,\n",
       "         -0.12130331, -0.11290059, -0.10450584, -0.09611845, -0.08773782,\n",
       "         -0.07936334, -0.07099442, -0.06263048, -0.05427091, -0.04591514,\n",
       "         -0.03756257, -0.02921261, -0.0208647 , -0.01251824, -0.00417265,\n",
       "          0.00417265,  0.01251824,  0.0208647 ,  0.02921261,  0.03756257,\n",
       "          0.04591514,  0.05427091,  0.06263048,  0.07099442,  0.07936334,\n",
       "          0.08773782,  0.09611845,  0.10450584,  0.11290059,  0.12130331,\n",
       "          0.12971459,  0.13813507,  0.14656535,  0.15500606,  0.16345783,\n",
       "          0.17192129,  0.18039708,  0.18888586,  0.19738826,  0.20590496,\n",
       "          0.21443663,  0.22298393,  0.23154755,  0.24012818,  0.24872654,\n",
       "          0.25734332,  0.26597925,  0.27463506,  0.28331151,  0.29200933,\n",
       "          0.3007293 ,  0.30947219,  0.31823881,  0.32702995,  0.33584644,\n",
       "          0.34468912,  0.35355883,  0.36245644,  0.37138284,  0.38033893,\n",
       "          0.38932564,  0.3983439 ,  0.40739467,  0.41647894,  0.42559771,\n",
       "          0.434752  ,  0.44394288,  0.45317141,  0.4624387 ,  0.47174588,\n",
       "          0.4810941 ,  0.49048456,  0.49991847,  0.50939708,  0.51892168,\n",
       "          0.52849359,  0.53811417,  0.54778482,  0.55750697,  0.56728211,\n",
       "          0.57711175,  0.58699748,  0.59694091,  0.60694371,  0.61700761,\n",
       "          0.6271344 ,  0.63732592,  0.64758406,  0.65791081,  0.66830821,\n",
       "          0.67877835,  0.68932345,  0.69994576,  0.71064764,  0.72143154,\n",
       "          0.73229999,  0.74325565,  0.75430125,  0.76543965,  0.77667384,\n",
       "          0.78800692,  0.79944213,  0.81098284,  0.82263259,  0.83439507,\n",
       "          0.84627414,  0.85827385,  0.87039844,  0.88265235,  0.89504026,\n",
       "          0.90756706,  0.92023793,  0.93305829,  0.94603388,  0.95917073,\n",
       "          0.97247524,  0.98595415,  0.99961462,  1.01346422,  1.02751099,\n",
       "          1.04176348,  1.0562308 ,  1.07092263,  1.08584934,  1.10102199,\n",
       "          1.11645243,  1.13215338,  1.1481385 ,  1.16442252,  1.1810213 ,\n",
       "          1.19795202,  1.21523328,  1.23288529,  1.25093005,  1.26939159,\n",
       "          1.28829622,  1.30767283,  1.32755325,  1.34797267,  1.36897015,\n",
       "          1.39058917,  1.41287842,  1.43589258,  1.45969344,  1.48435118,\n",
       "          1.50994596,  1.53656998,  1.56433003,  1.5933508 ,  1.62377915,\n",
       "          1.65578984,  1.68959313,  1.72544529,  1.76366326,  1.80464581,\n",
       "          1.84890481,  1.89711324,  1.95018201,  2.00938931,  2.07661294,\n",
       "          2.15478411,  2.24887944,  2.36847471,  2.5363011 ,  2.83270147]),\n",
       "  array([ 2666165.,  3078009.,  3098504.,  3101288.,  3146344.,  3218824.,\n",
       "          3279761.,  3312275.,  3410883.,  3412552.,  3434132.,  3490453.,\n",
       "          4036807.,  4422981.,  4436051.,  4549578.,  4574437.,  4749599.,\n",
       "          4820894.,  4878332.,  4878345.,  4913412.,  4924946.,  4925713.,\n",
       "          4941638.,  4998417.,  5015667.,  5016906.,  5149006.,  5297260.,\n",
       "          5315982.,  5361126.,  5370379.,  5459412.,  5491879.,  5503485.,\n",
       "          5519569.,  5598634.,  5671763.,  5802747.,  5829261.,  5955904.,\n",
       "          6037825.,  6122727.,  6170964.,  6182675.,  6249568.,  6294198.,\n",
       "          6324324.,  6368936.,  6412666.,  6415501.,  6468710.,  6469546.,\n",
       "          6489893.,  6522287.,  6581733.,  6619024.,  6647693.,  6669488.,\n",
       "          6716316.,  6755192.,  6770713.,  6826192.,  6872436.,  6878545.,\n",
       "          6925126.,  6954457.,  6966371.,  6993532.,  7060875.,  7154064.,\n",
       "          7248352.,  7608261.,  7732793.,  7789740.,  8034564.,  8041356.,\n",
       "          8144848.,  8182732.,  8610760.,  8683409.,  8773663.,  8924843.,\n",
       "          8932688.,  9001502.,  9006363.,  9020831.,  9034015.,  9094095.,\n",
       "          9141619.,  9173160.,  9260140.,  9289891.,  9327944.,  9347469.,\n",
       "          9449258.,  9462941.,  9489879.,  9499121.,  9559464.,  9621790.,\n",
       "          9662131.,  9672115.,  9779912.,  9803301.,  9892946.,  9915035.,\n",
       "          9949329.,  9994340., 10048400., 10225345., 10452623., 10455462.,\n",
       "         10772485., 10795127., 10808800., 10811665., 10812824., 10934830.,\n",
       "         10935949., 10979055., 11026877., 11035183., 11088215., 11106214.,\n",
       "         11132183., 11135616., 11138287., 11182456., 11311548., 11426111.,\n",
       "         11502920., 11642963., 11660297., 11717362., 11741747., 11744611.,\n",
       "         11780629., 11854233., 11902198., 11960133., 12067970., 12098723.,\n",
       "         12187955., 12325493., 12530104., 12645709., 12706352., 12706511.,\n",
       "         12794274., 12991249., 13025829., 13041445., 13238371., 13280951.,\n",
       "         13358023., 13542792., 13606860., 13639793., 13700749., 13731681.,\n",
       "         13885756., 13917338., 13950778., 13989347., 13994121., 14078328.,\n",
       "         14078838., 14176376., 14306058., 14345035., 14405721., 14448266.,\n",
       "         14540699., 14653878., 14817371., 14923265., 14973517., 15063429.,\n",
       "         15133207., 15161393., 15172966., 15264311., 15328813., 15438742.,\n",
       "         15579029., 15605086., 15740705., 15933689., 15940748., 15963412.,\n",
       "         16047672., 16075463., 16077852., 16108647., 16296986., 16302476.,\n",
       "         16546102., 16550594., 16646851., 16680037., 16702330., 16710480.,\n",
       "         16780542., 16857347., 16924004., 16959258., 16963313., 16973012.,\n",
       "         17115574., 17182001., 17288767., 17350582., 17434455., 17512208.,\n",
       "         17570882., 17583640., 17605359., 17637861., 17729168., 17765954.,\n",
       "         17787434., 17816032., 17839222., 17900728., 17917111., 17940276.,\n",
       "         18077332., 18170824., 18311232., 18348088., 18423702., 18438646.,\n",
       "         18510066., 18597743., 18679649., 18810803., 18855630., 19093785.,\n",
       "         19239800., 19244916., 19380784., 19443414., 19517867., 19686657.,\n",
       "         19716145., 19896563., 19933994., 20209098., 20301712., 20346086.,\n",
       "         20351967., 20520980., 20750167., 20811562., 21010416., 21070267.,\n",
       "         21141370., 21230769., 21303244., 21305181., 21321834., 21503992.,\n",
       "         21541093., 21635363., 21636349., 21684979., 21717329., 21724614.,\n",
       "         21739642., 21983157., 22120507., 22281154., 22371852., 22451488.,\n",
       "         22462651., 22750795., 22770151., 22963081., 23095305., 23126377.,\n",
       "         23225691., 23295818., 23329459., 23629176., 23662420., 24074392.,\n",
       "         33467131., 36101929., 37783013., 39432552., 39724526., 40117519.,\n",
       "         40654324., 40733008., 40766413., 40842004., 42088755., 42228677.])),\n",
       " (7359839.784302641, 13787467.0, 0.9446730688879319))"
      ]
     },
     "execution_count": 27,
     "metadata": {},
     "output_type": "execute_result"
    },
    {
     "data": {
      "image/png": "[encoded data removed]",
      "text/plain": [
       "<Figure size 432x288 with 1 Axes>"
      ]
     },
     "metadata": {
      "needs_background": "light"
     },
     "output_type": "display_data"
    }
   ],
   "source": [
    "#2019년도 총승하차수 데이터 정규성 검정 by Q-Q plot\n",
    "import scipy.stats as stats\n",
    "stats.probplot(csv_month_2019['총승하차수'], plot=plt)"
   ]
  },
  {
   "cell_type": "code",
   "execution_count": 28,
   "metadata": {},
   "outputs": [
    {
     "data": {
      "text/plain": [
       "((array([-2.83270147, -2.5363011 , -2.36847471, -2.24887944, -2.15478411,\n",
       "         -2.07661294, -2.00938931, -1.95018201, -1.89711324, -1.84890481,\n",
       "         -1.80464581, -1.76366326, -1.72544529, -1.68959313, -1.65578984,\n",
       "         -1.62377915, -1.5933508 , -1.56433003, -1.53656998, -1.50994596,\n",
       "         -1.48435118, -1.45969344, -1.43589258, -1.41287842, -1.39058917,\n",
       "         -1.36897015, -1.34797267, -1.32755325, -1.30767283, -1.28829622,\n",
       "         -1.26939159, -1.25093005, -1.23288529, -1.21523328, -1.19795202,\n",
       "         -1.1810213 , -1.16442252, -1.1481385 , -1.13215338, -1.11645243,\n",
       "         -1.10102199, -1.08584934, -1.07092263, -1.0562308 , -1.04176348,\n",
       "         -1.02751099, -1.01346422, -0.99961462, -0.98595415, -0.97247524,\n",
       "         -0.95917073, -0.94603388, -0.93305829, -0.92023793, -0.90756706,\n",
       "         -0.89504026, -0.88265235, -0.87039844, -0.85827385, -0.84627414,\n",
       "         -0.83439507, -0.82263259, -0.81098284, -0.79944213, -0.78800692,\n",
       "         -0.77667384, -0.76543965, -0.75430125, -0.74325565, -0.73229999,\n",
       "         -0.72143154, -0.71064764, -0.69994576, -0.68932345, -0.67877835,\n",
       "         -0.66830821, -0.65791081, -0.64758406, -0.63732592, -0.6271344 ,\n",
       "         -0.61700761, -0.60694371, -0.59694091, -0.58699748, -0.57711175,\n",
       "         -0.56728211, -0.55750697, -0.54778482, -0.53811417, -0.52849359,\n",
       "         -0.51892168, -0.50939708, -0.49991847, -0.49048456, -0.4810941 ,\n",
       "         -0.47174588, -0.4624387 , -0.45317141, -0.44394288, -0.434752  ,\n",
       "         -0.42559771, -0.41647894, -0.40739467, -0.3983439 , -0.38932564,\n",
       "         -0.38033893, -0.37138284, -0.36245644, -0.35355883, -0.34468912,\n",
       "         -0.33584644, -0.32702995, -0.31823881, -0.30947219, -0.3007293 ,\n",
       "         -0.29200933, -0.28331151, -0.27463506, -0.26597925, -0.25734332,\n",
       "         -0.24872654, -0.24012818, -0.23154755, -0.22298393, -0.21443663,\n",
       "         -0.20590496, -0.19738826, -0.18888586, -0.18039708, -0.17192129,\n",
       "         -0.16345783, -0.15500606, -0.14656535, -0.13813507, -0.12971459,\n",
       "         -0.12130331, -0.11290059, -0.10450584, -0.09611845, -0.08773782,\n",
       "         -0.07936334, -0.07099442, -0.06263048, -0.05427091, -0.04591514,\n",
       "         -0.03756257, -0.02921261, -0.0208647 , -0.01251824, -0.00417265,\n",
       "          0.00417265,  0.01251824,  0.0208647 ,  0.02921261,  0.03756257,\n",
       "          0.04591514,  0.05427091,  0.06263048,  0.07099442,  0.07936334,\n",
       "          0.08773782,  0.09611845,  0.10450584,  0.11290059,  0.12130331,\n",
       "          0.12971459,  0.13813507,  0.14656535,  0.15500606,  0.16345783,\n",
       "          0.17192129,  0.18039708,  0.18888586,  0.19738826,  0.20590496,\n",
       "          0.21443663,  0.22298393,  0.23154755,  0.24012818,  0.24872654,\n",
       "          0.25734332,  0.26597925,  0.27463506,  0.28331151,  0.29200933,\n",
       "          0.3007293 ,  0.30947219,  0.31823881,  0.32702995,  0.33584644,\n",
       "          0.34468912,  0.35355883,  0.36245644,  0.37138284,  0.38033893,\n",
       "          0.38932564,  0.3983439 ,  0.40739467,  0.41647894,  0.42559771,\n",
       "          0.434752  ,  0.44394288,  0.45317141,  0.4624387 ,  0.47174588,\n",
       "          0.4810941 ,  0.49048456,  0.49991847,  0.50939708,  0.51892168,\n",
       "          0.52849359,  0.53811417,  0.54778482,  0.55750697,  0.56728211,\n",
       "          0.57711175,  0.58699748,  0.59694091,  0.60694371,  0.61700761,\n",
       "          0.6271344 ,  0.63732592,  0.64758406,  0.65791081,  0.66830821,\n",
       "          0.67877835,  0.68932345,  0.69994576,  0.71064764,  0.72143154,\n",
       "          0.73229999,  0.74325565,  0.75430125,  0.76543965,  0.77667384,\n",
       "          0.78800692,  0.79944213,  0.81098284,  0.82263259,  0.83439507,\n",
       "          0.84627414,  0.85827385,  0.87039844,  0.88265235,  0.89504026,\n",
       "          0.90756706,  0.92023793,  0.93305829,  0.94603388,  0.95917073,\n",
       "          0.97247524,  0.98595415,  0.99961462,  1.01346422,  1.02751099,\n",
       "          1.04176348,  1.0562308 ,  1.07092263,  1.08584934,  1.10102199,\n",
       "          1.11645243,  1.13215338,  1.1481385 ,  1.16442252,  1.1810213 ,\n",
       "          1.19795202,  1.21523328,  1.23288529,  1.25093005,  1.26939159,\n",
       "          1.28829622,  1.30767283,  1.32755325,  1.34797267,  1.36897015,\n",
       "          1.39058917,  1.41287842,  1.43589258,  1.45969344,  1.48435118,\n",
       "          1.50994596,  1.53656998,  1.56433003,  1.5933508 ,  1.62377915,\n",
       "          1.65578984,  1.68959313,  1.72544529,  1.76366326,  1.80464581,\n",
       "          1.84890481,  1.89711324,  1.95018201,  2.00938931,  2.07661294,\n",
       "          2.15478411,  2.24887944,  2.36847471,  2.5363011 ,  2.83270147]),\n",
       "  array([ 2040958.,  2083925.,  2152821.,  2190641.,  2209253.,  2424003.,\n",
       "          2443194.,  2488005.,  2527870.,  2541167.,  2664177.,  2882535.,\n",
       "          3130470.,  3163296.,  3243431.,  3311792.,  3448573.,  3664191.,\n",
       "          3737163.,  3789993.,  3812417.,  3824135.,  3864747.,  4001736.,\n",
       "          4026481.,  4027401.,  4054241.,  4090615.,  4093251.,  4179174.,\n",
       "          4267327.,  4286598.,  4340003.,  4374566.,  4401815.,  4402657.,\n",
       "          4440325.,  4558310.,  4610458.,  4622836.,  4634973.,  4663318.,\n",
       "          4666647.,  4680560.,  4703682.,  4784400.,  4791565.,  4841657.,\n",
       "          4847138.,  4849924.,  4852640.,  4869116.,  4889816.,  4926048.,\n",
       "          4959956.,  4962006.,  5039983.,  5107026.,  5208355.,  5231095.,\n",
       "          5272225.,  5274288.,  5295350.,  5315543.,  5332171.,  5336796.,\n",
       "          5344954.,  5360457.,  5424781.,  5436147.,  5460096.,  5473114.,\n",
       "          5565541.,  5607489.,  5724902.,  5766290.,  5815773.,  5948151.,\n",
       "          5997869.,  6043740.,  6131260.,  6142355.,  6174948.,  6186644.,\n",
       "          6199759.,  6216675.,  6294309.,  6416402.,  6544250.,  6581308.,\n",
       "          6594537.,  6750074.,  6858465.,  6876747.,  6984149.,  6986688.,\n",
       "          7016534.,  7027813.,  7030684.,  7252371.,  7318746.,  7330881.,\n",
       "          7406487.,  7462552.,  7543294.,  7548781.,  7660960.,  7675681.,\n",
       "          7683772.,  7736078.,  7748578.,  7781850.,  7801752.,  7832602.,\n",
       "          7855840.,  8004773.,  8015662.,  8040697.,  8135586.,  8152988.,\n",
       "          8182283.,  8207671.,  8243268.,  8282035.,  8302627.,  8328667.,\n",
       "          8343500.,  8406289.,  8492935.,  8496780.,  8561453.,  8594203.,\n",
       "          8602329.,  8621073.,  8656082.,  8783188.,  8795307.,  8849764.,\n",
       "          8853540.,  8857414.,  8900140.,  8908710.,  8954858.,  8957457.,\n",
       "          8982501.,  9084039.,  9156202.,  9159040.,  9178575.,  9229178.,\n",
       "          9236588.,  9292431.,  9314226.,  9573299.,  9707899.,  9724109.,\n",
       "          9757462.,  9797907.,  9803776.,  9844084.,  9855190.,  9856700.,\n",
       "          9913677.,  9933250., 10085359., 10146417., 10191125., 10266282.,\n",
       "         10306517., 10309924., 10319542., 10345915., 10362778., 10368458.,\n",
       "         10387629., 10475350., 10548908., 10565746., 10594951., 10599808.,\n",
       "         10600289., 10620068., 10718386., 10788051., 10962765., 10972311.,\n",
       "         10991685., 11048072., 11112489., 11115937., 11234802., 11328255.,\n",
       "         11338879., 11351045., 11375310., 11389650., 11395739., 11402470.,\n",
       "         11408439., 11500751., 11544922., 11570287., 11581309., 11610922.,\n",
       "         11859890., 11929019., 11968978., 12041294., 12058018., 12060911.,\n",
       "         12086969., 12187324., 12199850., 12239503., 12271807., 12323890.,\n",
       "         12333360., 12381847., 12412051., 12456716., 12502220., 12532591.,\n",
       "         12575149., 12608813., 12650797., 12669047., 12678028., 12721192.,\n",
       "         12754058., 12759776., 12766887., 12793087., 12978008., 13030399.,\n",
       "         13059735., 13096522., 13142401., 13159236., 13202621., 13271173.,\n",
       "         13274237., 13285593., 13407708., 13423413., 13566840., 13587534.,\n",
       "         13692401., 13740815., 13779318., 13809355., 13835164., 13903141.,\n",
       "         13922566., 13933790., 14028127., 14028278., 14061553., 14098012.,\n",
       "         14302629., 14496081., 14543913., 14580442., 14611443., 14696392.,\n",
       "         14708396., 14742457., 14787507., 14810947., 14858566., 14869874.,\n",
       "         14990497., 15009921., 15203076., 15320496., 15472791., 15527784.,\n",
       "         15732698., 15857260., 15889571., 15908659., 16143290., 16309816.,\n",
       "         16386784., 17150280., 18675625., 19144620., 19848678., 20138448.,\n",
       "         25284291., 25794503., 25850881., 27184809., 28678678., 29650072.,\n",
       "         29958848., 31452078., 32025356., 32072073., 34811121., 37777080.])),\n",
       " (5278031.04565371, 10005148.853333334, 0.9239180678751102))"
      ]
     },
     "execution_count": 28,
     "metadata": {},
     "output_type": "execute_result"
    },
    {
     "data": {
      "image/png": "[encoded data removed]",
      "text/plain": [
       "<Figure size 432x288 with 1 Axes>"
      ]
     },
     "metadata": {
      "needs_background": "light"
     },
     "output_type": "display_data"
    }
   ],
   "source": [
    "stats.probplot(csv_month_2020['총승하차수'], plot=plt)"
   ]
  },
  {
   "cell_type": "code",
   "execution_count": 29,
   "metadata": {},
   "outputs": [
    {
     "data": {
      "text/html": [
       "<div>\n",
       "<style scoped>\n",
       "    .dataframe tbody tr th:only-of-type {\n",
       "        vertical-align: middle;\n",
       "    }\n",
       "\n",
       "    .dataframe tbody tr th {\n",
       "        vertical-align: top;\n",
       "    }\n",
       "\n",
       "    .dataframe thead th {\n",
       "        text-align: right;\n",
       "    }\n",
       "</style>\n",
       "<table border=\"1\" class=\"dataframe\">\n",
       "  <thead>\n",
       "    <tr style=\"text-align: right;\">\n",
       "      <th></th>\n",
       "      <th>날짜</th>\n",
       "      <th>구명</th>\n",
       "      <th>ALIGHT_PASGR_NUM</th>\n",
       "      <th>RIDE_PASGR_NUM</th>\n",
       "      <th>총승하차수</th>\n",
       "      <th>Log_col</th>\n",
       "    </tr>\n",
       "  </thead>\n",
       "  <tbody>\n",
       "    <tr>\n",
       "      <th>0</th>\n",
       "      <td>201901</td>\n",
       "      <td>강남구</td>\n",
       "      <td>20763155.0</td>\n",
       "      <td>19969853.0</td>\n",
       "      <td>40733008.0</td>\n",
       "      <td>17.522549</td>\n",
       "    </tr>\n",
       "    <tr>\n",
       "      <th>1</th>\n",
       "      <td>201901</td>\n",
       "      <td>강동구</td>\n",
       "      <td>4529692.0</td>\n",
       "      <td>4643468.0</td>\n",
       "      <td>9173160.0</td>\n",
       "      <td>16.031792</td>\n",
       "    </tr>\n",
       "    <tr>\n",
       "      <th>2</th>\n",
       "      <td>201901</td>\n",
       "      <td>강북구</td>\n",
       "      <td>3211648.0</td>\n",
       "      <td>3310639.0</td>\n",
       "      <td>6522287.0</td>\n",
       "      <td>15.690736</td>\n",
       "    </tr>\n",
       "    <tr>\n",
       "      <th>3</th>\n",
       "      <td>201901</td>\n",
       "      <td>강서구</td>\n",
       "      <td>7103673.0</td>\n",
       "      <td>7437026.0</td>\n",
       "      <td>14540699.0</td>\n",
       "      <td>16.492462</td>\n",
       "    </tr>\n",
       "    <tr>\n",
       "      <th>4</th>\n",
       "      <td>201901</td>\n",
       "      <td>관악구</td>\n",
       "      <td>5324536.0</td>\n",
       "      <td>5488288.0</td>\n",
       "      <td>10812824.0</td>\n",
       "      <td>16.196243</td>\n",
       "    </tr>\n",
       "  </tbody>\n",
       "</table>\n",
       "</div>"
      ],
      "text/plain": [
       "       날짜   구명  ALIGHT_PASGR_NUM  RIDE_PASGR_NUM       총승하차수    Log_col\n",
       "0  201901  강남구        20763155.0      19969853.0  40733008.0  17.522549\n",
       "1  201901  강동구         4529692.0       4643468.0   9173160.0  16.031792\n",
       "2  201901  강북구         3211648.0       3310639.0   6522287.0  15.690736\n",
       "3  201901  강서구         7103673.0       7437026.0  14540699.0  16.492462\n",
       "4  201901  관악구         5324536.0       5488288.0  10812824.0  16.196243"
      ]
     },
     "execution_count": 29,
     "metadata": {},
     "output_type": "execute_result"
    }
   ],
   "source": [
    "#로그변환(데이터가 정규성을 만족하지 않기 때문에 로그변환을 한다.)\n",
    "csv_month_2019['총승하차수']\n",
    "csv_month_2019[\"Log_col\"] = np.log1p(csv_month_2019['총승하차수'])\n",
    "csv_month_2019.head()"
   ]
  },
  {
   "cell_type": "code",
   "execution_count": 30,
   "metadata": {},
   "outputs": [
    {
     "data": {
      "text/plain": [
       "((array([-2.83270147, -2.5363011 , -2.36847471, -2.24887944, -2.15478411,\n",
       "         -2.07661294, -2.00938931, -1.95018201, -1.89711324, -1.84890481,\n",
       "         -1.80464581, -1.76366326, -1.72544529, -1.68959313, -1.65578984,\n",
       "         -1.62377915, -1.5933508 , -1.56433003, -1.53656998, -1.50994596,\n",
       "         -1.48435118, -1.45969344, -1.43589258, -1.41287842, -1.39058917,\n",
       "         -1.36897015, -1.34797267, -1.32755325, -1.30767283, -1.28829622,\n",
       "         -1.26939159, -1.25093005, -1.23288529, -1.21523328, -1.19795202,\n",
       "         -1.1810213 , -1.16442252, -1.1481385 , -1.13215338, -1.11645243,\n",
       "         -1.10102199, -1.08584934, -1.07092263, -1.0562308 , -1.04176348,\n",
       "         -1.02751099, -1.01346422, -0.99961462, -0.98595415, -0.97247524,\n",
       "         -0.95917073, -0.94603388, -0.93305829, -0.92023793, -0.90756706,\n",
       "         -0.89504026, -0.88265235, -0.87039844, -0.85827385, -0.84627414,\n",
       "         -0.83439507, -0.82263259, -0.81098284, -0.79944213, -0.78800692,\n",
       "         -0.77667384, -0.76543965, -0.75430125, -0.74325565, -0.73229999,\n",
       "         -0.72143154, -0.71064764, -0.69994576, -0.68932345, -0.67877835,\n",
       "         -0.66830821, -0.65791081, -0.64758406, -0.63732592, -0.6271344 ,\n",
       "         -0.61700761, -0.60694371, -0.59694091, -0.58699748, -0.57711175,\n",
       "         -0.56728211, -0.55750697, -0.54778482, -0.53811417, -0.52849359,\n",
       "         -0.51892168, -0.50939708, -0.49991847, -0.49048456, -0.4810941 ,\n",
       "         -0.47174588, -0.4624387 , -0.45317141, -0.44394288, -0.434752  ,\n",
       "         -0.42559771, -0.41647894, -0.40739467, -0.3983439 , -0.38932564,\n",
       "         -0.38033893, -0.37138284, -0.36245644, -0.35355883, -0.34468912,\n",
       "         -0.33584644, -0.32702995, -0.31823881, -0.30947219, -0.3007293 ,\n",
       "         -0.29200933, -0.28331151, -0.27463506, -0.26597925, -0.25734332,\n",
       "         -0.24872654, -0.24012818, -0.23154755, -0.22298393, -0.21443663,\n",
       "         -0.20590496, -0.19738826, -0.18888586, -0.18039708, -0.17192129,\n",
       "         -0.16345783, -0.15500606, -0.14656535, -0.13813507, -0.12971459,\n",
       "         -0.12130331, -0.11290059, -0.10450584, -0.09611845, -0.08773782,\n",
       "         -0.07936334, -0.07099442, -0.06263048, -0.05427091, -0.04591514,\n",
       "         -0.03756257, -0.02921261, -0.0208647 , -0.01251824, -0.00417265,\n",
       "          0.00417265,  0.01251824,  0.0208647 ,  0.02921261,  0.03756257,\n",
       "          0.04591514,  0.05427091,  0.06263048,  0.07099442,  0.07936334,\n",
       "          0.08773782,  0.09611845,  0.10450584,  0.11290059,  0.12130331,\n",
       "          0.12971459,  0.13813507,  0.14656535,  0.15500606,  0.16345783,\n",
       "          0.17192129,  0.18039708,  0.18888586,  0.19738826,  0.20590496,\n",
       "          0.21443663,  0.22298393,  0.23154755,  0.24012818,  0.24872654,\n",
       "          0.25734332,  0.26597925,  0.27463506,  0.28331151,  0.29200933,\n",
       "          0.3007293 ,  0.30947219,  0.31823881,  0.32702995,  0.33584644,\n",
       "          0.34468912,  0.35355883,  0.36245644,  0.37138284,  0.38033893,\n",
       "          0.38932564,  0.3983439 ,  0.40739467,  0.41647894,  0.42559771,\n",
       "          0.434752  ,  0.44394288,  0.45317141,  0.4624387 ,  0.47174588,\n",
       "          0.4810941 ,  0.49048456,  0.49991847,  0.50939708,  0.51892168,\n",
       "          0.52849359,  0.53811417,  0.54778482,  0.55750697,  0.56728211,\n",
       "          0.57711175,  0.58699748,  0.59694091,  0.60694371,  0.61700761,\n",
       "          0.6271344 ,  0.63732592,  0.64758406,  0.65791081,  0.66830821,\n",
       "          0.67877835,  0.68932345,  0.69994576,  0.71064764,  0.72143154,\n",
       "          0.73229999,  0.74325565,  0.75430125,  0.76543965,  0.77667384,\n",
       "          0.78800692,  0.79944213,  0.81098284,  0.82263259,  0.83439507,\n",
       "          0.84627414,  0.85827385,  0.87039844,  0.88265235,  0.89504026,\n",
       "          0.90756706,  0.92023793,  0.93305829,  0.94603388,  0.95917073,\n",
       "          0.97247524,  0.98595415,  0.99961462,  1.01346422,  1.02751099,\n",
       "          1.04176348,  1.0562308 ,  1.07092263,  1.08584934,  1.10102199,\n",
       "          1.11645243,  1.13215338,  1.1481385 ,  1.16442252,  1.1810213 ,\n",
       "          1.19795202,  1.21523328,  1.23288529,  1.25093005,  1.26939159,\n",
       "          1.28829622,  1.30767283,  1.32755325,  1.34797267,  1.36897015,\n",
       "          1.39058917,  1.41287842,  1.43589258,  1.45969344,  1.48435118,\n",
       "          1.50994596,  1.53656998,  1.56433003,  1.5933508 ,  1.62377915,\n",
       "          1.65578984,  1.68959313,  1.72544529,  1.76366326,  1.80464581,\n",
       "          1.84890481,  1.89711324,  1.95018201,  2.00938931,  2.07661294,\n",
       "          2.15478411,  2.24887944,  2.36847471,  2.5363011 ,  2.83270147]),\n",
       "  array([14.79615204, 14.93979384, 14.9464303 , 14.94732839, 14.96175202,\n",
       "         14.98452694, 15.00328142, 15.01314612, 15.04248205, 15.04297125,\n",
       "         15.04927505, 15.06554237, 15.21096484, 15.30232469, 15.30527535,\n",
       "         15.33054526, 15.33599441, 15.37357096, 15.38847015, 15.40031412,\n",
       "         15.40031679, 15.40747937, 15.40982407, 15.4099798 , 15.41320762,\n",
       "         15.42463202, 15.42807717, 15.42832417, 15.45431444, 15.48270045,\n",
       "         15.4862285 , 15.49468477, 15.49640923, 15.51285183, 15.5187812 ,\n",
       "         15.52089227, 15.52381052, 15.53803338, 15.55101074, 15.57384216,\n",
       "         15.57840096, 15.59989372, 15.61355457, 15.62751831, 15.63536579,\n",
       "         15.63726175, 15.64802306, 15.65513897, 15.65991387, 15.66694314,\n",
       "         15.67378581, 15.67422781, 15.68248742, 15.68261665, 15.68575676,\n",
       "         15.69073579, 15.69980879, 15.70545864, 15.70978059, 15.7130538 ,\n",
       "         15.7200505 , 15.7258221 , 15.7281171 , 15.73627768, 15.74302933,\n",
       "         15.74391785, 15.75066695, 15.75489345, 15.75660513, 15.76049642,\n",
       "         15.77007968, 15.78319128, 15.79628483, 15.84474532, 15.8609808 ,\n",
       "         15.86831817, 15.89926342, 15.90010841, 15.91289626, 15.91753676,\n",
       "         15.96852326, 15.97692487, 15.98726507, 16.00434941, 16.00522803,\n",
       "         16.01290212, 16.013442  , 16.01504713, 16.01650757, 16.02313597,\n",
       "         16.02834817, 16.0317925 , 16.04122983, 16.04443749, 16.04852529,\n",
       "         16.05061628, 16.06144688, 16.06289389, 16.06573653, 16.06670993,\n",
       "         16.07304232, 16.07954098, 16.08372489, 16.08475766, 16.09584115,\n",
       "         16.09822983, 16.10733264, 16.10956295, 16.11301577, 16.11752959,\n",
       "         16.12292408, 16.1403801 , 16.16236361, 16.16263517, 16.19250585,\n",
       "         16.19460548, 16.19587127, 16.19613629, 16.19624349, 16.20746376,\n",
       "         16.20756609, 16.21150002, 16.2158463 , 16.21659927, 16.22139348,\n",
       "         16.22301542, 16.22535093, 16.22565927, 16.2258991 , 16.22985677,\n",
       "         16.2413348 , 16.25141182, 16.25811156, 16.27021261, 16.2717003 ,\n",
       "         16.27658232, 16.27866125, 16.27890514, 16.28196722, 16.28819566,\n",
       "         16.29223373, 16.29708951, 16.30606548, 16.30861055, 16.31595881,\n",
       "         16.32718036, 16.34364471, 16.35282859, 16.35761266, 16.35762518,\n",
       "         16.36450836, 16.37978661, 16.38244487, 16.383643  , 16.39863014,\n",
       "         16.40184139, 16.40762781, 16.42136508, 16.42608471, 16.42850211,\n",
       "         16.43296113, 16.43521628, 16.4463742 , 16.44864603, 16.45104591,\n",
       "         16.45380674, 16.45414794, 16.46014722, 16.46018345, 16.46708755,\n",
       "         16.47619371, 16.47891452, 16.48313605, 16.48608503, 16.49246217,\n",
       "         16.50021564, 16.51131083, 16.51843203, 16.52179373, 16.52778051,\n",
       "         16.53240209, 16.53426289, 16.53502592, 16.54102811, 16.54524488,\n",
       "         16.55239069, 16.56143634, 16.56310751, 16.57176065, 16.58394629,\n",
       "         16.58438922, 16.58580997, 16.59107441, 16.59280469, 16.59295329,\n",
       "         16.59486683, 16.6064908 , 16.60682762, 16.62166116, 16.62193261,\n",
       "         16.62773169, 16.62972323, 16.63105885, 16.63154669, 16.63573062,\n",
       "         16.6402972 , 16.64424359, 16.6463245 , 16.64656357, 16.64713517,\n",
       "         16.65549943, 16.659373  , 16.6655676 , 16.66913667, 16.67395904,\n",
       "         16.67840885, 16.68175372, 16.68247954, 16.68371396, 16.6855584 ,\n",
       "         16.69072181, 16.69279454, 16.69400287, 16.69560934, 16.69691013,\n",
       "         16.700352  , 16.70126679, 16.70255885, 16.71016939, 16.71532784,\n",
       "         16.72302525, 16.72503599, 16.7291486 , 16.7299594 , 16.7338253 ,\n",
       "         16.73855084, 16.74294525, 16.74994194, 16.75232215, 16.7648735 ,\n",
       "         16.77249166, 16.77275753, 16.77979267, 16.78301901, 16.78684091,\n",
       "         16.79545171, 16.79694845, 16.80605761, 16.80793712, 16.82164351,\n",
       "         16.82621582, 16.82839917, 16.82868817, 16.83695838, 16.8480649 ,\n",
       "         16.8510193 , 16.86052892, 16.86337351, 16.86674239, 16.8709621 ,\n",
       "         16.87436997, 16.87446089, 16.87524222, 16.8837492 , 16.88547302,\n",
       "         16.88983976, 16.88988533, 16.89213041, 16.89362112, 16.89395651,\n",
       "         16.89464802, 16.90578717, 16.9120157 , 16.91925181, 16.92331416,\n",
       "         16.9268675 , 16.92736458, 16.94011069, 16.94096111, 16.94939835,\n",
       "         16.95513995, 16.95648443, 16.96076964, 16.96378446, 16.9652275 ,\n",
       "         16.97799282, 16.97939874, 16.9966593 , 17.32607438, 17.40185688,\n",
       "         17.44737019, 17.49010225, 17.49747936, 17.5073237 , 17.52061578,\n",
       "         17.52254935, 17.52336911, 17.52522164, 17.55529118, 17.55861012])),\n",
       " (0.572867970857593, 16.283995122062237, 0.9881773844426857))"
      ]
     },
     "execution_count": 30,
     "metadata": {},
     "output_type": "execute_result"
    },
    {
     "data": {
      "image/png": "[encoded data removed]",
      "text/plain": [
       "<Figure size 432x288 with 1 Axes>"
      ]
     },
     "metadata": {
      "needs_background": "light"
     },
     "output_type": "display_data"
    }
   ],
   "source": [
    "stats.probplot(csv_month_2019['Log_col'], plot=plt)"
   ]
  },
  {
   "cell_type": "code",
   "execution_count": 31,
   "metadata": {},
   "outputs": [
    {
     "data": {
      "text/html": [
       "<div>\n",
       "<style scoped>\n",
       "    .dataframe tbody tr th:only-of-type {\n",
       "        vertical-align: middle;\n",
       "    }\n",
       "\n",
       "    .dataframe tbody tr th {\n",
       "        vertical-align: top;\n",
       "    }\n",
       "\n",
       "    .dataframe thead th {\n",
       "        text-align: right;\n",
       "    }\n",
       "</style>\n",
       "<table border=\"1\" class=\"dataframe\">\n",
       "  <thead>\n",
       "    <tr style=\"text-align: right;\">\n",
       "      <th></th>\n",
       "      <th>날짜</th>\n",
       "      <th>구명</th>\n",
       "      <th>ALIGHT_PASGR_NUM</th>\n",
       "      <th>RIDE_PASGR_NUM</th>\n",
       "      <th>총승하차수</th>\n",
       "      <th>Log_col</th>\n",
       "    </tr>\n",
       "  </thead>\n",
       "  <tbody>\n",
       "    <tr>\n",
       "      <th>300</th>\n",
       "      <td>202001</td>\n",
       "      <td>강남구</td>\n",
       "      <td>19267648.0</td>\n",
       "      <td>18509432.0</td>\n",
       "      <td>37777080.0</td>\n",
       "      <td>17.447213</td>\n",
       "    </tr>\n",
       "    <tr>\n",
       "      <th>301</th>\n",
       "      <td>202001</td>\n",
       "      <td>강동구</td>\n",
       "      <td>4425609.0</td>\n",
       "      <td>4531848.0</td>\n",
       "      <td>8957457.0</td>\n",
       "      <td>16.007997</td>\n",
       "    </tr>\n",
       "    <tr>\n",
       "      <th>302</th>\n",
       "      <td>202001</td>\n",
       "      <td>강북구</td>\n",
       "      <td>3063191.0</td>\n",
       "      <td>3153484.0</td>\n",
       "      <td>6216675.0</td>\n",
       "      <td>15.642746</td>\n",
       "    </tr>\n",
       "    <tr>\n",
       "      <th>303</th>\n",
       "      <td>202001</td>\n",
       "      <td>강서구</td>\n",
       "      <td>6773508.0</td>\n",
       "      <td>7035847.0</td>\n",
       "      <td>13809355.0</td>\n",
       "      <td>16.440857</td>\n",
       "    </tr>\n",
       "    <tr>\n",
       "      <th>304</th>\n",
       "      <td>202001</td>\n",
       "      <td>관악구</td>\n",
       "      <td>4866716.0</td>\n",
       "      <td>5046961.0</td>\n",
       "      <td>9913677.0</td>\n",
       "      <td>16.109426</td>\n",
       "    </tr>\n",
       "  </tbody>\n",
       "</table>\n",
       "</div>"
      ],
      "text/plain": [
       "         날짜   구명  ALIGHT_PASGR_NUM  RIDE_PASGR_NUM       총승하차수    Log_col\n",
       "300  202001  강남구        19267648.0      18509432.0  37777080.0  17.447213\n",
       "301  202001  강동구         4425609.0       4531848.0   8957457.0  16.007997\n",
       "302  202001  강북구         3063191.0       3153484.0   6216675.0  15.642746\n",
       "303  202001  강서구         6773508.0       7035847.0  13809355.0  16.440857\n",
       "304  202001  관악구         4866716.0       5046961.0   9913677.0  16.109426"
      ]
     },
     "execution_count": 31,
     "metadata": {},
     "output_type": "execute_result"
    }
   ],
   "source": [
    "csv_month_2020[\"Log_col\"] = np.log1p(csv_month_2020['총승하차수'])\n",
    "csv_month_2020.head()"
   ]
  },
  {
   "cell_type": "code",
   "execution_count": 32,
   "metadata": {},
   "outputs": [
    {
     "data": {
      "text/plain": [
       "((array([-2.83270147, -2.5363011 , -2.36847471, -2.24887944, -2.15478411,\n",
       "         -2.07661294, -2.00938931, -1.95018201, -1.89711324, -1.84890481,\n",
       "         -1.80464581, -1.76366326, -1.72544529, -1.68959313, -1.65578984,\n",
       "         -1.62377915, -1.5933508 , -1.56433003, -1.53656998, -1.50994596,\n",
       "         -1.48435118, -1.45969344, -1.43589258, -1.41287842, -1.39058917,\n",
       "         -1.36897015, -1.34797267, -1.32755325, -1.30767283, -1.28829622,\n",
       "         -1.26939159, -1.25093005, -1.23288529, -1.21523328, -1.19795202,\n",
       "         -1.1810213 , -1.16442252, -1.1481385 , -1.13215338, -1.11645243,\n",
       "         -1.10102199, -1.08584934, -1.07092263, -1.0562308 , -1.04176348,\n",
       "         -1.02751099, -1.01346422, -0.99961462, -0.98595415, -0.97247524,\n",
       "         -0.95917073, -0.94603388, -0.93305829, -0.92023793, -0.90756706,\n",
       "         -0.89504026, -0.88265235, -0.87039844, -0.85827385, -0.84627414,\n",
       "         -0.83439507, -0.82263259, -0.81098284, -0.79944213, -0.78800692,\n",
       "         -0.77667384, -0.76543965, -0.75430125, -0.74325565, -0.73229999,\n",
       "         -0.72143154, -0.71064764, -0.69994576, -0.68932345, -0.67877835,\n",
       "         -0.66830821, -0.65791081, -0.64758406, -0.63732592, -0.6271344 ,\n",
       "         -0.61700761, -0.60694371, -0.59694091, -0.58699748, -0.57711175,\n",
       "         -0.56728211, -0.55750697, -0.54778482, -0.53811417, -0.52849359,\n",
       "         -0.51892168, -0.50939708, -0.49991847, -0.49048456, -0.4810941 ,\n",
       "         -0.47174588, -0.4624387 , -0.45317141, -0.44394288, -0.434752  ,\n",
       "         -0.42559771, -0.41647894, -0.40739467, -0.3983439 , -0.38932564,\n",
       "         -0.38033893, -0.37138284, -0.36245644, -0.35355883, -0.34468912,\n",
       "         -0.33584644, -0.32702995, -0.31823881, -0.30947219, -0.3007293 ,\n",
       "         -0.29200933, -0.28331151, -0.27463506, -0.26597925, -0.25734332,\n",
       "         -0.24872654, -0.24012818, -0.23154755, -0.22298393, -0.21443663,\n",
       "         -0.20590496, -0.19738826, -0.18888586, -0.18039708, -0.17192129,\n",
       "         -0.16345783, -0.15500606, -0.14656535, -0.13813507, -0.12971459,\n",
       "         -0.12130331, -0.11290059, -0.10450584, -0.09611845, -0.08773782,\n",
       "         -0.07936334, -0.07099442, -0.06263048, -0.05427091, -0.04591514,\n",
       "         -0.03756257, -0.02921261, -0.0208647 , -0.01251824, -0.00417265,\n",
       "          0.00417265,  0.01251824,  0.0208647 ,  0.02921261,  0.03756257,\n",
       "          0.04591514,  0.05427091,  0.06263048,  0.07099442,  0.07936334,\n",
       "          0.08773782,  0.09611845,  0.10450584,  0.11290059,  0.12130331,\n",
       "          0.12971459,  0.13813507,  0.14656535,  0.15500606,  0.16345783,\n",
       "          0.17192129,  0.18039708,  0.18888586,  0.19738826,  0.20590496,\n",
       "          0.21443663,  0.22298393,  0.23154755,  0.24012818,  0.24872654,\n",
       "          0.25734332,  0.26597925,  0.27463506,  0.28331151,  0.29200933,\n",
       "          0.3007293 ,  0.30947219,  0.31823881,  0.32702995,  0.33584644,\n",
       "          0.34468912,  0.35355883,  0.36245644,  0.37138284,  0.38033893,\n",
       "          0.38932564,  0.3983439 ,  0.40739467,  0.41647894,  0.42559771,\n",
       "          0.434752  ,  0.44394288,  0.45317141,  0.4624387 ,  0.47174588,\n",
       "          0.4810941 ,  0.49048456,  0.49991847,  0.50939708,  0.51892168,\n",
       "          0.52849359,  0.53811417,  0.54778482,  0.55750697,  0.56728211,\n",
       "          0.57711175,  0.58699748,  0.59694091,  0.60694371,  0.61700761,\n",
       "          0.6271344 ,  0.63732592,  0.64758406,  0.65791081,  0.66830821,\n",
       "          0.67877835,  0.68932345,  0.69994576,  0.71064764,  0.72143154,\n",
       "          0.73229999,  0.74325565,  0.75430125,  0.76543965,  0.77667384,\n",
       "          0.78800692,  0.79944213,  0.81098284,  0.82263259,  0.83439507,\n",
       "          0.84627414,  0.85827385,  0.87039844,  0.88265235,  0.89504026,\n",
       "          0.90756706,  0.92023793,  0.93305829,  0.94603388,  0.95917073,\n",
       "          0.97247524,  0.98595415,  0.99961462,  1.01346422,  1.02751099,\n",
       "          1.04176348,  1.0562308 ,  1.07092263,  1.08584934,  1.10102199,\n",
       "          1.11645243,  1.13215338,  1.1481385 ,  1.16442252,  1.1810213 ,\n",
       "          1.19795202,  1.21523328,  1.23288529,  1.25093005,  1.26939159,\n",
       "          1.28829622,  1.30767283,  1.32755325,  1.34797267,  1.36897015,\n",
       "          1.39058917,  1.41287842,  1.43589258,  1.45969344,  1.48435118,\n",
       "          1.50994596,  1.53656998,  1.56433003,  1.5933508 ,  1.62377915,\n",
       "          1.65578984,  1.68959313,  1.72544529,  1.76366326,  1.80464581,\n",
       "          1.84890481,  1.89711324,  1.95018201,  2.00938931,  2.07661294,\n",
       "          2.15478411,  2.24887944,  2.36847471,  2.5363011 ,  2.83270147]),\n",
       "  array([14.52893035, 14.54976417, 14.5822901 , 14.59970521, 14.60816546,\n",
       "         14.70093128, 14.70881717, 14.72699214, 14.742888  , 14.74813438,\n",
       "         14.79540613, 14.87418102, 14.95669403, 14.9671254 , 14.99214259,\n",
       "         15.01300029, 15.05347137, 15.11411841, 15.13383759, 15.14787499,\n",
       "         15.15377419, 15.15684312, 15.16740704, 15.20223907, 15.2084036 ,\n",
       "         15.20863206, 15.2152743 , 15.22420613, 15.22485032, 15.24562442,\n",
       "         15.26649843, 15.2710042 , 15.28338583, 15.2913181 , 15.29752774,\n",
       "         15.29771901, 15.30623836, 15.33246272, 15.34383798, 15.34651914,\n",
       "         15.34914115, 15.35523798, 15.3559516 , 15.35892853, 15.36385638,\n",
       "         15.38087139, 15.38236785, 15.39276778, 15.39389919, 15.3944738 ,\n",
       "         15.39503365, 15.39842316, 15.40266544, 15.4100478 , 15.41690763,\n",
       "         15.41732085, 15.43291347, 15.44612799, 15.46577482, 15.47013137,\n",
       "         15.47796322, 15.47835444, 15.48233982, 15.48614592, 15.48926922,\n",
       "         15.49013622, 15.49166368, 15.49455998, 15.50648827, 15.50858128,\n",
       "         15.51297711, 15.51535848, 15.53210493, 15.53961376, 15.56033616,\n",
       "         15.56753962, 15.57608444, 15.59859114, 15.60691496, 15.61453375,\n",
       "         15.628911  , 15.63071894, 15.63601118, 15.63790349, 15.64002114,\n",
       "         15.64274592, 15.65515661, 15.67436824, 15.69409751, 15.69974422,\n",
       "         15.70175229, 15.72506417, 15.74099436, 15.74365642, 15.75915385,\n",
       "         15.75951733, 15.76378006, 15.76538626, 15.7657947 , 15.79683915,\n",
       "         15.8059497 , 15.80760639, 15.81786693, 15.82540814, 15.83616965,\n",
       "         15.83689678, 15.85164799, 15.85356771, 15.85462126, 15.86140553,\n",
       "         15.86302003, 15.86730479, 15.86985901, 15.87380545, 15.87676789,\n",
       "         15.89554867, 15.89690806, 15.90002645, 15.91175845, 15.91389517,\n",
       "         15.91748189, 15.92057988, 15.92490755, 15.92959939, 15.93208265,\n",
       "         15.9352141 , 15.93699347, 15.94449079, 15.95474532, 15.95519794,\n",
       "         15.96278059, 15.96659858, 15.96754365, 15.96972023, 15.97377287,\n",
       "         15.98835011, 15.98972896, 15.99590146, 15.99632805, 15.99676552,\n",
       "         16.00157768, 16.00254012, 16.00770685, 16.00799704, 16.01078902,\n",
       "         16.02202959, 16.02994213, 16.03025204, 16.03238263, 16.03788065,\n",
       "         16.03868322, 16.04471086, 16.04705357, 16.07448853, 16.08845054,\n",
       "         16.09011893, 16.09354299, 16.09767945, 16.09827828, 16.10238133,\n",
       "         16.10350888, 16.10366209, 16.10942598, 16.11139837, 16.12659543,\n",
       "         16.13263129, 16.1370279 , 16.14437559, 16.14828707, 16.14861758,\n",
       "         16.14955003, 16.15210241, 16.153731  , 16.15427897, 16.15612623,\n",
       "         16.16453553, 16.171533  , 16.17312791, 16.17588822, 16.17634654,\n",
       "         16.17639192, 16.17825607, 16.18747124, 16.19394978, 16.21001518,\n",
       "         16.21088557, 16.21264973, 16.21776658, 16.22358026, 16.22389049,\n",
       "         16.23452693, 16.24281069, 16.24374809, 16.24482046, 16.24695586,\n",
       "         16.24821569, 16.24875016, 16.24934064, 16.24986399, 16.25792298,\n",
       "         16.26175633, 16.26395099, 16.26490315, 16.26745685, 16.28867276,\n",
       "         16.29448464, 16.29782878, 16.30385255, 16.30524047, 16.30548037,\n",
       "         16.30763857, 16.31590704, 16.3169343 , 16.32017931, 16.32281516,\n",
       "         16.32705029, 16.32781843, 16.33174209, 16.33417849, 16.33777055,\n",
       "         16.34141687, 16.34384317, 16.3472332 , 16.34990665, 16.35323085,\n",
       "         16.35467241, 16.35538105, 16.3587799 , 16.36136013, 16.36180836,\n",
       "         16.3623655 , 16.36441558, 16.37876687, 16.38279565, 16.38504447,\n",
       "         16.38785733, 16.39135435, 16.3926345 , 16.395926  , 16.40110487,\n",
       "         16.40133572, 16.40219085, 16.4113404 , 16.41251105, 16.42313921,\n",
       "         16.42466339, 16.43235164, 16.43588123, 16.4386794 , 16.44085689,\n",
       "         16.4427241 , 16.44762542, 16.44902161, 16.44982746, 16.45657501,\n",
       "         16.45658578, 16.45895496, 16.46154442, 16.47595399, 16.48938896,\n",
       "         16.49268318, 16.49519167, 16.49731562, 16.50311265, 16.50392911,\n",
       "         16.50624219, 16.50929333, 16.51087719, 16.51408716, 16.51484791,\n",
       "         16.52292709, 16.52422201, 16.5370084 , 16.54470216, 16.55459368,\n",
       "         16.55814156, 16.57125184, 16.57913806, 16.5811736 , 16.58237417,\n",
       "         16.5970151 , 16.60727775, 16.61198578, 16.65752512, 16.74272981,\n",
       "         16.76753235, 16.80364801, 16.81814143, 17.04569389, 17.065672  ,\n",
       "         17.06785528, 17.11816892, 17.17166451, 17.20497515, 17.2153353 ,\n",
       "         17.26397564, 17.28203855, 17.28349624, 17.36544749, 17.44721315])),\n",
       " (0.5487153543662419, 15.973037767333356, 0.9894732517896395))"
      ]
     },
     "execution_count": 32,
     "metadata": {},
     "output_type": "execute_result"
    },
    {
     "data": {
      "image/png": "[encoded data removed]",
      "text/plain": [
       "<Figure size 432x288 with 1 Axes>"
      ]
     },
     "metadata": {
      "needs_background": "light"
     },
     "output_type": "display_data"
    }
   ],
   "source": [
    "stats.probplot(csv_month_2020['Log_col'], plot=plt)"
   ]
  },
  {
   "cell_type": "code",
   "execution_count": 33,
   "metadata": {},
   "outputs": [],
   "source": [
    "csv_month_2020.reset_index(inplace=True)\n",
    "csv_month_2019.reset_index(inplace=True)"
   ]
  },
  {
   "cell_type": "code",
   "execution_count": 34,
   "metadata": {},
   "outputs": [
    {
     "data": {
      "text/plain": [
       "-119.44734232406425"
      ]
     },
     "execution_count": 34,
     "metadata": {},
     "output_type": "execute_result"
    }
   ],
   "source": [
    "result_log = csv_month_2020['Log_col'] - csv_month_2019['Log_col']\n",
    "t = result_log.mean()/(result_log.std()/3504**0.5) # t값\n",
    "t"
   ]
  },
  {
   "cell_type": "code",
   "execution_count": 35,
   "metadata": {},
   "outputs": [
    {
     "data": {
      "text/plain": [
       "Ttest_1sampResult(statistic=-34.95063493784347, pvalue=1.3025788296201934e-107)"
      ]
     },
     "execution_count": 35,
     "metadata": {},
     "output_type": "execute_result"
    }
   ],
   "source": [
    "from scipy.stats import ttest_1samp\n",
    "ttest_1samp(result_log, 0)\n",
    "# 교통량의 변화에 차이가 있다.(귀무가설 기각)"
   ]
  },
  {
   "cell_type": "code",
   "execution_count": 36,
   "metadata": {},
   "outputs": [
    {
     "name": "stdout",
     "output_type": "stream",
     "text": [
      "27.43301685992552 %\n"
     ]
    }
   ],
   "source": [
    "# 교통량 감소 비율\n",
    "a = csv_month_2019['총승하차수'].sum()\n",
    "b = csv_month_2020['총승하차수'].sum()\n",
    "print((1-b/a)*100, \"%\") "
   ]
  },
  {
   "cell_type": "markdown",
   "metadata": {},
   "source": [
    "# 코로나와 지하철의 상관관계 - 김창현"
   ]
  },
  {
   "cell_type": "code",
   "execution_count": 37,
   "metadata": {},
   "outputs": [
    {
     "data": {
      "text/plain": [
       "<matplotlib.legend.Legend at 0x2329dbf1d30>"
      ]
     },
     "execution_count": 37,
     "metadata": {},
     "output_type": "execute_result"
    },
    {
     "data": {
      "image/png": "[encoded data removed]",
      "text/plain": [
       "<Figure size 432x288 with 1 Axes>"
      ]
     },
     "metadata": {
      "needs_background": "light"
     },
     "output_type": "display_data"
    }
   ],
   "source": [
    "# 강남부터 확인해 보자\n",
    "plot_month = [1,2,3,4,5,6,7,8,9,10,11,12]\n",
    "plt.plot(plot_month,csv_month_2020[csv_month_2020['구명']=='강남구']['총승하차수'],color='blue',label='2020')\n",
    "plt.plot(plot_month,csv_month_2019[csv_month_2019['구명']=='강남구']['총승하차수'],color='red',label='2019')\n",
    "plt.legend()"
   ]
  },
  {
   "cell_type": "markdown",
   "metadata": {},
   "source": [
    "# 선형회귀"
   ]
  },
  {
   "cell_type": "code",
   "execution_count": 38,
   "metadata": {},
   "outputs": [
    {
     "data": {
      "text/plain": [
       "LinearRegression()"
      ]
     },
     "execution_count": 38,
     "metadata": {},
     "output_type": "execute_result"
    }
   ],
   "source": [
    "from sklearn.linear_model import LinearRegression\n",
    "## 서울시에서 가져온 서울시 코로나 월별 코로나 확진자\n",
    "corona_gangnam=csv_month_2020[csv_month_2020['구명']=='강남구']['총승하차수'][3:]\n",
    "corona_month = [4,5,6,7,8,9,10,11,12]\n",
    "people_month = [979,703,1334,1506,5642,3865,2714,7768,26564]\n",
    "x = np.array(corona_month).reshape(-1,1)\n",
    "y = np.array(people_month)\n",
    "line_fitter = LinearRegression()\n",
    "line_fitter.fit(x, corona_gangnam)\n",
    "corona_line_fitter = LinearRegression()\n",
    "corona_line_fitter.fit(x, y)"
   ]
  },
  {
   "cell_type": "code",
   "execution_count": 39,
   "metadata": {},
   "outputs": [
    {
     "data": {
      "text/plain": [
       "[<matplotlib.lines.Line2D at 0x2328d7d4820>]"
      ]
     },
     "execution_count": 39,
     "metadata": {},
     "output_type": "execute_result"
    },
    {
     "data": {
      "image/png": "[encoded data removed]",
      "text/plain": [
       "<Figure size 432x288 with 1 Axes>"
      ]
     },
     "metadata": {
      "needs_background": "light"
     },
     "output_type": "display_data"
    }
   ],
   "source": [
    "plt.plot(x, line_fitter.predict(x))\n",
    "plt.plot(x, corona_gangnam)"
   ]
  },
  {
   "cell_type": "code",
   "execution_count": 40,
   "metadata": {},
   "outputs": [
    {
     "data": {
      "text/plain": [
       "[<matplotlib.lines.Line2D at 0x2328d83a280>]"
      ]
     },
     "execution_count": 40,
     "metadata": {},
     "output_type": "execute_result"
    },
    {
     "data": {
      "image/png": "[encoded data removed]",
      "text/plain": [
       "<Figure size 432x288 with 1 Axes>"
      ]
     },
     "metadata": {
      "needs_background": "light"
     },
     "output_type": "display_data"
    }
   ],
   "source": [
    "plt.plot(x, corona_line_fitter.predict(x), color = \"blue\")\n",
    "plt.plot(x, y, color = \"red\")"
   ]
  },
  {
   "cell_type": "markdown",
   "metadata": {},
   "source": [
    "#### 코로나 확진자, 강남구 승차 인원 상관관계"
   ]
  },
  {
   "cell_type": "code",
   "execution_count": 41,
   "metadata": {},
   "outputs": [
    {
     "data": {
      "text/html": [
       "<div>\n",
       "<style scoped>\n",
       "    .dataframe tbody tr th:only-of-type {\n",
       "        vertical-align: middle;\n",
       "    }\n",
       "\n",
       "    .dataframe tbody tr th {\n",
       "        vertical-align: top;\n",
       "    }\n",
       "\n",
       "    .dataframe thead th {\n",
       "        text-align: right;\n",
       "    }\n",
       "</style>\n",
       "<table border=\"1\" class=\"dataframe\">\n",
       "  <thead>\n",
       "    <tr style=\"text-align: right;\">\n",
       "      <th></th>\n",
       "      <th>corona_people</th>\n",
       "      <th>gangnam_people</th>\n",
       "    </tr>\n",
       "  </thead>\n",
       "  <tbody>\n",
       "    <tr>\n",
       "      <th>corona_people</th>\n",
       "      <td>1.000000</td>\n",
       "      <td>-0.504859</td>\n",
       "    </tr>\n",
       "    <tr>\n",
       "      <th>gangnam_people</th>\n",
       "      <td>-0.504859</td>\n",
       "      <td>1.000000</td>\n",
       "    </tr>\n",
       "  </tbody>\n",
       "</table>\n",
       "</div>"
      ],
      "text/plain": [
       "                corona_people  gangnam_people\n",
       "corona_people        1.000000       -0.504859\n",
       "gangnam_people      -0.504859        1.000000"
      ]
     },
     "execution_count": 41,
     "metadata": {},
     "output_type": "execute_result"
    }
   ],
   "source": [
    "corr_df = pd.DataFrame({\"corona_people\" : people_month, \"gangnam_people\" : corona_gangnam.values}, index = corona_month)\n",
    "corr_df.corr(method='pearson')"
   ]
  },
  {
   "cell_type": "code",
   "execution_count": 42,
   "metadata": {},
   "outputs": [
    {
     "data": {
      "text/html": [
       "<div>\n",
       "<style scoped>\n",
       "    .dataframe tbody tr th:only-of-type {\n",
       "        vertical-align: middle;\n",
       "    }\n",
       "\n",
       "    .dataframe tbody tr th {\n",
       "        vertical-align: top;\n",
       "    }\n",
       "\n",
       "    .dataframe thead th {\n",
       "        text-align: right;\n",
       "    }\n",
       "</style>\n",
       "<table border=\"1\" class=\"dataframe\">\n",
       "  <thead>\n",
       "    <tr style=\"text-align: right;\">\n",
       "      <th></th>\n",
       "      <th>corona_people</th>\n",
       "      <th>gangnam_people</th>\n",
       "    </tr>\n",
       "  </thead>\n",
       "  <tbody>\n",
       "    <tr>\n",
       "      <th>4</th>\n",
       "      <td>979</td>\n",
       "      <td>27184809.0</td>\n",
       "    </tr>\n",
       "    <tr>\n",
       "      <th>5</th>\n",
       "      <td>703</td>\n",
       "      <td>29650072.0</td>\n",
       "    </tr>\n",
       "    <tr>\n",
       "      <th>6</th>\n",
       "      <td>1334</td>\n",
       "      <td>32025356.0</td>\n",
       "    </tr>\n",
       "    <tr>\n",
       "      <th>7</th>\n",
       "      <td>1506</td>\n",
       "      <td>34811121.0</td>\n",
       "    </tr>\n",
       "    <tr>\n",
       "      <th>8</th>\n",
       "      <td>5642</td>\n",
       "      <td>28678678.0</td>\n",
       "    </tr>\n",
       "    <tr>\n",
       "      <th>9</th>\n",
       "      <td>3865</td>\n",
       "      <td>25850881.0</td>\n",
       "    </tr>\n",
       "    <tr>\n",
       "      <th>10</th>\n",
       "      <td>2714</td>\n",
       "      <td>29958848.0</td>\n",
       "    </tr>\n",
       "    <tr>\n",
       "      <th>11</th>\n",
       "      <td>7768</td>\n",
       "      <td>31452078.0</td>\n",
       "    </tr>\n",
       "    <tr>\n",
       "      <th>12</th>\n",
       "      <td>26564</td>\n",
       "      <td>25284291.0</td>\n",
       "    </tr>\n",
       "  </tbody>\n",
       "</table>\n",
       "</div>"
      ],
      "text/plain": [
       "    corona_people  gangnam_people\n",
       "4             979      27184809.0\n",
       "5             703      29650072.0\n",
       "6            1334      32025356.0\n",
       "7            1506      34811121.0\n",
       "8            5642      28678678.0\n",
       "9            3865      25850881.0\n",
       "10           2714      29958848.0\n",
       "11           7768      31452078.0\n",
       "12          26564      25284291.0"
      ]
     },
     "execution_count": 42,
     "metadata": {},
     "output_type": "execute_result"
    }
   ],
   "source": [
    "corr_df"
   ]
  },
  {
   "cell_type": "markdown",
   "metadata": {},
   "source": [
    "#### 서울시 전체 구 승차 인원, 코로나 확진자 상관관계"
   ]
  },
  {
   "cell_type": "code",
   "execution_count": 56,
   "metadata": {},
   "outputs": [],
   "source": [
    "seoul_corr_df=csv_month_2019[csv_month_2019['날짜']>=201904].pivot_table(index='날짜',columns='구명',values='총승하차수').reset_index()"
   ]
  },
  {
   "cell_type": "code",
   "execution_count": 57,
   "metadata": {},
   "outputs": [
    {
     "data": {
      "text/html": [
       "<div>\n",
       "<style scoped>\n",
       "    .dataframe tbody tr th:only-of-type {\n",
       "        vertical-align: middle;\n",
       "    }\n",
       "\n",
       "    .dataframe tbody tr th {\n",
       "        vertical-align: top;\n",
       "    }\n",
       "\n",
       "    .dataframe thead th {\n",
       "        text-align: right;\n",
       "    }\n",
       "</style>\n",
       "<table border=\"1\" class=\"dataframe\">\n",
       "  <thead>\n",
       "    <tr style=\"text-align: right;\">\n",
       "      <th>구명</th>\n",
       "      <th>날짜</th>\n",
       "      <th>강남구</th>\n",
       "      <th>강동구</th>\n",
       "      <th>강북구</th>\n",
       "      <th>강서구</th>\n",
       "      <th>관악구</th>\n",
       "      <th>광진구</th>\n",
       "      <th>구로구</th>\n",
       "      <th>금천구</th>\n",
       "      <th>노원구</th>\n",
       "      <th>...</th>\n",
       "      <th>성북구</th>\n",
       "      <th>송파구</th>\n",
       "      <th>양천구</th>\n",
       "      <th>영등포구</th>\n",
       "      <th>용산구</th>\n",
       "      <th>은평구</th>\n",
       "      <th>종로구</th>\n",
       "      <th>중구</th>\n",
       "      <th>중랑구</th>\n",
       "      <th>corona_people</th>\n",
       "    </tr>\n",
       "  </thead>\n",
       "  <tbody>\n",
       "    <tr>\n",
       "      <th>0</th>\n",
       "      <td>201904</td>\n",
       "      <td>40117519.0</td>\n",
       "      <td>9489879.0</td>\n",
       "      <td>6993532.0</td>\n",
       "      <td>15264311.0</td>\n",
       "      <td>11035183.0</td>\n",
       "      <td>14078328.0</td>\n",
       "      <td>17570882.0</td>\n",
       "      <td>5491879.0</td>\n",
       "      <td>13950778.0</td>\n",
       "      <td>...</td>\n",
       "      <td>8924843.0</td>\n",
       "      <td>21230769.0</td>\n",
       "      <td>4924946.0</td>\n",
       "      <td>18810803.0</td>\n",
       "      <td>15933689.0</td>\n",
       "      <td>11854233.0</td>\n",
       "      <td>21541093.0</td>\n",
       "      <td>23295818.0</td>\n",
       "      <td>6878545.0</td>\n",
       "      <td>979</td>\n",
       "    </tr>\n",
       "    <tr>\n",
       "      <th>1</th>\n",
       "      <td>201905</td>\n",
       "      <td>40842004.0</td>\n",
       "      <td>9779912.0</td>\n",
       "      <td>7248352.0</td>\n",
       "      <td>15605086.0</td>\n",
       "      <td>11311548.0</td>\n",
       "      <td>14923265.0</td>\n",
       "      <td>17917111.0</td>\n",
       "      <td>5519569.0</td>\n",
       "      <td>14653878.0</td>\n",
       "      <td>...</td>\n",
       "      <td>9347469.0</td>\n",
       "      <td>21717329.0</td>\n",
       "      <td>5015667.0</td>\n",
       "      <td>18423702.0</td>\n",
       "      <td>16646851.0</td>\n",
       "      <td>12187955.0</td>\n",
       "      <td>22451488.0</td>\n",
       "      <td>23662420.0</td>\n",
       "      <td>7154064.0</td>\n",
       "      <td>703</td>\n",
       "    </tr>\n",
       "    <tr>\n",
       "      <th>2</th>\n",
       "      <td>201906</td>\n",
       "      <td>37783013.0</td>\n",
       "      <td>9006363.0</td>\n",
       "      <td>6619024.0</td>\n",
       "      <td>14405721.0</td>\n",
       "      <td>10452623.0</td>\n",
       "      <td>13238371.0</td>\n",
       "      <td>16546102.0</td>\n",
       "      <td>5016906.0</td>\n",
       "      <td>13041445.0</td>\n",
       "      <td>...</td>\n",
       "      <td>8144848.0</td>\n",
       "      <td>19686657.0</td>\n",
       "      <td>4574437.0</td>\n",
       "      <td>16710480.0</td>\n",
       "      <td>15438742.0</td>\n",
       "      <td>11182456.0</td>\n",
       "      <td>20209098.0</td>\n",
       "      <td>21739642.0</td>\n",
       "      <td>6489893.0</td>\n",
       "      <td>1334</td>\n",
       "    </tr>\n",
       "    <tr>\n",
       "      <th>3</th>\n",
       "      <td>201907</td>\n",
       "      <td>42228677.0</td>\n",
       "      <td>9499121.0</td>\n",
       "      <td>6770713.0</td>\n",
       "      <td>15133207.0</td>\n",
       "      <td>10979055.0</td>\n",
       "      <td>13358023.0</td>\n",
       "      <td>17182001.0</td>\n",
       "      <td>5503485.0</td>\n",
       "      <td>13280951.0</td>\n",
       "      <td>...</td>\n",
       "      <td>8034564.0</td>\n",
       "      <td>20811562.0</td>\n",
       "      <td>4820894.0</td>\n",
       "      <td>17765954.0</td>\n",
       "      <td>15740705.0</td>\n",
       "      <td>11642963.0</td>\n",
       "      <td>21010416.0</td>\n",
       "      <td>22462651.0</td>\n",
       "      <td>6647693.0</td>\n",
       "      <td>1506</td>\n",
       "    </tr>\n",
       "    <tr>\n",
       "      <th>4</th>\n",
       "      <td>201908</td>\n",
       "      <td>39432552.0</td>\n",
       "      <td>9020831.0</td>\n",
       "      <td>6469546.0</td>\n",
       "      <td>14448266.0</td>\n",
       "      <td>10455462.0</td>\n",
       "      <td>12991249.0</td>\n",
       "      <td>16302476.0</td>\n",
       "      <td>4998417.0</td>\n",
       "      <td>12645709.0</td>\n",
       "      <td>...</td>\n",
       "      <td>7608261.0</td>\n",
       "      <td>19933994.0</td>\n",
       "      <td>4549578.0</td>\n",
       "      <td>16959258.0</td>\n",
       "      <td>15579029.0</td>\n",
       "      <td>11106214.0</td>\n",
       "      <td>20351967.0</td>\n",
       "      <td>21724614.0</td>\n",
       "      <td>6368936.0</td>\n",
       "      <td>5642</td>\n",
       "    </tr>\n",
       "    <tr>\n",
       "      <th>5</th>\n",
       "      <td>201909</td>\n",
       "      <td>36101929.0</td>\n",
       "      <td>8683409.0</td>\n",
       "      <td>6415501.0</td>\n",
       "      <td>13885756.0</td>\n",
       "      <td>9994340.0</td>\n",
       "      <td>12706511.0</td>\n",
       "      <td>15940748.0</td>\n",
       "      <td>4913412.0</td>\n",
       "      <td>12706352.0</td>\n",
       "      <td>...</td>\n",
       "      <td>8182732.0</td>\n",
       "      <td>18679649.0</td>\n",
       "      <td>4422981.0</td>\n",
       "      <td>16296986.0</td>\n",
       "      <td>14817371.0</td>\n",
       "      <td>10772485.0</td>\n",
       "      <td>19380784.0</td>\n",
       "      <td>20750167.0</td>\n",
       "      <td>6249568.0</td>\n",
       "      <td>3865</td>\n",
       "    </tr>\n",
       "    <tr>\n",
       "      <th>6</th>\n",
       "      <td>201910</td>\n",
       "      <td>40654324.0</td>\n",
       "      <td>9803301.0</td>\n",
       "      <td>7060875.0</td>\n",
       "      <td>15328813.0</td>\n",
       "      <td>11026877.0</td>\n",
       "      <td>14078838.0</td>\n",
       "      <td>17605359.0</td>\n",
       "      <td>5459412.0</td>\n",
       "      <td>13989347.0</td>\n",
       "      <td>...</td>\n",
       "      <td>8932688.0</td>\n",
       "      <td>21503992.0</td>\n",
       "      <td>4941638.0</td>\n",
       "      <td>18438646.0</td>\n",
       "      <td>16857347.0</td>\n",
       "      <td>12098723.0</td>\n",
       "      <td>22963081.0</td>\n",
       "      <td>24074392.0</td>\n",
       "      <td>6925126.0</td>\n",
       "      <td>2714</td>\n",
       "    </tr>\n",
       "    <tr>\n",
       "      <th>7</th>\n",
       "      <td>201911</td>\n",
       "      <td>40766413.0</td>\n",
       "      <td>9662131.0</td>\n",
       "      <td>6872436.0</td>\n",
       "      <td>14973517.0</td>\n",
       "      <td>10795127.0</td>\n",
       "      <td>13639793.0</td>\n",
       "      <td>17115574.0</td>\n",
       "      <td>5370379.0</td>\n",
       "      <td>13700749.0</td>\n",
       "      <td>...</td>\n",
       "      <td>8773663.0</td>\n",
       "      <td>20520980.0</td>\n",
       "      <td>4878345.0</td>\n",
       "      <td>17583640.0</td>\n",
       "      <td>16108647.0</td>\n",
       "      <td>11717362.0</td>\n",
       "      <td>21635363.0</td>\n",
       "      <td>23126377.0</td>\n",
       "      <td>6716316.0</td>\n",
       "      <td>7768</td>\n",
       "    </tr>\n",
       "    <tr>\n",
       "      <th>8</th>\n",
       "      <td>201912</td>\n",
       "      <td>42088755.0</td>\n",
       "      <td>9892946.0</td>\n",
       "      <td>6954457.0</td>\n",
       "      <td>15161393.0</td>\n",
       "      <td>10935949.0</td>\n",
       "      <td>13731681.0</td>\n",
       "      <td>17288767.0</td>\n",
       "      <td>5315982.0</td>\n",
       "      <td>13606860.0</td>\n",
       "      <td>...</td>\n",
       "      <td>8610760.0</td>\n",
       "      <td>21303244.0</td>\n",
       "      <td>4925713.0</td>\n",
       "      <td>17839222.0</td>\n",
       "      <td>16550594.0</td>\n",
       "      <td>11741747.0</td>\n",
       "      <td>22371852.0</td>\n",
       "      <td>23629176.0</td>\n",
       "      <td>6755192.0</td>\n",
       "      <td>26564</td>\n",
       "    </tr>\n",
       "  </tbody>\n",
       "</table>\n",
       "<p>9 rows × 27 columns</p>\n",
       "</div>"
      ],
      "text/plain": [
       "구명      날짜         강남구        강동구        강북구         강서구         관악구  \\\n",
       "0   201904  40117519.0  9489879.0  6993532.0  15264311.0  11035183.0   \n",
       "1   201905  40842004.0  9779912.0  7248352.0  15605086.0  11311548.0   \n",
       "2   201906  37783013.0  9006363.0  6619024.0  14405721.0  10452623.0   \n",
       "3   201907  42228677.0  9499121.0  6770713.0  15133207.0  10979055.0   \n",
       "4   201908  39432552.0  9020831.0  6469546.0  14448266.0  10455462.0   \n",
       "5   201909  36101929.0  8683409.0  6415501.0  13885756.0   9994340.0   \n",
       "6   201910  40654324.0  9803301.0  7060875.0  15328813.0  11026877.0   \n",
       "7   201911  40766413.0  9662131.0  6872436.0  14973517.0  10795127.0   \n",
       "8   201912  42088755.0  9892946.0  6954457.0  15161393.0  10935949.0   \n",
       "\n",
       "구명         광진구         구로구        금천구         노원구  ...        성북구         송파구  \\\n",
       "0   14078328.0  17570882.0  5491879.0  13950778.0  ...  8924843.0  21230769.0   \n",
       "1   14923265.0  17917111.0  5519569.0  14653878.0  ...  9347469.0  21717329.0   \n",
       "2   13238371.0  16546102.0  5016906.0  13041445.0  ...  8144848.0  19686657.0   \n",
       "3   13358023.0  17182001.0  5503485.0  13280951.0  ...  8034564.0  20811562.0   \n",
       "4   12991249.0  16302476.0  4998417.0  12645709.0  ...  7608261.0  19933994.0   \n",
       "5   12706511.0  15940748.0  4913412.0  12706352.0  ...  8182732.0  18679649.0   \n",
       "6   14078838.0  17605359.0  5459412.0  13989347.0  ...  8932688.0  21503992.0   \n",
       "7   13639793.0  17115574.0  5370379.0  13700749.0  ...  8773663.0  20520980.0   \n",
       "8   13731681.0  17288767.0  5315982.0  13606860.0  ...  8610760.0  21303244.0   \n",
       "\n",
       "구명        양천구        영등포구         용산구         은평구         종로구          중구  \\\n",
       "0   4924946.0  18810803.0  15933689.0  11854233.0  21541093.0  23295818.0   \n",
       "1   5015667.0  18423702.0  16646851.0  12187955.0  22451488.0  23662420.0   \n",
       "2   4574437.0  16710480.0  15438742.0  11182456.0  20209098.0  21739642.0   \n",
       "3   4820894.0  17765954.0  15740705.0  11642963.0  21010416.0  22462651.0   \n",
       "4   4549578.0  16959258.0  15579029.0  11106214.0  20351967.0  21724614.0   \n",
       "5   4422981.0  16296986.0  14817371.0  10772485.0  19380784.0  20750167.0   \n",
       "6   4941638.0  18438646.0  16857347.0  12098723.0  22963081.0  24074392.0   \n",
       "7   4878345.0  17583640.0  16108647.0  11717362.0  21635363.0  23126377.0   \n",
       "8   4925713.0  17839222.0  16550594.0  11741747.0  22371852.0  23629176.0   \n",
       "\n",
       "구명        중랑구  corona_people  \n",
       "0   6878545.0            979  \n",
       "1   7154064.0            703  \n",
       "2   6489893.0           1334  \n",
       "3   6647693.0           1506  \n",
       "4   6368936.0           5642  \n",
       "5   6249568.0           3865  \n",
       "6   6925126.0           2714  \n",
       "7   6716316.0           7768  \n",
       "8   6755192.0          26564  \n",
       "\n",
       "[9 rows x 27 columns]"
      ]
     },
     "execution_count": 57,
     "metadata": {},
     "output_type": "execute_result"
    }
   ],
   "source": [
    "seoul_corr_df['corona_people'] = people_month\n",
    "seoul_corr_df"
   ]
  },
  {
   "cell_type": "code",
   "execution_count": 58,
   "metadata": {},
   "outputs": [],
   "source": [
    "corr_list = seoul_corr_df.iloc[:,1:].corr(method = 'pearson').loc['corona_people']"
   ]
  },
  {
   "cell_type": "code",
   "execution_count": 59,
   "metadata": {},
   "outputs": [
    {
     "data": {
      "text/html": [
       "<div>\n",
       "<style scoped>\n",
       "    .dataframe tbody tr th:only-of-type {\n",
       "        vertical-align: middle;\n",
       "    }\n",
       "\n",
       "    .dataframe tbody tr th {\n",
       "        vertical-align: top;\n",
       "    }\n",
       "\n",
       "    .dataframe thead th {\n",
       "        text-align: right;\n",
       "    }\n",
       "</style>\n",
       "<table border=\"1\" class=\"dataframe\">\n",
       "  <thead>\n",
       "    <tr style=\"text-align: right;\">\n",
       "      <th></th>\n",
       "      <th>gu</th>\n",
       "      <th>corr</th>\n",
       "    </tr>\n",
       "    <tr>\n",
       "      <th>구명</th>\n",
       "      <th></th>\n",
       "      <th></th>\n",
       "    </tr>\n",
       "  </thead>\n",
       "  <tbody>\n",
       "    <tr>\n",
       "      <th>강남구</th>\n",
       "      <td>강남구</td>\n",
       "      <td>0.353835</td>\n",
       "    </tr>\n",
       "    <tr>\n",
       "      <th>강동구</th>\n",
       "      <td>강동구</td>\n",
       "      <td>0.357752</td>\n",
       "    </tr>\n",
       "    <tr>\n",
       "      <th>강북구</th>\n",
       "      <td>강북구</td>\n",
       "      <td>0.059296</td>\n",
       "    </tr>\n",
       "    <tr>\n",
       "      <th>강서구</th>\n",
       "      <td>강서구</td>\n",
       "      <td>0.059794</td>\n",
       "    </tr>\n",
       "    <tr>\n",
       "      <th>관악구</th>\n",
       "      <td>관악구</td>\n",
       "      <td>0.028056</td>\n",
       "    </tr>\n",
       "    <tr>\n",
       "      <th>광진구</th>\n",
       "      <td>광진구</td>\n",
       "      <td>-0.072988</td>\n",
       "    </tr>\n",
       "    <tr>\n",
       "      <th>구로구</th>\n",
       "      <td>구로구</td>\n",
       "      <td>0.009128</td>\n",
       "    </tr>\n",
       "    <tr>\n",
       "      <th>금천구</th>\n",
       "      <td>금천구</td>\n",
       "      <td>-0.055928</td>\n",
       "    </tr>\n",
       "    <tr>\n",
       "      <th>노원구</th>\n",
       "      <td>노원구</td>\n",
       "      <td>-0.053132</td>\n",
       "    </tr>\n",
       "    <tr>\n",
       "      <th>도봉구</th>\n",
       "      <td>도봉구</td>\n",
       "      <td>-0.119338</td>\n",
       "    </tr>\n",
       "    <tr>\n",
       "      <th>동대문구</th>\n",
       "      <td>동대문구</td>\n",
       "      <td>-0.059432</td>\n",
       "    </tr>\n",
       "    <tr>\n",
       "      <th>동작구</th>\n",
       "      <td>동작구</td>\n",
       "      <td>0.103573</td>\n",
       "    </tr>\n",
       "    <tr>\n",
       "      <th>마포구</th>\n",
       "      <td>마포구</td>\n",
       "      <td>0.192497</td>\n",
       "    </tr>\n",
       "    <tr>\n",
       "      <th>서대문구</th>\n",
       "      <td>서대문구</td>\n",
       "      <td>-0.086045</td>\n",
       "    </tr>\n",
       "    <tr>\n",
       "      <th>서초구</th>\n",
       "      <td>서초구</td>\n",
       "      <td>0.205538</td>\n",
       "    </tr>\n",
       "    <tr>\n",
       "      <th>성동구</th>\n",
       "      <td>성동구</td>\n",
       "      <td>0.023061</td>\n",
       "    </tr>\n",
       "    <tr>\n",
       "      <th>성북구</th>\n",
       "      <td>성북구</td>\n",
       "      <td>-0.014401</td>\n",
       "    </tr>\n",
       "    <tr>\n",
       "      <th>송파구</th>\n",
       "      <td>송파구</td>\n",
       "      <td>0.151628</td>\n",
       "    </tr>\n",
       "    <tr>\n",
       "      <th>양천구</th>\n",
       "      <td>양천구</td>\n",
       "      <td>0.165675</td>\n",
       "    </tr>\n",
       "    <tr>\n",
       "      <th>영등포구</th>\n",
       "      <td>영등포구</td>\n",
       "      <td>-0.031407</td>\n",
       "    </tr>\n",
       "    <tr>\n",
       "      <th>용산구</th>\n",
       "      <td>용산구</td>\n",
       "      <td>0.279378</td>\n",
       "    </tr>\n",
       "    <tr>\n",
       "      <th>은평구</th>\n",
       "      <td>은평구</td>\n",
       "      <td>0.024503</td>\n",
       "    </tr>\n",
       "    <tr>\n",
       "      <th>종로구</th>\n",
       "      <td>종로구</td>\n",
       "      <td>0.267230</td>\n",
       "    </tr>\n",
       "    <tr>\n",
       "      <th>중구</th>\n",
       "      <td>중구</td>\n",
       "      <td>0.237959</td>\n",
       "    </tr>\n",
       "    <tr>\n",
       "      <th>중랑구</th>\n",
       "      <td>중랑구</td>\n",
       "      <td>-0.033184</td>\n",
       "    </tr>\n",
       "    <tr>\n",
       "      <th>corona_people</th>\n",
       "      <td>corona_people</td>\n",
       "      <td>1.000000</td>\n",
       "    </tr>\n",
       "  </tbody>\n",
       "</table>\n",
       "</div>"
      ],
      "text/plain": [
       "                          gu      corr\n",
       "구명                                    \n",
       "강남구                      강남구  0.353835\n",
       "강동구                      강동구  0.357752\n",
       "강북구                      강북구  0.059296\n",
       "강서구                      강서구  0.059794\n",
       "관악구                      관악구  0.028056\n",
       "광진구                      광진구 -0.072988\n",
       "구로구                      구로구  0.009128\n",
       "금천구                      금천구 -0.055928\n",
       "노원구                      노원구 -0.053132\n",
       "도봉구                      도봉구 -0.119338\n",
       "동대문구                    동대문구 -0.059432\n",
       "동작구                      동작구  0.103573\n",
       "마포구                      마포구  0.192497\n",
       "서대문구                    서대문구 -0.086045\n",
       "서초구                      서초구  0.205538\n",
       "성동구                      성동구  0.023061\n",
       "성북구                      성북구 -0.014401\n",
       "송파구                      송파구  0.151628\n",
       "양천구                      양천구  0.165675\n",
       "영등포구                    영등포구 -0.031407\n",
       "용산구                      용산구  0.279378\n",
       "은평구                      은평구  0.024503\n",
       "종로구                      종로구  0.267230\n",
       "중구                        중구  0.237959\n",
       "중랑구                      중랑구 -0.033184\n",
       "corona_people  corona_people  1.000000"
      ]
     },
     "execution_count": 59,
     "metadata": {},
     "output_type": "execute_result"
    }
   ],
   "source": [
    "corr_df = pd.DataFrame({\"gu\": corr_list.keys(), \"corr\" : corr_list})\n",
    "corr_df"
   ]
  },
  {
   "cell_type": "markdown",
   "metadata": {},
   "source": [
    "# 모든 구별 월별 승차 하차 인원"
   ]
  },
  {
   "cell_type": "code",
   "execution_count": 60,
   "metadata": {},
   "outputs": [],
   "source": [
    "seoul_2019_df=csv_month_2019.pivot_table(index='날짜',columns='구명',values='ALIGHT_PASGR_NUM').reset_index()\n",
    "seoul_2020_df=csv_month_2020.pivot_table(index='날짜',columns='구명',values='ALIGHT_PASGR_NUM').reset_index()"
   ]
  },
  {
   "cell_type": "code",
   "execution_count": 61,
   "metadata": {},
   "outputs": [],
   "source": [
    "seoul_2019_ddf=csv_month_2019.pivot_table(index='날짜',columns='구명',values='RIDE_PASGR_NUM').reset_index()\n",
    "seoul_2020_ddf=csv_month_2020.pivot_table(index='날짜',columns='구명',values='RIDE_PASGR_NUM').reset_index()"
   ]
  },
  {
   "cell_type": "markdown",
   "metadata": {},
   "source": [
    "# 승하차인원"
   ]
  },
  {
   "cell_type": "code",
   "execution_count": 62,
   "metadata": {},
   "outputs": [],
   "source": [
    "seoul_2019_tdf=csv_month_2019.pivot_table(index='날짜',columns='구명',values='총승하차수').reset_index()\n",
    "seoul_2020_tdf=csv_month_2020.pivot_table(index='날짜',columns='구명',values='총승하차수').reset_index()"
   ]
  },
  {
   "cell_type": "markdown",
   "metadata": {},
   "source": [
    "# 승차"
   ]
  },
  {
   "cell_type": "code",
   "execution_count": 63,
   "metadata": {},
   "outputs": [
    {
     "data": {
      "image/png": "[encoded data removed]",
      "text/plain": [
       "<Figure size 432x288 with 25 Axes>"
      ]
     },
     "metadata": {
      "needs_background": "light"
     },
     "output_type": "display_data"
    }
   ],
   "source": [
    "for i in range(1,26):\n",
    "    plt.subplot(5,5,i)\n",
    "    plt.plot(plot_month, seoul_2020_df.iloc[:,i], color = 'blue')\n",
    "    plt.plot(plot_month, seoul_2019_df.iloc[:,i], color = 'red')"
   ]
  },
  {
   "cell_type": "markdown",
   "metadata": {},
   "source": [
    "# 하차"
   ]
  },
  {
   "cell_type": "code",
   "execution_count": 64,
   "metadata": {},
   "outputs": [
    {
     "data": {
      "image/png": "[encoded data removed]",
      "text/plain": [
       "<Figure size 432x288 with 25 Axes>"
      ]
     },
     "metadata": {
      "needs_background": "light"
     },
     "output_type": "display_data"
    }
   ],
   "source": [
    "for i in range(1,26):\n",
    "    plt.subplot(5,5,i)\n",
    "    plt.plot(plot_month, seoul_2020_ddf.iloc[:,i], color = 'blue')\n",
    "    plt.plot(plot_month, seoul_2019_ddf.iloc[:,i], color = 'red')"
   ]
  },
  {
   "cell_type": "markdown",
   "metadata": {},
   "source": [
    "##### 강남구 기준 T-test"
   ]
  },
  {
   "cell_type": "code",
   "execution_count": 65,
   "metadata": {},
   "outputs": [
    {
     "name": "stdout",
     "output_type": "stream",
     "text": [
      "LeveneResult( statistic = 2.025, pvalue = 0.169 )\n"
     ]
    }
   ],
   "source": [
    "from statsmodels.formula.api import ols\n",
    "from statsmodels.stats.anova import anova_lm\n",
    "levene = stats.levene(csv_month_2019[csv_month_2019['구명']=='강남구']['총승하차수'], \n",
    "                      csv_month_2020[csv_month_2020['구명']=='강남구']['총승하차수'])\n",
    "print(\"LeveneResult( statistic = %.3f, pvalue = %.3f )\" %levene)"
   ]
  },
  {
   "cell_type": "markdown",
   "metadata": {},
   "source": [
    "#### 분산 동일성 검정 실행시 p 값이 0.1보다 크므로 두 그룹의 분산은 동일하다"
   ]
  },
  {
   "cell_type": "code",
   "execution_count": 66,
   "metadata": {},
   "outputs": [
    {
     "name": "stdout",
     "output_type": "stream",
     "text": [
      "t-value = 7.116, p-value = 0.000\n"
     ]
    }
   ],
   "source": [
    "subway_ttest = stats.ttest_ind(csv_month_2019[csv_month_2019['구명']=='강남구']['총승하차수'], \n",
    "                      csv_month_2020[csv_month_2020['구명']=='강남구']['총승하차수'])\n",
    "print(\"t-value = %.3f, p-value = %.3f\" % subway_ttest)"
   ]
  },
  {
   "cell_type": "markdown",
   "metadata": {},
   "source": [
    "#### 유의한 차이가 있다. (두 그룹 간 차이가 없다는 귀무가설이 기각되었다.)"
   ]
  },
  {
   "cell_type": "markdown",
   "metadata": {},
   "source": [
    "#### 서울시 전체구에 대해 진행"
   ]
  },
  {
   "cell_type": "code",
   "execution_count": 67,
   "metadata": {},
   "outputs": [],
   "source": [
    "variance_p_list = []\n",
    "for i in range(25):\n",
    "    var = stats.levene(seoul_2019_tdf.iloc[:,i+1],seoul_2020_tdf.iloc[:,i+1])\n",
    "    variance_p_list.append(var[1])"
   ]
  },
  {
   "cell_type": "code",
   "execution_count": 68,
   "metadata": {},
   "outputs": [
    {
     "data": {
      "text/plain": [
       "(array([], dtype=int64),)"
      ]
     },
     "execution_count": 68,
     "metadata": {},
     "output_type": "execute_result"
    }
   ],
   "source": [
    "np.where(np.array(variance_p_list) < 0.1)\n",
    "\n",
    "## 모든 구에서 분산이 동일하다"
   ]
  },
  {
   "cell_type": "code",
   "execution_count": 70,
   "metadata": {},
   "outputs": [],
   "source": [
    "gu_ttest_list = []\n",
    "gu_ttest_p = []\n",
    "for i in range(25):\n",
    "    levene = stats.ttest_ind(seoul_2019_tdf.iloc[:,i+1],seoul_2020_tdf.iloc[:,i+1], equal_var = True)\n",
    "    gu_ttest_list.append(levene[0])\n",
    "    gu_ttest_p.append(levene[1])"
   ]
  },
  {
   "cell_type": "code",
   "execution_count": 71,
   "metadata": {},
   "outputs": [
    {
     "name": "stdout",
     "output_type": "stream",
     "text": [
      "[7.116234828369088, 6.314047134784637, 8.208457673995433, 7.745657496476573, 8.434878213089915, 9.400932004693324, 8.79007931477251, 6.282457446798109, 8.209599525859607, 8.20790455218541, 9.542237742965167, 8.611405822250193, 9.537671200718238, 8.452934124174707, 9.244511152386425, 7.525752708378123, 8.443821131742444, 8.420674365972092, 7.733981300021643, 7.844755767952469, 9.777400040858435, 7.781977682270691, 9.415121877846005, 9.975317320447395, 7.7146621626139655]\n",
      "[3.892580547077538e-07, 2.3566430974654844e-06, 3.841371024971976e-08, 1.0050516849713544e-07, 2.4246237374820262e-08, 3.6696463676038234e-09, 1.194124429393779e-08, 2.533991530735831e-06, 3.8324017394434135e-08, 3.845723599611983e-08, 2.8119256816407206e-09, 1.7016835642558558e-08, 2.8361125693892004e-09, 2.3379478552553397e-08, 4.94171231869569e-09, 1.6033481037474907e-07, 2.3812868209281205e-08, 2.495135873825977e-08, 1.0301198735695154e-07, 8.160184728778979e-08, 1.81535781408231e-09, 9.310166727433509e-08, 3.5724391923842754e-09, 1.2626584313019772e-09, 1.0730206782174068e-07]\n"
     ]
    }
   ],
   "source": [
    "print(gu_ttest_list)\n",
    "print(gu_ttest_p)"
   ]
  },
  {
   "cell_type": "markdown",
   "metadata": {},
   "source": [
    "# 시각화"
   ]
  },
  {
   "cell_type": "code",
   "execution_count": 75,
   "metadata": {},
   "outputs": [],
   "source": [
    "import json\n",
    "import folium"
   ]
  },
  {
   "cell_type": "code",
   "execution_count": 76,
   "metadata": {},
   "outputs": [
    {
     "data": {
      "text/html": [
       "<div>\n",
       "<style scoped>\n",
       "    .dataframe tbody tr th:only-of-type {\n",
       "        vertical-align: middle;\n",
       "    }\n",
       "\n",
       "    .dataframe tbody tr th {\n",
       "        vertical-align: top;\n",
       "    }\n",
       "\n",
       "    .dataframe thead th {\n",
       "        text-align: right;\n",
       "    }\n",
       "</style>\n",
       "<table border=\"1\" class=\"dataframe\">\n",
       "  <thead>\n",
       "    <tr style=\"text-align: right;\">\n",
       "      <th></th>\n",
       "      <th>gu</th>\n",
       "      <th>value</th>\n",
       "    </tr>\n",
       "  </thead>\n",
       "  <tbody>\n",
       "    <tr>\n",
       "      <th>0</th>\n",
       "      <td>강남구</td>\n",
       "      <td>7.116235</td>\n",
       "    </tr>\n",
       "    <tr>\n",
       "      <th>1</th>\n",
       "      <td>강동구</td>\n",
       "      <td>6.314047</td>\n",
       "    </tr>\n",
       "    <tr>\n",
       "      <th>2</th>\n",
       "      <td>강북구</td>\n",
       "      <td>8.208458</td>\n",
       "    </tr>\n",
       "    <tr>\n",
       "      <th>3</th>\n",
       "      <td>강서구</td>\n",
       "      <td>7.745657</td>\n",
       "    </tr>\n",
       "    <tr>\n",
       "      <th>4</th>\n",
       "      <td>관악구</td>\n",
       "      <td>8.434878</td>\n",
       "    </tr>\n",
       "    <tr>\n",
       "      <th>5</th>\n",
       "      <td>광진구</td>\n",
       "      <td>9.400932</td>\n",
       "    </tr>\n",
       "    <tr>\n",
       "      <th>6</th>\n",
       "      <td>구로구</td>\n",
       "      <td>8.790079</td>\n",
       "    </tr>\n",
       "    <tr>\n",
       "      <th>7</th>\n",
       "      <td>금천구</td>\n",
       "      <td>6.282457</td>\n",
       "    </tr>\n",
       "    <tr>\n",
       "      <th>8</th>\n",
       "      <td>노원구</td>\n",
       "      <td>8.209600</td>\n",
       "    </tr>\n",
       "    <tr>\n",
       "      <th>9</th>\n",
       "      <td>도봉구</td>\n",
       "      <td>8.207905</td>\n",
       "    </tr>\n",
       "    <tr>\n",
       "      <th>10</th>\n",
       "      <td>동대문구</td>\n",
       "      <td>9.542238</td>\n",
       "    </tr>\n",
       "    <tr>\n",
       "      <th>11</th>\n",
       "      <td>동작구</td>\n",
       "      <td>8.611406</td>\n",
       "    </tr>\n",
       "    <tr>\n",
       "      <th>12</th>\n",
       "      <td>마포구</td>\n",
       "      <td>9.537671</td>\n",
       "    </tr>\n",
       "    <tr>\n",
       "      <th>13</th>\n",
       "      <td>서대문구</td>\n",
       "      <td>8.452934</td>\n",
       "    </tr>\n",
       "    <tr>\n",
       "      <th>14</th>\n",
       "      <td>서초구</td>\n",
       "      <td>9.244511</td>\n",
       "    </tr>\n",
       "    <tr>\n",
       "      <th>15</th>\n",
       "      <td>성동구</td>\n",
       "      <td>7.525753</td>\n",
       "    </tr>\n",
       "    <tr>\n",
       "      <th>16</th>\n",
       "      <td>성북구</td>\n",
       "      <td>8.443821</td>\n",
       "    </tr>\n",
       "    <tr>\n",
       "      <th>17</th>\n",
       "      <td>송파구</td>\n",
       "      <td>8.420674</td>\n",
       "    </tr>\n",
       "    <tr>\n",
       "      <th>18</th>\n",
       "      <td>양천구</td>\n",
       "      <td>7.733981</td>\n",
       "    </tr>\n",
       "    <tr>\n",
       "      <th>19</th>\n",
       "      <td>영등포구</td>\n",
       "      <td>7.844756</td>\n",
       "    </tr>\n",
       "    <tr>\n",
       "      <th>20</th>\n",
       "      <td>용산구</td>\n",
       "      <td>9.777400</td>\n",
       "    </tr>\n",
       "    <tr>\n",
       "      <th>21</th>\n",
       "      <td>은평구</td>\n",
       "      <td>7.781978</td>\n",
       "    </tr>\n",
       "    <tr>\n",
       "      <th>22</th>\n",
       "      <td>종로구</td>\n",
       "      <td>9.415122</td>\n",
       "    </tr>\n",
       "    <tr>\n",
       "      <th>23</th>\n",
       "      <td>중구</td>\n",
       "      <td>9.975317</td>\n",
       "    </tr>\n",
       "    <tr>\n",
       "      <th>24</th>\n",
       "      <td>중랑구</td>\n",
       "      <td>7.714662</td>\n",
       "    </tr>\n",
       "  </tbody>\n",
       "</table>\n",
       "</div>"
      ],
      "text/plain": [
       "      gu     value\n",
       "0    강남구  7.116235\n",
       "1    강동구  6.314047\n",
       "2    강북구  8.208458\n",
       "3    강서구  7.745657\n",
       "4    관악구  8.434878\n",
       "5    광진구  9.400932\n",
       "6    구로구  8.790079\n",
       "7    금천구  6.282457\n",
       "8    노원구  8.209600\n",
       "9    도봉구  8.207905\n",
       "10  동대문구  9.542238\n",
       "11   동작구  8.611406\n",
       "12   마포구  9.537671\n",
       "13  서대문구  8.452934\n",
       "14   서초구  9.244511\n",
       "15   성동구  7.525753\n",
       "16   성북구  8.443821\n",
       "17   송파구  8.420674\n",
       "18   양천구  7.733981\n",
       "19  영등포구  7.844756\n",
       "20   용산구  9.777400\n",
       "21   은평구  7.781978\n",
       "22   종로구  9.415122\n",
       "23    중구  9.975317\n",
       "24   중랑구  7.714662"
      ]
     },
     "execution_count": 76,
     "metadata": {},
     "output_type": "execute_result"
    }
   ],
   "source": [
    "m = folium.Map(\n",
    "    location = [37.566345, 126.977893]) ## 서울시청의 위치\n",
    "geo_json = \"https://raw.githubusercontent.com/southkorea/seoul-maps/master/kostat/2013/json/seoul_municipalities_geo_simple.json\"\n",
    "data = pd.DataFrame({\"gu\":corr_list.keys()[:-1], \"value\":gu_ttest_list})\n",
    "data"
   ]
  },
  {
   "cell_type": "markdown",
   "metadata": {},
   "source": [
    "# t-test 시각화"
   ]
  },
  {
   "cell_type": "code",
   "execution_count": 77,
   "metadata": {},
   "outputs": [
    {
     "data": {
      "text/html": [
       "<div style=\"width:100%;\"><div style=\"position:relative;width:100%;height:0;padding-bottom:60%;\"><span style=\"color:#565656\">Make this Notebook Trusted to load map: File -> Trust Notebook</span><iframe src=\"about:blank\" style=\"position:absolute;width:100%;height:100%;left:0;top:0;border:none !important;\" data-html=%3C%21DOCTYPE%20html%3E%0A%3Chead%3E%20%20%20%20%0A%20%20%20%20%3Cmeta%20http-equiv%3D%22content-type%22%20content%3D%22text/html%3B%20charset%3DUTF-8%22%20/%3E%0A%20%20%20%20%0A%20%20%20%20%20%20%20%20%3Cscript%3E%0A%20%20%20%20%20%20%20%20%20%20%20%20L_NO_TOUCH%20%3D%20false%3B%0A%20%20%20%20%20%20%20%20%20%20%20%20L_DISABLE_3D%20%3D%20false%3B%0A%20%20%20%20%20%20%20%20%3C/script%3E%0A%20%20%20%20%0A%20%20%20%20%3Cstyle%3Ehtml%2C%20body%20%7Bwidth%3A%20100%25%3Bheight%3A%20100%25%3Bmargin%3A%200%3Bpadding%3A%200%3B%7D%3C/style%3E%0A%20%20%20%20%3Cstyle%3E%23map%20%7Bposition%3Aabsolute%3Btop%3A0%3Bbottom%3A0%3Bright%3A0%3Bleft%3A0%3B%7D%3C/style%3E%0A%20%20%20%20%3Cscript%20src%3D%22https%3A//cdn.jsdelivr.net/npm/leaflet%401.6.0/dist/leaflet.js%22%3E%3C/script%3E%0A%20%20%20%20%3Cscript%20src%3D%22https%3A//code.jquery.com/jquery-1.12.4.min.js%22%3E%3C/script%3E%0A%20%20%20%20%3Cscript%20src%3D%22https%3A//maxcdn.bootstrapcdn.com/bootstrap/3.2.0/js/bootstrap.min.js%22%3E%3C/script%3E%0A%20%20%20%20%3Cscript%20src%3D%22https%3A//cdnjs.cloudflare.com/ajax/libs/Leaflet.awesome-markers/2.0.2/leaflet.awesome-markers.js%22%3E%3C/script%3E%0A%20%20%20%20%3Clink%20rel%3D%22stylesheet%22%20href%3D%22https%3A//cdn.jsdelivr.net/npm/leaflet%401.6.0/dist/leaflet.css%22/%3E%0A%20%20%20%20%3Clink%20rel%3D%22stylesheet%22%20href%3D%22https%3A//maxcdn.bootstrapcdn.com/bootstrap/3.2.0/css/bootstrap.min.css%22/%3E%0A%20%20%20%20%3Clink%20rel%3D%22stylesheet%22%20href%3D%22https%3A//maxcdn.bootstrapcdn.com/bootstrap/3.2.0/css/bootstrap-theme.min.css%22/%3E%0A%20%20%20%20%3Clink%20rel%3D%22stylesheet%22%20href%3D%22https%3A//maxcdn.bootstrapcdn.com/font-awesome/4.6.3/css/font-awesome.min.css%22/%3E%0A%20%20%20%20%3Clink%20rel%3D%22stylesheet%22%20href%3D%22https%3A//cdnjs.cloudflare.com/ajax/libs/Leaflet.awesome-markers/2.0.2/leaflet.awesome-markers.css%22/%3E%0A%20%20%20%20%3Clink%20rel%3D%22stylesheet%22%20href%3D%22https%3A//cdn.jsdelivr.net/gh/python-visualization/folium/folium/templates/leaflet.awesome.rotate.min.css%22/%3E%0A%20%20%20%20%0A%20%20%20%20%20%20%20%20%20%20%20%20%3Cmeta%20name%3D%22viewport%22%20content%3D%22width%3Ddevice-width%2C%0A%20%20%20%20%20%20%20%20%20%20%20%20%20%20%20%20initial-scale%3D1.0%2C%20maximum-scale%3D1.0%2C%20user-scalable%3Dno%22%20/%3E%0A%20%20%20%20%20%20%20%20%20%20%20%20%3Cstyle%3E%0A%20%20%20%20%20%20%20%20%20%20%20%20%20%20%20%20%23map_a2612f8f4c9e428eaee7e4e4b0e1b9e8%20%7B%0A%20%20%20%20%20%20%20%20%20%20%20%20%20%20%20%20%20%20%20%20position%3A%20relative%3B%0A%20%20%20%20%20%20%20%20%20%20%20%20%20%20%20%20%20%20%20%20width%3A%20100.0%25%3B%0A%20%20%20%20%20%20%20%20%20%20%20%20%20%20%20%20%20%20%20%20height%3A%20100.0%25%3B%0A%20%20%20%20%20%20%20%20%20%20%20%20%20%20%20%20%20%20%20%20left%3A%200.0%25%3B%0A%20%20%20%20%20%20%20%20%20%20%20%20%20%20%20%20%20%20%20%20top%3A%200.0%25%3B%0A%20%20%20%20%20%20%20%20%20%20%20%20%20%20%20%20%7D%0A%20%20%20%20%20%20%20%20%20%20%20%20%3C/style%3E%0A%20%20%20%20%20%20%20%20%0A%20%20%20%20%3Cscript%20src%3D%22https%3A//cdnjs.cloudflare.com/ajax/libs/d3/3.5.5/d3.min.js%22%3E%3C/script%3E%0A%3C/head%3E%0A%3Cbody%3E%20%20%20%20%0A%20%20%20%20%0A%20%20%20%20%20%20%20%20%20%20%20%20%3Cdiv%20class%3D%22folium-map%22%20id%3D%22map_a2612f8f4c9e428eaee7e4e4b0e1b9e8%22%20%3E%3C/div%3E%0A%20%20%20%20%20%20%20%20%0A%3C/body%3E%0A%3Cscript%3E%20%20%20%20%0A%20%20%20%20%0A%20%20%20%20%20%20%20%20%20%20%20%20var%20map_a2612f8f4c9e428eaee7e4e4b0e1b9e8%20%3D%20L.map%28%0A%20%20%20%20%20%20%20%20%20%20%20%20%20%20%20%20%22map_a2612f8f4c9e428eaee7e4e4b0e1b9e8%22%2C%0A%20%20%20%20%20%20%20%20%20%20%20%20%20%20%20%20%7B%0A%20%20%20%20%20%20%20%20%20%20%20%20%20%20%20%20%20%20%20%20center%3A%20%5B37.566345%2C%20126.977893%5D%2C%0A%20%20%20%20%20%20%20%20%20%20%20%20%20%20%20%20%20%20%20%20crs%3A%20L.CRS.EPSG3857%2C%0A%20%20%20%20%20%20%20%20%20%20%20%20%20%20%20%20%20%20%20%20zoom%3A%2010%2C%0A%20%20%20%20%20%20%20%20%20%20%20%20%20%20%20%20%20%20%20%20zoomControl%3A%20true%2C%0A%20%20%20%20%20%20%20%20%20%20%20%20%20%20%20%20%20%20%20%20preferCanvas%3A%20false%2C%0A%20%20%20%20%20%20%20%20%20%20%20%20%20%20%20%20%7D%0A%20%20%20%20%20%20%20%20%20%20%20%20%29%3B%0A%0A%20%20%20%20%20%20%20%20%20%20%20%20%0A%0A%20%20%20%20%20%20%20%20%0A%20%20%20%20%0A%20%20%20%20%20%20%20%20%20%20%20%20var%20tile_layer_bb20f776310140379a64193df0bc7ef8%20%3D%20L.tileLayer%28%0A%20%20%20%20%20%20%20%20%20%20%20%20%20%20%20%20%22https%3A//stamen-tiles-%7Bs%7D.a.ssl.fastly.net/terrain/%7Bz%7D/%7Bx%7D/%7By%7D.jpg%22%2C%0A%20%20%20%20%20%20%20%20%20%20%20%20%20%20%20%20%7B%22attribution%22%3A%20%22Map%20tiles%20by%20%5Cu003ca%20href%3D%5C%22http%3A//stamen.com%5C%22%5Cu003eStamen%20Design%5Cu003c/a%5Cu003e%2C%20under%20%5Cu003ca%20href%3D%5C%22http%3A//creativecommons.org/licenses/by/3.0%5C%22%5Cu003eCC%20BY%203.0%5Cu003c/a%5Cu003e.%20Data%20by%20%5Cu0026copy%3B%20%5Cu003ca%20href%3D%5C%22http%3A//openstreetmap.org%5C%22%5Cu003eOpenStreetMap%5Cu003c/a%5Cu003e%2C%20under%20%5Cu003ca%20href%3D%5C%22http%3A//creativecommons.org/licenses/by-sa/3.0%5C%22%5Cu003eCC%20BY%20SA%5Cu003c/a%5Cu003e.%22%2C%20%22detectRetina%22%3A%20false%2C%20%22maxNativeZoom%22%3A%2018%2C%20%22maxZoom%22%3A%2018%2C%20%22minZoom%22%3A%200%2C%20%22noWrap%22%3A%20false%2C%20%22opacity%22%3A%201%2C%20%22subdomains%22%3A%20%22abc%22%2C%20%22tms%22%3A%20false%7D%0A%20%20%20%20%20%20%20%20%20%20%20%20%29.addTo%28map_a2612f8f4c9e428eaee7e4e4b0e1b9e8%29%3B%0A%20%20%20%20%20%20%20%20%0A%20%20%20%20%0A%20%20%20%20%20%20%20%20%20%20%20%20var%20choropleth_925935be01584795a283cb90cf1c1639%20%3D%20L.featureGroup%28%0A%20%20%20%20%20%20%20%20%20%20%20%20%20%20%20%20%7B%7D%0A%20%20%20%20%20%20%20%20%20%20%20%20%29.addTo%28map_a2612f8f4c9e428eaee7e4e4b0e1b9e8%29%3B%0A%20%20%20%20%20%20%20%20%0A%20%20%20%20%0A%20%20%20%20%20%20%20%20function%20geo_json_5d446036428f40efaa881ff4897a012a_styler%28feature%29%20%7B%0A%20%20%20%20%20%20%20%20%20%20%20%20switch%28feature.properties.code%29%20%7B%0A%20%20%20%20%20%20%20%20%20%20%20%20%20%20%20%20case%20%2211250%22%3A%20case%20%2211180%22%3A%20%0A%20%20%20%20%20%20%20%20%20%20%20%20%20%20%20%20%20%20%20%20return%20%7B%22color%22%3A%20%22black%22%2C%20%22fillColor%22%3A%20%22%23eff3ff%22%2C%20%22fillOpacity%22%3A%200.7%2C%20%22opacity%22%3A%200.2%2C%20%22weight%22%3A%201%7D%3B%0A%20%20%20%20%20%20%20%20%20%20%20%20%20%20%20%20case%20%2211230%22%3A%20%0A%20%20%20%20%20%20%20%20%20%20%20%20%20%20%20%20%20%20%20%20return%20%7B%22color%22%3A%20%22black%22%2C%20%22fillColor%22%3A%20%22%23c6dbef%22%2C%20%22fillOpacity%22%3A%200.7%2C%20%22opacity%22%3A%200.2%2C%20%22weight%22%3A%201%7D%3B%0A%20%20%20%20%20%20%20%20%20%20%20%20%20%20%20%20case%20%2211220%22%3A%20case%20%2211170%22%3A%20%0A%20%20%20%20%20%20%20%20%20%20%20%20%20%20%20%20%20%20%20%20return%20%7B%22color%22%3A%20%22black%22%2C%20%22fillColor%22%3A%20%22%233182bd%22%2C%20%22fillOpacity%22%3A%200.7%2C%20%22opacity%22%3A%200.2%2C%20%22weight%22%3A%201%7D%3B%0A%20%20%20%20%20%20%20%20%20%20%20%20%20%20%20%20case%20%2211190%22%3A%20case%20%2211160%22%3A%20case%20%2211150%22%3A%20case%20%2211120%22%3A%20case%20%2211070%22%3A%20case%20%2211040%22%3A%20%0A%20%20%20%20%20%20%20%20%20%20%20%20%20%20%20%20%20%20%20%20return%20%7B%22color%22%3A%20%22black%22%2C%20%22fillColor%22%3A%20%22%239ecae1%22%2C%20%22fillOpacity%22%3A%200.7%2C%20%22opacity%22%3A%200.2%2C%20%22weight%22%3A%201%7D%3B%0A%20%20%20%20%20%20%20%20%20%20%20%20%20%20%20%20case%20%2211140%22%3A%20case%20%2211060%22%3A%20case%20%2211050%22%3A%20case%20%2211030%22%3A%20case%20%2211020%22%3A%20case%20%2211010%22%3A%20%0A%20%20%20%20%20%20%20%20%20%20%20%20%20%20%20%20%20%20%20%20return%20%7B%22color%22%3A%20%22black%22%2C%20%22fillColor%22%3A%20%22%2308519c%22%2C%20%22fillOpacity%22%3A%200.7%2C%20%22opacity%22%3A%200.2%2C%20%22weight%22%3A%201%7D%3B%0A%20%20%20%20%20%20%20%20%20%20%20%20%20%20%20%20default%3A%0A%20%20%20%20%20%20%20%20%20%20%20%20%20%20%20%20%20%20%20%20return%20%7B%22color%22%3A%20%22black%22%2C%20%22fillColor%22%3A%20%22%236baed6%22%2C%20%22fillOpacity%22%3A%200.7%2C%20%22opacity%22%3A%200.2%2C%20%22weight%22%3A%201%7D%3B%0A%20%20%20%20%20%20%20%20%20%20%20%20%7D%0A%20%20%20%20%20%20%20%20%7D%0A%0A%20%20%20%20%20%20%20%20function%20geo_json_5d446036428f40efaa881ff4897a012a_onEachFeature%28feature%2C%20layer%29%20%7B%0A%20%20%20%20%20%20%20%20%20%20%20%20layer.on%28%7B%0A%20%20%20%20%20%20%20%20%20%20%20%20%7D%29%3B%0A%20%20%20%20%20%20%20%20%7D%3B%0A%20%20%20%20%20%20%20%20var%20geo_json_5d446036428f40efaa881ff4897a012a%20%3D%20L.geoJson%28null%2C%20%7B%0A%20%20%20%20%20%20%20%20%20%20%20%20%20%20%20%20onEachFeature%3A%20geo_json_5d446036428f40efaa881ff4897a012a_onEachFeature%2C%0A%20%20%20%20%20%20%20%20%20%20%20%20%0A%20%20%20%20%20%20%20%20%20%20%20%20%20%20%20%20style%3A%20geo_json_5d446036428f40efaa881ff4897a012a_styler%2C%0A%20%20%20%20%20%20%20%20%7D%29%3B%0A%0A%20%20%20%20%20%20%20%20function%20geo_json_5d446036428f40efaa881ff4897a012a_add%20%28data%29%20%7B%0A%20%20%20%20%20%20%20%20%20%20%20%20geo_json_5d446036428f40efaa881ff4897a012a%0A%20%20%20%20%20%20%20%20%20%20%20%20%20%20%20%20.addData%28data%29%0A%20%20%20%20%20%20%20%20%20%20%20%20%20%20%20%20.addTo%28choropleth_925935be01584795a283cb90cf1c1639%29%3B%0A%20%20%20%20%20%20%20%20%7D%0A%20%20%20%20%20%20%20%20%20%20%20%20geo_json_5d446036428f40efaa881ff4897a012a_add%28%7B%22features%22%3A%20%5B%7B%22geometry%22%3A%20%7B%22coordinates%22%3A%20%5B%5B%5B127.11519584981606%2C%2037.557533180704915%5D%2C%20%5B127.11879551821994%2C%2037.557222485451305%5D%2C%20%5B127.12146867175024%2C%2037.55986003393365%5D%2C%20%5B127.12435254630417%2C%2037.56144246249796%5D%2C%20%5B127.13593925898998%2C%2037.56564793048277%5D%2C%20%5B127.14930548011061%2C%2037.56892250303897%5D%2C%20%5B127.15511020940411%2C%2037.57093642128295%5D%2C%20%5B127.16683184366129%2C%2037.57672487388627%5D%2C%20%5B127.17038810813094%2C%2037.576465605301046%5D%2C%20%5B127.17607118428914%2C%2037.57678573961056%5D%2C%20%5B127.17905504160184%2C%2037.57791388161732%5D%2C%20%5B127.17747787800164%2C%2037.57448983055031%5D%2C%20%5B127.1781775408844%2C%2037.571481967974336%5D%2C%20%5B127.17995281860672%2C%2037.569309661290504%5D%2C%20%5B127.18122821955262%2C%2037.56636089217979%5D%2C%20%5B127.18169407550688%2C%2037.56286338914073%5D%2C%20%5B127.18408792330152%2C%2037.55814280369575%5D%2C%20%5B127.18350810324185%2C%2037.550053002101485%5D%2C%20%5B127.1852644795464%2C%2037.54888592026534%5D%2C%20%5B127.18480906237207%2C%2037.545296888806796%5D%2C%20%5B127.18543378919821%2C%2037.54260756512178%5D%2C%20%5B127.18364810569703%2C%2037.54241347907019%5D%2C%20%5B127.18116465939269%2C%2037.54384126582126%5D%2C%20%5B127.17770860504257%2C%2037.542414255164374%5D%2C%20%5B127.1744373170213%2C%2037.54277723796397%5D%2C%20%5B127.16830424484573%2C%2037.54145405702079%5D%2C%20%5B127.16530984307447%2C%2037.54221851258693%5D%2C%20%5B127.15566835118616%2C%2037.53119520531309%5D%2C%20%5B127.15538075046105%2C%2037.52652930087977%5D%2C%20%5B127.15154315998161%2C%2037.522828709496416%5D%2C%20%5B127.14981542759394%2C%2037.51926843453025%5D%2C%20%5B127.14791518058246%2C%2037.51918714979303%5D%2C%20%5B127.14684644251928%2C%2037.51661384818575%5D%2C%20%5B127.14672806823502%2C%2037.51415680680291%5D%2C%20%5B127.14532023498624%2C%2037.51464060108829%5D%2C%20%5B127.12123165719615%2C%2037.52528270089%5D%2C%20%5B127.12251496040881%2C%2037.52751810228347%5D%2C%20%5B127.12532464331997%2C%2037.53572787912298%5D%2C%20%5B127.12061313033807%2C%2037.538129867839416%5D%2C%20%5B127.1116764203608%2C%2037.540669955324965%5D%2C%20%5B127.11418412219375%2C%2037.54474592090681%5D%2C%20%5B127.11600200349189%2C%2037.55053147511706%5D%2C%20%5B127.11600943681239%2C%2037.55580061507081%5D%2C%20%5B127.11519584981606%2C%2037.557533180704915%5D%5D%5D%2C%20%22type%22%3A%20%22Polygon%22%7D%2C%20%22properties%22%3A%20%7B%22base_year%22%3A%20%222013%22%2C%20%22code%22%3A%20%2211250%22%2C%20%22name%22%3A%20%22%5Cuac15%5Cub3d9%5Cuad6c%22%2C%20%22name_eng%22%3A%20%22Gangdong-gu%22%7D%2C%20%22type%22%3A%20%22Feature%22%7D%2C%20%7B%22geometry%22%3A%20%7B%22coordinates%22%3A%20%5B%5B%5B127.0690698130372%2C%2037.522279423505026%5D%2C%20%5B127.07496309841329%2C%2037.52091052765938%5D%2C%20%5B127.07968915919895%2C%2037.52077294752823%5D%2C%20%5B127.08639455667742%2C%2037.52161824624356%5D%2C%20%5B127.0943611414465%2C%2037.523984206117525%5D%2C%20%5B127.10087519791962%2C%2037.524841220167055%5D%2C%20%5B127.10484130265957%2C%2037.53120327509912%5D%2C%20%5B127.1116764203608%2C%2037.540669955324965%5D%2C%20%5B127.12061313033807%2C%2037.538129867839416%5D%2C%20%5B127.12532464331997%2C%2037.53572787912298%5D%2C%20%5B127.12251496040881%2C%2037.52751810228347%5D%2C%20%5B127.12123165719615%2C%2037.52528270089%5D%2C%20%5B127.14532023498624%2C%2037.51464060108829%5D%2C%20%5B127.14672806823502%2C%2037.51415680680291%5D%2C%20%5B127.14670263739373%2C%2037.512786602955565%5D%2C%20%5B127.14462782318448%2C%2037.511529542030715%5D%2C%20%5B127.14323992504048%2C%2037.50951977457089%5D%2C%20%5B127.1420864475393%2C%2037.50578973782813%5D%2C%20%5B127.14324986168657%2C%2037.502649431479774%5D%2C%20%5B127.1473517108062%2C%2037.50069754405746%5D%2C%20%5B127.14980119646964%2C%2037.50046502392898%5D%2C%20%5B127.15223804785649%2C%2037.50170492532197%5D%2C%20%5B127.15401160147654%2C%2037.500347919909956%5D%2C%20%5B127.16086308579277%2C%2037.49886565522751%5D%2C%20%5B127.1634944215765%2C%2037.497445406097484%5D%2C%20%5B127.16199885180917%2C%2037.49402577547199%5D%2C%20%5B127.16216448592424%2C%2037.491639601211624%5D%2C%20%5B127.16040295326431%2C%2037.4877818619403%5D%2C%20%5B127.15892216655034%2C%2037.486126922469445%5D%2C%20%5B127.15393282790794%2C%2037.48483891408459%5D%2C%20%5B127.15147990997852%2C%2037.47745324805034%5D%2C%20%5B127.1515017465549%2C%2037.475633269417585%5D%2C%20%5B127.14857580353349%2C%2037.47381386382568%5D%2C%20%5B127.14415938171436%2C%2037.473692508393505%5D%2C%20%5B127.14112111404233%2C%2037.470600239054825%5D%2C%20%5B127.13631568648837%2C%2037.47214721764681%5D%2C%20%5B127.13281577200672%2C%2037.47257463763244%5D%2C%20%5B127.13307493070646%2C%2037.468907694139894%5D%2C%20%5B127.13750907701846%2C%2037.46647058226059%5D%2C%20%5B127.13478085797742%2C%2037.46509524639883%5D%2C%20%5B127.1308437061496%2C%2037.46509985661207%5D%2C%20%5B127.12728991002369%2C%2037.46673043118672%5D%2C%20%5B127.12729757787379%2C%2037.46421548908766%5D%2C%20%5B127.12440571080893%2C%2037.46240445587048%5D%2C%20%5B127.12441393026374%2C%2037.46442715236855%5D%2C%20%5B127.12265007208167%2C%2037.46756987490939%5D%2C%20%5B127.11380709617507%2C%2037.479633334849325%5D%2C%20%5B127.1143875173445%2C%2037.48073157362458%5D%2C%20%5B127.11117085201238%2C%2037.485708381512445%5D%2C%20%5B127.1077937689776%2C%2037.48860875954992%5D%2C%20%5B127.10433125798602%2C%2037.490728250649646%5D%2C%20%5B127.0988509639092%2C%2037.49302529254068%5D%2C%20%5B127.08050206733888%2C%2037.49783151325589%5D%2C%20%5B127.0764808967127%2C%2037.498612695580306%5D%2C%20%5B127.0719146000724%2C%2037.50224013587669%5D%2C%20%5B127.06926628842805%2C%2037.51717796437217%5D%2C%20%5B127.06860425556381%2C%2037.51812758676938%5D%2C%20%5B127.0690698130372%2C%2037.522279423505026%5D%5D%5D%2C%20%22type%22%3A%20%22Polygon%22%7D%2C%20%22properties%22%3A%20%7B%22base_year%22%3A%20%222013%22%2C%20%22code%22%3A%20%2211240%22%2C%20%22name%22%3A%20%22%5Cuc1a1%5Cud30c%5Cuad6c%22%2C%20%22name_eng%22%3A%20%22Songpa-gu%22%7D%2C%20%22type%22%3A%20%22Feature%22%7D%2C%20%7B%22geometry%22%3A%20%7B%22coordinates%22%3A%20%5B%5B%5B127.05867359288398%2C%2037.52629974922568%5D%2C%20%5B127.0690698130372%2C%2037.522279423505026%5D%2C%20%5B127.06860425556381%2C%2037.51812758676938%5D%2C%20%5B127.06926628842805%2C%2037.51717796437217%5D%2C%20%5B127.0719146000724%2C%2037.50224013587669%5D%2C%20%5B127.0764808967127%2C%2037.498612695580306%5D%2C%20%5B127.08050206733888%2C%2037.49783151325589%5D%2C%20%5B127.0988509639092%2C%2037.49302529254068%5D%2C%20%5B127.10433125798602%2C%2037.490728250649646%5D%2C%20%5B127.1077937689776%2C%2037.48860875954992%5D%2C%20%5B127.11117085201238%2C%2037.485708381512445%5D%2C%20%5B127.1143875173445%2C%2037.48073157362458%5D%2C%20%5B127.11380709617507%2C%2037.479633334849325%5D%2C%20%5B127.12265007208167%2C%2037.46756987490939%5D%2C%20%5B127.12441393026374%2C%2037.46442715236855%5D%2C%20%5B127.12440571080893%2C%2037.46240445587048%5D%2C%20%5B127.11957248720776%2C%2037.45936217377656%5D%2C%20%5B127.11885903757606%2C%2037.45578434878651%5D%2C%20%5B127.11535741803938%2C%2037.45722556454321%5D%2C%20%5B127.11413179478714%2C%2037.45875072431525%5D%2C%20%5B127.10841788934951%2C%2037.45972888008147%5D%2C%20%5B127.10561257180657%2C%2037.456815702518746%5D%2C%20%5B127.10032466845217%2C%2037.45598440195682%5D%2C%20%5B127.09842759318751%2C%2037.45862253857461%5D%2C%20%5B127.09712653145507%2C%2037.460848194480654%5D%2C%20%5B127.09039613625872%2C%2037.465520545397716%5D%2C%20%5B127.0866005634691%2C%2037.47006403057779%5D%2C%20%5B127.08640440578156%2C%2037.472697935184655%5D%2C%20%5B127.0802737559454%2C%2037.471973057552624%5D%2C%20%5B127.07602132306535%2C%2037.47005021331707%5D%2C%20%5B127.07476117209941%2C%2037.47199174520626%5D%2C%20%5B127.07231320371885%2C%2037.47234914588019%5D%2C%20%5B127.07135137525977%2C%2037.47107802023145%5D%2C%20%5B127.06463901956462%2C%2037.47003474490574%5D%2C%20%5B127.06371868919344%2C%2037.4661503234869%5D%2C%20%5B127.0588551029968%2C%2037.465611780743174%5D%2C%20%5B127.0559170481904%2C%2037.4659228914077%5D%2C%20%5B127.04713549385288%2C%2037.474479419244865%5D%2C%20%5B127.04345123620755%2C%2037.48276415595109%5D%2C%20%5B127.03621915098798%2C%2037.48175802427603%5D%2C%20%5B127.03372275812187%2C%2037.48674434662411%5D%2C%20%5B127.02265609299096%2C%2037.509970106251416%5D%2C%20%5B127.02038705349842%2C%2037.51771683027875%5D%2C%20%5B127.01917707838057%2C%2037.520085205855196%5D%2C%20%5B127.01397119667513%2C%2037.52503988289669%5D%2C%20%5B127.02302831890559%2C%2037.53231899582663%5D%2C%20%5B127.0269608080842%2C%2037.53484752757724%5D%2C%20%5B127.0319617044248%2C%2037.536064291470424%5D%2C%20%5B127.04806779588436%2C%2037.52970198575087%5D%2C%20%5B127.04903802830752%2C%2037.53140496708317%5D%2C%20%5B127.05116490008963%2C%2037.52975116557232%5D%2C%20%5B127.05867359288398%2C%2037.52629974922568%5D%5D%5D%2C%20%22type%22%3A%20%22Polygon%22%7D%2C%20%22properties%22%3A%20%7B%22base_year%22%3A%20%222013%22%2C%20%22code%22%3A%20%2211230%22%2C%20%22name%22%3A%20%22%5Cuac15%5Cub0a8%5Cuad6c%22%2C%20%22name_eng%22%3A%20%22Gangnam-gu%22%7D%2C%20%22type%22%3A%20%22Feature%22%7D%2C%20%7B%22geometry%22%3A%20%7B%22coordinates%22%3A%20%5B%5B%5B127.01397119667513%2C%2037.52503988289669%5D%2C%20%5B127.01917707838057%2C%2037.520085205855196%5D%2C%20%5B127.02038705349842%2C%2037.51771683027875%5D%2C%20%5B127.02265609299096%2C%2037.509970106251416%5D%2C%20%5B127.03372275812187%2C%2037.48674434662411%5D%2C%20%5B127.03621915098798%2C%2037.48175802427603%5D%2C%20%5B127.04345123620755%2C%2037.48276415595109%5D%2C%20%5B127.04713549385288%2C%2037.474479419244865%5D%2C%20%5B127.0559170481904%2C%2037.4659228914077%5D%2C%20%5B127.0588551029968%2C%2037.465611780743174%5D%2C%20%5B127.06371868919344%2C%2037.4661503234869%5D%2C%20%5B127.06463901956462%2C%2037.47003474490574%5D%2C%20%5B127.07135137525977%2C%2037.47107802023145%5D%2C%20%5B127.07231320371885%2C%2037.47234914588019%5D%2C%20%5B127.07476117209941%2C%2037.47199174520626%5D%2C%20%5B127.07602132306535%2C%2037.47005021331707%5D%2C%20%5B127.0802737559454%2C%2037.471973057552624%5D%2C%20%5B127.08640440578156%2C%2037.472697935184655%5D%2C%20%5B127.0866005634691%2C%2037.47006403057779%5D%2C%20%5B127.09039613625872%2C%2037.465520545397716%5D%2C%20%5B127.09712653145507%2C%2037.460848194480654%5D%2C%20%5B127.09842759318751%2C%2037.45862253857461%5D%2C%20%5B127.09673714758375%2C%2037.45597209899094%5D%2C%20%5B127.09722129576434%2C%2037.45374822681991%5D%2C%20%5B127.09575982122928%2C%2037.45332980525459%5D%2C%20%5B127.09472136159357%2C%2037.450897902539175%5D%2C%20%5B127.09293250684935%2C%2037.450020696864506%5D%2C%20%5B127.09047890749349%2C%2037.44637473407341%5D%2C%20%5B127.09046928565951%2C%2037.44296826114185%5D%2C%20%5B127.0862358725955%2C%2037.44118543250345%5D%2C%20%5B127.08441983692467%2C%2037.4383879031398%5D%2C%20%5B127.07686576585408%2C%2037.43960712011444%5D%2C%20%5B127.07375875606847%2C%2037.43898415920535%5D%2C%20%5B127.07407631675713%2C%2037.43719357187124%5D%2C%20%5B127.07666569012467%2C%2037.43600054505559%5D%2C%20%5B127.07603719210388%2C%2037.43429107517633%5D%2C%20%5B127.07361291761038%2C%2037.43318474533595%5D%2C%20%5B127.07271473569163%2C%2037.42939553659177%5D%2C%20%5B127.0733788318578%2C%2037.42814484786288%5D%2C%20%5B127.06885354151605%2C%2037.42731815367302%5D%2C%20%5B127.06778107605433%2C%2037.426197424057314%5D%2C%20%5B127.06317558623768%2C%2037.4272916178182%5D%2C%20%5B127.05998777565219%2C%2037.4273224867045%5D%2C%20%5B127.05424556064274%2C%2037.42574929824175%5D%2C%20%5B127.05197080928994%2C%2037.42749842502397%5D%2C%20%5B127.04960937636815%2C%2037.42801020057224%5D%2C%20%5B127.04849622718511%2C%2037.430672016902065%5D%2C%20%5B127.04191594772718%2C%2037.43568906449929%5D%2C%20%5B127.0379686253535%2C%2037.43634417139204%5D%2C%20%5B127.03751805596916%2C%2037.438362795245276%5D%2C%20%5B127.04031700689708%2C%2037.44191429311459%5D%2C%20%5B127.03959875976469%2C%2037.443582700519194%5D%2C%20%5B127.0398984887873%2C%2037.44656106007936%5D%2C%20%5B127.03825522385397%2C%2037.448766467898395%5D%2C%20%5B127.03916301678915%2C%2037.45180237055558%5D%2C%20%5B127.03881782597922%2C%2037.45382039851715%5D%2C%20%5B127.03695436044305%2C%2037.45537592726508%5D%2C%20%5B127.03573307034355%2C%2037.4586703897792%5D%2C%20%5B127.03683946894893%2C%2037.46103886642786%5D%2C%20%5B127.03337331972266%2C%2037.462966775127626%5D%2C%20%5B127.02820831539744%2C%2037.455700834295826%5D%2C%20%5B127.02263694708293%2C%2037.45335816711404%5D%2C%20%5B127.01827371395349%2C%2037.4525593623189%5D%2C%20%5B127.01316256500736%2C%2037.45257906566242%5D%2C%20%5B127.01110931353561%2C%2037.45456166745922%5D%2C%20%5B127.00836380369604%2C%2037.45936868039916%5D%2C%20%5B127.00738548779366%2C%2037.459815333664274%5D%2C%20%5B127.00552362663117%2C%2037.46445102893571%5D%2C%20%5B127.00008523087483%2C%2037.46455774995882%5D%2C%20%5B126.99837609897334%2C%2037.46390918086617%5D%2C%20%5B126.99932142462428%2C%2037.46113351815481%5D%2C%20%5B126.99893310307874%2C%2037.459376062410314%5D%2C%20%5B126.9953054179472%2C%2037.45860121328987%5D%2C%20%5B126.99072073195462%2C%2037.455326143310025%5D%2C%20%5B126.98956736277059%2C%2037.457600756400446%5D%2C%20%5B126.99026416700147%2C%2037.46271603227842%5D%2C%20%5B126.98896316546526%2C%2037.465041871263544%5D%2C%20%5B126.98662755598336%2C%2037.466937278295305%5D%2C%20%5B126.9846374349825%2C%2037.46996301876212%5D%2C%20%5B126.98367668291802%2C%2037.473856492692086%5D%2C%20%5B126.98500224966135%2C%2037.49356837311327%5D%2C%20%5B126.9871787157338%2C%2037.49719505997539%5D%2C%20%5B126.9832495184969%2C%2037.49948552591205%5D%2C%20%5B126.98241580381733%2C%2037.50120029501884%5D%2C%20%5B126.98223807916081%2C%2037.509314966770326%5D%2C%20%5B126.98458580602838%2C%2037.51070333105394%5D%2C%20%5B126.98948242685965%2C%2037.5108780134613%5D%2C%20%5B126.99148001917875%2C%2037.50990503427709%5D%2C%20%5B127.00011962020382%2C%2037.513901653034374%5D%2C%20%5B127.00583392114271%2C%2037.516905128452926%5D%2C%20%5B127.00818058911564%2C%2037.51877313923874%5D%2C%20%5B127.01022186960886%2C%2037.522020085671926%5D%2C%20%5B127.01397119667513%2C%2037.52503988289669%5D%5D%5D%2C%20%22type%22%3A%20%22Polygon%22%7D%2C%20%22properties%22%3A%20%7B%22base_year%22%3A%20%222013%22%2C%20%22code%22%3A%20%2211220%22%2C%20%22name%22%3A%20%22%5Cuc11c%5Cucd08%5Cuad6c%22%2C%20%22name_eng%22%3A%20%22Seocho-gu%22%7D%2C%20%22type%22%3A%20%22Feature%22%7D%2C%20%7B%22geometry%22%3A%20%7B%22coordinates%22%3A%20%5B%5B%5B126.98367668291802%2C%2037.473856492692086%5D%2C%20%5B126.9846374349825%2C%2037.46996301876212%5D%2C%20%5B126.98662755598336%2C%2037.466937278295305%5D%2C%20%5B126.98896316546526%2C%2037.465041871263544%5D%2C%20%5B126.99026416700147%2C%2037.46271603227842%5D%2C%20%5B126.98956736277059%2C%2037.457600756400446%5D%2C%20%5B126.99072073195462%2C%2037.455326143310025%5D%2C%20%5B126.98484249930785%2C%2037.45391909788938%5D%2C%20%5B126.9829408096241%2C%2037.450206782833206%5D%2C%20%5B126.97835022660695%2C%2037.447659155806164%5D%2C%20%5B126.97608193440507%2C%2037.44478918862847%5D%2C%20%5B126.9731300196836%2C%2037.444722870088114%5D%2C%20%5B126.96650852936277%2C%2037.44276983031553%5D%2C%20%5B126.96618702895445%2C%2037.439376482995094%5D%2C%20%5B126.96520439085143%2C%2037.438249784006246%5D%2C%20%5B126.9614877541633%2C%2037.437956805629675%5D%2C%20%5B126.96054904645496%2C%2037.43673997185797%5D%2C%20%5B126.95527369898224%2C%2037.43673711968809%5D%2C%20%5B126.9473688393239%2C%2037.4347689647565%5D%2C%20%5B126.94440352544498%2C%2037.43476162120059%5D%2C%20%5B126.9415292183489%2C%2037.43315139671158%5D%2C%20%5B126.94037501670272%2C%2037.43462213966344%5D%2C%20%5B126.9405640311191%2C%2037.437501011208845%5D%2C%20%5B126.9376981355065%2C%2037.44041709605302%5D%2C%20%5B126.93312955918624%2C%2037.44290014710262%5D%2C%20%5B126.93309127096236%2C%2037.44533734785938%5D%2C%20%5B126.93084408056525%2C%2037.447382928333994%5D%2C%20%5B126.92527839995981%2C%2037.45161884570837%5D%2C%20%5B126.9245243450059%2C%2037.45392293573877%5D%2C%20%5B126.91887928082078%2C%2037.45495082787016%5D%2C%20%5B126.9167728146601%2C%2037.45490566423789%5D%2C%20%5B126.91641538472182%2C%2037.45870245071989%5D%2C%20%5B126.91495285904284%2C%2037.461166184511065%5D%2C%20%5B126.91584245173756%2C%2037.462474576247985%5D%2C%20%5B126.91374656127704%2C%2037.46375990852858%5D%2C%20%5B126.91032166997253%2C%2037.469818629944285%5D%2C%20%5B126.91280966667205%2C%2037.47083063715413%5D%2C%20%5B126.91405961426707%2C%2037.47416764846582%5D%2C%20%5B126.9115784808617%2C%2037.4753960485947%5D%2C%20%5B126.91181700249076%2C%2037.47814319736339%5D%2C%20%5B126.90276666415615%2C%2037.47652007992712%5D%2C%20%5B126.90156094129895%2C%2037.47753842789901%5D%2C%20%5B126.90531975801812%2C%2037.48218087575429%5D%2C%20%5B126.90805655355825%2C%2037.48218338568103%5D%2C%20%5B126.91533979779165%2C%2037.484392208242134%5D%2C%20%5B126.91916807529428%2C%2037.48660606817164%5D%2C%20%5B126.92639563063156%2C%2037.48715979752876%5D%2C%20%5B126.92869559665061%2C%2037.49132126714011%5D%2C%20%5B126.92981699800066%2C%2037.49218420958284%5D%2C%20%5B126.93346386636452%2C%2037.49043826776755%5D%2C%20%5B126.93669800083833%2C%2037.49026778789087%5D%2C%20%5B126.93844070234584%2C%2037.4893532861132%5D%2C%20%5B126.94373156012337%2C%2037.48938843727846%5D%2C%20%5B126.94922661389508%2C%2037.49125437495649%5D%2C%20%5B126.95396955055433%2C%2037.48955250290043%5D%2C%20%5B126.9559655046206%2C%2037.48820165625994%5D%2C%20%5B126.95881175306481%2C%2037.48874989165474%5D%2C%20%5B126.96329694970828%2C%2037.4905835370787%5D%2C%20%5B126.96291787066104%2C%2037.48803272157808%5D%2C%20%5B126.96443983219191%2C%2037.48442261322104%5D%2C%20%5B126.9634428120456%2C%2037.48067931902171%5D%2C%20%5B126.9725891850662%2C%2037.472561363278125%5D%2C%20%5B126.97901795539295%2C%2037.47376525108475%5D%2C%20%5B126.98367668291802%2C%2037.473856492692086%5D%5D%5D%2C%20%22type%22%3A%20%22Polygon%22%7D%2C%20%22properties%22%3A%20%7B%22base_year%22%3A%20%222013%22%2C%20%22code%22%3A%20%2211210%22%2C%20%22name%22%3A%20%22%5Cuad00%5Cuc545%5Cuad6c%22%2C%20%22name_eng%22%3A%20%22Gwanak-gu%22%7D%2C%20%22type%22%3A%20%22Feature%22%7D%2C%20%7B%22geometry%22%3A%20%7B%22coordinates%22%3A%20%5B%5B%5B126.98223807916081%2C%2037.509314966770326%5D%2C%20%5B126.98241580381733%2C%2037.50120029501884%5D%2C%20%5B126.9832495184969%2C%2037.49948552591205%5D%2C%20%5B126.9871787157338%2C%2037.49719505997539%5D%2C%20%5B126.98500224966135%2C%2037.49356837311327%5D%2C%20%5B126.98367668291802%2C%2037.473856492692086%5D%2C%20%5B126.97901795539295%2C%2037.47376525108475%5D%2C%20%5B126.9725891850662%2C%2037.472561363278125%5D%2C%20%5B126.9634428120456%2C%2037.48067931902171%5D%2C%20%5B126.96443983219191%2C%2037.48442261322104%5D%2C%20%5B126.96291787066104%2C%2037.48803272157808%5D%2C%20%5B126.96329694970828%2C%2037.4905835370787%5D%2C%20%5B126.95881175306481%2C%2037.48874989165474%5D%2C%20%5B126.9559655046206%2C%2037.48820165625994%5D%2C%20%5B126.95396955055433%2C%2037.48955250290043%5D%2C%20%5B126.94922661389508%2C%2037.49125437495649%5D%2C%20%5B126.94373156012337%2C%2037.48938843727846%5D%2C%20%5B126.93844070234584%2C%2037.4893532861132%5D%2C%20%5B126.93669800083833%2C%2037.49026778789087%5D%2C%20%5B126.93346386636452%2C%2037.49043826776755%5D%2C%20%5B126.92981699800066%2C%2037.49218420958284%5D%2C%20%5B126.92869559665061%2C%2037.49132126714011%5D%2C%20%5B126.92639563063156%2C%2037.48715979752876%5D%2C%20%5B126.91916807529428%2C%2037.48660606817164%5D%2C%20%5B126.91533979779165%2C%2037.484392208242134%5D%2C%20%5B126.90805655355825%2C%2037.48218338568103%5D%2C%20%5B126.90531975801812%2C%2037.48218087575429%5D%2C%20%5B126.91461888105147%2C%2037.493581242537296%5D%2C%20%5B126.92177893174825%2C%2037.494889877415176%5D%2C%20%5B126.9232469824303%2C%2037.49928149943772%5D%2C%20%5B126.92749463764046%2C%2037.50985955934051%5D%2C%20%5B126.92919938332032%2C%2037.51019685838638%5D%2C%20%5B126.92810628828279%2C%2037.51329595732015%5D%2C%20%5B126.93453120783802%2C%2037.5128512712934%5D%2C%20%5B126.94407346439685%2C%2037.51463101265907%5D%2C%20%5B126.95249990298159%2C%2037.51722500741813%5D%2C%20%5B126.95551848909955%2C%2037.514736123015844%5D%2C%20%5B126.95950268374823%2C%2037.51249532165974%5D%2C%20%5B126.96670111119346%2C%2037.50997579058433%5D%2C%20%5B126.98223807916081%2C%2037.509314966770326%5D%5D%5D%2C%20%22type%22%3A%20%22Polygon%22%7D%2C%20%22properties%22%3A%20%7B%22base_year%22%3A%20%222013%22%2C%20%22code%22%3A%20%2211200%22%2C%20%22name%22%3A%20%22%5Cub3d9%5Cuc791%5Cuad6c%22%2C%20%22name_eng%22%3A%20%22Dongjak-gu%22%7D%2C%20%22type%22%3A%20%22Feature%22%7D%2C%20%7B%22geometry%22%3A%20%7B%22coordinates%22%3A%20%5B%5B%5B126.89184663862764%2C%2037.547373974997114%5D%2C%20%5B126.90281125423546%2C%2037.54133630026083%5D%2C%20%5B126.90829204147958%2C%2037.539206065016785%5D%2C%20%5B126.93132557924062%2C%2037.53415416375281%5D%2C%20%5B126.93680342222562%2C%2037.53344577095931%5D%2C%20%5B126.94566733083212%2C%2037.526617542453366%5D%2C%20%5B126.9488066464266%2C%2037.52424913252661%5D%2C%20%5B126.95003825019774%2C%2037.520781022055274%5D%2C%20%5B126.95249990298159%2C%2037.51722500741813%5D%2C%20%5B126.94407346439685%2C%2037.51463101265907%5D%2C%20%5B126.93453120783802%2C%2037.5128512712934%5D%2C%20%5B126.92810628828279%2C%2037.51329595732015%5D%2C%20%5B126.92919938332032%2C%2037.51019685838638%5D%2C%20%5B126.92749463764046%2C%2037.50985955934051%5D%2C%20%5B126.9232469824303%2C%2037.49928149943772%5D%2C%20%5B126.92177893174825%2C%2037.494889877415176%5D%2C%20%5B126.91461888105147%2C%2037.493581242537296%5D%2C%20%5B126.90531975801812%2C%2037.48218087575429%5D%2C%20%5B126.90260188508027%2C%2037.48282626920736%5D%2C%20%5B126.89861362258316%2C%2037.48625405368759%5D%2C%20%5B126.89581061458084%2C%2037.49391346191318%5D%2C%20%5B126.89549571721683%2C%2037.50033127915717%5D%2C%20%5B126.89594776782485%2C%2037.504675281309176%5D%2C%20%5B126.89253696873205%2C%2037.50875582175844%5D%2C%20%5B126.88156402353862%2C%2037.513970034765684%5D%2C%20%5B126.88191372979959%2C%2037.51939416754389%5D%2C%20%5B126.88260109180834%2C%2037.52242565920786%5D%2C%20%5B126.88382776477316%2C%2037.52352483439659%5D%2C%20%5B126.88904768965743%2C%2037.525856504359034%5D%2C%20%5B126.89057378109133%2C%2037.52792091672938%5D%2C%20%5B126.89213569003026%2C%2037.52757969298779%5D%2C%20%5B126.89361739665432%2C%2037.53033899535983%5D%2C%20%5B126.89339176028666%2C%2037.533030814524004%5D%2C%20%5B126.88938421776182%2C%2037.54060159145325%5D%2C%20%5B126.88825757860099%2C%2037.54079733630232%5D%2C%20%5B126.88736718003831%2C%2037.54350482420959%5D%2C%20%5B126.89184663862764%2C%2037.547373974997114%5D%5D%5D%2C%20%22type%22%3A%20%22Polygon%22%7D%2C%20%22properties%22%3A%20%7B%22base_year%22%3A%20%222013%22%2C%20%22code%22%3A%20%2211190%22%2C%20%22name%22%3A%20%22%5Cuc601%5Cub4f1%5Cud3ec%5Cuad6c%22%2C%20%22name_eng%22%3A%20%22Yeongdeungpo-gu%22%7D%2C%20%22type%22%3A%20%22Feature%22%7D%2C%20%7B%22geometry%22%3A%20%7B%22coordinates%22%3A%20%5B%5B%5B126.90156094129895%2C%2037.47753842789901%5D%2C%20%5B126.90276666415615%2C%2037.47652007992712%5D%2C%20%5B126.91181700249076%2C%2037.47814319736339%5D%2C%20%5B126.9115784808617%2C%2037.4753960485947%5D%2C%20%5B126.91405961426707%2C%2037.47416764846582%5D%2C%20%5B126.91280966667205%2C%2037.47083063715413%5D%2C%20%5B126.91032166997253%2C%2037.469818629944285%5D%2C%20%5B126.91374656127704%2C%2037.46375990852858%5D%2C%20%5B126.91584245173756%2C%2037.462474576247985%5D%2C%20%5B126.91495285904284%2C%2037.461166184511065%5D%2C%20%5B126.91641538472182%2C%2037.45870245071989%5D%2C%20%5B126.9167728146601%2C%2037.45490566423789%5D%2C%20%5B126.91887928082078%2C%2037.45495082787016%5D%2C%20%5B126.9245243450059%2C%2037.45392293573877%5D%2C%20%5B126.92527839995981%2C%2037.45161884570837%5D%2C%20%5B126.93084408056525%2C%2037.447382928333994%5D%2C%20%5B126.9255681646224%2C%2037.44377627841776%5D%2C%20%5B126.92318732232543%2C%2037.44131494528283%5D%2C%20%5B126.92199241717724%2C%2037.43848070111403%5D%2C%20%5B126.92004664118903%2C%2037.43708741729147%5D%2C%20%5B126.91641802826501%2C%2037.43722730676683%5D%2C%20%5B126.91344497343947%2C%2037.43474365720405%5D%2C%20%5B126.91082677485002%2C%2037.43100963341445%5D%2C%20%5B126.90487628022693%2C%2037.43129996372531%5D%2C%20%5B126.90480610062333%2C%2037.433123813599884%5D%2C%20%5B126.90147608259903%2C%2037.4353323892334%5D%2C%20%5B126.90081465102077%2C%2037.436498759868456%5D%2C%20%5B126.90105333433885%2C%2037.44031094924801%5D%2C%20%5B126.90031753853916%2C%2037.441844173154756%5D%2C%20%5B126.89768314223053%2C%2037.442906858137974%5D%2C%20%5B126.89812451590424%2C%2037.44551117837958%5D%2C%20%5B126.89616541233094%2C%2037.44983024861048%5D%2C%20%5B126.8947204038491%2C%2037.4491097366517%5D%2C%20%5B126.89157226377172%2C%2037.449944282396714%5D%2C%20%5B126.89113632562855%2C%2037.45236898205529%5D%2C%20%5B126.88831381741582%2C%2037.45357939777933%5D%2C%20%5B126.88826482749008%2C%2037.45663270152334%5D%2C%20%5B126.89074130059865%2C%2037.45966561796733%5D%2C%20%5B126.88198617469523%2C%2037.469975509557976%5D%2C%20%5B126.87874781843654%2C%2037.47475533620029%5D%2C%20%5B126.87553760781829%2C%2037.48186220368496%5D%2C%20%5B126.87683271502428%2C%2037.482576591607305%5D%2C%20%5B126.88079109105627%2C%2037.48378287831426%5D%2C%20%5B126.8827497570056%2C%2037.48316340563878%5D%2C%20%5B126.88803217321346%2C%2037.47975290808737%5D%2C%20%5B126.89116882970154%2C%2037.47681803032367%5D%2C%20%5B126.89689977603885%2C%2037.47570593888643%5D%2C%20%5B126.90104536043339%2C%2037.47614746588584%5D%2C%20%5B126.90156094129895%2C%2037.47753842789901%5D%5D%5D%2C%20%22type%22%3A%20%22Polygon%22%7D%2C%20%22properties%22%3A%20%7B%22base_year%22%3A%20%222013%22%2C%20%22code%22%3A%20%2211180%22%2C%20%22name%22%3A%20%22%5Cuae08%5Cucc9c%5Cuad6c%22%2C%20%22name_eng%22%3A%20%22Geumcheon-gu%22%7D%2C%20%22type%22%3A%20%22Feature%22%7D%2C%20%7B%22geometry%22%3A%20%7B%22coordinates%22%3A%20%5B%5B%5B126.82688081517314%2C%2037.50548972232896%5D%2C%20%5B126.8312211095328%2C%2037.50541191299514%5D%2C%20%5B126.8341914436862%2C%2037.50238060850881%5D%2C%20%5B126.8385046623421%2C%2037.49965438083505%5D%2C%20%5B126.84270526111828%2C%2037.501190052842375%5D%2C%20%5B126.8421330711049%2C%2037.50273297478404%5D%2C%20%5B126.84689618668257%2C%2037.50287086505149%5D%2C%20%5B126.84730715497963%2C%2037.50522159123912%5D%2C%20%5B126.85079659934003%2C%2037.50601938589165%5D%2C%20%5B126.8521985385098%2C%2037.507310601432195%5D%2C%20%5B126.8549910115563%2C%2037.507774255244875%5D%2C%20%5B126.85767018319959%2C%2037.50643578404816%5D%2C%20%5B126.8602448049945%2C%2037.50714262450898%5D%2C%20%5B126.86219488732715%2C%2037.50388438562706%5D%2C%20%5B126.86454914535695%2C%2037.50388350542007%5D%2C%20%5B126.86525729660478%2C%2037.502448483868896%5D%2C%20%5B126.86795186545288%2C%2037.502755995885714%5D%2C%20%5B126.87109220473953%2C%2037.50203922322315%5D%2C%20%5B126.87432642792102%2C%2037.50260287829134%5D%2C%20%5B126.87556919864359%2C%2037.505720626918%5D%2C%20%5B126.88054908630636%2C%2037.51148026214697%5D%2C%20%5B126.88156402353862%2C%2037.513970034765684%5D%2C%20%5B126.89253696873205%2C%2037.50875582175844%5D%2C%20%5B126.89594776782485%2C%2037.504675281309176%5D%2C%20%5B126.89549571721683%2C%2037.50033127915717%5D%2C%20%5B126.89581061458084%2C%2037.49391346191318%5D%2C%20%5B126.89861362258316%2C%2037.48625405368759%5D%2C%20%5B126.90260188508027%2C%2037.48282626920736%5D%2C%20%5B126.90531975801812%2C%2037.48218087575429%5D%2C%20%5B126.90156094129895%2C%2037.47753842789901%5D%2C%20%5B126.90104536043339%2C%2037.47614746588584%5D%2C%20%5B126.89689977603885%2C%2037.47570593888643%5D%2C%20%5B126.89116882970154%2C%2037.47681803032367%5D%2C%20%5B126.88803217321346%2C%2037.47975290808737%5D%2C%20%5B126.8827497570056%2C%2037.48316340563878%5D%2C%20%5B126.88079109105627%2C%2037.48378287831426%5D%2C%20%5B126.87683271502428%2C%2037.482576591607305%5D%2C%20%5B126.87926901338844%2C%2037.4851363312754%5D%2C%20%5B126.87807822721697%2C%2037.486247661404484%5D%2C%20%5B126.87500855887376%2C%2037.485529408954044%5D%2C%20%5B126.87499999632084%2C%2037.48723558386031%5D%2C%20%5B126.86985088086946%2C%2037.490972856926746%5D%2C%20%5B126.86690708512153%2C%2037.48850048185492%5D%2C%20%5B126.86334463261252%2C%2037.48702105213313%5D%2C%20%5B126.85979281993241%2C%2037.48309390333688%5D%2C%20%5B126.8571926758503%2C%2037.482400254369296%5D%2C%20%5B126.85582775745682%2C%2037.48008159809108%5D%2C%20%5B126.85397991619827%2C%2037.47882533996402%5D%2C%20%5B126.84914329670241%2C%2037.4792573077648%5D%2C%20%5B126.84804505350411%2C%2037.478160467930344%5D%2C%20%5B126.84762676054953%2C%2037.47146723936323%5D%2C%20%5B126.84154264465728%2C%2037.4728980419%5D%2C%20%5B126.83754691879544%2C%2037.472514053936045%5D%2C%20%5B126.83388005989259%2C%2037.4747683882548%5D%2C%20%5B126.83136668931549%2C%2037.47344154955525%5D%2C%20%5B126.82660025197819%2C%2037.47364544953152%5D%2C%20%5B126.82419365698964%2C%2037.472951080902234%5D%2C%20%5B126.82179895415682%2C%2037.47518076838956%5D%2C%20%5B126.82206789884786%2C%2037.47889514031285%5D%2C%20%5B126.82139445214092%2C%2037.48136482338644%5D%2C%20%5B126.82208805042494%2C%2037.48299688518288%5D%2C%20%5B126.82558489219227%2C%2037.48497306755705%5D%2C%20%5B126.82482114643597%2C%2037.48717399070965%5D%2C%20%5B126.81993148808915%2C%2037.48877864988337%5D%2C%20%5B126.81649745505314%2C%2037.490455810141476%5D%2C%20%5B126.81480709048222%2C%2037.493362284349615%5D%2C%20%5B126.81518179823208%2C%2037.495233793642186%5D%2C%20%5B126.81771493003457%2C%2037.494748098657496%5D%2C%20%5B126.8208295567048%2C%2037.49594689979241%5D%2C%20%5B126.82204657426578%2C%2037.49851634597747%5D%2C%20%5B126.82367963750009%2C%2037.49925830108059%5D%2C%20%5B126.82504736331406%2C%2037.50302612640443%5D%2C%20%5B126.82469248121312%2C%2037.50496239513798%5D%2C%20%5B126.82688081517314%2C%2037.50548972232896%5D%5D%5D%2C%20%22type%22%3A%20%22Polygon%22%7D%2C%20%22properties%22%3A%20%7B%22base_year%22%3A%20%222013%22%2C%20%22code%22%3A%20%2211170%22%2C%20%22name%22%3A%20%22%5Cuad6c%5Cub85c%5Cuad6c%22%2C%20%22name_eng%22%3A%20%22Guro-gu%22%7D%2C%20%22type%22%3A%20%22Feature%22%7D%2C%20%7B%22geometry%22%3A%20%7B%22coordinates%22%3A%20%5B%5B%5B126.85984199399667%2C%2037.571847855292745%5D%2C%20%5B126.85950389772532%2C%2037.5682771531189%5D%2C%20%5B126.8604929702619%2C%2037.566825621733905%5D%2C%20%5B126.86837407967381%2C%2037.56309561411933%5D%2C%20%5B126.87997924964915%2C%2037.55510740490174%5D%2C%20%5B126.89184663862764%2C%2037.547373974997114%5D%2C%20%5B126.88736718003831%2C%2037.54350482420959%5D%2C%20%5B126.88825757860099%2C%2037.54079733630232%5D%2C%20%5B126.8872486543506%2C%2037.54079100234749%5D%2C%20%5B126.88280520161935%2C%2037.545072121233225%5D%2C%20%5B126.8761093656006%2C%2037.54412882794802%5D%2C%20%5B126.8727924099192%2C%2037.544853699294116%5D%2C%20%5B126.86637464321238%2C%2037.54859191094823%5D%2C%20%5B126.86426635332332%2C%2037.54172958759955%5D%2C%20%5B126.86582129720519%2C%2037.53817151116851%5D%2C%20%5B126.8655037497872%2C%2037.53382926555605%5D%2C%20%5B126.86610073476395%2C%2037.52699964144669%5D%2C%20%5B126.85098397861944%2C%2037.525098716169985%5D%2C%20%5B126.84257291943153%2C%2037.52373707805596%5D%2C%20%5B126.836555914069%2C%2037.53367208325903%5D%2C%20%5B126.83716591765655%2C%2037.534935320492906%5D%2C%20%5B126.83522688458329%2C%2037.539042988809484%5D%2C%20%5B126.8325348945036%2C%2037.538953250433295%5D%2C%20%5B126.83191667070415%2C%2037.54146500511403%5D%2C%20%5B126.83017074557299%2C%2037.542611079015344%5D%2C%20%5B126.82889818288362%2C%2037.53909381305992%5D%2C%20%5B126.8242331426722%2C%2037.53788078753248%5D%2C%20%5B126.81674221631081%2C%2037.5378396500627%5D%2C%20%5B126.81246052552456%2C%2037.538810793377344%5D%2C%20%5B126.81143604908785%2C%2037.54033621168525%5D%2C%20%5B126.80542840499083%2C%2037.54008921830378%5D%2C%20%5B126.80185404828612%2C%2037.537645443377826%5D%2C%20%5B126.80090914554204%2C%2037.53503009075454%5D%2C%20%5B126.79688612254975%2C%2037.53302974862096%5D%2C%20%5B126.79582133969424%2C%2037.536641561833754%5D%2C%20%5B126.79693641290046%2C%2037.53865858611534%5D%2C%20%5B126.79388711477147%2C%2037.53902211451394%5D%2C%20%5B126.7938616681597%2C%2037.54104361952839%5D%2C%20%5B126.79075533377627%2C%2037.54165251407983%5D%2C%20%5B126.78880225462409%2C%2037.54353706379955%5D%2C%20%5B126.78198339188025%2C%2037.543449601019624%5D%2C%20%5B126.77756215424237%2C%2037.54611355396897%5D%2C%20%5B126.77324417717703%2C%2037.5459123450554%5D%2C%20%5B126.76977011413412%2C%2037.55052082471595%5D%2C%20%5B126.76700465024426%2C%2037.552821566629916%5D%2C%20%5B126.77074629769308%2C%2037.55296836994276%5D%2C%20%5B126.77145103135192%2C%2037.55434307460708%5D%2C%20%5B126.77879087345151%2C%2037.55919525318415%5D%2C%20%5B126.77889121370164%2C%2037.5613614424496%5D%2C%20%5B126.77671213061004%2C%2037.5645429268672%5D%2C%20%5B126.77986476402239%2C%2037.564245932540665%5D%2C%20%5B126.78252024622797%2C%2037.565367145342954%5D%2C%20%5B126.78471963959866%2C%2037.56745669198498%5D%2C%20%5B126.78398460461828%2C%2037.56905814599349%5D%2C%20%5B126.78496836516075%2C%2037.57090748246567%5D%2C%20%5B126.79172648531066%2C%2037.57472630536462%5D%2C%20%5B126.79539987549317%2C%2037.57451148875729%5D%2C%20%5B126.79523455851671%2C%2037.57760277954844%5D%2C%20%5B126.7958606942207%2C%2037.58019957877273%5D%2C%20%5B126.79799133400897%2C%2037.58036436587069%5D%2C%20%5B126.80091228188235%2C%2037.5854309825683%5D%2C%20%5B126.80289369340177%2C%2037.58621464221784%5D%2C%20%5B126.80131704756816%2C%2037.58839794302751%5D%2C%20%5B126.80149834313248%2C%2037.59012749570681%5D%2C%20%5B126.7996634054858%2C%2037.59296530943065%5D%2C%20%5B126.79910601240701%2C%2037.59569886491464%5D%2C%20%5B126.80046544382346%2C%2037.59827267924192%5D%2C%20%5B126.80198459129242%2C%2037.598541940075755%5D%2C%20%5B126.80268446118524%2C%2037.601312560472834%5D%2C%20%5B126.80393696882469%2C%2037.601857300987895%5D%2C%20%5B126.80759006979085%2C%2037.60089755124775%5D%2C%20%5B126.81814502537962%2C%2037.591566052513244%5D%2C%20%5B126.82251438477105%2C%2037.5880430810082%5D%2C%20%5B126.82891304761237%2C%2037.5855611764797%5D%2C%20%5B126.85302823436479%2C%2037.57282468882299%5D%2C%20%5B126.85984199399667%2C%2037.571847855292745%5D%5D%5D%2C%20%22type%22%3A%20%22Polygon%22%7D%2C%20%22properties%22%3A%20%7B%22base_year%22%3A%20%222013%22%2C%20%22code%22%3A%20%2211160%22%2C%20%22name%22%3A%20%22%5Cuac15%5Cuc11c%5Cuad6c%22%2C%20%22name_eng%22%3A%20%22Gangseo-gu%22%7D%2C%20%22type%22%3A%20%22Feature%22%7D%2C%20%7B%22geometry%22%3A%20%7B%22coordinates%22%3A%20%5B%5B%5B126.8242331426722%2C%2037.53788078753248%5D%2C%20%5B126.82889818288362%2C%2037.53909381305992%5D%2C%20%5B126.83017074557299%2C%2037.542611079015344%5D%2C%20%5B126.83191667070415%2C%2037.54146500511403%5D%2C%20%5B126.8325348945036%2C%2037.538953250433295%5D%2C%20%5B126.83522688458329%2C%2037.539042988809484%5D%2C%20%5B126.83716591765655%2C%2037.534935320492906%5D%2C%20%5B126.836555914069%2C%2037.53367208325903%5D%2C%20%5B126.84257291943153%2C%2037.52373707805596%5D%2C%20%5B126.85098397861944%2C%2037.525098716169985%5D%2C%20%5B126.86610073476395%2C%2037.52699964144669%5D%2C%20%5B126.8655037497872%2C%2037.53382926555605%5D%2C%20%5B126.86582129720519%2C%2037.53817151116851%5D%2C%20%5B126.86426635332332%2C%2037.54172958759955%5D%2C%20%5B126.86637464321238%2C%2037.54859191094823%5D%2C%20%5B126.8727924099192%2C%2037.544853699294116%5D%2C%20%5B126.8761093656006%2C%2037.54412882794802%5D%2C%20%5B126.88280520161935%2C%2037.545072121233225%5D%2C%20%5B126.8872486543506%2C%2037.54079100234749%5D%2C%20%5B126.88825757860099%2C%2037.54079733630232%5D%2C%20%5B126.88938421776182%2C%2037.54060159145325%5D%2C%20%5B126.89339176028666%2C%2037.533030814524004%5D%2C%20%5B126.89361739665432%2C%2037.53033899535983%5D%2C%20%5B126.89213569003026%2C%2037.52757969298779%5D%2C%20%5B126.89057378109133%2C%2037.52792091672938%5D%2C%20%5B126.88904768965743%2C%2037.525856504359034%5D%2C%20%5B126.88382776477316%2C%2037.52352483439659%5D%2C%20%5B126.88260109180834%2C%2037.52242565920786%5D%2C%20%5B126.88191372979959%2C%2037.51939416754389%5D%2C%20%5B126.88156402353862%2C%2037.513970034765684%5D%2C%20%5B126.88054908630636%2C%2037.51148026214697%5D%2C%20%5B126.87556919864359%2C%2037.505720626918%5D%2C%20%5B126.87432642792102%2C%2037.50260287829134%5D%2C%20%5B126.87109220473953%2C%2037.50203922322315%5D%2C%20%5B126.86795186545288%2C%2037.502755995885714%5D%2C%20%5B126.86525729660478%2C%2037.502448483868896%5D%2C%20%5B126.86454914535695%2C%2037.50388350542007%5D%2C%20%5B126.86219488732715%2C%2037.50388438562706%5D%2C%20%5B126.8602448049945%2C%2037.50714262450898%5D%2C%20%5B126.85767018319959%2C%2037.50643578404816%5D%2C%20%5B126.8549910115563%2C%2037.507774255244875%5D%2C%20%5B126.8521985385098%2C%2037.507310601432195%5D%2C%20%5B126.85079659934003%2C%2037.50601938589165%5D%2C%20%5B126.84730715497963%2C%2037.50522159123912%5D%2C%20%5B126.84689618668257%2C%2037.50287086505149%5D%2C%20%5B126.8421330711049%2C%2037.50273297478404%5D%2C%20%5B126.84270526111828%2C%2037.501190052842375%5D%2C%20%5B126.8385046623421%2C%2037.49965438083505%5D%2C%20%5B126.8341914436862%2C%2037.50238060850881%5D%2C%20%5B126.8312211095328%2C%2037.50541191299514%5D%2C%20%5B126.82688081517314%2C%2037.50548972232896%5D%2C%20%5B126.82609821744505%2C%2037.507816771867255%5D%2C%20%5B126.82665326173496%2C%2037.510416148524136%5D%2C%20%5B126.82529622550616%2C%2037.513385210403136%5D%2C%20%5B126.82763384465879%2C%2037.516923263281946%5D%2C%20%5B126.8273575421771%2C%2037.52002629298419%5D%2C%20%5B126.83054711509516%2C%2037.52390261457357%5D%2C%20%5B126.82938708105253%2C%2037.5268052663749%5D%2C%20%5B126.8276955169658%2C%2037.52706155314193%5D%2C%20%5B126.82389942108053%2C%2037.53199443525418%5D%2C%20%5B126.8242331426722%2C%2037.53788078753248%5D%5D%5D%2C%20%22type%22%3A%20%22Polygon%22%7D%2C%20%22properties%22%3A%20%7B%22base_year%22%3A%20%222013%22%2C%20%22code%22%3A%20%2211150%22%2C%20%22name%22%3A%20%22%5Cuc591%5Cucc9c%5Cuad6c%22%2C%20%22name_eng%22%3A%20%22Yangcheon-gu%22%7D%2C%20%22type%22%3A%20%22Feature%22%7D%2C%20%7B%22geometry%22%3A%20%7B%22coordinates%22%3A%20%5B%5B%5B126.90522065831053%2C%2037.57409700522574%5D%2C%20%5B126.90370105002282%2C%2037.57266722738834%5D%2C%20%5B126.90687243065778%2C%2037.57059762097416%5D%2C%20%5B126.92189004506%2C%2037.56391798973296%5D%2C%20%5B126.92778174854314%2C%2037.562495624023775%5D%2C%20%5B126.93034243306369%2C%2037.56054720372433%5D%2C%20%5B126.92881397392811%2C%2037.558202848902%5D%2C%20%5B126.92872097190046%2C%2037.556034533941734%5D%2C%20%5B126.93898161798973%2C%2037.552310003728124%5D%2C%20%5B126.94314477022111%2C%2037.5536460848349%5D%2C%20%5B126.95916768398142%2C%2037.55468176051932%5D%2C%20%5B126.96080686210321%2C%2037.55386236039188%5D%2C%20%5B126.96358226710812%2C%2037.55605635475154%5D%2C%20%5B126.96519694864509%2C%2037.55362533505407%5D%2C%20%5B126.96380145704283%2C%2037.55254525759954%5D%2C%20%5B126.96448570553055%2C%2037.548705692021635%5D%2C%20%5B126.96604189284825%2C%2037.546894141748815%5D%2C%20%5B126.96401856825223%2C%2037.54584596959762%5D%2C%20%5B126.96231305253527%2C%2037.543511558047456%5D%2C%20%5B126.9605977865388%2C%2037.542661954880806%5D%2C%20%5B126.95926437828754%2C%2037.53897908363236%5D%2C%20%5B126.95340780191557%2C%2037.533494726370755%5D%2C%20%5B126.94717864071288%2C%2037.53213495568077%5D%2C%20%5B126.94566733083212%2C%2037.526617542453366%5D%2C%20%5B126.93680342222562%2C%2037.53344577095931%5D%2C%20%5B126.93132557924062%2C%2037.53415416375281%5D%2C%20%5B126.90829204147958%2C%2037.539206065016785%5D%2C%20%5B126.90281125423546%2C%2037.54133630026083%5D%2C%20%5B126.89184663862764%2C%2037.547373974997114%5D%2C%20%5B126.87997924964915%2C%2037.55510740490174%5D%2C%20%5B126.86837407967381%2C%2037.56309561411933%5D%2C%20%5B126.8604929702619%2C%2037.566825621733905%5D%2C%20%5B126.85950389772532%2C%2037.5682771531189%5D%2C%20%5B126.85984199399667%2C%2037.571847855292745%5D%2C%20%5B126.85993476176495%2C%2037.5728262143511%5D%2C%20%5B126.8638132887273%2C%2037.57306147014704%5D%2C%20%5B126.86560520354786%2C%2037.57385540098251%5D%2C%20%5B126.86766286078968%2C%2037.57269227137124%5D%2C%20%5B126.87008117117851%2C%2037.574598289168996%5D%2C%20%5B126.87282267062741%2C%2037.574956427500126%5D%2C%20%5B126.8779661566318%2C%2037.57680133323819%5D%2C%20%5B126.87918874599603%2C%2037.5796889248137%5D%2C%20%5B126.87876320682938%2C%2037.581327335058546%5D%2C%20%5B126.88107183862735%2C%2037.583788024645344%5D%2C%20%5B126.88237824849728%2C%2037.586847436468204%5D%2C%20%5B126.88433284773288%2C%2037.588143322880526%5D%2C%20%5B126.89150044994719%2C%2037.58202374305761%5D%2C%20%5B126.89532313269488%2C%2037.579420322822145%5D%2C%20%5B126.89738573904876%2C%2037.578668647687564%5D%2C%20%5B126.90023584510952%2C%2037.575506080437606%5D%2C%20%5B126.90373193212757%2C%2037.573123712282076%5D%2C%20%5B126.90522065831053%2C%2037.57409700522574%5D%5D%5D%2C%20%22type%22%3A%20%22Polygon%22%7D%2C%20%22properties%22%3A%20%7B%22base_year%22%3A%20%222013%22%2C%20%22code%22%3A%20%2211140%22%2C%20%22name%22%3A%20%22%5Cub9c8%5Cud3ec%5Cuad6c%22%2C%20%22name_eng%22%3A%20%22Mapo-gu%22%7D%2C%20%22type%22%3A%20%22Feature%22%7D%2C%20%7B%22geometry%22%3A%20%7B%22coordinates%22%3A%20%5B%5B%5B126.9524752030572%2C%2037.60508692737045%5D%2C%20%5B126.95480868778256%2C%2037.60381765067903%5D%2C%20%5B126.95564117002459%2C%2037.601827148276776%5D%2C%20%5B126.95484771718951%2C%2037.59761368186209%5D%2C%20%5B126.95619178283661%2C%2037.59575826218021%5D%2C%20%5B126.95924434840931%2C%2037.59545024466215%5D%2C%20%5B126.95842779914786%2C%2037.592356673207824%5D%2C%20%5B126.960424902266%2C%2037.58868913291801%5D%2C%20%5B126.96048802632431%2C%2037.587202077053746%5D%2C%20%5B126.95879970726017%2C%2037.58189826471162%5D%2C%20%5B126.96177754536156%2C%2037.57970124256911%5D%2C%20%5B126.95789326971087%2C%2037.57793453336025%5D%2C%20%5B126.95565425846463%2C%2037.576080790881456%5D%2C%20%5B126.96873633279075%2C%2037.56313604690827%5D%2C%20%5B126.97169209525231%2C%2037.55921654641677%5D%2C%20%5B126.96900073076728%2C%2037.55850929094393%5D%2C%20%5B126.96570855677983%2C%2037.556512377492325%5D%2C%20%5B126.96358226710812%2C%2037.55605635475154%5D%2C%20%5B126.96080686210321%2C%2037.55386236039188%5D%2C%20%5B126.95916768398142%2C%2037.55468176051932%5D%2C%20%5B126.94314477022111%2C%2037.5536460848349%5D%2C%20%5B126.93898161798973%2C%2037.552310003728124%5D%2C%20%5B126.92872097190046%2C%2037.556034533941734%5D%2C%20%5B126.92881397392811%2C%2037.558202848902%5D%2C%20%5B126.93034243306369%2C%2037.56054720372433%5D%2C%20%5B126.92778174854314%2C%2037.562495624023775%5D%2C%20%5B126.92189004506%2C%2037.56391798973296%5D%2C%20%5B126.90687243065778%2C%2037.57059762097416%5D%2C%20%5B126.90370105002282%2C%2037.57266722738834%5D%2C%20%5B126.90522065831053%2C%2037.57409700522574%5D%2C%20%5B126.91464724464083%2C%2037.583228529985455%5D%2C%20%5B126.91827498278953%2C%2037.58276881451649%5D%2C%20%5B126.91792000144513%2C%2037.58034997804668%5D%2C%20%5B126.92444169370404%2C%2037.581233899739914%5D%2C%20%5B126.92596484570709%2C%2037.58441659356971%5D%2C%20%5B126.9281697003186%2C%2037.584376616028365%5D%2C%20%5B126.9302171100533%2C%2037.58559126746845%5D%2C%20%5B126.92996402426377%2C%2037.58767009299767%5D%2C%20%5B126.93104958440722%2C%2037.58996937993664%5D%2C%20%5B126.93575441237547%2C%2037.593605788596975%5D%2C%20%5B126.94277481511082%2C%2037.59587806191211%5D%2C%20%5B126.94359054641505%2C%2037.60034871312552%5D%2C%20%5B126.94451473597087%2C%2037.60203195380752%5D%2C%20%5B126.94701525068315%2C%2037.602028095480975%5D%2C%20%5B126.94919787550161%2C%2037.60506379949065%5D%2C%20%5B126.9524752030572%2C%2037.60508692737045%5D%5D%5D%2C%20%22type%22%3A%20%22Polygon%22%7D%2C%20%22properties%22%3A%20%7B%22base_year%22%3A%20%222013%22%2C%20%22code%22%3A%20%2211130%22%2C%20%22name%22%3A%20%22%5Cuc11c%5Cub300%5Cubb38%5Cuad6c%22%2C%20%22name_eng%22%3A%20%22Seodaemun-gu%22%7D%2C%20%22type%22%3A%20%22Feature%22%7D%2C%20%7B%22geometry%22%3A%20%7B%22coordinates%22%3A%20%5B%5B%5B126.9738864128702%2C%2037.62949634786888%5D%2C%20%5B126.97135221665513%2C%2037.62743418897386%5D%2C%20%5B126.96164158910712%2C%2037.62569322976388%5D%2C%20%5B126.95885198650147%2C%2037.6225761621008%5D%2C%20%5B126.95427017006129%2C%2037.622033431339425%5D%2C%20%5B126.95393421039743%2C%2037.61877981567335%5D%2C%20%5B126.9528332649861%2C%2037.6161065117682%5D%2C%20%5B126.95145384404022%2C%2037.61493028446385%5D%2C%20%5B126.95249458941419%2C%2037.61333750249896%5D%2C%20%5B126.95308190738618%2C%2037.60926681659027%5D%2C%20%5B126.95187994741721%2C%2037.60600915874973%5D%2C%20%5B126.9524752030572%2C%2037.60508692737045%5D%2C%20%5B126.94919787550161%2C%2037.60506379949065%5D%2C%20%5B126.94701525068315%2C%2037.602028095480975%5D%2C%20%5B126.94451473597087%2C%2037.60203195380752%5D%2C%20%5B126.94359054641505%2C%2037.60034871312552%5D%2C%20%5B126.94277481511082%2C%2037.59587806191211%5D%2C%20%5B126.93575441237547%2C%2037.593605788596975%5D%2C%20%5B126.93104958440722%2C%2037.58996937993664%5D%2C%20%5B126.92996402426377%2C%2037.58767009299767%5D%2C%20%5B126.9302171100533%2C%2037.58559126746845%5D%2C%20%5B126.9281697003186%2C%2037.584376616028365%5D%2C%20%5B126.92596484570709%2C%2037.58441659356971%5D%2C%20%5B126.92444169370404%2C%2037.581233899739914%5D%2C%20%5B126.91792000144513%2C%2037.58034997804668%5D%2C%20%5B126.91827498278953%2C%2037.58276881451649%5D%2C%20%5B126.91464724464083%2C%2037.583228529985455%5D%2C%20%5B126.90522065831053%2C%2037.57409700522574%5D%2C%20%5B126.90373193212757%2C%2037.573123712282076%5D%2C%20%5B126.90023584510952%2C%2037.575506080437606%5D%2C%20%5B126.89738573904876%2C%2037.578668647687564%5D%2C%20%5B126.89532313269488%2C%2037.579420322822145%5D%2C%20%5B126.89150044994719%2C%2037.58202374305761%5D%2C%20%5B126.88433284773288%2C%2037.588143322880526%5D%2C%20%5B126.88715278104091%2C%2037.59100341655796%5D%2C%20%5B126.88936046370014%2C%2037.59099007316069%5D%2C%20%5B126.88753401663872%2C%2037.58829545592628%5D%2C%20%5B126.88935419108029%2C%2037.58580092310326%5D%2C%20%5B126.89349057571656%2C%2037.585662344444785%5D%2C%20%5B126.89532781702978%2C%2037.58637054299599%5D%2C%20%5B126.89905466698256%2C%2037.58582731337662%5D%2C%20%5B126.9019347597747%2C%2037.58707359614439%5D%2C%20%5B126.9010825805882%2C%2037.58986595756633%5D%2C%20%5B126.90396681003595%2C%2037.59227403419942%5D%2C%20%5B126.90321089756087%2C%2037.594542731935476%5D%2C%20%5B126.90358350094938%2C%2037.59657528019595%5D%2C%20%5B126.90235425214276%2C%2037.60036302950128%5D%2C%20%5B126.90417801431465%2C%2037.60102912046836%5D%2C%20%5B126.90396561274416%2C%2037.60721180273151%5D%2C%20%5B126.90303066177668%2C%2037.609977911401344%5D%2C%20%5B126.90548675623195%2C%2037.61601216482774%5D%2C%20%5B126.90721633741286%2C%2037.6164590533837%5D%2C%20%5B126.90935539569412%2C%2037.61912234588074%5D%2C%20%5B126.90852982623917%2C%2037.62123670148755%5D%2C%20%5B126.91081768678396%2C%2037.62338674837964%5D%2C%20%5B126.91117179533428%2C%2037.62562846875194%5D%2C%20%5B126.90862530043799%2C%2037.62973539928895%5D%2C%20%5B126.91295124779275%2C%2037.633086577991136%5D%2C%20%5B126.91232131977827%2C%2037.635879167956396%5D%2C%20%5B126.91380622398978%2C%2037.63822817856539%5D%2C%20%5B126.91455481429648%2C%2037.64150050996935%5D%2C%20%5B126.9097405206299%2C%2037.643548736416925%5D%2C%20%5B126.9104285840059%2C%2037.64469477594629%5D%2C%20%5B126.91598194662826%2C%2037.64192000919822%5D%2C%20%5B126.92335892549015%2C%2037.642768849393626%5D%2C%20%5B126.92751618877016%2C%2037.644656244616336%5D%2C%20%5B126.93099150738166%2C%2037.64717805899008%5D%2C%20%5B126.93658892420821%2C%2037.64777520545395%5D%2C%20%5B126.93914008753828%2C%2037.64914400014214%5D%2C%20%5B126.94248904852749%2C%2037.65384179343651%5D%2C%20%5B126.94571884127255%2C%2037.655369042036206%5D%2C%20%5B126.94940373004215%2C%2037.656145979585894%5D%2C%20%5B126.94982400027399%2C%2037.65461320918016%5D%2C%20%5B126.95334970767568%2C%2037.65216408903825%5D%2C%20%5B126.956473797387%2C%2037.652480737339445%5D%2C%20%5B126.9588647426878%2C%2037.6498628918019%5D%2C%20%5B126.95972824076269%2C%2037.64638504253487%5D%2C%20%5B126.96223689995006%2C%2037.64553441285544%5D%2C%20%5B126.96424221141602%2C%2037.64071627640099%5D%2C%20%5B126.96652025322855%2C%2037.640285044901944%5D%2C%20%5B126.97092373342322%2C%2037.63589354812246%5D%2C%20%5B126.97086605626453%2C%2037.633738820281394%5D%2C%20%5B126.9738864128702%2C%2037.62949634786888%5D%5D%5D%2C%20%22type%22%3A%20%22Polygon%22%7D%2C%20%22properties%22%3A%20%7B%22base_year%22%3A%20%222013%22%2C%20%22code%22%3A%20%2211120%22%2C%20%22name%22%3A%20%22%5Cuc740%5Cud3c9%5Cuad6c%22%2C%20%22name_eng%22%3A%20%22Eunpyeong-gu%22%7D%2C%20%22type%22%3A%20%22Feature%22%7D%2C%20%7B%22geometry%22%3A%20%7B%22coordinates%22%3A%20%5B%5B%5B127.10782277688129%2C%2037.61804244241069%5D%2C%20%5B127.10361952102048%2C%2037.61701182935077%5D%2C%20%5B127.10191523948123%2C%2037.61531698025357%5D%2C%20%5B127.09825969127313%2C%2037.61431077622918%5D%2C%20%5B127.09125855705382%2C%2037.61703046232404%5D%2C%20%5B127.08796048322492%2C%2037.617471883010936%5D%2C%20%5B127.08325130652017%2C%2037.61626773063051%5D%2C%20%5B127.07351243825278%2C%2037.61283660342313%5D%2C%20%5B127.07011594002495%2C%2037.6127769191002%5D%2C%20%5B127.06726783142085%2C%2037.61136014256744%5D%2C%20%5B127.06412260483201%2C%2037.6115839902766%5D%2C%20%5B127.05631594723272%2C%2037.61738373018764%5D%2C%20%5B127.05209373568619%2C%2037.62164065487782%5D%2C%20%5B127.04999984182327%2C%2037.62412061598568%5D%2C%20%5B127.04358800895609%2C%2037.62848931298715%5D%2C%20%5B127.046042857549%2C%2037.630647660209426%5D%2C%20%5B127.0471214260595%2C%2037.63407841321815%5D%2C%20%5B127.05227148282157%2C%2037.642016305290156%5D%2C%20%5B127.05704472959141%2C%2037.63797342537787%5D%2C%20%5B127.05800075220091%2C%2037.64318263878276%5D%2C%20%5B127.05640030258566%2C%2037.648142414223344%5D%2C%20%5B127.05620364700786%2C%2037.65295201497795%5D%2C%20%5B127.05366382763933%2C%2037.65780685245659%5D%2C%20%5B127.05343284205686%2C%2037.660866393548005%5D%2C%20%5B127.05093085431419%2C%2037.666308257661356%5D%2C%20%5B127.05124324520023%2C%2037.6703356616521%5D%2C%20%5B127.05259811896667%2C%2037.67463041579101%5D%2C%20%5B127.05402878877452%2C%2037.682018621183914%5D%2C%20%5B127.05288479710485%2C%2037.68423857084347%5D%2C%20%5B127.05673771202906%2C%2037.68650223136443%5D%2C%20%5B127.05893512852644%2C%2037.68678532745334%5D%2C%20%5B127.06366923747898%2C%2037.68598834805241%5D%2C%20%5B127.06722106517597%2C%2037.68706409219909%5D%2C%20%5B127.07150256171397%2C%2037.69158365999211%5D%2C%20%5B127.07502582169255%2C%2037.691675325399515%5D%2C%20%5B127.07945174893383%2C%2037.693602239076704%5D%2C%20%5B127.0838752703195%2C%2037.69359534202034%5D%2C%20%5B127.08640047239444%2C%2037.69122798275615%5D%2C%20%5B127.08834747450551%2C%2037.68753106067129%5D%2C%20%5B127.09706391309695%2C%2037.686383719372294%5D%2C%20%5B127.09839746601683%2C%2037.682954904948026%5D%2C%20%5B127.09481040538887%2C%2037.678799295731295%5D%2C%20%5B127.0939394572467%2C%2037.676403111386776%5D%2C%20%5B127.09572273018789%2C%2037.673837879820674%5D%2C%20%5B127.09657954289648%2C%2037.670746511824845%5D%2C%20%5B127.09767362583241%2C%2037.67002252402865%5D%2C%20%5B127.0980220884148%2C%2037.66742967749355%5D%2C%20%5B127.09621282296045%2C%2037.66347990019021%5D%2C%20%5B127.09845931549125%2C%2037.659077182069595%5D%2C%20%5B127.0978618070161%2C%2037.656734861475485%5D%2C%20%5B127.08845241642267%2C%2037.65271564775536%5D%2C%20%5B127.09496093471334%2C%2037.65209266377008%5D%2C%20%5B127.09618835483448%2C%2037.65001330395237%5D%2C%20%5B127.09440766298717%2C%2037.64713490473045%5D%2C%20%5B127.09686381732382%2C%2037.642772590812655%5D%2C%20%5B127.10024317327698%2C%2037.642337895238754%5D%2C%20%5B127.10266382494892%2C%2037.64291284604662%5D%2C%20%5B127.11014084969742%2C%2037.641850613893396%5D%2C%20%5B127.11406637789241%2C%2037.63742154695932%5D%2C%20%5B127.1144974746579%2C%2037.632439003890255%5D%2C%20%5B127.11309628774731%2C%2037.627803407908374%5D%2C%20%5B127.10737639048635%2C%2037.62412346388371%5D%2C%20%5B127.10736111050278%2C%2037.62243873312504%5D%2C%20%5B127.10561964188106%2C%2037.620112931875134%5D%2C%20%5B127.10782277688129%2C%2037.61804244241069%5D%5D%5D%2C%20%22type%22%3A%20%22Polygon%22%7D%2C%20%22properties%22%3A%20%7B%22base_year%22%3A%20%222013%22%2C%20%22code%22%3A%20%2211110%22%2C%20%22name%22%3A%20%22%5Cub178%5Cuc6d0%5Cuad6c%22%2C%20%22name_eng%22%3A%20%22Nowon-gu%22%7D%2C%20%22type%22%3A%20%22Feature%22%7D%2C%20%7B%22geometry%22%3A%20%7B%22coordinates%22%3A%20%5B%5B%5B127.05288479710485%2C%2037.68423857084347%5D%2C%20%5B127.05402878877452%2C%2037.682018621183914%5D%2C%20%5B127.05259811896667%2C%2037.67463041579101%5D%2C%20%5B127.05124324520023%2C%2037.6703356616521%5D%2C%20%5B127.05093085431419%2C%2037.666308257661356%5D%2C%20%5B127.05343284205686%2C%2037.660866393548005%5D%2C%20%5B127.05366382763933%2C%2037.65780685245659%5D%2C%20%5B127.05620364700786%2C%2037.65295201497795%5D%2C%20%5B127.05640030258566%2C%2037.648142414223344%5D%2C%20%5B127.05800075220091%2C%2037.64318263878276%5D%2C%20%5B127.05704472959141%2C%2037.63797342537787%5D%2C%20%5B127.05227148282157%2C%2037.642016305290156%5D%2C%20%5B127.0471214260595%2C%2037.63407841321815%5D%2C%20%5B127.046042857549%2C%2037.630647660209426%5D%2C%20%5B127.04358800895609%2C%2037.62848931298715%5D%2C%20%5B127.04058571489718%2C%2037.6311245692538%5D%2C%20%5B127.03905574421407%2C%2037.63395360172076%5D%2C%20%5B127.03660759925259%2C%2037.63506293914692%5D%2C%20%5B127.03477664182829%2C%2037.63884292238491%5D%2C%20%5B127.02950136469548%2C%2037.64228467033725%5D%2C%20%5B127.0265542519312%2C%2037.644688649276304%5D%2C%20%5B127.02233660280599%2C%2037.64628067142158%5D%2C%20%5B127.01772305897457%2C%2037.64631597694605%5D%2C%20%5B127.01534913067235%2C%2037.64765266597785%5D%2C%20%5B127.01465935892466%2C%2037.64943687496812%5D%2C%20%5B127.01599412132472%2C%2037.65623256113309%5D%2C%20%5B127.01726703299362%2C%2037.65880555518138%5D%2C%20%5B127.01776269066357%2C%2037.66391319760785%5D%2C%20%5B127.02062116141389%2C%2037.667173575971205%5D%2C%20%5B127.01873683359163%2C%2037.66988242479123%5D%2C%20%5B127.0159718440919%2C%2037.67258796420281%5D%2C%20%5B127.01401600772708%2C%2037.67653037200686%5D%2C%20%5B127.01073060671976%2C%2037.67694372299732%5D%2C%20%5B127.01039666042071%2C%2037.681894589603594%5D%2C%20%5B127.01103947380624%2C%2037.684405447624954%5D%2C%20%5B127.01017954927539%2C%2037.686333239654594%5D%2C%20%5B127.0109997247323%2C%2037.691942369792514%5D%2C%20%5B127.01405303313638%2C%2037.69546278140397%5D%2C%20%5B127.01645586375106%2C%2037.69548055092485%5D%2C%20%5B127.01802453368332%2C%2037.698275937456124%5D%2C%20%5B127.02143522814708%2C%2037.698589417759045%5D%2C%20%5B127.02419558273166%2C%2037.69682256792619%5D%2C%20%5B127.02700292435075%2C%2037.69665589205863%5D%2C%20%5B127.03018866626446%2C%2037.69776745888886%5D%2C%20%5B127.03132724235057%2C%2037.69621818994332%5D%2C%20%5B127.03183574218306%2C%2037.69340418484943%5D%2C%20%5B127.03328657751797%2C%2037.69010729962784%5D%2C%20%5B127.0345286215439%2C%2037.688986544260594%5D%2C%20%5B127.0379422140845%2C%2037.68943836856245%5D%2C%20%5B127.04383030416193%2C%2037.692565730249534%5D%2C%20%5B127.04510703173885%2C%2037.690951514278055%5D%2C%20%5B127.04772506731972%2C%2037.68962174626068%5D%2C%20%5B127.05108189294938%2C%2037.69116379209157%5D%2C%20%5B127.05288479710485%2C%2037.68423857084347%5D%5D%5D%2C%20%22type%22%3A%20%22Polygon%22%7D%2C%20%22properties%22%3A%20%7B%22base_year%22%3A%20%222013%22%2C%20%22code%22%3A%20%2211100%22%2C%20%22name%22%3A%20%22%5Cub3c4%5Cubd09%5Cuad6c%22%2C%20%22name_eng%22%3A%20%22Dobong-gu%22%7D%2C%20%22type%22%3A%20%22Feature%22%7D%2C%20%7B%22geometry%22%3A%20%7B%22coordinates%22%3A%20%5B%5B%5B127.01039666042071%2C%2037.681894589603594%5D%2C%20%5B127.01073060671976%2C%2037.67694372299732%5D%2C%20%5B127.01401600772708%2C%2037.67653037200686%5D%2C%20%5B127.0159718440919%2C%2037.67258796420281%5D%2C%20%5B127.01873683359163%2C%2037.66988242479123%5D%2C%20%5B127.02062116141389%2C%2037.667173575971205%5D%2C%20%5B127.01776269066357%2C%2037.66391319760785%5D%2C%20%5B127.01726703299362%2C%2037.65880555518138%5D%2C%20%5B127.01599412132472%2C%2037.65623256113309%5D%2C%20%5B127.01465935892466%2C%2037.64943687496812%5D%2C%20%5B127.01534913067235%2C%2037.64765266597785%5D%2C%20%5B127.01772305897457%2C%2037.64631597694605%5D%2C%20%5B127.02233660280599%2C%2037.64628067142158%5D%2C%20%5B127.0265542519312%2C%2037.644688649276304%5D%2C%20%5B127.02950136469548%2C%2037.64228467033725%5D%2C%20%5B127.03477664182829%2C%2037.63884292238491%5D%2C%20%5B127.03660759925259%2C%2037.63506293914692%5D%2C%20%5B127.03905574421407%2C%2037.63395360172076%5D%2C%20%5B127.04058571489718%2C%2037.6311245692538%5D%2C%20%5B127.04358800895609%2C%2037.62848931298715%5D%2C%20%5B127.04999984182327%2C%2037.62412061598568%5D%2C%20%5B127.05209373568619%2C%2037.62164065487782%5D%2C%20%5B127.04887981022048%2C%2037.61973841113549%5D%2C%20%5B127.0460676006384%2C%2037.615885647801704%5D%2C%20%5B127.0419720518426%2C%2037.612838591864076%5D%2C%20%5B127.03892400992301%2C%2037.609715611023816%5D%2C%20%5B127.03251659844592%2C%2037.60634705009134%5D%2C%20%5B127.03229982090541%2C%2037.609536104167034%5D%2C%20%5B127.02851994524015%2C%2037.60987827182396%5D%2C%20%5B127.02433990415497%2C%2037.60847763545628%5D%2C%20%5B127.02136282940177%2C%2037.610961475137174%5D%2C%20%5B127.01685658093551%2C%2037.61280115359516%5D%2C%20%5B127.0128154749523%2C%2037.613652243470256%5D%2C%20%5B127.01060611893628%2C%2037.615741236385354%5D%2C%20%5B127.00960949401902%2C%2037.61822603840364%5D%2C%20%5B127.00997935126598%2C%2037.62111906051553%5D%2C%20%5B127.00210238658002%2C%2037.622984514557714%5D%2C%20%5B126.99867431516041%2C%2037.626297613391166%5D%2C%20%5B126.99614706382866%2C%2037.62719717129899%5D%2C%20%5B126.99529660787617%2C%2037.62923863577322%5D%2C%20%5B126.9933714170822%2C%2037.62922019292486%5D%2C%20%5B126.9877052521691%2C%2037.63265610340949%5D%2C%20%5B126.98672705513869%2C%2037.63377641288196%5D%2C%20%5B126.98826481934299%2C%2037.637416984207924%5D%2C%20%5B126.98537069512379%2C%2037.64080296617396%5D%2C%20%5B126.987065858581%2C%2037.64320008084445%5D%2C%20%5B126.98580395043626%2C%2037.64699767714015%5D%2C%20%5B126.9832621473545%2C%2037.64947328029498%5D%2C%20%5B126.9817452676551%2C%2037.65209769387776%5D%2C%20%5B126.98205504313285%2C%2037.653797128044495%5D%2C%20%5B126.98709809733522%2C%2037.65651691642121%5D%2C%20%5B126.99031779354014%2C%2037.661013121145366%5D%2C%20%5B126.99494735642686%2C%2037.66223870806347%5D%2C%20%5B126.99581225370686%2C%2037.6651171428027%5D%2C%20%5B126.99622950422442%2C%2037.669428820661516%5D%2C%20%5B126.99506026831365%2C%2037.674827885285765%5D%2C%20%5B126.99384134064161%2C%2037.67665247641944%5D%2C%20%5B126.9959894573757%2C%2037.67754299691771%5D%2C%20%5B127.00000021675876%2C%2037.68100582640454%5D%2C%20%5B127.00566931208934%2C%2037.68228507374621%5D%2C%20%5B127.01039666042071%2C%2037.681894589603594%5D%5D%5D%2C%20%22type%22%3A%20%22Polygon%22%7D%2C%20%22properties%22%3A%20%7B%22base_year%22%3A%20%222013%22%2C%20%22code%22%3A%20%2211090%22%2C%20%22name%22%3A%20%22%5Cuac15%5Cubd81%5Cuad6c%22%2C%20%22name_eng%22%3A%20%22Gangbuk-gu%22%7D%2C%20%22type%22%3A%20%22Feature%22%7D%2C%20%7B%22geometry%22%3A%20%7B%22coordinates%22%3A%20%5B%5B%5B126.977175406416%2C%2037.62859715400388%5D%2C%20%5B126.9794090069433%2C%2037.63071544568365%5D%2C%20%5B126.98360012419735%2C%2037.631915771386076%5D%2C%20%5B126.98672705513869%2C%2037.63377641288196%5D%2C%20%5B126.9877052521691%2C%2037.63265610340949%5D%2C%20%5B126.9933714170822%2C%2037.62922019292486%5D%2C%20%5B126.99529660787617%2C%2037.62923863577322%5D%2C%20%5B126.99614706382866%2C%2037.62719717129899%5D%2C%20%5B126.99867431516041%2C%2037.626297613391166%5D%2C%20%5B127.00210238658002%2C%2037.622984514557714%5D%2C%20%5B127.00997935126598%2C%2037.62111906051553%5D%2C%20%5B127.00960949401902%2C%2037.61822603840364%5D%2C%20%5B127.01060611893628%2C%2037.615741236385354%5D%2C%20%5B127.0128154749523%2C%2037.613652243470256%5D%2C%20%5B127.01685658093551%2C%2037.61280115359516%5D%2C%20%5B127.02136282940177%2C%2037.610961475137174%5D%2C%20%5B127.02433990415497%2C%2037.60847763545628%5D%2C%20%5B127.02851994524015%2C%2037.60987827182396%5D%2C%20%5B127.03229982090541%2C%2037.609536104167034%5D%2C%20%5B127.03251659844592%2C%2037.60634705009134%5D%2C%20%5B127.03892400992301%2C%2037.609715611023816%5D%2C%20%5B127.0419720518426%2C%2037.612838591864076%5D%2C%20%5B127.0460676006384%2C%2037.615885647801704%5D%2C%20%5B127.04887981022048%2C%2037.61973841113549%5D%2C%20%5B127.05209373568619%2C%2037.62164065487782%5D%2C%20%5B127.05631594723272%2C%2037.61738373018764%5D%2C%20%5B127.06412260483201%2C%2037.6115839902766%5D%2C%20%5B127.06726783142085%2C%2037.61136014256744%5D%2C%20%5B127.07011594002495%2C%2037.6127769191002%5D%2C%20%5B127.07351243825278%2C%2037.61283660342313%5D%2C%20%5B127.07382707099227%2C%2037.60401928986419%5D%2C%20%5B127.07257736686556%2C%2037.60654335765868%5D%2C%20%5B127.07069716820665%2C%2037.60653037341939%5D%2C%20%5B127.07084342033339%2C%2037.60407877132597%5D%2C%20%5B127.06753185518703%2C%2037.602724214598744%5D%2C%20%5B127.06424828533608%2C%2037.60234356864383%5D%2C%20%5B127.0612685122857%2C%2037.59823077263369%5D%2C%20%5B127.059485363799%2C%2037.598743571420485%5D%2C%20%5B127.05413734593897%2C%2037.5971595374718%5D%2C%20%5B127.05238061017225%2C%2037.598312271275574%5D%2C%20%5B127.04975439355248%2C%2037.59349421284317%5D%2C%20%5B127.0461318196879%2C%2037.593514180513594%5D%2C%20%5B127.042705222094%2C%2037.59239437593391%5D%2C%20%5B127.04116895171082%2C%2037.58847599306138%5D%2C%20%5B127.0384945038446%2C%2037.587129138658426%5D%2C%20%5B127.03121630347839%2C%2037.57957997701485%5D%2C%20%5B127.02527254528003%2C%2037.57524616245249%5D%2C%20%5B127.02395698453867%2C%2037.576068086896726%5D%2C%20%5B127.02039107536422%2C%2037.575771872553595%5D%2C%20%5B127.01849412471284%2C%2037.57904760334465%5D%2C%20%5B127.01678966486051%2C%2037.57943162455397%5D%2C%20%5B127.01094467951529%2C%2037.57765758282494%5D%2C%20%5B127.00914513999258%2C%2037.57928387879304%5D%2C%20%5B127.00896672237498%2C%2037.582512606964876%5D%2C%20%5B127.00803641804285%2C%2037.5841154647404%5D%2C%20%5B127.00453322588274%2C%2037.58626325611708%5D%2C%20%5B127.00304474231643%2C%2037.58959898679736%5D%2C%20%5B126.99774058571116%2C%2037.58944568945197%5D%2C%20%5B126.99647930158565%2C%2037.58845217708608%5D%2C%20%5B126.99348293358314%2C%2037.588565457216156%5D%2C%20%5B126.98858114244759%2C%2037.58971272682123%5D%2C%20%5B126.98596926877026%2C%2037.59105697466976%5D%2C%20%5B126.98411250331745%2C%2037.59305007059415%5D%2C%20%5B126.98366752610544%2C%2037.596350797276386%5D%2C%20%5B126.98700989661556%2C%2037.59664611897289%5D%2C%20%5B126.98984276495587%2C%2037.59842301677683%5D%2C%20%5B126.9880021251863%2C%2037.60434406739665%5D%2C%20%5B126.98906118629816%2C%2037.60778324866486%5D%2C%20%5B126.98879865992384%2C%2037.6118927319756%5D%2C%20%5B126.9849070918475%2C%2037.61390303132951%5D%2C%20%5B126.98297129719916%2C%2037.61996223346171%5D%2C%20%5B126.98130955822086%2C%2037.621781567952816%5D%2C%20%5B126.98162508963613%2C%2037.626412913357804%5D%2C%20%5B126.97877284074367%2C%2037.62605559220399%5D%2C%20%5B126.977175406416%2C%2037.62859715400388%5D%5D%5D%2C%20%22type%22%3A%20%22Polygon%22%7D%2C%20%22properties%22%3A%20%7B%22base_year%22%3A%20%222013%22%2C%20%22code%22%3A%20%2211080%22%2C%20%22name%22%3A%20%22%5Cuc131%5Cubd81%5Cuad6c%22%2C%20%22name_eng%22%3A%20%22Seongbuk-gu%22%7D%2C%20%22type%22%3A%20%22Feature%22%7D%2C%20%7B%22geometry%22%3A%20%7B%22coordinates%22%3A%20%5B%5B%5B127.07351243825278%2C%2037.61283660342313%5D%2C%20%5B127.08325130652017%2C%2037.61626773063051%5D%2C%20%5B127.08796048322492%2C%2037.617471883010936%5D%2C%20%5B127.09125855705382%2C%2037.61703046232404%5D%2C%20%5B127.09825969127313%2C%2037.61431077622918%5D%2C%20%5B127.10191523948123%2C%2037.61531698025357%5D%2C%20%5B127.10361952102048%2C%2037.61701182935077%5D%2C%20%5B127.10782277688129%2C%2037.61804244241069%5D%2C%20%5B127.11345331993296%2C%2037.617863842655304%5D%2C%20%5B127.11916337651404%2C%2037.615000227833356%5D%2C%20%5B127.1187755615964%2C%2037.61339189160851%5D%2C%20%5B127.11970006573152%2C%2037.60891483985411%5D%2C%20%5B127.11876125411283%2C%2037.606109446640644%5D%2C%20%5B127.12043057261968%2C%2037.60482121408794%5D%2C%20%5B127.1201246020114%2C%2037.60178457598188%5D%2C%20%5B127.11594480655864%2C%2037.59717030173888%5D%2C%20%5B127.1161657841268%2C%2037.5962121213837%5D%2C%20%5B127.12048134936907%2C%2037.59221917979044%5D%2C%20%5B127.11993709114493%2C%2037.5912110652886%5D%2C%20%5B127.11547153661459%2C%2037.590528329194775%5D%2C%20%5B127.11264015185725%2C%2037.58640964166709%5D%2C%20%5B127.11144053497418%2C%2037.58186897928644%5D%2C%20%5B127.10355419751173%2C%2037.58101570870827%5D%2C%20%5B127.10488038804347%2C%2037.57896712496416%5D%2C%20%5B127.10478332632734%2C%2037.575507303239235%5D%2C%20%5B127.10316405057817%2C%2037.57293156986855%5D%2C%20%5B127.10304174249214%2C%2037.57076342290955%5D%2C%20%5B127.1015990771266%2C%2037.56973288819573%5D%2C%20%5B127.09327554832984%2C%2037.566762290300666%5D%2C%20%5B127.08553261581505%2C%2037.56856310839328%5D%2C%20%5B127.08068541280403%2C%2037.56906425519017%5D%2C%20%5B127.08029626481297%2C%2037.57521980955321%5D%2C%20%5B127.07912345005859%2C%2037.57855657914261%5D%2C%20%5B127.07327401376529%2C%2037.585954498442064%5D%2C%20%5B127.07152840437725%2C%2037.593413161750675%5D%2C%20%5B127.07216156147413%2C%2037.59537631888819%5D%2C%20%5B127.07457336676376%2C%2037.5983180561341%5D%2C%20%5B127.07481016030349%2C%2037.60000012932336%5D%2C%20%5B127.07382707099227%2C%2037.60401928986419%5D%2C%20%5B127.07351243825278%2C%2037.61283660342313%5D%5D%5D%2C%20%22type%22%3A%20%22Polygon%22%7D%2C%20%22properties%22%3A%20%7B%22base_year%22%3A%20%222013%22%2C%20%22code%22%3A%20%2211070%22%2C%20%22name%22%3A%20%22%5Cuc911%5Cub791%5Cuad6c%22%2C%20%22name_eng%22%3A%20%22Jungnang-gu%22%7D%2C%20%22type%22%3A%20%22Feature%22%7D%2C%20%7B%22geometry%22%3A%20%7B%22coordinates%22%3A%20%5B%5B%5B127.02527254528003%2C%2037.57524616245249%5D%2C%20%5B127.03121630347839%2C%2037.57957997701485%5D%2C%20%5B127.0384945038446%2C%2037.587129138658426%5D%2C%20%5B127.04116895171082%2C%2037.58847599306138%5D%2C%20%5B127.042705222094%2C%2037.59239437593391%5D%2C%20%5B127.0461318196879%2C%2037.593514180513594%5D%2C%20%5B127.04975439355248%2C%2037.59349421284317%5D%2C%20%5B127.05238061017225%2C%2037.598312271275574%5D%2C%20%5B127.05413734593897%2C%2037.5971595374718%5D%2C%20%5B127.059485363799%2C%2037.598743571420485%5D%2C%20%5B127.0612685122857%2C%2037.59823077263369%5D%2C%20%5B127.06424828533608%2C%2037.60234356864383%5D%2C%20%5B127.06753185518703%2C%2037.602724214598744%5D%2C%20%5B127.07084342033339%2C%2037.60407877132597%5D%2C%20%5B127.07069716820665%2C%2037.60653037341939%5D%2C%20%5B127.07257736686556%2C%2037.60654335765868%5D%2C%20%5B127.07382707099227%2C%2037.60401928986419%5D%2C%20%5B127.07481016030349%2C%2037.60000012932336%5D%2C%20%5B127.07457336676376%2C%2037.5983180561341%5D%2C%20%5B127.07216156147413%2C%2037.59537631888819%5D%2C%20%5B127.07152840437725%2C%2037.593413161750675%5D%2C%20%5B127.07327401376529%2C%2037.585954498442064%5D%2C%20%5B127.07912345005859%2C%2037.57855657914261%5D%2C%20%5B127.08029626481297%2C%2037.57521980955321%5D%2C%20%5B127.08068541280403%2C%2037.56906425519017%5D%2C%20%5B127.07421053024362%2C%2037.55724769712085%5D%2C%20%5B127.07287485628252%2C%2037.55777591771644%5D%2C%20%5B127.06151678590773%2C%2037.55942885203987%5D%2C%20%5B127.06031059899311%2C%2037.55992251180729%5D%2C%20%5B127.05005601081567%2C%2037.567577612590846%5D%2C%20%5B127.0442866611438%2C%2037.57022476304866%5D%2C%20%5B127.04003329296518%2C%2037.57010227772625%5D%2C%20%5B127.03483042272745%2C%2037.567549767306716%5D%2C%20%5B127.03182413083377%2C%2037.56712900013391%5D%2C%20%5B127.02547266349976%2C%2037.568943552237734%5D%2C%20%5B127.02527254528003%2C%2037.57524616245249%5D%5D%5D%2C%20%22type%22%3A%20%22Polygon%22%7D%2C%20%22properties%22%3A%20%7B%22base_year%22%3A%20%222013%22%2C%20%22code%22%3A%20%2211060%22%2C%20%22name%22%3A%20%22%5Cub3d9%5Cub300%5Cubb38%5Cuad6c%22%2C%20%22name_eng%22%3A%20%22Dongdaemun-gu%22%7D%2C%20%22type%22%3A%20%22Feature%22%7D%2C%20%7B%22geometry%22%3A%20%7B%22coordinates%22%3A%20%5B%5B%5B127.08068541280403%2C%2037.56906425519017%5D%2C%20%5B127.08553261581505%2C%2037.56856310839328%5D%2C%20%5B127.09327554832984%2C%2037.566762290300666%5D%2C%20%5B127.1015990771266%2C%2037.56973288819573%5D%2C%20%5B127.10304174249214%2C%2037.57076342290955%5D%2C%20%5B127.10627148043552%2C%2037.568124945986824%5D%2C%20%5B127.10545359063936%2C%2037.56685230388649%5D%2C%20%5B127.10407152037101%2C%2037.55958871940823%5D%2C%20%5B127.10325742736646%2C%2037.5572251707506%5D%2C%20%5B127.11270952006532%2C%2037.55702358575743%5D%2C%20%5B127.11519584981606%2C%2037.557533180704915%5D%2C%20%5B127.11600943681239%2C%2037.55580061507081%5D%2C%20%5B127.11600200349189%2C%2037.55053147511706%5D%2C%20%5B127.11418412219375%2C%2037.54474592090681%5D%2C%20%5B127.1116764203608%2C%2037.540669955324965%5D%2C%20%5B127.10484130265957%2C%2037.53120327509912%5D%2C%20%5B127.10087519791962%2C%2037.524841220167055%5D%2C%20%5B127.0943611414465%2C%2037.523984206117525%5D%2C%20%5B127.08639455667742%2C%2037.52161824624356%5D%2C%20%5B127.07968915919895%2C%2037.52077294752823%5D%2C%20%5B127.07496309841329%2C%2037.52091052765938%5D%2C%20%5B127.0690698130372%2C%2037.522279423505026%5D%2C%20%5B127.05867359288398%2C%2037.52629974922568%5D%2C%20%5B127.06896218881212%2C%2037.544361436565524%5D%2C%20%5B127.07580697427795%2C%2037.556641581290656%5D%2C%20%5B127.07421053024362%2C%2037.55724769712085%5D%2C%20%5B127.08068541280403%2C%2037.56906425519017%5D%5D%5D%2C%20%22type%22%3A%20%22Polygon%22%7D%2C%20%22properties%22%3A%20%7B%22base_year%22%3A%20%222013%22%2C%20%22code%22%3A%20%2211050%22%2C%20%22name%22%3A%20%22%5Cuad11%5Cuc9c4%5Cuad6c%22%2C%20%22name_eng%22%3A%20%22Gwangjin-gu%22%7D%2C%20%22type%22%3A%20%22Feature%22%7D%2C%20%7B%22geometry%22%3A%20%7B%22coordinates%22%3A%20%5B%5B%5B127.02547266349976%2C%2037.568943552237734%5D%2C%20%5B127.03182413083377%2C%2037.56712900013391%5D%2C%20%5B127.03483042272745%2C%2037.567549767306716%5D%2C%20%5B127.04003329296518%2C%2037.57010227772625%5D%2C%20%5B127.0442866611438%2C%2037.57022476304866%5D%2C%20%5B127.05005601081567%2C%2037.567577612590846%5D%2C%20%5B127.06031059899311%2C%2037.55992251180729%5D%2C%20%5B127.06151678590773%2C%2037.55942885203987%5D%2C%20%5B127.07287485628252%2C%2037.55777591771644%5D%2C%20%5B127.07421053024362%2C%2037.55724769712085%5D%2C%20%5B127.07580697427795%2C%2037.556641581290656%5D%2C%20%5B127.06896218881212%2C%2037.544361436565524%5D%2C%20%5B127.05867359288398%2C%2037.52629974922568%5D%2C%20%5B127.05116490008963%2C%2037.52975116557232%5D%2C%20%5B127.04903802830752%2C%2037.53140496708317%5D%2C%20%5B127.04806779588436%2C%2037.52970198575087%5D%2C%20%5B127.0319617044248%2C%2037.536064291470424%5D%2C%20%5B127.0269608080842%2C%2037.53484752757724%5D%2C%20%5B127.02302831890559%2C%2037.53231899582663%5D%2C%20%5B127.01689265453608%2C%2037.536101393926174%5D%2C%20%5B127.01157414590769%2C%2037.53677688273679%5D%2C%20%5B127.01043978345277%2C%2037.53905983303592%5D%2C%20%5B127.01070894177482%2C%2037.54118048964762%5D%2C%20%5B127.01172101406588%2C%2037.545252245650516%5D%2C%20%5B127.01376082027429%2C%2037.54571276061997%5D%2C%20%5B127.01889368846282%2C%2037.55057696424215%5D%2C%20%5B127.01951516360089%2C%2037.55318470254581%5D%2C%20%5B127.02174792168286%2C%2037.55473509405241%5D%2C%20%5B127.02496143707425%2C%2037.555070476260596%5D%2C%20%5B127.0257913546443%2C%2037.558352834264504%5D%2C%20%5B127.02836991434461%2C%2037.56019645010606%5D%2C%20%5B127.02881029425372%2C%2037.56219283885279%5D%2C%20%5B127.02571971403893%2C%2037.56237200595601%5D%2C%20%5B127.02547266349976%2C%2037.568943552237734%5D%5D%5D%2C%20%22type%22%3A%20%22Polygon%22%7D%2C%20%22properties%22%3A%20%7B%22base_year%22%3A%20%222013%22%2C%20%22code%22%3A%20%2211040%22%2C%20%22name%22%3A%20%22%5Cuc131%5Cub3d9%5Cuad6c%22%2C%20%22name_eng%22%3A%20%22Seongdong-gu%22%7D%2C%20%22type%22%3A%20%22Feature%22%7D%2C%20%7B%22geometry%22%3A%20%7B%22coordinates%22%3A%20%5B%5B%5B127.01070894177482%2C%2037.54118048964762%5D%2C%20%5B127.01043978345277%2C%2037.53905983303592%5D%2C%20%5B127.01157414590769%2C%2037.53677688273679%5D%2C%20%5B127.01689265453608%2C%2037.536101393926174%5D%2C%20%5B127.02302831890559%2C%2037.53231899582663%5D%2C%20%5B127.01397119667513%2C%2037.52503988289669%5D%2C%20%5B127.01022186960886%2C%2037.522020085671926%5D%2C%20%5B127.00818058911564%2C%2037.51877313923874%5D%2C%20%5B127.00583392114271%2C%2037.516905128452926%5D%2C%20%5B127.00011962020382%2C%2037.513901653034374%5D%2C%20%5B126.99148001917875%2C%2037.50990503427709%5D%2C%20%5B126.98948242685965%2C%2037.5108780134613%5D%2C%20%5B126.98458580602838%2C%2037.51070333105394%5D%2C%20%5B126.98223807916081%2C%2037.509314966770326%5D%2C%20%5B126.96670111119346%2C%2037.50997579058433%5D%2C%20%5B126.95950268374823%2C%2037.51249532165974%5D%2C%20%5B126.95551848909955%2C%2037.514736123015844%5D%2C%20%5B126.95249990298159%2C%2037.51722500741813%5D%2C%20%5B126.95003825019774%2C%2037.520781022055274%5D%2C%20%5B126.9488066464266%2C%2037.52424913252661%5D%2C%20%5B126.94566733083212%2C%2037.526617542453366%5D%2C%20%5B126.94717864071288%2C%2037.53213495568077%5D%2C%20%5B126.95340780191557%2C%2037.533494726370755%5D%2C%20%5B126.95926437828754%2C%2037.53897908363236%5D%2C%20%5B126.9605977865388%2C%2037.542661954880806%5D%2C%20%5B126.96231305253527%2C%2037.543511558047456%5D%2C%20%5B126.96401856825223%2C%2037.54584596959762%5D%2C%20%5B126.96604189284825%2C%2037.546894141748815%5D%2C%20%5B126.96448570553055%2C%2037.548705692021635%5D%2C%20%5B126.96782902931233%2C%2037.55132047039716%5D%2C%20%5B126.97427174983227%2C%2037.55109017579016%5D%2C%20%5B126.97859017732588%2C%2037.550336476582174%5D%2C%20%5B126.97925452152829%2C%2037.552184137181925%5D%2C%20%5B126.98262900956787%2C%2037.5506055959842%5D%2C%20%5B126.98584427779701%2C%2037.55023778139842%5D%2C%20%5B126.98752996903328%2C%2037.55094818807139%5D%2C%20%5B126.9899124474417%2C%2037.54869376545355%5D%2C%20%5B126.99238536723166%2C%2037.54862980831976%5D%2C%20%5B126.99742220893982%2C%2037.544438365587226%5D%2C%20%5B127.00062378484931%2C%2037.54713274618077%5D%2C%20%5B127.00478682371764%2C%2037.54680216333233%5D%2C%20%5B127.00632779182564%2C%2037.54757707053058%5D%2C%20%5B127.00694507580798%2C%2037.5433832956489%5D%2C%20%5B127.00936066823724%2C%2037.54101133407434%5D%2C%20%5B127.01070894177482%2C%2037.54118048964762%5D%5D%5D%2C%20%22type%22%3A%20%22Polygon%22%7D%2C%20%22properties%22%3A%20%7B%22base_year%22%3A%20%222013%22%2C%20%22code%22%3A%20%2211030%22%2C%20%22name%22%3A%20%22%5Cuc6a9%5Cuc0b0%5Cuad6c%22%2C%20%22name_eng%22%3A%20%22Yongsan-gu%22%7D%2C%20%22type%22%3A%20%22Feature%22%7D%2C%20%7B%22geometry%22%3A%20%7B%22coordinates%22%3A%20%5B%5B%5B127.02547266349976%2C%2037.568943552237734%5D%2C%20%5B127.02571971403893%2C%2037.56237200595601%5D%2C%20%5B127.02881029425372%2C%2037.56219283885279%5D%2C%20%5B127.02836991434461%2C%2037.56019645010606%5D%2C%20%5B127.0257913546443%2C%2037.558352834264504%5D%2C%20%5B127.02496143707425%2C%2037.555070476260596%5D%2C%20%5B127.02174792168286%2C%2037.55473509405241%5D%2C%20%5B127.01951516360089%2C%2037.55318470254581%5D%2C%20%5B127.01889368846282%2C%2037.55057696424215%5D%2C%20%5B127.01376082027429%2C%2037.54571276061997%5D%2C%20%5B127.01172101406588%2C%2037.545252245650516%5D%2C%20%5B127.01070894177482%2C%2037.54118048964762%5D%2C%20%5B127.00936066823724%2C%2037.54101133407434%5D%2C%20%5B127.00694507580798%2C%2037.5433832956489%5D%2C%20%5B127.00632779182564%2C%2037.54757707053058%5D%2C%20%5B127.00478682371764%2C%2037.54680216333233%5D%2C%20%5B127.00062378484931%2C%2037.54713274618077%5D%2C%20%5B126.99742220893982%2C%2037.544438365587226%5D%2C%20%5B126.99238536723166%2C%2037.54862980831976%5D%2C%20%5B126.9899124474417%2C%2037.54869376545355%5D%2C%20%5B126.98752996903328%2C%2037.55094818807139%5D%2C%20%5B126.98584427779701%2C%2037.55023778139842%5D%2C%20%5B126.98262900956787%2C%2037.5506055959842%5D%2C%20%5B126.97925452152829%2C%2037.552184137181925%5D%2C%20%5B126.97859017732588%2C%2037.550336476582174%5D%2C%20%5B126.97427174983227%2C%2037.55109017579016%5D%2C%20%5B126.96782902931233%2C%2037.55132047039716%5D%2C%20%5B126.96448570553055%2C%2037.548705692021635%5D%2C%20%5B126.96380145704283%2C%2037.55254525759954%5D%2C%20%5B126.96519694864509%2C%2037.55362533505407%5D%2C%20%5B126.96358226710812%2C%2037.55605635475154%5D%2C%20%5B126.96570855677983%2C%2037.556512377492325%5D%2C%20%5B126.96900073076728%2C%2037.55850929094393%5D%2C%20%5B126.97169209525231%2C%2037.55921654641677%5D%2C%20%5B126.96873633279075%2C%2037.56313604690827%5D%2C%20%5B126.97114791678374%2C%2037.56539818101368%5D%2C%20%5B126.97500684322326%2C%2037.566406971064836%5D%2C%20%5B126.97990305661519%2C%2037.5664536437083%5D%2C%20%5B126.9910070921652%2C%2037.565312022428806%5D%2C%20%5B126.99879870609924%2C%2037.56591346564579%5D%2C%20%5B127.00372480409301%2C%2037.56679519621814%5D%2C%20%5B127.01786686709805%2C%2037.56701276414023%5D%2C%20%5B127.02250839667563%2C%2037.56892943928301%5D%2C%20%5B127.02547266349976%2C%2037.568943552237734%5D%5D%5D%2C%20%22type%22%3A%20%22Polygon%22%7D%2C%20%22properties%22%3A%20%7B%22base_year%22%3A%20%222013%22%2C%20%22code%22%3A%20%2211020%22%2C%20%22name%22%3A%20%22%5Cuc911%5Cuad6c%22%2C%20%22name_eng%22%3A%20%22Jung-gu%22%7D%2C%20%22type%22%3A%20%22Feature%22%7D%2C%20%7B%22geometry%22%3A%20%7B%22coordinates%22%3A%20%5B%5B%5B126.9738864128702%2C%2037.62949634786888%5D%2C%20%5B126.977175406416%2C%2037.62859715400388%5D%2C%20%5B126.97877284074367%2C%2037.62605559220399%5D%2C%20%5B126.98162508963613%2C%2037.626412913357804%5D%2C%20%5B126.98130955822086%2C%2037.621781567952816%5D%2C%20%5B126.98297129719916%2C%2037.61996223346171%5D%2C%20%5B126.9849070918475%2C%2037.61390303132951%5D%2C%20%5B126.98879865992384%2C%2037.6118927319756%5D%2C%20%5B126.98906118629816%2C%2037.60778324866486%5D%2C%20%5B126.9880021251863%2C%2037.60434406739665%5D%2C%20%5B126.98984276495587%2C%2037.59842301677683%5D%2C%20%5B126.98700989661556%2C%2037.59664611897289%5D%2C%20%5B126.98366752610544%2C%2037.596350797276386%5D%2C%20%5B126.98411250331745%2C%2037.59305007059415%5D%2C%20%5B126.98596926877026%2C%2037.59105697466976%5D%2C%20%5B126.98858114244759%2C%2037.58971272682123%5D%2C%20%5B126.99348293358314%2C%2037.588565457216156%5D%2C%20%5B126.99647930158565%2C%2037.58845217708608%5D%2C%20%5B126.99774058571116%2C%2037.58944568945197%5D%2C%20%5B127.00304474231643%2C%2037.58959898679736%5D%2C%20%5B127.00453322588274%2C%2037.58626325611708%5D%2C%20%5B127.00803641804285%2C%2037.5841154647404%5D%2C%20%5B127.00896672237498%2C%2037.582512606964876%5D%2C%20%5B127.00914513999258%2C%2037.57928387879304%5D%2C%20%5B127.01094467951529%2C%2037.57765758282494%5D%2C%20%5B127.01678966486051%2C%2037.57943162455397%5D%2C%20%5B127.01849412471284%2C%2037.57904760334465%5D%2C%20%5B127.02039107536422%2C%2037.575771872553595%5D%2C%20%5B127.02395698453867%2C%2037.576068086896726%5D%2C%20%5B127.02527254528003%2C%2037.57524616245249%5D%2C%20%5B127.02547266349976%2C%2037.568943552237734%5D%2C%20%5B127.02250839667563%2C%2037.56892943928301%5D%2C%20%5B127.01786686709805%2C%2037.56701276414023%5D%2C%20%5B127.00372480409301%2C%2037.56679519621814%5D%2C%20%5B126.99879870609924%2C%2037.56591346564579%5D%2C%20%5B126.9910070921652%2C%2037.565312022428806%5D%2C%20%5B126.97990305661519%2C%2037.5664536437083%5D%2C%20%5B126.97500684322326%2C%2037.566406971064836%5D%2C%20%5B126.97114791678374%2C%2037.56539818101368%5D%2C%20%5B126.96873633279075%2C%2037.56313604690827%5D%2C%20%5B126.95565425846463%2C%2037.576080790881456%5D%2C%20%5B126.95789326971087%2C%2037.57793453336025%5D%2C%20%5B126.96177754536156%2C%2037.57970124256911%5D%2C%20%5B126.95879970726017%2C%2037.58189826471162%5D%2C%20%5B126.96048802632431%2C%2037.587202077053746%5D%2C%20%5B126.960424902266%2C%2037.58868913291801%5D%2C%20%5B126.95842779914786%2C%2037.592356673207824%5D%2C%20%5B126.95924434840931%2C%2037.59545024466215%5D%2C%20%5B126.95619178283661%2C%2037.59575826218021%5D%2C%20%5B126.95484771718951%2C%2037.59761368186209%5D%2C%20%5B126.95564117002459%2C%2037.601827148276776%5D%2C%20%5B126.95480868778256%2C%2037.60381765067903%5D%2C%20%5B126.9524752030572%2C%2037.60508692737045%5D%2C%20%5B126.95187994741721%2C%2037.60600915874973%5D%2C%20%5B126.95308190738618%2C%2037.60926681659027%5D%2C%20%5B126.95249458941419%2C%2037.61333750249896%5D%2C%20%5B126.95145384404022%2C%2037.61493028446385%5D%2C%20%5B126.9528332649861%2C%2037.6161065117682%5D%2C%20%5B126.95393421039743%2C%2037.61877981567335%5D%2C%20%5B126.95427017006129%2C%2037.622033431339425%5D%2C%20%5B126.95885198650147%2C%2037.6225761621008%5D%2C%20%5B126.96164158910712%2C%2037.62569322976388%5D%2C%20%5B126.97135221665513%2C%2037.62743418897386%5D%2C%20%5B126.9738864128702%2C%2037.62949634786888%5D%5D%5D%2C%20%22type%22%3A%20%22Polygon%22%7D%2C%20%22properties%22%3A%20%7B%22base_year%22%3A%20%222013%22%2C%20%22code%22%3A%20%2211010%22%2C%20%22name%22%3A%20%22%5Cuc885%5Cub85c%5Cuad6c%22%2C%20%22name_eng%22%3A%20%22Jongno-gu%22%7D%2C%20%22type%22%3A%20%22Feature%22%7D%5D%2C%20%22type%22%3A%20%22FeatureCollection%22%7D%29%3B%0A%0A%20%20%20%20%20%20%20%20%0A%20%20%20%20%0A%20%20%20%20var%20color_map_e8b4008f734e45f8b79a6303b666292d%20%3D%20%7B%7D%3B%0A%0A%20%20%20%20%0A%20%20%20%20color_map_e8b4008f734e45f8b79a6303b666292d.color%20%3D%20d3.scale.threshold%28%29%0A%20%20%20%20%20%20%20%20%20%20%20%20%20%20.domain%28%5B6.282457446798109%2C%206.289857967586985%2C%206.297258488375862%2C%206.304659009164737%2C%206.312059529953614%2C%206.3194600507424905%2C%206.326860571531367%2C%206.334261092320243%2C%206.341661613109119%2C%206.349062133897996%2C%206.356462654686872%2C%206.363863175475748%2C%206.3712636962646245%2C%206.378664217053501%2C%206.386064737842378%2C%206.393465258631253%2C%206.40086577942013%2C%206.408266300209006%2C%206.415666820997883%2C%206.4230673417867585%2C%206.430467862575635%2C%206.437868383364512%2C%206.445268904153388%2C%206.452669424942264%2C%206.46006994573114%2C%206.467470466520017%2C%206.474870987308893%2C%206.482271508097769%2C%206.489672028886646%2C%206.497072549675522%2C%206.504473070464399%2C%206.511873591253275%2C%206.519274112042151%2C%206.5266746328310274%2C%206.534075153619904%2C%206.54147567440878%2C%206.548876195197656%2C%206.556276715986533%2C%206.563677236775409%2C%206.571077757564286%2C%206.5784782783531615%2C%206.585878799142038%2C%206.5932793199309145%2C%206.600679840719791%2C%206.608080361508667%2C%206.615480882297543%2C%206.62288140308642%2C%206.630281923875296%2C%206.637682444664172%2C%206.6450829654530486%2C%206.652483486241925%2C%206.659884007030802%2C%206.667284527819677%2C%206.674685048608554%2C%206.68208556939743%2C%206.689486090186307%2C%206.696886610975183%2C%206.704287131764059%2C%206.711687652552936%2C%206.719088173341812%2C%206.726488694130689%2C%206.733889214919564%2C%206.741289735708441%2C%206.7486902564973175%2C%206.756090777286193%2C%206.76349129807507%2C%206.770891818863946%2C%206.778292339652823%2C%206.785692860441699%2C%206.793093381230575%2C%206.8004939020194515%2C%206.807894422808328%2C%206.815294943597204%2C%206.82269546438608%2C%206.830095985174957%2C%206.837496505963833%2C%206.84489702675271%2C%206.8522975475415855%2C%206.859698068330462%2C%206.867098589119339%2C%206.874499109908215%2C%206.881899630697091%2C%206.889300151485967%2C%206.896700672274844%2C%206.90410119306372%2C%206.911501713852596%2C%206.918902234641473%2C%206.926302755430349%2C%206.933703276219226%2C%206.941103797008101%2C%206.948504317796978%2C%206.955904838585854%2C%206.963305359374731%2C%206.970705880163607%2C%206.978106400952483%2C%206.98550692174136%2C%206.992907442530236%2C%207.000307963319113%2C%207.007708484107988%2C%207.015109004896865%2C%207.0225095256857415%2C%207.029910046474617%2C%207.037310567263494%2C%207.04471108805237%2C%207.052111608841247%2C%207.059512129630123%2C%207.066912650418999%2C%207.0743131712078755%2C%207.081713691996752%2C%207.089114212785629%2C%207.096514733574504%2C%207.103915254363381%2C%207.111315775152257%2C%207.118716295941134%2C%207.1261168167300095%2C%207.133517337518886%2C%207.140917858307763%2C%207.148318379096639%2C%207.155718899885515%2C%207.163119420674391%2C%207.170519941463268%2C%207.177920462252144%2C%207.18532098304102%2C%207.192721503829897%2C%207.200122024618773%2C%207.20752254540765%2C%207.214923066196525%2C%207.222323586985402%2C%207.229724107774278%2C%207.237124628563155%2C%207.244525149352031%2C%207.251925670140907%2C%207.259326190929784%2C%207.26672671171866%2C%207.274127232507537%2C%207.281527753296412%2C%207.288928274085289%2C%207.2963287948741655%2C%207.303729315663041%2C%207.311129836451918%2C%207.318530357240794%2C%207.325930878029671%2C%207.333331398818547%2C%207.340731919607423%2C%207.3481324403962995%2C%207.355532961185176%2C%207.362933481974052%2C%207.370334002762929%2C%207.377734523551805%2C%207.385135044340681%2C%207.392535565129558%2C%207.3999360859184335%2C%207.40733660670731%2C%207.414737127496187%2C%207.422137648285063%2C%207.42953816907394%2C%207.436938689862815%2C%207.444339210651692%2C%207.4517397314405684%2C%207.459140252229444%2C%207.466540773018321%2C%207.473941293807197%2C%207.481341814596074%2C%207.48874233538495%2C%207.496142856173826%2C%207.5035433769627025%2C%207.510943897751579%2C%207.518344418540455%2C%207.525744939329331%2C%207.533145460118208%2C%207.540545980907084%2C%207.547946501695961%2C%207.5553470224848365%2C%207.562747543273713%2C%207.5701480640625896%2C%207.577548584851465%2C%207.584949105640343%2C%207.592349626429218%2C%207.599750147218095%2C%207.607150668006971%2C%207.614551188795847%2C%207.621951709584724%2C%207.6293522303736%2C%207.636752751162476%2C%207.644153271951353%2C%207.651553792740229%2C%207.658954313529105%2C%207.666354834317982%2C%207.673755355106858%2C%207.681155875895734%2C%207.688556396684611%2C%207.695956917473487%2C%207.703357438262364%2C%207.710757959051239%2C%207.718158479840116%2C%207.7255590006289925%2C%207.732959521417868%2C%207.740360042206745%2C%207.747760562995621%2C%207.755161083784498%2C%207.762561604573374%2C%207.76996212536225%2C%207.7773626461511265%2C%207.784763166940003%2C%207.792163687728879%2C%207.799564208517755%2C%207.806964729306632%2C%207.814365250095508%2C%207.821765770884385%2C%207.8291662916732605%2C%207.836566812462137%2C%207.843967333251014%2C%207.851367854039889%2C%207.858768374828767%2C%207.866168895617642%2C%207.873569416406519%2C%207.880969937195395%2C%207.888370457984271%2C%207.895770978773148%2C%207.903171499562024%2C%207.9105720203509%2C%207.917972541139777%2C%207.925373061928653%2C%207.932773582717529%2C%207.940174103506406%2C%207.947574624295282%2C%207.954975145084158%2C%207.962375665873035%2C%207.969776186661911%2C%207.977176707450788%2C%207.984577228239663%2C%207.99197774902854%2C%207.9993782698174165%2C%208.006778790606292%2C%208.01417931139517%2C%208.021579832184045%2C%208.028980352972921%2C%208.036380873761798%2C%208.043781394550674%2C%208.051181915339551%2C%208.058582436128427%2C%208.065982956917303%2C%208.07338347770618%2C%208.080783998495056%2C%208.088184519283931%2C%208.095585040072809%2C%208.102985560861685%2C%208.11038608165056%2C%208.117786602439438%2C%208.125187123228313%2C%208.13258764401719%2C%208.139988164806066%2C%208.147388685594942%2C%208.15478920638382%2C%208.162189727172695%2C%208.169590247961573%2C%208.176990768750448%2C%208.184391289539324%2C%208.191791810328201%2C%208.199192331117077%2C%208.206592851905953%2C%208.21399337269483%2C%208.221393893483706%2C%208.228794414272583%2C%208.236194935061459%2C%208.243595455850334%2C%208.250995976639212%2C%208.258396497428087%2C%208.265797018216965%2C%208.27319753900584%2C%208.280598059794716%2C%208.287998580583594%2C%208.29539910137247%2C%208.302799622161345%2C%208.310200142950222%2C%208.317600663739098%2C%208.325001184527974%2C%208.332401705316851%2C%208.339802226105727%2C%208.347202746894604%2C%208.35460326768348%2C%208.362003788472357%2C%208.369404309261233%2C%208.376804830050109%2C%208.384205350838986%2C%208.391605871627862%2C%208.399006392416737%2C%208.406406913205615%2C%208.41380743399449%2C%208.421207954783366%2C%208.428608475572243%2C%208.43600899636112%2C%208.443409517149995%2C%208.450810037938872%2C%208.45821055872775%2C%208.465611079516625%2C%208.473011600305501%2C%208.480412121094378%2C%208.487812641883254%2C%208.49521316267213%2C%208.502613683461007%2C%208.510014204249883%2C%208.517414725038758%2C%208.524815245827636%2C%208.532215766616511%2C%208.539616287405387%2C%208.547016808194265%2C%208.55441732898314%2C%208.561817849772018%2C%208.569218370560893%2C%208.57661889134977%2C%208.584019412138646%2C%208.591419932927522%2C%208.5988204537164%2C%208.606220974505275%2C%208.61362149529415%2C%208.621022016083028%2C%208.628422536871904%2C%208.63582305766078%2C%208.643223578449657%2C%208.650624099238533%2C%208.658024620027408%2C%208.665425140816286%2C%208.672825661605163%2C%208.680226182394039%2C%208.687626703182914%2C%208.695027223971792%2C%208.702427744760667%2C%208.709828265549543%2C%208.71722878633842%2C%208.724629307127296%2C%208.732029827916172%2C%208.73943034870505%2C%208.746830869493925%2C%208.7542313902828%2C%208.761631911071678%2C%208.769032431860554%2C%208.77643295264943%2C%208.783833473438307%2C%208.791233994227184%2C%208.79863451501606%2C%208.806035035804936%2C%208.813435556593813%2C%208.820836077382689%2C%208.828236598171564%2C%208.835637118960442%2C%208.843037639749317%2C%208.850438160538193%2C%208.85783868132707%2C%208.865239202115946%2C%208.872639722904822%2C%208.8800402436937%2C%208.887440764482577%2C%208.894841285271452%2C%208.902241806060328%2C%208.909642326849205%2C%208.917042847638081%2C%208.924443368426957%2C%208.931843889215834%2C%208.93924441000471%2C%208.946644930793585%2C%208.954045451582463%2C%208.961445972371338%2C%208.968846493160214%2C%208.976247013949092%2C%208.983647534737967%2C%208.991048055526843%2C%208.99844857631572%2C%209.005849097104598%2C%209.013249617893473%2C%209.020650138682349%2C%209.028050659471226%2C%209.035451180260102%2C%209.042851701048978%2C%209.050252221837855%2C%209.05765274262673%2C%209.065053263415606%2C%209.072453784204484%2C%209.07985430499336%2C%209.087254825782235%2C%209.094655346571113%2C%209.102055867359988%2C%209.109456388148866%2C%209.116856908937741%2C%209.124257429726619%2C%209.131657950515494%2C%209.13905847130437%2C%209.146458992093248%2C%209.153859512882123%2C%209.161260033670999%2C%209.168660554459876%2C%209.176061075248752%2C%209.183461596037628%2C%209.190862116826505%2C%209.19826263761538%2C%209.205663158404256%2C%209.213063679193134%2C%209.220464199982011%2C%209.227864720770887%2C%209.235265241559762%2C%209.24266576234864%2C%209.250066283137516%2C%209.257466803926391%2C%209.264867324715269%2C%209.272267845504144%2C%209.27966836629302%2C%209.287068887081897%2C%209.294469407870773%2C%209.301869928659649%2C%209.309270449448526%2C%209.316670970237402%2C%209.324071491026277%2C%209.331472011815155%2C%209.338872532604032%2C%209.346273053392908%2C%209.353673574181784%2C%209.361074094970661%2C%209.368474615759537%2C%209.375875136548412%2C%209.38327565733729%2C%209.390676178126165%2C%209.398076698915041%2C%209.405477219703918%2C%209.412877740492794%2C%209.42027826128167%2C%209.427678782070547%2C%209.435079302859425%2C%209.4424798236483%2C%209.449880344437176%2C%209.457280865226053%2C%209.464681386014929%2C%209.472081906803805%2C%209.479482427592682%2C%209.486882948381558%2C%209.494283469170433%2C%209.50168398995931%2C%209.509084510748187%2C%209.516485031537062%2C%209.52388555232594%2C%209.531286073114815%2C%209.538686593903691%2C%209.546087114692568%2C%209.553487635481446%2C%209.560888156270321%2C%209.568288677059197%2C%209.575689197848074%2C%209.58308971863695%2C%209.590490239425826%2C%209.597890760214703%2C%209.605291281003579%2C%209.612691801792455%2C%209.620092322581332%2C%209.627492843370208%2C%209.634893364159083%2C%209.64229388494796%2C%209.649694405736836%2C%209.657094926525714%2C%209.66449544731459%2C%209.671895968103467%2C%209.679296488892343%2C%209.686697009681218%2C%209.694097530470096%2C%209.701498051258971%2C%209.708898572047847%2C%209.716299092836724%2C%209.7236996136256%2C%209.731100134414476%2C%209.738500655203353%2C%209.745901175992229%2C%209.753301696781104%2C%209.760702217569982%2C%209.76810273835886%2C%209.775503259147735%2C%209.78290377993661%2C%209.790304300725488%2C%209.797704821514364%2C%209.80510534230324%2C%209.812505863092117%2C%209.819906383880992%2C%209.827306904669868%2C%209.834707425458745%2C%209.842107946247621%2C%209.849508467036497%2C%209.856908987825374%2C%209.86430950861425%2C%209.871710029403127%2C%209.879110550192003%2C%209.88651107098088%2C%209.893911591769756%2C%209.901312112558632%2C%209.908712633347509%2C%209.916113154136385%2C%209.92351367492526%2C%209.930914195714138%2C%209.938314716503013%2C%209.945715237291889%2C%209.953115758080767%2C%209.960516278869642%2C%209.967916799658518%2C%209.975317320447395%5D%29%0A%20%20%20%20%20%20%20%20%20%20%20%20%20%20.range%28%5B%27%23eff3ffff%27%2C%20%27%23eff3ffff%27%2C%20%27%23eff3ffff%27%2C%20%27%23eff3ffff%27%2C%20%27%23eff3ffff%27%2C%20%27%23eff3ffff%27%2C%20%27%23eff3ffff%27%2C%20%27%23eff3ffff%27%2C%20%27%23eff3ffff%27%2C%20%27%23eff3ffff%27%2C%20%27%23eff3ffff%27%2C%20%27%23eff3ffff%27%2C%20%27%23eff3ffff%27%2C%20%27%23eff3ffff%27%2C%20%27%23eff3ffff%27%2C%20%27%23eff3ffff%27%2C%20%27%23eff3ffff%27%2C%20%27%23eff3ffff%27%2C%20%27%23eff3ffff%27%2C%20%27%23eff3ffff%27%2C%20%27%23eff3ffff%27%2C%20%27%23eff3ffff%27%2C%20%27%23eff3ffff%27%2C%20%27%23eff3ffff%27%2C%20%27%23eff3ffff%27%2C%20%27%23eff3ffff%27%2C%20%27%23eff3ffff%27%2C%20%27%23eff3ffff%27%2C%20%27%23eff3ffff%27%2C%20%27%23eff3ffff%27%2C%20%27%23eff3ffff%27%2C%20%27%23eff3ffff%27%2C%20%27%23eff3ffff%27%2C%20%27%23eff3ffff%27%2C%20%27%23eff3ffff%27%2C%20%27%23eff3ffff%27%2C%20%27%23eff3ffff%27%2C%20%27%23eff3ffff%27%2C%20%27%23eff3ffff%27%2C%20%27%23eff3ffff%27%2C%20%27%23eff3ffff%27%2C%20%27%23eff3ffff%27%2C%20%27%23eff3ffff%27%2C%20%27%23eff3ffff%27%2C%20%27%23eff3ffff%27%2C%20%27%23eff3ffff%27%2C%20%27%23eff3ffff%27%2C%20%27%23eff3ffff%27%2C%20%27%23eff3ffff%27%2C%20%27%23eff3ffff%27%2C%20%27%23eff3ffff%27%2C%20%27%23eff3ffff%27%2C%20%27%23eff3ffff%27%2C%20%27%23eff3ffff%27%2C%20%27%23eff3ffff%27%2C%20%27%23eff3ffff%27%2C%20%27%23eff3ffff%27%2C%20%27%23eff3ffff%27%2C%20%27%23eff3ffff%27%2C%20%27%23eff3ffff%27%2C%20%27%23eff3ffff%27%2C%20%27%23eff3ffff%27%2C%20%27%23eff3ffff%27%2C%20%27%23eff3ffff%27%2C%20%27%23eff3ffff%27%2C%20%27%23eff3ffff%27%2C%20%27%23eff3ffff%27%2C%20%27%23eff3ffff%27%2C%20%27%23eff3ffff%27%2C%20%27%23eff3ffff%27%2C%20%27%23eff3ffff%27%2C%20%27%23eff3ffff%27%2C%20%27%23eff3ffff%27%2C%20%27%23eff3ffff%27%2C%20%27%23eff3ffff%27%2C%20%27%23eff3ffff%27%2C%20%27%23eff3ffff%27%2C%20%27%23eff3ffff%27%2C%20%27%23eff3ffff%27%2C%20%27%23eff3ffff%27%2C%20%27%23eff3ffff%27%2C%20%27%23eff3ffff%27%2C%20%27%23eff3ffff%27%2C%20%27%23eff3ffff%27%2C%20%27%23c6dbefff%27%2C%20%27%23c6dbefff%27%2C%20%27%23c6dbefff%27%2C%20%27%23c6dbefff%27%2C%20%27%23c6dbefff%27%2C%20%27%23c6dbefff%27%2C%20%27%23c6dbefff%27%2C%20%27%23c6dbefff%27%2C%20%27%23c6dbefff%27%2C%20%27%23c6dbefff%27%2C%20%27%23c6dbefff%27%2C%20%27%23c6dbefff%27%2C%20%27%23c6dbefff%27%2C%20%27%23c6dbefff%27%2C%20%27%23c6dbefff%27%2C%20%27%23c6dbefff%27%2C%20%27%23c6dbefff%27%2C%20%27%23c6dbefff%27%2C%20%27%23c6dbefff%27%2C%20%27%23c6dbefff%27%2C%20%27%23c6dbefff%27%2C%20%27%23c6dbefff%27%2C%20%27%23c6dbefff%27%2C%20%27%23c6dbefff%27%2C%20%27%23c6dbefff%27%2C%20%27%23c6dbefff%27%2C%20%27%23c6dbefff%27%2C%20%27%23c6dbefff%27%2C%20%27%23c6dbefff%27%2C%20%27%23c6dbefff%27%2C%20%27%23c6dbefff%27%2C%20%27%23c6dbefff%27%2C%20%27%23c6dbefff%27%2C%20%27%23c6dbefff%27%2C%20%27%23c6dbefff%27%2C%20%27%23c6dbefff%27%2C%20%27%23c6dbefff%27%2C%20%27%23c6dbefff%27%2C%20%27%23c6dbefff%27%2C%20%27%23c6dbefff%27%2C%20%27%23c6dbefff%27%2C%20%27%23c6dbefff%27%2C%20%27%23c6dbefff%27%2C%20%27%23c6dbefff%27%2C%20%27%23c6dbefff%27%2C%20%27%23c6dbefff%27%2C%20%27%23c6dbefff%27%2C%20%27%23c6dbefff%27%2C%20%27%23c6dbefff%27%2C%20%27%23c6dbefff%27%2C%20%27%23c6dbefff%27%2C%20%27%23c6dbefff%27%2C%20%27%23c6dbefff%27%2C%20%27%23c6dbefff%27%2C%20%27%23c6dbefff%27%2C%20%27%23c6dbefff%27%2C%20%27%23c6dbefff%27%2C%20%27%23c6dbefff%27%2C%20%27%23c6dbefff%27%2C%20%27%23c6dbefff%27%2C%20%27%23c6dbefff%27%2C%20%27%23c6dbefff%27%2C%20%27%23c6dbefff%27%2C%20%27%23c6dbefff%27%2C%20%27%23c6dbefff%27%2C%20%27%23c6dbefff%27%2C%20%27%23c6dbefff%27%2C%20%27%23c6dbefff%27%2C%20%27%23c6dbefff%27%2C%20%27%23c6dbefff%27%2C%20%27%23c6dbefff%27%2C%20%27%23c6dbefff%27%2C%20%27%23c6dbefff%27%2C%20%27%23c6dbefff%27%2C%20%27%23c6dbefff%27%2C%20%27%23c6dbefff%27%2C%20%27%23c6dbefff%27%2C%20%27%23c6dbefff%27%2C%20%27%23c6dbefff%27%2C%20%27%23c6dbefff%27%2C%20%27%23c6dbefff%27%2C%20%27%23c6dbefff%27%2C%20%27%23c6dbefff%27%2C%20%27%239ecae1ff%27%2C%20%27%239ecae1ff%27%2C%20%27%239ecae1ff%27%2C%20%27%239ecae1ff%27%2C%20%27%239ecae1ff%27%2C%20%27%239ecae1ff%27%2C%20%27%239ecae1ff%27%2C%20%27%239ecae1ff%27%2C%20%27%239ecae1ff%27%2C%20%27%239ecae1ff%27%2C%20%27%239ecae1ff%27%2C%20%27%239ecae1ff%27%2C%20%27%239ecae1ff%27%2C%20%27%239ecae1ff%27%2C%20%27%239ecae1ff%27%2C%20%27%239ecae1ff%27%2C%20%27%239ecae1ff%27%2C%20%27%239ecae1ff%27%2C%20%27%239ecae1ff%27%2C%20%27%239ecae1ff%27%2C%20%27%239ecae1ff%27%2C%20%27%239ecae1ff%27%2C%20%27%239ecae1ff%27%2C%20%27%239ecae1ff%27%2C%20%27%239ecae1ff%27%2C%20%27%239ecae1ff%27%2C%20%27%239ecae1ff%27%2C%20%27%239ecae1ff%27%2C%20%27%239ecae1ff%27%2C%20%27%239ecae1ff%27%2C%20%27%239ecae1ff%27%2C%20%27%239ecae1ff%27%2C%20%27%239ecae1ff%27%2C%20%27%239ecae1ff%27%2C%20%27%239ecae1ff%27%2C%20%27%239ecae1ff%27%2C%20%27%239ecae1ff%27%2C%20%27%239ecae1ff%27%2C%20%27%239ecae1ff%27%2C%20%27%239ecae1ff%27%2C%20%27%239ecae1ff%27%2C%20%27%239ecae1ff%27%2C%20%27%239ecae1ff%27%2C%20%27%239ecae1ff%27%2C%20%27%239ecae1ff%27%2C%20%27%239ecae1ff%27%2C%20%27%239ecae1ff%27%2C%20%27%239ecae1ff%27%2C%20%27%239ecae1ff%27%2C%20%27%239ecae1ff%27%2C%20%27%239ecae1ff%27%2C%20%27%239ecae1ff%27%2C%20%27%239ecae1ff%27%2C%20%27%239ecae1ff%27%2C%20%27%239ecae1ff%27%2C%20%27%239ecae1ff%27%2C%20%27%239ecae1ff%27%2C%20%27%239ecae1ff%27%2C%20%27%239ecae1ff%27%2C%20%27%239ecae1ff%27%2C%20%27%239ecae1ff%27%2C%20%27%239ecae1ff%27%2C%20%27%239ecae1ff%27%2C%20%27%239ecae1ff%27%2C%20%27%239ecae1ff%27%2C%20%27%239ecae1ff%27%2C%20%27%239ecae1ff%27%2C%20%27%239ecae1ff%27%2C%20%27%239ecae1ff%27%2C%20%27%239ecae1ff%27%2C%20%27%239ecae1ff%27%2C%20%27%239ecae1ff%27%2C%20%27%239ecae1ff%27%2C%20%27%239ecae1ff%27%2C%20%27%239ecae1ff%27%2C%20%27%239ecae1ff%27%2C%20%27%239ecae1ff%27%2C%20%27%239ecae1ff%27%2C%20%27%239ecae1ff%27%2C%20%27%239ecae1ff%27%2C%20%27%239ecae1ff%27%2C%20%27%239ecae1ff%27%2C%20%27%239ecae1ff%27%2C%20%27%236baed6ff%27%2C%20%27%236baed6ff%27%2C%20%27%236baed6ff%27%2C%20%27%236baed6ff%27%2C%20%27%236baed6ff%27%2C%20%27%236baed6ff%27%2C%20%27%236baed6ff%27%2C%20%27%236baed6ff%27%2C%20%27%236baed6ff%27%2C%20%27%236baed6ff%27%2C%20%27%236baed6ff%27%2C%20%27%236baed6ff%27%2C%20%27%236baed6ff%27%2C%20%27%236baed6ff%27%2C%20%27%236baed6ff%27%2C%20%27%236baed6ff%27%2C%20%27%236baed6ff%27%2C%20%27%236baed6ff%27%2C%20%27%236baed6ff%27%2C%20%27%236baed6ff%27%2C%20%27%236baed6ff%27%2C%20%27%236baed6ff%27%2C%20%27%236baed6ff%27%2C%20%27%236baed6ff%27%2C%20%27%236baed6ff%27%2C%20%27%236baed6ff%27%2C%20%27%236baed6ff%27%2C%20%27%236baed6ff%27%2C%20%27%236baed6ff%27%2C%20%27%236baed6ff%27%2C%20%27%236baed6ff%27%2C%20%27%236baed6ff%27%2C%20%27%236baed6ff%27%2C%20%27%236baed6ff%27%2C%20%27%236baed6ff%27%2C%20%27%236baed6ff%27%2C%20%27%236baed6ff%27%2C%20%27%236baed6ff%27%2C%20%27%236baed6ff%27%2C%20%27%236baed6ff%27%2C%20%27%236baed6ff%27%2C%20%27%236baed6ff%27%2C%20%27%236baed6ff%27%2C%20%27%236baed6ff%27%2C%20%27%236baed6ff%27%2C%20%27%236baed6ff%27%2C%20%27%236baed6ff%27%2C%20%27%236baed6ff%27%2C%20%27%236baed6ff%27%2C%20%27%236baed6ff%27%2C%20%27%236baed6ff%27%2C%20%27%236baed6ff%27%2C%20%27%236baed6ff%27%2C%20%27%236baed6ff%27%2C%20%27%236baed6ff%27%2C%20%27%236baed6ff%27%2C%20%27%236baed6ff%27%2C%20%27%236baed6ff%27%2C%20%27%236baed6ff%27%2C%20%27%236baed6ff%27%2C%20%27%236baed6ff%27%2C%20%27%236baed6ff%27%2C%20%27%236baed6ff%27%2C%20%27%236baed6ff%27%2C%20%27%236baed6ff%27%2C%20%27%236baed6ff%27%2C%20%27%236baed6ff%27%2C%20%27%236baed6ff%27%2C%20%27%236baed6ff%27%2C%20%27%236baed6ff%27%2C%20%27%236baed6ff%27%2C%20%27%236baed6ff%27%2C%20%27%236baed6ff%27%2C%20%27%236baed6ff%27%2C%20%27%236baed6ff%27%2C%20%27%236baed6ff%27%2C%20%27%236baed6ff%27%2C%20%27%236baed6ff%27%2C%20%27%236baed6ff%27%2C%20%27%236baed6ff%27%2C%20%27%236baed6ff%27%2C%20%27%236baed6ff%27%2C%20%27%236baed6ff%27%2C%20%27%233182bdff%27%2C%20%27%233182bdff%27%2C%20%27%233182bdff%27%2C%20%27%233182bdff%27%2C%20%27%233182bdff%27%2C%20%27%233182bdff%27%2C%20%27%233182bdff%27%2C%20%27%233182bdff%27%2C%20%27%233182bdff%27%2C%20%27%233182bdff%27%2C%20%27%233182bdff%27%2C%20%27%233182bdff%27%2C%20%27%233182bdff%27%2C%20%27%233182bdff%27%2C%20%27%233182bdff%27%2C%20%27%233182bdff%27%2C%20%27%233182bdff%27%2C%20%27%233182bdff%27%2C%20%27%233182bdff%27%2C%20%27%233182bdff%27%2C%20%27%233182bdff%27%2C%20%27%233182bdff%27%2C%20%27%233182bdff%27%2C%20%27%233182bdff%27%2C%20%27%233182bdff%27%2C%20%27%233182bdff%27%2C%20%27%233182bdff%27%2C%20%27%233182bdff%27%2C%20%27%233182bdff%27%2C%20%27%233182bdff%27%2C%20%27%233182bdff%27%2C%20%27%233182bdff%27%2C%20%27%233182bdff%27%2C%20%27%233182bdff%27%2C%20%27%233182bdff%27%2C%20%27%233182bdff%27%2C%20%27%233182bdff%27%2C%20%27%233182bdff%27%2C%20%27%233182bdff%27%2C%20%27%233182bdff%27%2C%20%27%233182bdff%27%2C%20%27%233182bdff%27%2C%20%27%233182bdff%27%2C%20%27%233182bdff%27%2C%20%27%233182bdff%27%2C%20%27%233182bdff%27%2C%20%27%233182bdff%27%2C%20%27%233182bdff%27%2C%20%27%233182bdff%27%2C%20%27%233182bdff%27%2C%20%27%233182bdff%27%2C%20%27%233182bdff%27%2C%20%27%233182bdff%27%2C%20%27%233182bdff%27%2C%20%27%233182bdff%27%2C%20%27%233182bdff%27%2C%20%27%233182bdff%27%2C%20%27%233182bdff%27%2C%20%27%233182bdff%27%2C%20%27%233182bdff%27%2C%20%27%233182bdff%27%2C%20%27%233182bdff%27%2C%20%27%233182bdff%27%2C%20%27%233182bdff%27%2C%20%27%233182bdff%27%2C%20%27%233182bdff%27%2C%20%27%233182bdff%27%2C%20%27%233182bdff%27%2C%20%27%233182bdff%27%2C%20%27%233182bdff%27%2C%20%27%233182bdff%27%2C%20%27%233182bdff%27%2C%20%27%233182bdff%27%2C%20%27%233182bdff%27%2C%20%27%233182bdff%27%2C%20%27%233182bdff%27%2C%20%27%233182bdff%27%2C%20%27%233182bdff%27%2C%20%27%233182bdff%27%2C%20%27%233182bdff%27%2C%20%27%233182bdff%27%2C%20%27%233182bdff%27%2C%20%27%233182bdff%27%2C%20%27%2308519cff%27%2C%20%27%2308519cff%27%2C%20%27%2308519cff%27%2C%20%27%2308519cff%27%2C%20%27%2308519cff%27%2C%20%27%2308519cff%27%2C%20%27%2308519cff%27%2C%20%27%2308519cff%27%2C%20%27%2308519cff%27%2C%20%27%2308519cff%27%2C%20%27%2308519cff%27%2C%20%27%2308519cff%27%2C%20%27%2308519cff%27%2C%20%27%2308519cff%27%2C%20%27%2308519cff%27%2C%20%27%2308519cff%27%2C%20%27%2308519cff%27%2C%20%27%2308519cff%27%2C%20%27%2308519cff%27%2C%20%27%2308519cff%27%2C%20%27%2308519cff%27%2C%20%27%2308519cff%27%2C%20%27%2308519cff%27%2C%20%27%2308519cff%27%2C%20%27%2308519cff%27%2C%20%27%2308519cff%27%2C%20%27%2308519cff%27%2C%20%27%2308519cff%27%2C%20%27%2308519cff%27%2C%20%27%2308519cff%27%2C%20%27%2308519cff%27%2C%20%27%2308519cff%27%2C%20%27%2308519cff%27%2C%20%27%2308519cff%27%2C%20%27%2308519cff%27%2C%20%27%2308519cff%27%2C%20%27%2308519cff%27%2C%20%27%2308519cff%27%2C%20%27%2308519cff%27%2C%20%27%2308519cff%27%2C%20%27%2308519cff%27%2C%20%27%2308519cff%27%2C%20%27%2308519cff%27%2C%20%27%2308519cff%27%2C%20%27%2308519cff%27%2C%20%27%2308519cff%27%2C%20%27%2308519cff%27%2C%20%27%2308519cff%27%2C%20%27%2308519cff%27%2C%20%27%2308519cff%27%2C%20%27%2308519cff%27%2C%20%27%2308519cff%27%2C%20%27%2308519cff%27%2C%20%27%2308519cff%27%2C%20%27%2308519cff%27%2C%20%27%2308519cff%27%2C%20%27%2308519cff%27%2C%20%27%2308519cff%27%2C%20%27%2308519cff%27%2C%20%27%2308519cff%27%2C%20%27%2308519cff%27%2C%20%27%2308519cff%27%2C%20%27%2308519cff%27%2C%20%27%2308519cff%27%2C%20%27%2308519cff%27%2C%20%27%2308519cff%27%2C%20%27%2308519cff%27%2C%20%27%2308519cff%27%2C%20%27%2308519cff%27%2C%20%27%2308519cff%27%2C%20%27%2308519cff%27%2C%20%27%2308519cff%27%2C%20%27%2308519cff%27%2C%20%27%2308519cff%27%2C%20%27%2308519cff%27%2C%20%27%2308519cff%27%2C%20%27%2308519cff%27%2C%20%27%2308519cff%27%2C%20%27%2308519cff%27%2C%20%27%2308519cff%27%2C%20%27%2308519cff%27%2C%20%27%2308519cff%27%2C%20%27%2308519cff%27%2C%20%27%2308519cff%27%5D%29%3B%0A%20%20%20%20%0A%0A%20%20%20%20color_map_e8b4008f734e45f8b79a6303b666292d.x%20%3D%20d3.scale.linear%28%29%0A%20%20%20%20%20%20%20%20%20%20%20%20%20%20.domain%28%5B6.282457446798109%2C%209.975317320447395%5D%29%0A%20%20%20%20%20%20%20%20%20%20%20%20%20%20.range%28%5B0%2C%20400%5D%29%3B%0A%0A%20%20%20%20color_map_e8b4008f734e45f8b79a6303b666292d.legend%20%3D%20L.control%28%7Bposition%3A%20%27topright%27%7D%29%3B%0A%20%20%20%20color_map_e8b4008f734e45f8b79a6303b666292d.legend.onAdd%20%3D%20function%20%28map%29%20%7Bvar%20div%20%3D%20L.DomUtil.create%28%27div%27%2C%20%27legend%27%29%3B%20return%20div%7D%3B%0A%20%20%20%20color_map_e8b4008f734e45f8b79a6303b666292d.legend.addTo%28map_a2612f8f4c9e428eaee7e4e4b0e1b9e8%29%3B%0A%0A%20%20%20%20color_map_e8b4008f734e45f8b79a6303b666292d.xAxis%20%3D%20d3.svg.axis%28%29%0A%20%20%20%20%20%20%20%20.scale%28color_map_e8b4008f734e45f8b79a6303b666292d.x%29%0A%20%20%20%20%20%20%20%20.orient%28%22top%22%29%0A%20%20%20%20%20%20%20%20.tickSize%281%29%0A%20%20%20%20%20%20%20%20.tickValues%28%5B6.282457446798109%2C%206.897934092406323%2C%207.513410738014538%2C%208.128887383622752%2C%208.744364029230967%2C%209.35984067483918%2C%209.975317320447395%5D%29%3B%0A%0A%20%20%20%20color_map_e8b4008f734e45f8b79a6303b666292d.svg%20%3D%20d3.select%28%22.legend.leaflet-control%22%29.append%28%22svg%22%29%0A%20%20%20%20%20%20%20%20.attr%28%22id%22%2C%20%27legend%27%29%0A%20%20%20%20%20%20%20%20.attr%28%22width%22%2C%20450%29%0A%20%20%20%20%20%20%20%20.attr%28%22height%22%2C%2040%29%3B%0A%0A%20%20%20%20color_map_e8b4008f734e45f8b79a6303b666292d.g%20%3D%20color_map_e8b4008f734e45f8b79a6303b666292d.svg.append%28%22g%22%29%0A%20%20%20%20%20%20%20%20.attr%28%22class%22%2C%20%22key%22%29%0A%20%20%20%20%20%20%20%20.attr%28%22transform%22%2C%20%22translate%2825%2C16%29%22%29%3B%0A%0A%20%20%20%20color_map_e8b4008f734e45f8b79a6303b666292d.g.selectAll%28%22rect%22%29%0A%20%20%20%20%20%20%20%20.data%28color_map_e8b4008f734e45f8b79a6303b666292d.color.range%28%29.map%28function%28d%2C%20i%29%20%7B%0A%20%20%20%20%20%20%20%20%20%20return%20%7B%0A%20%20%20%20%20%20%20%20%20%20%20%20x0%3A%20i%20%3F%20color_map_e8b4008f734e45f8b79a6303b666292d.x%28color_map_e8b4008f734e45f8b79a6303b666292d.color.domain%28%29%5Bi%20-%201%5D%29%20%3A%20color_map_e8b4008f734e45f8b79a6303b666292d.x.range%28%29%5B0%5D%2C%0A%20%20%20%20%20%20%20%20%20%20%20%20x1%3A%20i%20%3C%20color_map_e8b4008f734e45f8b79a6303b666292d.color.domain%28%29.length%20%3F%20color_map_e8b4008f734e45f8b79a6303b666292d.x%28color_map_e8b4008f734e45f8b79a6303b666292d.color.domain%28%29%5Bi%5D%29%20%3A%20color_map_e8b4008f734e45f8b79a6303b666292d.x.range%28%29%5B1%5D%2C%0A%20%20%20%20%20%20%20%20%20%20%20%20z%3A%20d%0A%20%20%20%20%20%20%20%20%20%20%7D%3B%0A%20%20%20%20%20%20%20%20%7D%29%29%0A%20%20%20%20%20%20.enter%28%29.append%28%22rect%22%29%0A%20%20%20%20%20%20%20%20.attr%28%22height%22%2C%2010%29%0A%20%20%20%20%20%20%20%20.attr%28%22x%22%2C%20function%28d%29%20%7B%20return%20d.x0%3B%20%7D%29%0A%20%20%20%20%20%20%20%20.attr%28%22width%22%2C%20function%28d%29%20%7B%20return%20d.x1%20-%20d.x0%3B%20%7D%29%0A%20%20%20%20%20%20%20%20.style%28%22fill%22%2C%20function%28d%29%20%7B%20return%20d.z%3B%20%7D%29%3B%0A%0A%20%20%20%20color_map_e8b4008f734e45f8b79a6303b666292d.g.call%28color_map_e8b4008f734e45f8b79a6303b666292d.xAxis%29.append%28%22text%22%29%0A%20%20%20%20%20%20%20%20.attr%28%22class%22%2C%20%22caption%22%29%0A%20%20%20%20%20%20%20%20.attr%28%22y%22%2C%2021%29%0A%20%20%20%20%20%20%20%20.text%28%27%27%29%3B%0A%3C/script%3E onload=\"this.contentDocument.open();this.contentDocument.write(    decodeURIComponent(this.getAttribute('data-html')));this.contentDocument.close();\" allowfullscreen webkitallowfullscreen mozallowfullscreen></iframe></div></div>"
      ],
      "text/plain": [
       "<folium.folium.Map at 0x2329f5adac0>"
      ]
     },
     "execution_count": 77,
     "metadata": {},
     "output_type": "execute_result"
    }
   ],
   "source": [
    "m = folium.Map(location = [37.566345, 126.977893], tiles = 'Stamen Terrain')\n",
    "folium.Choropleth(geo_data = geo_json,\n",
    "                 name = 'choropleth',\n",
    "                 data= data,\n",
    "                 columns = ['gu','value'],\n",
    "                 key_on = 'feature.properties.name',\n",
    "                 fill_color ='Blues',\n",
    "                 fill_opacity = 0.7,\n",
    "                 line_opacity=0.2).add_to(m)\n",
    "\n",
    "m"
   ]
  },
  {
   "cell_type": "markdown",
   "metadata": {},
   "source": [
    "# corr 시각화"
   ]
  },
  {
   "cell_type": "code",
   "execution_count": 78,
   "metadata": {},
   "outputs": [
    {
     "data": {
      "text/html": [
       "<div>\n",
       "<style scoped>\n",
       "    .dataframe tbody tr th:only-of-type {\n",
       "        vertical-align: middle;\n",
       "    }\n",
       "\n",
       "    .dataframe tbody tr th {\n",
       "        vertical-align: top;\n",
       "    }\n",
       "\n",
       "    .dataframe thead th {\n",
       "        text-align: right;\n",
       "    }\n",
       "</style>\n",
       "<table border=\"1\" class=\"dataframe\">\n",
       "  <thead>\n",
       "    <tr style=\"text-align: right;\">\n",
       "      <th></th>\n",
       "      <th>gu</th>\n",
       "      <th>corr</th>\n",
       "    </tr>\n",
       "    <tr>\n",
       "      <th>구명</th>\n",
       "      <th></th>\n",
       "      <th></th>\n",
       "    </tr>\n",
       "  </thead>\n",
       "  <tbody>\n",
       "    <tr>\n",
       "      <th>강남구</th>\n",
       "      <td>강남구</td>\n",
       "      <td>0.353835</td>\n",
       "    </tr>\n",
       "    <tr>\n",
       "      <th>강동구</th>\n",
       "      <td>강동구</td>\n",
       "      <td>0.357752</td>\n",
       "    </tr>\n",
       "    <tr>\n",
       "      <th>강북구</th>\n",
       "      <td>강북구</td>\n",
       "      <td>0.059296</td>\n",
       "    </tr>\n",
       "    <tr>\n",
       "      <th>강서구</th>\n",
       "      <td>강서구</td>\n",
       "      <td>0.059794</td>\n",
       "    </tr>\n",
       "    <tr>\n",
       "      <th>관악구</th>\n",
       "      <td>관악구</td>\n",
       "      <td>0.028056</td>\n",
       "    </tr>\n",
       "    <tr>\n",
       "      <th>광진구</th>\n",
       "      <td>광진구</td>\n",
       "      <td>-0.072988</td>\n",
       "    </tr>\n",
       "    <tr>\n",
       "      <th>구로구</th>\n",
       "      <td>구로구</td>\n",
       "      <td>0.009128</td>\n",
       "    </tr>\n",
       "    <tr>\n",
       "      <th>금천구</th>\n",
       "      <td>금천구</td>\n",
       "      <td>-0.055928</td>\n",
       "    </tr>\n",
       "    <tr>\n",
       "      <th>노원구</th>\n",
       "      <td>노원구</td>\n",
       "      <td>-0.053132</td>\n",
       "    </tr>\n",
       "    <tr>\n",
       "      <th>도봉구</th>\n",
       "      <td>도봉구</td>\n",
       "      <td>-0.119338</td>\n",
       "    </tr>\n",
       "    <tr>\n",
       "      <th>동대문구</th>\n",
       "      <td>동대문구</td>\n",
       "      <td>-0.059432</td>\n",
       "    </tr>\n",
       "    <tr>\n",
       "      <th>동작구</th>\n",
       "      <td>동작구</td>\n",
       "      <td>0.103573</td>\n",
       "    </tr>\n",
       "    <tr>\n",
       "      <th>마포구</th>\n",
       "      <td>마포구</td>\n",
       "      <td>0.192497</td>\n",
       "    </tr>\n",
       "    <tr>\n",
       "      <th>서대문구</th>\n",
       "      <td>서대문구</td>\n",
       "      <td>-0.086045</td>\n",
       "    </tr>\n",
       "    <tr>\n",
       "      <th>서초구</th>\n",
       "      <td>서초구</td>\n",
       "      <td>0.205538</td>\n",
       "    </tr>\n",
       "    <tr>\n",
       "      <th>성동구</th>\n",
       "      <td>성동구</td>\n",
       "      <td>0.023061</td>\n",
       "    </tr>\n",
       "    <tr>\n",
       "      <th>성북구</th>\n",
       "      <td>성북구</td>\n",
       "      <td>-0.014401</td>\n",
       "    </tr>\n",
       "    <tr>\n",
       "      <th>송파구</th>\n",
       "      <td>송파구</td>\n",
       "      <td>0.151628</td>\n",
       "    </tr>\n",
       "    <tr>\n",
       "      <th>양천구</th>\n",
       "      <td>양천구</td>\n",
       "      <td>0.165675</td>\n",
       "    </tr>\n",
       "    <tr>\n",
       "      <th>영등포구</th>\n",
       "      <td>영등포구</td>\n",
       "      <td>-0.031407</td>\n",
       "    </tr>\n",
       "    <tr>\n",
       "      <th>용산구</th>\n",
       "      <td>용산구</td>\n",
       "      <td>0.279378</td>\n",
       "    </tr>\n",
       "    <tr>\n",
       "      <th>은평구</th>\n",
       "      <td>은평구</td>\n",
       "      <td>0.024503</td>\n",
       "    </tr>\n",
       "    <tr>\n",
       "      <th>종로구</th>\n",
       "      <td>종로구</td>\n",
       "      <td>0.267230</td>\n",
       "    </tr>\n",
       "    <tr>\n",
       "      <th>중구</th>\n",
       "      <td>중구</td>\n",
       "      <td>0.237959</td>\n",
       "    </tr>\n",
       "    <tr>\n",
       "      <th>중랑구</th>\n",
       "      <td>중랑구</td>\n",
       "      <td>-0.033184</td>\n",
       "    </tr>\n",
       "  </tbody>\n",
       "</table>\n",
       "</div>"
      ],
      "text/plain": [
       "        gu      corr\n",
       "구명                  \n",
       "강남구    강남구  0.353835\n",
       "강동구    강동구  0.357752\n",
       "강북구    강북구  0.059296\n",
       "강서구    강서구  0.059794\n",
       "관악구    관악구  0.028056\n",
       "광진구    광진구 -0.072988\n",
       "구로구    구로구  0.009128\n",
       "금천구    금천구 -0.055928\n",
       "노원구    노원구 -0.053132\n",
       "도봉구    도봉구 -0.119338\n",
       "동대문구  동대문구 -0.059432\n",
       "동작구    동작구  0.103573\n",
       "마포구    마포구  0.192497\n",
       "서대문구  서대문구 -0.086045\n",
       "서초구    서초구  0.205538\n",
       "성동구    성동구  0.023061\n",
       "성북구    성북구 -0.014401\n",
       "송파구    송파구  0.151628\n",
       "양천구    양천구  0.165675\n",
       "영등포구  영등포구 -0.031407\n",
       "용산구    용산구  0.279378\n",
       "은평구    은평구  0.024503\n",
       "종로구    종로구  0.267230\n",
       "중구      중구  0.237959\n",
       "중랑구    중랑구 -0.033184"
      ]
     },
     "execution_count": 78,
     "metadata": {},
     "output_type": "execute_result"
    }
   ],
   "source": [
    "## corr_df 정제\n",
    "corr_df = corr_df.drop(['corona_people'])\n",
    "corr_df"
   ]
  },
  {
   "cell_type": "code",
   "execution_count": 79,
   "metadata": {},
   "outputs": [
    {
     "data": {
      "text/html": [
       "<div style=\"width:100%;\"><div style=\"position:relative;width:100%;height:0;padding-bottom:60%;\"><span style=\"color:#565656\">Make this Notebook Trusted to load map: File -> Trust Notebook</span><iframe src=\"about:blank\" style=\"position:absolute;width:100%;height:100%;left:0;top:0;border:none !important;\" data-html=%3C%21DOCTYPE%20html%3E%0A%3Chead%3E%20%20%20%20%0A%20%20%20%20%3Cmeta%20http-equiv%3D%22content-type%22%20content%3D%22text/html%3B%20charset%3DUTF-8%22%20/%3E%0A%20%20%20%20%0A%20%20%20%20%20%20%20%20%3Cscript%3E%0A%20%20%20%20%20%20%20%20%20%20%20%20L_NO_TOUCH%20%3D%20false%3B%0A%20%20%20%20%20%20%20%20%20%20%20%20L_DISABLE_3D%20%3D%20false%3B%0A%20%20%20%20%20%20%20%20%3C/script%3E%0A%20%20%20%20%0A%20%20%20%20%3Cstyle%3Ehtml%2C%20body%20%7Bwidth%3A%20100%25%3Bheight%3A%20100%25%3Bmargin%3A%200%3Bpadding%3A%200%3B%7D%3C/style%3E%0A%20%20%20%20%3Cstyle%3E%23map%20%7Bposition%3Aabsolute%3Btop%3A0%3Bbottom%3A0%3Bright%3A0%3Bleft%3A0%3B%7D%3C/style%3E%0A%20%20%20%20%3Cscript%20src%3D%22https%3A//cdn.jsdelivr.net/npm/leaflet%401.6.0/dist/leaflet.js%22%3E%3C/script%3E%0A%20%20%20%20%3Cscript%20src%3D%22https%3A//code.jquery.com/jquery-1.12.4.min.js%22%3E%3C/script%3E%0A%20%20%20%20%3Cscript%20src%3D%22https%3A//maxcdn.bootstrapcdn.com/bootstrap/3.2.0/js/bootstrap.min.js%22%3E%3C/script%3E%0A%20%20%20%20%3Cscript%20src%3D%22https%3A//cdnjs.cloudflare.com/ajax/libs/Leaflet.awesome-markers/2.0.2/leaflet.awesome-markers.js%22%3E%3C/script%3E%0A%20%20%20%20%3Clink%20rel%3D%22stylesheet%22%20href%3D%22https%3A//cdn.jsdelivr.net/npm/leaflet%401.6.0/dist/leaflet.css%22/%3E%0A%20%20%20%20%3Clink%20rel%3D%22stylesheet%22%20href%3D%22https%3A//maxcdn.bootstrapcdn.com/bootstrap/3.2.0/css/bootstrap.min.css%22/%3E%0A%20%20%20%20%3Clink%20rel%3D%22stylesheet%22%20href%3D%22https%3A//maxcdn.bootstrapcdn.com/bootstrap/3.2.0/css/bootstrap-theme.min.css%22/%3E%0A%20%20%20%20%3Clink%20rel%3D%22stylesheet%22%20href%3D%22https%3A//maxcdn.bootstrapcdn.com/font-awesome/4.6.3/css/font-awesome.min.css%22/%3E%0A%20%20%20%20%3Clink%20rel%3D%22stylesheet%22%20href%3D%22https%3A//cdnjs.cloudflare.com/ajax/libs/Leaflet.awesome-markers/2.0.2/leaflet.awesome-markers.css%22/%3E%0A%20%20%20%20%3Clink%20rel%3D%22stylesheet%22%20href%3D%22https%3A//cdn.jsdelivr.net/gh/python-visualization/folium/folium/templates/leaflet.awesome.rotate.min.css%22/%3E%0A%20%20%20%20%0A%20%20%20%20%20%20%20%20%20%20%20%20%3Cmeta%20name%3D%22viewport%22%20content%3D%22width%3Ddevice-width%2C%0A%20%20%20%20%20%20%20%20%20%20%20%20%20%20%20%20initial-scale%3D1.0%2C%20maximum-scale%3D1.0%2C%20user-scalable%3Dno%22%20/%3E%0A%20%20%20%20%20%20%20%20%20%20%20%20%3Cstyle%3E%0A%20%20%20%20%20%20%20%20%20%20%20%20%20%20%20%20%23map_9b5bcbf948b047f79bc07cf3235cea1c%20%7B%0A%20%20%20%20%20%20%20%20%20%20%20%20%20%20%20%20%20%20%20%20position%3A%20relative%3B%0A%20%20%20%20%20%20%20%20%20%20%20%20%20%20%20%20%20%20%20%20width%3A%20100.0%25%3B%0A%20%20%20%20%20%20%20%20%20%20%20%20%20%20%20%20%20%20%20%20height%3A%20100.0%25%3B%0A%20%20%20%20%20%20%20%20%20%20%20%20%20%20%20%20%20%20%20%20left%3A%200.0%25%3B%0A%20%20%20%20%20%20%20%20%20%20%20%20%20%20%20%20%20%20%20%20top%3A%200.0%25%3B%0A%20%20%20%20%20%20%20%20%20%20%20%20%20%20%20%20%7D%0A%20%20%20%20%20%20%20%20%20%20%20%20%3C/style%3E%0A%20%20%20%20%20%20%20%20%0A%20%20%20%20%3Cscript%20src%3D%22https%3A//cdnjs.cloudflare.com/ajax/libs/d3/3.5.5/d3.min.js%22%3E%3C/script%3E%0A%3C/head%3E%0A%3Cbody%3E%20%20%20%20%0A%20%20%20%20%0A%20%20%20%20%20%20%20%20%20%20%20%20%3Cdiv%20class%3D%22folium-map%22%20id%3D%22map_9b5bcbf948b047f79bc07cf3235cea1c%22%20%3E%3C/div%3E%0A%20%20%20%20%20%20%20%20%0A%3C/body%3E%0A%3Cscript%3E%20%20%20%20%0A%20%20%20%20%0A%20%20%20%20%20%20%20%20%20%20%20%20var%20map_9b5bcbf948b047f79bc07cf3235cea1c%20%3D%20L.map%28%0A%20%20%20%20%20%20%20%20%20%20%20%20%20%20%20%20%22map_9b5bcbf948b047f79bc07cf3235cea1c%22%2C%0A%20%20%20%20%20%20%20%20%20%20%20%20%20%20%20%20%7B%0A%20%20%20%20%20%20%20%20%20%20%20%20%20%20%20%20%20%20%20%20center%3A%20%5B37.566345%2C%20126.977893%5D%2C%0A%20%20%20%20%20%20%20%20%20%20%20%20%20%20%20%20%20%20%20%20crs%3A%20L.CRS.EPSG3857%2C%0A%20%20%20%20%20%20%20%20%20%20%20%20%20%20%20%20%20%20%20%20zoom%3A%2010%2C%0A%20%20%20%20%20%20%20%20%20%20%20%20%20%20%20%20%20%20%20%20zoomControl%3A%20true%2C%0A%20%20%20%20%20%20%20%20%20%20%20%20%20%20%20%20%20%20%20%20preferCanvas%3A%20false%2C%0A%20%20%20%20%20%20%20%20%20%20%20%20%20%20%20%20%7D%0A%20%20%20%20%20%20%20%20%20%20%20%20%29%3B%0A%0A%20%20%20%20%20%20%20%20%20%20%20%20%0A%0A%20%20%20%20%20%20%20%20%0A%20%20%20%20%0A%20%20%20%20%20%20%20%20%20%20%20%20var%20tile_layer_5fe25bd156b542af971d00eb10973f0a%20%3D%20L.tileLayer%28%0A%20%20%20%20%20%20%20%20%20%20%20%20%20%20%20%20%22https%3A//stamen-tiles-%7Bs%7D.a.ssl.fastly.net/terrain/%7Bz%7D/%7Bx%7D/%7By%7D.jpg%22%2C%0A%20%20%20%20%20%20%20%20%20%20%20%20%20%20%20%20%7B%22attribution%22%3A%20%22Map%20tiles%20by%20%5Cu003ca%20href%3D%5C%22http%3A//stamen.com%5C%22%5Cu003eStamen%20Design%5Cu003c/a%5Cu003e%2C%20under%20%5Cu003ca%20href%3D%5C%22http%3A//creativecommons.org/licenses/by/3.0%5C%22%5Cu003eCC%20BY%203.0%5Cu003c/a%5Cu003e.%20Data%20by%20%5Cu0026copy%3B%20%5Cu003ca%20href%3D%5C%22http%3A//openstreetmap.org%5C%22%5Cu003eOpenStreetMap%5Cu003c/a%5Cu003e%2C%20under%20%5Cu003ca%20href%3D%5C%22http%3A//creativecommons.org/licenses/by-sa/3.0%5C%22%5Cu003eCC%20BY%20SA%5Cu003c/a%5Cu003e.%22%2C%20%22detectRetina%22%3A%20false%2C%20%22maxNativeZoom%22%3A%2018%2C%20%22maxZoom%22%3A%2018%2C%20%22minZoom%22%3A%200%2C%20%22noWrap%22%3A%20false%2C%20%22opacity%22%3A%201%2C%20%22subdomains%22%3A%20%22abc%22%2C%20%22tms%22%3A%20false%7D%0A%20%20%20%20%20%20%20%20%20%20%20%20%29.addTo%28map_9b5bcbf948b047f79bc07cf3235cea1c%29%3B%0A%20%20%20%20%20%20%20%20%0A%20%20%20%20%0A%20%20%20%20%20%20%20%20%20%20%20%20var%20choropleth_bd191f3292d04b79a1dcdcefca73ff3e%20%3D%20L.featureGroup%28%0A%20%20%20%20%20%20%20%20%20%20%20%20%20%20%20%20%7B%7D%0A%20%20%20%20%20%20%20%20%20%20%20%20%29.addTo%28map_9b5bcbf948b047f79bc07cf3235cea1c%29%3B%0A%20%20%20%20%20%20%20%20%0A%20%20%20%20%0A%20%20%20%20%20%20%20%20function%20geo_json_36a6ac96f58547949a7dd5a5ff1c47ac_styler%28feature%29%20%7B%0A%20%20%20%20%20%20%20%20%20%20%20%20switch%28feature.properties.code%29%20%7B%0A%20%20%20%20%20%20%20%20%20%20%20%20%20%20%20%20case%20%2211250%22%3A%20case%20%2211230%22%3A%20case%20%2211030%22%3A%20%0A%20%20%20%20%20%20%20%20%20%20%20%20%20%20%20%20%20%20%20%20return%20%7B%22color%22%3A%20%22black%22%2C%20%22fillColor%22%3A%20%22%2308519c%22%2C%20%22fillOpacity%22%3A%200.7%2C%20%22opacity%22%3A%200.2%2C%20%22weight%22%3A%201%7D%3B%0A%20%20%20%20%20%20%20%20%20%20%20%20%20%20%20%20case%20%2211240%22%3A%20case%20%2211150%22%3A%20case%20%2211140%22%3A%20%0A%20%20%20%20%20%20%20%20%20%20%20%20%20%20%20%20%20%20%20%20return%20%7B%22color%22%3A%20%22black%22%2C%20%22fillColor%22%3A%20%22%236baed6%22%2C%20%22fillOpacity%22%3A%200.7%2C%20%22opacity%22%3A%200.2%2C%20%22weight%22%3A%201%7D%3B%0A%20%20%20%20%20%20%20%20%20%20%20%20%20%20%20%20case%20%2211220%22%3A%20case%20%2211020%22%3A%20case%20%2211010%22%3A%20%0A%20%20%20%20%20%20%20%20%20%20%20%20%20%20%20%20%20%20%20%20return%20%7B%22color%22%3A%20%22black%22%2C%20%22fillColor%22%3A%20%22%233182bd%22%2C%20%22fillOpacity%22%3A%200.7%2C%20%22opacity%22%3A%200.2%2C%20%22weight%22%3A%201%7D%3B%0A%20%20%20%20%20%20%20%20%20%20%20%20%20%20%20%20case%20%2211200%22%3A%20case%20%2211160%22%3A%20case%20%2211090%22%3A%20%0A%20%20%20%20%20%20%20%20%20%20%20%20%20%20%20%20%20%20%20%20return%20%7B%22color%22%3A%20%22black%22%2C%20%22fillColor%22%3A%20%22%239ecae1%22%2C%20%22fillOpacity%22%3A%200.7%2C%20%22opacity%22%3A%200.2%2C%20%22weight%22%3A%201%7D%3B%0A%20%20%20%20%20%20%20%20%20%20%20%20%20%20%20%20case%20%2211180%22%3A%20case%20%2211130%22%3A%20case%20%2211110%22%3A%20case%20%2211100%22%3A%20case%20%2211060%22%3A%20case%20%2211050%22%3A%20%0A%20%20%20%20%20%20%20%20%20%20%20%20%20%20%20%20%20%20%20%20return%20%7B%22color%22%3A%20%22black%22%2C%20%22fillColor%22%3A%20%22%23eff3ff%22%2C%20%22fillOpacity%22%3A%200.7%2C%20%22opacity%22%3A%200.2%2C%20%22weight%22%3A%201%7D%3B%0A%20%20%20%20%20%20%20%20%20%20%20%20%20%20%20%20default%3A%0A%20%20%20%20%20%20%20%20%20%20%20%20%20%20%20%20%20%20%20%20return%20%7B%22color%22%3A%20%22black%22%2C%20%22fillColor%22%3A%20%22%23c6dbef%22%2C%20%22fillOpacity%22%3A%200.7%2C%20%22opacity%22%3A%200.2%2C%20%22weight%22%3A%201%7D%3B%0A%20%20%20%20%20%20%20%20%20%20%20%20%7D%0A%20%20%20%20%20%20%20%20%7D%0A%0A%20%20%20%20%20%20%20%20function%20geo_json_36a6ac96f58547949a7dd5a5ff1c47ac_onEachFeature%28feature%2C%20layer%29%20%7B%0A%20%20%20%20%20%20%20%20%20%20%20%20layer.on%28%7B%0A%20%20%20%20%20%20%20%20%20%20%20%20%7D%29%3B%0A%20%20%20%20%20%20%20%20%7D%3B%0A%20%20%20%20%20%20%20%20var%20geo_json_36a6ac96f58547949a7dd5a5ff1c47ac%20%3D%20L.geoJson%28null%2C%20%7B%0A%20%20%20%20%20%20%20%20%20%20%20%20%20%20%20%20onEachFeature%3A%20geo_json_36a6ac96f58547949a7dd5a5ff1c47ac_onEachFeature%2C%0A%20%20%20%20%20%20%20%20%20%20%20%20%0A%20%20%20%20%20%20%20%20%20%20%20%20%20%20%20%20style%3A%20geo_json_36a6ac96f58547949a7dd5a5ff1c47ac_styler%2C%0A%20%20%20%20%20%20%20%20%7D%29%3B%0A%0A%20%20%20%20%20%20%20%20function%20geo_json_36a6ac96f58547949a7dd5a5ff1c47ac_add%20%28data%29%20%7B%0A%20%20%20%20%20%20%20%20%20%20%20%20geo_json_36a6ac96f58547949a7dd5a5ff1c47ac%0A%20%20%20%20%20%20%20%20%20%20%20%20%20%20%20%20.addData%28data%29%0A%20%20%20%20%20%20%20%20%20%20%20%20%20%20%20%20.addTo%28choropleth_bd191f3292d04b79a1dcdcefca73ff3e%29%3B%0A%20%20%20%20%20%20%20%20%7D%0A%20%20%20%20%20%20%20%20%20%20%20%20geo_json_36a6ac96f58547949a7dd5a5ff1c47ac_add%28%7B%22features%22%3A%20%5B%7B%22geometry%22%3A%20%7B%22coordinates%22%3A%20%5B%5B%5B127.11519584981606%2C%2037.557533180704915%5D%2C%20%5B127.11879551821994%2C%2037.557222485451305%5D%2C%20%5B127.12146867175024%2C%2037.55986003393365%5D%2C%20%5B127.12435254630417%2C%2037.56144246249796%5D%2C%20%5B127.13593925898998%2C%2037.56564793048277%5D%2C%20%5B127.14930548011061%2C%2037.56892250303897%5D%2C%20%5B127.15511020940411%2C%2037.57093642128295%5D%2C%20%5B127.16683184366129%2C%2037.57672487388627%5D%2C%20%5B127.17038810813094%2C%2037.576465605301046%5D%2C%20%5B127.17607118428914%2C%2037.57678573961056%5D%2C%20%5B127.17905504160184%2C%2037.57791388161732%5D%2C%20%5B127.17747787800164%2C%2037.57448983055031%5D%2C%20%5B127.1781775408844%2C%2037.571481967974336%5D%2C%20%5B127.17995281860672%2C%2037.569309661290504%5D%2C%20%5B127.18122821955262%2C%2037.56636089217979%5D%2C%20%5B127.18169407550688%2C%2037.56286338914073%5D%2C%20%5B127.18408792330152%2C%2037.55814280369575%5D%2C%20%5B127.18350810324185%2C%2037.550053002101485%5D%2C%20%5B127.1852644795464%2C%2037.54888592026534%5D%2C%20%5B127.18480906237207%2C%2037.545296888806796%5D%2C%20%5B127.18543378919821%2C%2037.54260756512178%5D%2C%20%5B127.18364810569703%2C%2037.54241347907019%5D%2C%20%5B127.18116465939269%2C%2037.54384126582126%5D%2C%20%5B127.17770860504257%2C%2037.542414255164374%5D%2C%20%5B127.1744373170213%2C%2037.54277723796397%5D%2C%20%5B127.16830424484573%2C%2037.54145405702079%5D%2C%20%5B127.16530984307447%2C%2037.54221851258693%5D%2C%20%5B127.15566835118616%2C%2037.53119520531309%5D%2C%20%5B127.15538075046105%2C%2037.52652930087977%5D%2C%20%5B127.15154315998161%2C%2037.522828709496416%5D%2C%20%5B127.14981542759394%2C%2037.51926843453025%5D%2C%20%5B127.14791518058246%2C%2037.51918714979303%5D%2C%20%5B127.14684644251928%2C%2037.51661384818575%5D%2C%20%5B127.14672806823502%2C%2037.51415680680291%5D%2C%20%5B127.14532023498624%2C%2037.51464060108829%5D%2C%20%5B127.12123165719615%2C%2037.52528270089%5D%2C%20%5B127.12251496040881%2C%2037.52751810228347%5D%2C%20%5B127.12532464331997%2C%2037.53572787912298%5D%2C%20%5B127.12061313033807%2C%2037.538129867839416%5D%2C%20%5B127.1116764203608%2C%2037.540669955324965%5D%2C%20%5B127.11418412219375%2C%2037.54474592090681%5D%2C%20%5B127.11600200349189%2C%2037.55053147511706%5D%2C%20%5B127.11600943681239%2C%2037.55580061507081%5D%2C%20%5B127.11519584981606%2C%2037.557533180704915%5D%5D%5D%2C%20%22type%22%3A%20%22Polygon%22%7D%2C%20%22properties%22%3A%20%7B%22base_year%22%3A%20%222013%22%2C%20%22code%22%3A%20%2211250%22%2C%20%22name%22%3A%20%22%5Cuac15%5Cub3d9%5Cuad6c%22%2C%20%22name_eng%22%3A%20%22Gangdong-gu%22%7D%2C%20%22type%22%3A%20%22Feature%22%7D%2C%20%7B%22geometry%22%3A%20%7B%22coordinates%22%3A%20%5B%5B%5B127.0690698130372%2C%2037.522279423505026%5D%2C%20%5B127.07496309841329%2C%2037.52091052765938%5D%2C%20%5B127.07968915919895%2C%2037.52077294752823%5D%2C%20%5B127.08639455667742%2C%2037.52161824624356%5D%2C%20%5B127.0943611414465%2C%2037.523984206117525%5D%2C%20%5B127.10087519791962%2C%2037.524841220167055%5D%2C%20%5B127.10484130265957%2C%2037.53120327509912%5D%2C%20%5B127.1116764203608%2C%2037.540669955324965%5D%2C%20%5B127.12061313033807%2C%2037.538129867839416%5D%2C%20%5B127.12532464331997%2C%2037.53572787912298%5D%2C%20%5B127.12251496040881%2C%2037.52751810228347%5D%2C%20%5B127.12123165719615%2C%2037.52528270089%5D%2C%20%5B127.14532023498624%2C%2037.51464060108829%5D%2C%20%5B127.14672806823502%2C%2037.51415680680291%5D%2C%20%5B127.14670263739373%2C%2037.512786602955565%5D%2C%20%5B127.14462782318448%2C%2037.511529542030715%5D%2C%20%5B127.14323992504048%2C%2037.50951977457089%5D%2C%20%5B127.1420864475393%2C%2037.50578973782813%5D%2C%20%5B127.14324986168657%2C%2037.502649431479774%5D%2C%20%5B127.1473517108062%2C%2037.50069754405746%5D%2C%20%5B127.14980119646964%2C%2037.50046502392898%5D%2C%20%5B127.15223804785649%2C%2037.50170492532197%5D%2C%20%5B127.15401160147654%2C%2037.500347919909956%5D%2C%20%5B127.16086308579277%2C%2037.49886565522751%5D%2C%20%5B127.1634944215765%2C%2037.497445406097484%5D%2C%20%5B127.16199885180917%2C%2037.49402577547199%5D%2C%20%5B127.16216448592424%2C%2037.491639601211624%5D%2C%20%5B127.16040295326431%2C%2037.4877818619403%5D%2C%20%5B127.15892216655034%2C%2037.486126922469445%5D%2C%20%5B127.15393282790794%2C%2037.48483891408459%5D%2C%20%5B127.15147990997852%2C%2037.47745324805034%5D%2C%20%5B127.1515017465549%2C%2037.475633269417585%5D%2C%20%5B127.14857580353349%2C%2037.47381386382568%5D%2C%20%5B127.14415938171436%2C%2037.473692508393505%5D%2C%20%5B127.14112111404233%2C%2037.470600239054825%5D%2C%20%5B127.13631568648837%2C%2037.47214721764681%5D%2C%20%5B127.13281577200672%2C%2037.47257463763244%5D%2C%20%5B127.13307493070646%2C%2037.468907694139894%5D%2C%20%5B127.13750907701846%2C%2037.46647058226059%5D%2C%20%5B127.13478085797742%2C%2037.46509524639883%5D%2C%20%5B127.1308437061496%2C%2037.46509985661207%5D%2C%20%5B127.12728991002369%2C%2037.46673043118672%5D%2C%20%5B127.12729757787379%2C%2037.46421548908766%5D%2C%20%5B127.12440571080893%2C%2037.46240445587048%5D%2C%20%5B127.12441393026374%2C%2037.46442715236855%5D%2C%20%5B127.12265007208167%2C%2037.46756987490939%5D%2C%20%5B127.11380709617507%2C%2037.479633334849325%5D%2C%20%5B127.1143875173445%2C%2037.48073157362458%5D%2C%20%5B127.11117085201238%2C%2037.485708381512445%5D%2C%20%5B127.1077937689776%2C%2037.48860875954992%5D%2C%20%5B127.10433125798602%2C%2037.490728250649646%5D%2C%20%5B127.0988509639092%2C%2037.49302529254068%5D%2C%20%5B127.08050206733888%2C%2037.49783151325589%5D%2C%20%5B127.0764808967127%2C%2037.498612695580306%5D%2C%20%5B127.0719146000724%2C%2037.50224013587669%5D%2C%20%5B127.06926628842805%2C%2037.51717796437217%5D%2C%20%5B127.06860425556381%2C%2037.51812758676938%5D%2C%20%5B127.0690698130372%2C%2037.522279423505026%5D%5D%5D%2C%20%22type%22%3A%20%22Polygon%22%7D%2C%20%22properties%22%3A%20%7B%22base_year%22%3A%20%222013%22%2C%20%22code%22%3A%20%2211240%22%2C%20%22name%22%3A%20%22%5Cuc1a1%5Cud30c%5Cuad6c%22%2C%20%22name_eng%22%3A%20%22Songpa-gu%22%7D%2C%20%22type%22%3A%20%22Feature%22%7D%2C%20%7B%22geometry%22%3A%20%7B%22coordinates%22%3A%20%5B%5B%5B127.05867359288398%2C%2037.52629974922568%5D%2C%20%5B127.0690698130372%2C%2037.522279423505026%5D%2C%20%5B127.06860425556381%2C%2037.51812758676938%5D%2C%20%5B127.06926628842805%2C%2037.51717796437217%5D%2C%20%5B127.0719146000724%2C%2037.50224013587669%5D%2C%20%5B127.0764808967127%2C%2037.498612695580306%5D%2C%20%5B127.08050206733888%2C%2037.49783151325589%5D%2C%20%5B127.0988509639092%2C%2037.49302529254068%5D%2C%20%5B127.10433125798602%2C%2037.490728250649646%5D%2C%20%5B127.1077937689776%2C%2037.48860875954992%5D%2C%20%5B127.11117085201238%2C%2037.485708381512445%5D%2C%20%5B127.1143875173445%2C%2037.48073157362458%5D%2C%20%5B127.11380709617507%2C%2037.479633334849325%5D%2C%20%5B127.12265007208167%2C%2037.46756987490939%5D%2C%20%5B127.12441393026374%2C%2037.46442715236855%5D%2C%20%5B127.12440571080893%2C%2037.46240445587048%5D%2C%20%5B127.11957248720776%2C%2037.45936217377656%5D%2C%20%5B127.11885903757606%2C%2037.45578434878651%5D%2C%20%5B127.11535741803938%2C%2037.45722556454321%5D%2C%20%5B127.11413179478714%2C%2037.45875072431525%5D%2C%20%5B127.10841788934951%2C%2037.45972888008147%5D%2C%20%5B127.10561257180657%2C%2037.456815702518746%5D%2C%20%5B127.10032466845217%2C%2037.45598440195682%5D%2C%20%5B127.09842759318751%2C%2037.45862253857461%5D%2C%20%5B127.09712653145507%2C%2037.460848194480654%5D%2C%20%5B127.09039613625872%2C%2037.465520545397716%5D%2C%20%5B127.0866005634691%2C%2037.47006403057779%5D%2C%20%5B127.08640440578156%2C%2037.472697935184655%5D%2C%20%5B127.0802737559454%2C%2037.471973057552624%5D%2C%20%5B127.07602132306535%2C%2037.47005021331707%5D%2C%20%5B127.07476117209941%2C%2037.47199174520626%5D%2C%20%5B127.07231320371885%2C%2037.47234914588019%5D%2C%20%5B127.07135137525977%2C%2037.47107802023145%5D%2C%20%5B127.06463901956462%2C%2037.47003474490574%5D%2C%20%5B127.06371868919344%2C%2037.4661503234869%5D%2C%20%5B127.0588551029968%2C%2037.465611780743174%5D%2C%20%5B127.0559170481904%2C%2037.4659228914077%5D%2C%20%5B127.04713549385288%2C%2037.474479419244865%5D%2C%20%5B127.04345123620755%2C%2037.48276415595109%5D%2C%20%5B127.03621915098798%2C%2037.48175802427603%5D%2C%20%5B127.03372275812187%2C%2037.48674434662411%5D%2C%20%5B127.02265609299096%2C%2037.509970106251416%5D%2C%20%5B127.02038705349842%2C%2037.51771683027875%5D%2C%20%5B127.01917707838057%2C%2037.520085205855196%5D%2C%20%5B127.01397119667513%2C%2037.52503988289669%5D%2C%20%5B127.02302831890559%2C%2037.53231899582663%5D%2C%20%5B127.0269608080842%2C%2037.53484752757724%5D%2C%20%5B127.0319617044248%2C%2037.536064291470424%5D%2C%20%5B127.04806779588436%2C%2037.52970198575087%5D%2C%20%5B127.04903802830752%2C%2037.53140496708317%5D%2C%20%5B127.05116490008963%2C%2037.52975116557232%5D%2C%20%5B127.05867359288398%2C%2037.52629974922568%5D%5D%5D%2C%20%22type%22%3A%20%22Polygon%22%7D%2C%20%22properties%22%3A%20%7B%22base_year%22%3A%20%222013%22%2C%20%22code%22%3A%20%2211230%22%2C%20%22name%22%3A%20%22%5Cuac15%5Cub0a8%5Cuad6c%22%2C%20%22name_eng%22%3A%20%22Gangnam-gu%22%7D%2C%20%22type%22%3A%20%22Feature%22%7D%2C%20%7B%22geometry%22%3A%20%7B%22coordinates%22%3A%20%5B%5B%5B127.01397119667513%2C%2037.52503988289669%5D%2C%20%5B127.01917707838057%2C%2037.520085205855196%5D%2C%20%5B127.02038705349842%2C%2037.51771683027875%5D%2C%20%5B127.02265609299096%2C%2037.509970106251416%5D%2C%20%5B127.03372275812187%2C%2037.48674434662411%5D%2C%20%5B127.03621915098798%2C%2037.48175802427603%5D%2C%20%5B127.04345123620755%2C%2037.48276415595109%5D%2C%20%5B127.04713549385288%2C%2037.474479419244865%5D%2C%20%5B127.0559170481904%2C%2037.4659228914077%5D%2C%20%5B127.0588551029968%2C%2037.465611780743174%5D%2C%20%5B127.06371868919344%2C%2037.4661503234869%5D%2C%20%5B127.06463901956462%2C%2037.47003474490574%5D%2C%20%5B127.07135137525977%2C%2037.47107802023145%5D%2C%20%5B127.07231320371885%2C%2037.47234914588019%5D%2C%20%5B127.07476117209941%2C%2037.47199174520626%5D%2C%20%5B127.07602132306535%2C%2037.47005021331707%5D%2C%20%5B127.0802737559454%2C%2037.471973057552624%5D%2C%20%5B127.08640440578156%2C%2037.472697935184655%5D%2C%20%5B127.0866005634691%2C%2037.47006403057779%5D%2C%20%5B127.09039613625872%2C%2037.465520545397716%5D%2C%20%5B127.09712653145507%2C%2037.460848194480654%5D%2C%20%5B127.09842759318751%2C%2037.45862253857461%5D%2C%20%5B127.09673714758375%2C%2037.45597209899094%5D%2C%20%5B127.09722129576434%2C%2037.45374822681991%5D%2C%20%5B127.09575982122928%2C%2037.45332980525459%5D%2C%20%5B127.09472136159357%2C%2037.450897902539175%5D%2C%20%5B127.09293250684935%2C%2037.450020696864506%5D%2C%20%5B127.09047890749349%2C%2037.44637473407341%5D%2C%20%5B127.09046928565951%2C%2037.44296826114185%5D%2C%20%5B127.0862358725955%2C%2037.44118543250345%5D%2C%20%5B127.08441983692467%2C%2037.4383879031398%5D%2C%20%5B127.07686576585408%2C%2037.43960712011444%5D%2C%20%5B127.07375875606847%2C%2037.43898415920535%5D%2C%20%5B127.07407631675713%2C%2037.43719357187124%5D%2C%20%5B127.07666569012467%2C%2037.43600054505559%5D%2C%20%5B127.07603719210388%2C%2037.43429107517633%5D%2C%20%5B127.07361291761038%2C%2037.43318474533595%5D%2C%20%5B127.07271473569163%2C%2037.42939553659177%5D%2C%20%5B127.0733788318578%2C%2037.42814484786288%5D%2C%20%5B127.06885354151605%2C%2037.42731815367302%5D%2C%20%5B127.06778107605433%2C%2037.426197424057314%5D%2C%20%5B127.06317558623768%2C%2037.4272916178182%5D%2C%20%5B127.05998777565219%2C%2037.4273224867045%5D%2C%20%5B127.05424556064274%2C%2037.42574929824175%5D%2C%20%5B127.05197080928994%2C%2037.42749842502397%5D%2C%20%5B127.04960937636815%2C%2037.42801020057224%5D%2C%20%5B127.04849622718511%2C%2037.430672016902065%5D%2C%20%5B127.04191594772718%2C%2037.43568906449929%5D%2C%20%5B127.0379686253535%2C%2037.43634417139204%5D%2C%20%5B127.03751805596916%2C%2037.438362795245276%5D%2C%20%5B127.04031700689708%2C%2037.44191429311459%5D%2C%20%5B127.03959875976469%2C%2037.443582700519194%5D%2C%20%5B127.0398984887873%2C%2037.44656106007936%5D%2C%20%5B127.03825522385397%2C%2037.448766467898395%5D%2C%20%5B127.03916301678915%2C%2037.45180237055558%5D%2C%20%5B127.03881782597922%2C%2037.45382039851715%5D%2C%20%5B127.03695436044305%2C%2037.45537592726508%5D%2C%20%5B127.03573307034355%2C%2037.4586703897792%5D%2C%20%5B127.03683946894893%2C%2037.46103886642786%5D%2C%20%5B127.03337331972266%2C%2037.462966775127626%5D%2C%20%5B127.02820831539744%2C%2037.455700834295826%5D%2C%20%5B127.02263694708293%2C%2037.45335816711404%5D%2C%20%5B127.01827371395349%2C%2037.4525593623189%5D%2C%20%5B127.01316256500736%2C%2037.45257906566242%5D%2C%20%5B127.01110931353561%2C%2037.45456166745922%5D%2C%20%5B127.00836380369604%2C%2037.45936868039916%5D%2C%20%5B127.00738548779366%2C%2037.459815333664274%5D%2C%20%5B127.00552362663117%2C%2037.46445102893571%5D%2C%20%5B127.00008523087483%2C%2037.46455774995882%5D%2C%20%5B126.99837609897334%2C%2037.46390918086617%5D%2C%20%5B126.99932142462428%2C%2037.46113351815481%5D%2C%20%5B126.99893310307874%2C%2037.459376062410314%5D%2C%20%5B126.9953054179472%2C%2037.45860121328987%5D%2C%20%5B126.99072073195462%2C%2037.455326143310025%5D%2C%20%5B126.98956736277059%2C%2037.457600756400446%5D%2C%20%5B126.99026416700147%2C%2037.46271603227842%5D%2C%20%5B126.98896316546526%2C%2037.465041871263544%5D%2C%20%5B126.98662755598336%2C%2037.466937278295305%5D%2C%20%5B126.9846374349825%2C%2037.46996301876212%5D%2C%20%5B126.98367668291802%2C%2037.473856492692086%5D%2C%20%5B126.98500224966135%2C%2037.49356837311327%5D%2C%20%5B126.9871787157338%2C%2037.49719505997539%5D%2C%20%5B126.9832495184969%2C%2037.49948552591205%5D%2C%20%5B126.98241580381733%2C%2037.50120029501884%5D%2C%20%5B126.98223807916081%2C%2037.509314966770326%5D%2C%20%5B126.98458580602838%2C%2037.51070333105394%5D%2C%20%5B126.98948242685965%2C%2037.5108780134613%5D%2C%20%5B126.99148001917875%2C%2037.50990503427709%5D%2C%20%5B127.00011962020382%2C%2037.513901653034374%5D%2C%20%5B127.00583392114271%2C%2037.516905128452926%5D%2C%20%5B127.00818058911564%2C%2037.51877313923874%5D%2C%20%5B127.01022186960886%2C%2037.522020085671926%5D%2C%20%5B127.01397119667513%2C%2037.52503988289669%5D%5D%5D%2C%20%22type%22%3A%20%22Polygon%22%7D%2C%20%22properties%22%3A%20%7B%22base_year%22%3A%20%222013%22%2C%20%22code%22%3A%20%2211220%22%2C%20%22name%22%3A%20%22%5Cuc11c%5Cucd08%5Cuad6c%22%2C%20%22name_eng%22%3A%20%22Seocho-gu%22%7D%2C%20%22type%22%3A%20%22Feature%22%7D%2C%20%7B%22geometry%22%3A%20%7B%22coordinates%22%3A%20%5B%5B%5B126.98367668291802%2C%2037.473856492692086%5D%2C%20%5B126.9846374349825%2C%2037.46996301876212%5D%2C%20%5B126.98662755598336%2C%2037.466937278295305%5D%2C%20%5B126.98896316546526%2C%2037.465041871263544%5D%2C%20%5B126.99026416700147%2C%2037.46271603227842%5D%2C%20%5B126.98956736277059%2C%2037.457600756400446%5D%2C%20%5B126.99072073195462%2C%2037.455326143310025%5D%2C%20%5B126.98484249930785%2C%2037.45391909788938%5D%2C%20%5B126.9829408096241%2C%2037.450206782833206%5D%2C%20%5B126.97835022660695%2C%2037.447659155806164%5D%2C%20%5B126.97608193440507%2C%2037.44478918862847%5D%2C%20%5B126.9731300196836%2C%2037.444722870088114%5D%2C%20%5B126.96650852936277%2C%2037.44276983031553%5D%2C%20%5B126.96618702895445%2C%2037.439376482995094%5D%2C%20%5B126.96520439085143%2C%2037.438249784006246%5D%2C%20%5B126.9614877541633%2C%2037.437956805629675%5D%2C%20%5B126.96054904645496%2C%2037.43673997185797%5D%2C%20%5B126.95527369898224%2C%2037.43673711968809%5D%2C%20%5B126.9473688393239%2C%2037.4347689647565%5D%2C%20%5B126.94440352544498%2C%2037.43476162120059%5D%2C%20%5B126.9415292183489%2C%2037.43315139671158%5D%2C%20%5B126.94037501670272%2C%2037.43462213966344%5D%2C%20%5B126.9405640311191%2C%2037.437501011208845%5D%2C%20%5B126.9376981355065%2C%2037.44041709605302%5D%2C%20%5B126.93312955918624%2C%2037.44290014710262%5D%2C%20%5B126.93309127096236%2C%2037.44533734785938%5D%2C%20%5B126.93084408056525%2C%2037.447382928333994%5D%2C%20%5B126.92527839995981%2C%2037.45161884570837%5D%2C%20%5B126.9245243450059%2C%2037.45392293573877%5D%2C%20%5B126.91887928082078%2C%2037.45495082787016%5D%2C%20%5B126.9167728146601%2C%2037.45490566423789%5D%2C%20%5B126.91641538472182%2C%2037.45870245071989%5D%2C%20%5B126.91495285904284%2C%2037.461166184511065%5D%2C%20%5B126.91584245173756%2C%2037.462474576247985%5D%2C%20%5B126.91374656127704%2C%2037.46375990852858%5D%2C%20%5B126.91032166997253%2C%2037.469818629944285%5D%2C%20%5B126.91280966667205%2C%2037.47083063715413%5D%2C%20%5B126.91405961426707%2C%2037.47416764846582%5D%2C%20%5B126.9115784808617%2C%2037.4753960485947%5D%2C%20%5B126.91181700249076%2C%2037.47814319736339%5D%2C%20%5B126.90276666415615%2C%2037.47652007992712%5D%2C%20%5B126.90156094129895%2C%2037.47753842789901%5D%2C%20%5B126.90531975801812%2C%2037.48218087575429%5D%2C%20%5B126.90805655355825%2C%2037.48218338568103%5D%2C%20%5B126.91533979779165%2C%2037.484392208242134%5D%2C%20%5B126.91916807529428%2C%2037.48660606817164%5D%2C%20%5B126.92639563063156%2C%2037.48715979752876%5D%2C%20%5B126.92869559665061%2C%2037.49132126714011%5D%2C%20%5B126.92981699800066%2C%2037.49218420958284%5D%2C%20%5B126.93346386636452%2C%2037.49043826776755%5D%2C%20%5B126.93669800083833%2C%2037.49026778789087%5D%2C%20%5B126.93844070234584%2C%2037.4893532861132%5D%2C%20%5B126.94373156012337%2C%2037.48938843727846%5D%2C%20%5B126.94922661389508%2C%2037.49125437495649%5D%2C%20%5B126.95396955055433%2C%2037.48955250290043%5D%2C%20%5B126.9559655046206%2C%2037.48820165625994%5D%2C%20%5B126.95881175306481%2C%2037.48874989165474%5D%2C%20%5B126.96329694970828%2C%2037.4905835370787%5D%2C%20%5B126.96291787066104%2C%2037.48803272157808%5D%2C%20%5B126.96443983219191%2C%2037.48442261322104%5D%2C%20%5B126.9634428120456%2C%2037.48067931902171%5D%2C%20%5B126.9725891850662%2C%2037.472561363278125%5D%2C%20%5B126.97901795539295%2C%2037.47376525108475%5D%2C%20%5B126.98367668291802%2C%2037.473856492692086%5D%5D%5D%2C%20%22type%22%3A%20%22Polygon%22%7D%2C%20%22properties%22%3A%20%7B%22base_year%22%3A%20%222013%22%2C%20%22code%22%3A%20%2211210%22%2C%20%22name%22%3A%20%22%5Cuad00%5Cuc545%5Cuad6c%22%2C%20%22name_eng%22%3A%20%22Gwanak-gu%22%7D%2C%20%22type%22%3A%20%22Feature%22%7D%2C%20%7B%22geometry%22%3A%20%7B%22coordinates%22%3A%20%5B%5B%5B126.98223807916081%2C%2037.509314966770326%5D%2C%20%5B126.98241580381733%2C%2037.50120029501884%5D%2C%20%5B126.9832495184969%2C%2037.49948552591205%5D%2C%20%5B126.9871787157338%2C%2037.49719505997539%5D%2C%20%5B126.98500224966135%2C%2037.49356837311327%5D%2C%20%5B126.98367668291802%2C%2037.473856492692086%5D%2C%20%5B126.97901795539295%2C%2037.47376525108475%5D%2C%20%5B126.9725891850662%2C%2037.472561363278125%5D%2C%20%5B126.9634428120456%2C%2037.48067931902171%5D%2C%20%5B126.96443983219191%2C%2037.48442261322104%5D%2C%20%5B126.96291787066104%2C%2037.48803272157808%5D%2C%20%5B126.96329694970828%2C%2037.4905835370787%5D%2C%20%5B126.95881175306481%2C%2037.48874989165474%5D%2C%20%5B126.9559655046206%2C%2037.48820165625994%5D%2C%20%5B126.95396955055433%2C%2037.48955250290043%5D%2C%20%5B126.94922661389508%2C%2037.49125437495649%5D%2C%20%5B126.94373156012337%2C%2037.48938843727846%5D%2C%20%5B126.93844070234584%2C%2037.4893532861132%5D%2C%20%5B126.93669800083833%2C%2037.49026778789087%5D%2C%20%5B126.93346386636452%2C%2037.49043826776755%5D%2C%20%5B126.92981699800066%2C%2037.49218420958284%5D%2C%20%5B126.92869559665061%2C%2037.49132126714011%5D%2C%20%5B126.92639563063156%2C%2037.48715979752876%5D%2C%20%5B126.91916807529428%2C%2037.48660606817164%5D%2C%20%5B126.91533979779165%2C%2037.484392208242134%5D%2C%20%5B126.90805655355825%2C%2037.48218338568103%5D%2C%20%5B126.90531975801812%2C%2037.48218087575429%5D%2C%20%5B126.91461888105147%2C%2037.493581242537296%5D%2C%20%5B126.92177893174825%2C%2037.494889877415176%5D%2C%20%5B126.9232469824303%2C%2037.49928149943772%5D%2C%20%5B126.92749463764046%2C%2037.50985955934051%5D%2C%20%5B126.92919938332032%2C%2037.51019685838638%5D%2C%20%5B126.92810628828279%2C%2037.51329595732015%5D%2C%20%5B126.93453120783802%2C%2037.5128512712934%5D%2C%20%5B126.94407346439685%2C%2037.51463101265907%5D%2C%20%5B126.95249990298159%2C%2037.51722500741813%5D%2C%20%5B126.95551848909955%2C%2037.514736123015844%5D%2C%20%5B126.95950268374823%2C%2037.51249532165974%5D%2C%20%5B126.96670111119346%2C%2037.50997579058433%5D%2C%20%5B126.98223807916081%2C%2037.509314966770326%5D%5D%5D%2C%20%22type%22%3A%20%22Polygon%22%7D%2C%20%22properties%22%3A%20%7B%22base_year%22%3A%20%222013%22%2C%20%22code%22%3A%20%2211200%22%2C%20%22name%22%3A%20%22%5Cub3d9%5Cuc791%5Cuad6c%22%2C%20%22name_eng%22%3A%20%22Dongjak-gu%22%7D%2C%20%22type%22%3A%20%22Feature%22%7D%2C%20%7B%22geometry%22%3A%20%7B%22coordinates%22%3A%20%5B%5B%5B126.89184663862764%2C%2037.547373974997114%5D%2C%20%5B126.90281125423546%2C%2037.54133630026083%5D%2C%20%5B126.90829204147958%2C%2037.539206065016785%5D%2C%20%5B126.93132557924062%2C%2037.53415416375281%5D%2C%20%5B126.93680342222562%2C%2037.53344577095931%5D%2C%20%5B126.94566733083212%2C%2037.526617542453366%5D%2C%20%5B126.9488066464266%2C%2037.52424913252661%5D%2C%20%5B126.95003825019774%2C%2037.520781022055274%5D%2C%20%5B126.95249990298159%2C%2037.51722500741813%5D%2C%20%5B126.94407346439685%2C%2037.51463101265907%5D%2C%20%5B126.93453120783802%2C%2037.5128512712934%5D%2C%20%5B126.92810628828279%2C%2037.51329595732015%5D%2C%20%5B126.92919938332032%2C%2037.51019685838638%5D%2C%20%5B126.92749463764046%2C%2037.50985955934051%5D%2C%20%5B126.9232469824303%2C%2037.49928149943772%5D%2C%20%5B126.92177893174825%2C%2037.494889877415176%5D%2C%20%5B126.91461888105147%2C%2037.493581242537296%5D%2C%20%5B126.90531975801812%2C%2037.48218087575429%5D%2C%20%5B126.90260188508027%2C%2037.48282626920736%5D%2C%20%5B126.89861362258316%2C%2037.48625405368759%5D%2C%20%5B126.89581061458084%2C%2037.49391346191318%5D%2C%20%5B126.89549571721683%2C%2037.50033127915717%5D%2C%20%5B126.89594776782485%2C%2037.504675281309176%5D%2C%20%5B126.89253696873205%2C%2037.50875582175844%5D%2C%20%5B126.88156402353862%2C%2037.513970034765684%5D%2C%20%5B126.88191372979959%2C%2037.51939416754389%5D%2C%20%5B126.88260109180834%2C%2037.52242565920786%5D%2C%20%5B126.88382776477316%2C%2037.52352483439659%5D%2C%20%5B126.88904768965743%2C%2037.525856504359034%5D%2C%20%5B126.89057378109133%2C%2037.52792091672938%5D%2C%20%5B126.89213569003026%2C%2037.52757969298779%5D%2C%20%5B126.89361739665432%2C%2037.53033899535983%5D%2C%20%5B126.89339176028666%2C%2037.533030814524004%5D%2C%20%5B126.88938421776182%2C%2037.54060159145325%5D%2C%20%5B126.88825757860099%2C%2037.54079733630232%5D%2C%20%5B126.88736718003831%2C%2037.54350482420959%5D%2C%20%5B126.89184663862764%2C%2037.547373974997114%5D%5D%5D%2C%20%22type%22%3A%20%22Polygon%22%7D%2C%20%22properties%22%3A%20%7B%22base_year%22%3A%20%222013%22%2C%20%22code%22%3A%20%2211190%22%2C%20%22name%22%3A%20%22%5Cuc601%5Cub4f1%5Cud3ec%5Cuad6c%22%2C%20%22name_eng%22%3A%20%22Yeongdeungpo-gu%22%7D%2C%20%22type%22%3A%20%22Feature%22%7D%2C%20%7B%22geometry%22%3A%20%7B%22coordinates%22%3A%20%5B%5B%5B126.90156094129895%2C%2037.47753842789901%5D%2C%20%5B126.90276666415615%2C%2037.47652007992712%5D%2C%20%5B126.91181700249076%2C%2037.47814319736339%5D%2C%20%5B126.9115784808617%2C%2037.4753960485947%5D%2C%20%5B126.91405961426707%2C%2037.47416764846582%5D%2C%20%5B126.91280966667205%2C%2037.47083063715413%5D%2C%20%5B126.91032166997253%2C%2037.469818629944285%5D%2C%20%5B126.91374656127704%2C%2037.46375990852858%5D%2C%20%5B126.91584245173756%2C%2037.462474576247985%5D%2C%20%5B126.91495285904284%2C%2037.461166184511065%5D%2C%20%5B126.91641538472182%2C%2037.45870245071989%5D%2C%20%5B126.9167728146601%2C%2037.45490566423789%5D%2C%20%5B126.91887928082078%2C%2037.45495082787016%5D%2C%20%5B126.9245243450059%2C%2037.45392293573877%5D%2C%20%5B126.92527839995981%2C%2037.45161884570837%5D%2C%20%5B126.93084408056525%2C%2037.447382928333994%5D%2C%20%5B126.9255681646224%2C%2037.44377627841776%5D%2C%20%5B126.92318732232543%2C%2037.44131494528283%5D%2C%20%5B126.92199241717724%2C%2037.43848070111403%5D%2C%20%5B126.92004664118903%2C%2037.43708741729147%5D%2C%20%5B126.91641802826501%2C%2037.43722730676683%5D%2C%20%5B126.91344497343947%2C%2037.43474365720405%5D%2C%20%5B126.91082677485002%2C%2037.43100963341445%5D%2C%20%5B126.90487628022693%2C%2037.43129996372531%5D%2C%20%5B126.90480610062333%2C%2037.433123813599884%5D%2C%20%5B126.90147608259903%2C%2037.4353323892334%5D%2C%20%5B126.90081465102077%2C%2037.436498759868456%5D%2C%20%5B126.90105333433885%2C%2037.44031094924801%5D%2C%20%5B126.90031753853916%2C%2037.441844173154756%5D%2C%20%5B126.89768314223053%2C%2037.442906858137974%5D%2C%20%5B126.89812451590424%2C%2037.44551117837958%5D%2C%20%5B126.89616541233094%2C%2037.44983024861048%5D%2C%20%5B126.8947204038491%2C%2037.4491097366517%5D%2C%20%5B126.89157226377172%2C%2037.449944282396714%5D%2C%20%5B126.89113632562855%2C%2037.45236898205529%5D%2C%20%5B126.88831381741582%2C%2037.45357939777933%5D%2C%20%5B126.88826482749008%2C%2037.45663270152334%5D%2C%20%5B126.89074130059865%2C%2037.45966561796733%5D%2C%20%5B126.88198617469523%2C%2037.469975509557976%5D%2C%20%5B126.87874781843654%2C%2037.47475533620029%5D%2C%20%5B126.87553760781829%2C%2037.48186220368496%5D%2C%20%5B126.87683271502428%2C%2037.482576591607305%5D%2C%20%5B126.88079109105627%2C%2037.48378287831426%5D%2C%20%5B126.8827497570056%2C%2037.48316340563878%5D%2C%20%5B126.88803217321346%2C%2037.47975290808737%5D%2C%20%5B126.89116882970154%2C%2037.47681803032367%5D%2C%20%5B126.89689977603885%2C%2037.47570593888643%5D%2C%20%5B126.90104536043339%2C%2037.47614746588584%5D%2C%20%5B126.90156094129895%2C%2037.47753842789901%5D%5D%5D%2C%20%22type%22%3A%20%22Polygon%22%7D%2C%20%22properties%22%3A%20%7B%22base_year%22%3A%20%222013%22%2C%20%22code%22%3A%20%2211180%22%2C%20%22name%22%3A%20%22%5Cuae08%5Cucc9c%5Cuad6c%22%2C%20%22name_eng%22%3A%20%22Geumcheon-gu%22%7D%2C%20%22type%22%3A%20%22Feature%22%7D%2C%20%7B%22geometry%22%3A%20%7B%22coordinates%22%3A%20%5B%5B%5B126.82688081517314%2C%2037.50548972232896%5D%2C%20%5B126.8312211095328%2C%2037.50541191299514%5D%2C%20%5B126.8341914436862%2C%2037.50238060850881%5D%2C%20%5B126.8385046623421%2C%2037.49965438083505%5D%2C%20%5B126.84270526111828%2C%2037.501190052842375%5D%2C%20%5B126.8421330711049%2C%2037.50273297478404%5D%2C%20%5B126.84689618668257%2C%2037.50287086505149%5D%2C%20%5B126.84730715497963%2C%2037.50522159123912%5D%2C%20%5B126.85079659934003%2C%2037.50601938589165%5D%2C%20%5B126.8521985385098%2C%2037.507310601432195%5D%2C%20%5B126.8549910115563%2C%2037.507774255244875%5D%2C%20%5B126.85767018319959%2C%2037.50643578404816%5D%2C%20%5B126.8602448049945%2C%2037.50714262450898%5D%2C%20%5B126.86219488732715%2C%2037.50388438562706%5D%2C%20%5B126.86454914535695%2C%2037.50388350542007%5D%2C%20%5B126.86525729660478%2C%2037.502448483868896%5D%2C%20%5B126.86795186545288%2C%2037.502755995885714%5D%2C%20%5B126.87109220473953%2C%2037.50203922322315%5D%2C%20%5B126.87432642792102%2C%2037.50260287829134%5D%2C%20%5B126.87556919864359%2C%2037.505720626918%5D%2C%20%5B126.88054908630636%2C%2037.51148026214697%5D%2C%20%5B126.88156402353862%2C%2037.513970034765684%5D%2C%20%5B126.89253696873205%2C%2037.50875582175844%5D%2C%20%5B126.89594776782485%2C%2037.504675281309176%5D%2C%20%5B126.89549571721683%2C%2037.50033127915717%5D%2C%20%5B126.89581061458084%2C%2037.49391346191318%5D%2C%20%5B126.89861362258316%2C%2037.48625405368759%5D%2C%20%5B126.90260188508027%2C%2037.48282626920736%5D%2C%20%5B126.90531975801812%2C%2037.48218087575429%5D%2C%20%5B126.90156094129895%2C%2037.47753842789901%5D%2C%20%5B126.90104536043339%2C%2037.47614746588584%5D%2C%20%5B126.89689977603885%2C%2037.47570593888643%5D%2C%20%5B126.89116882970154%2C%2037.47681803032367%5D%2C%20%5B126.88803217321346%2C%2037.47975290808737%5D%2C%20%5B126.8827497570056%2C%2037.48316340563878%5D%2C%20%5B126.88079109105627%2C%2037.48378287831426%5D%2C%20%5B126.87683271502428%2C%2037.482576591607305%5D%2C%20%5B126.87926901338844%2C%2037.4851363312754%5D%2C%20%5B126.87807822721697%2C%2037.486247661404484%5D%2C%20%5B126.87500855887376%2C%2037.485529408954044%5D%2C%20%5B126.87499999632084%2C%2037.48723558386031%5D%2C%20%5B126.86985088086946%2C%2037.490972856926746%5D%2C%20%5B126.86690708512153%2C%2037.48850048185492%5D%2C%20%5B126.86334463261252%2C%2037.48702105213313%5D%2C%20%5B126.85979281993241%2C%2037.48309390333688%5D%2C%20%5B126.8571926758503%2C%2037.482400254369296%5D%2C%20%5B126.85582775745682%2C%2037.48008159809108%5D%2C%20%5B126.85397991619827%2C%2037.47882533996402%5D%2C%20%5B126.84914329670241%2C%2037.4792573077648%5D%2C%20%5B126.84804505350411%2C%2037.478160467930344%5D%2C%20%5B126.84762676054953%2C%2037.47146723936323%5D%2C%20%5B126.84154264465728%2C%2037.4728980419%5D%2C%20%5B126.83754691879544%2C%2037.472514053936045%5D%2C%20%5B126.83388005989259%2C%2037.4747683882548%5D%2C%20%5B126.83136668931549%2C%2037.47344154955525%5D%2C%20%5B126.82660025197819%2C%2037.47364544953152%5D%2C%20%5B126.82419365698964%2C%2037.472951080902234%5D%2C%20%5B126.82179895415682%2C%2037.47518076838956%5D%2C%20%5B126.82206789884786%2C%2037.47889514031285%5D%2C%20%5B126.82139445214092%2C%2037.48136482338644%5D%2C%20%5B126.82208805042494%2C%2037.48299688518288%5D%2C%20%5B126.82558489219227%2C%2037.48497306755705%5D%2C%20%5B126.82482114643597%2C%2037.48717399070965%5D%2C%20%5B126.81993148808915%2C%2037.48877864988337%5D%2C%20%5B126.81649745505314%2C%2037.490455810141476%5D%2C%20%5B126.81480709048222%2C%2037.493362284349615%5D%2C%20%5B126.81518179823208%2C%2037.495233793642186%5D%2C%20%5B126.81771493003457%2C%2037.494748098657496%5D%2C%20%5B126.8208295567048%2C%2037.49594689979241%5D%2C%20%5B126.82204657426578%2C%2037.49851634597747%5D%2C%20%5B126.82367963750009%2C%2037.49925830108059%5D%2C%20%5B126.82504736331406%2C%2037.50302612640443%5D%2C%20%5B126.82469248121312%2C%2037.50496239513798%5D%2C%20%5B126.82688081517314%2C%2037.50548972232896%5D%5D%5D%2C%20%22type%22%3A%20%22Polygon%22%7D%2C%20%22properties%22%3A%20%7B%22base_year%22%3A%20%222013%22%2C%20%22code%22%3A%20%2211170%22%2C%20%22name%22%3A%20%22%5Cuad6c%5Cub85c%5Cuad6c%22%2C%20%22name_eng%22%3A%20%22Guro-gu%22%7D%2C%20%22type%22%3A%20%22Feature%22%7D%2C%20%7B%22geometry%22%3A%20%7B%22coordinates%22%3A%20%5B%5B%5B126.85984199399667%2C%2037.571847855292745%5D%2C%20%5B126.85950389772532%2C%2037.5682771531189%5D%2C%20%5B126.8604929702619%2C%2037.566825621733905%5D%2C%20%5B126.86837407967381%2C%2037.56309561411933%5D%2C%20%5B126.87997924964915%2C%2037.55510740490174%5D%2C%20%5B126.89184663862764%2C%2037.547373974997114%5D%2C%20%5B126.88736718003831%2C%2037.54350482420959%5D%2C%20%5B126.88825757860099%2C%2037.54079733630232%5D%2C%20%5B126.8872486543506%2C%2037.54079100234749%5D%2C%20%5B126.88280520161935%2C%2037.545072121233225%5D%2C%20%5B126.8761093656006%2C%2037.54412882794802%5D%2C%20%5B126.8727924099192%2C%2037.544853699294116%5D%2C%20%5B126.86637464321238%2C%2037.54859191094823%5D%2C%20%5B126.86426635332332%2C%2037.54172958759955%5D%2C%20%5B126.86582129720519%2C%2037.53817151116851%5D%2C%20%5B126.8655037497872%2C%2037.53382926555605%5D%2C%20%5B126.86610073476395%2C%2037.52699964144669%5D%2C%20%5B126.85098397861944%2C%2037.525098716169985%5D%2C%20%5B126.84257291943153%2C%2037.52373707805596%5D%2C%20%5B126.836555914069%2C%2037.53367208325903%5D%2C%20%5B126.83716591765655%2C%2037.534935320492906%5D%2C%20%5B126.83522688458329%2C%2037.539042988809484%5D%2C%20%5B126.8325348945036%2C%2037.538953250433295%5D%2C%20%5B126.83191667070415%2C%2037.54146500511403%5D%2C%20%5B126.83017074557299%2C%2037.542611079015344%5D%2C%20%5B126.82889818288362%2C%2037.53909381305992%5D%2C%20%5B126.8242331426722%2C%2037.53788078753248%5D%2C%20%5B126.81674221631081%2C%2037.5378396500627%5D%2C%20%5B126.81246052552456%2C%2037.538810793377344%5D%2C%20%5B126.81143604908785%2C%2037.54033621168525%5D%2C%20%5B126.80542840499083%2C%2037.54008921830378%5D%2C%20%5B126.80185404828612%2C%2037.537645443377826%5D%2C%20%5B126.80090914554204%2C%2037.53503009075454%5D%2C%20%5B126.79688612254975%2C%2037.53302974862096%5D%2C%20%5B126.79582133969424%2C%2037.536641561833754%5D%2C%20%5B126.79693641290046%2C%2037.53865858611534%5D%2C%20%5B126.79388711477147%2C%2037.53902211451394%5D%2C%20%5B126.7938616681597%2C%2037.54104361952839%5D%2C%20%5B126.79075533377627%2C%2037.54165251407983%5D%2C%20%5B126.78880225462409%2C%2037.54353706379955%5D%2C%20%5B126.78198339188025%2C%2037.543449601019624%5D%2C%20%5B126.77756215424237%2C%2037.54611355396897%5D%2C%20%5B126.77324417717703%2C%2037.5459123450554%5D%2C%20%5B126.76977011413412%2C%2037.55052082471595%5D%2C%20%5B126.76700465024426%2C%2037.552821566629916%5D%2C%20%5B126.77074629769308%2C%2037.55296836994276%5D%2C%20%5B126.77145103135192%2C%2037.55434307460708%5D%2C%20%5B126.77879087345151%2C%2037.55919525318415%5D%2C%20%5B126.77889121370164%2C%2037.5613614424496%5D%2C%20%5B126.77671213061004%2C%2037.5645429268672%5D%2C%20%5B126.77986476402239%2C%2037.564245932540665%5D%2C%20%5B126.78252024622797%2C%2037.565367145342954%5D%2C%20%5B126.78471963959866%2C%2037.56745669198498%5D%2C%20%5B126.78398460461828%2C%2037.56905814599349%5D%2C%20%5B126.78496836516075%2C%2037.57090748246567%5D%2C%20%5B126.79172648531066%2C%2037.57472630536462%5D%2C%20%5B126.79539987549317%2C%2037.57451148875729%5D%2C%20%5B126.79523455851671%2C%2037.57760277954844%5D%2C%20%5B126.7958606942207%2C%2037.58019957877273%5D%2C%20%5B126.79799133400897%2C%2037.58036436587069%5D%2C%20%5B126.80091228188235%2C%2037.5854309825683%5D%2C%20%5B126.80289369340177%2C%2037.58621464221784%5D%2C%20%5B126.80131704756816%2C%2037.58839794302751%5D%2C%20%5B126.80149834313248%2C%2037.59012749570681%5D%2C%20%5B126.7996634054858%2C%2037.59296530943065%5D%2C%20%5B126.79910601240701%2C%2037.59569886491464%5D%2C%20%5B126.80046544382346%2C%2037.59827267924192%5D%2C%20%5B126.80198459129242%2C%2037.598541940075755%5D%2C%20%5B126.80268446118524%2C%2037.601312560472834%5D%2C%20%5B126.80393696882469%2C%2037.601857300987895%5D%2C%20%5B126.80759006979085%2C%2037.60089755124775%5D%2C%20%5B126.81814502537962%2C%2037.591566052513244%5D%2C%20%5B126.82251438477105%2C%2037.5880430810082%5D%2C%20%5B126.82891304761237%2C%2037.5855611764797%5D%2C%20%5B126.85302823436479%2C%2037.57282468882299%5D%2C%20%5B126.85984199399667%2C%2037.571847855292745%5D%5D%5D%2C%20%22type%22%3A%20%22Polygon%22%7D%2C%20%22properties%22%3A%20%7B%22base_year%22%3A%20%222013%22%2C%20%22code%22%3A%20%2211160%22%2C%20%22name%22%3A%20%22%5Cuac15%5Cuc11c%5Cuad6c%22%2C%20%22name_eng%22%3A%20%22Gangseo-gu%22%7D%2C%20%22type%22%3A%20%22Feature%22%7D%2C%20%7B%22geometry%22%3A%20%7B%22coordinates%22%3A%20%5B%5B%5B126.8242331426722%2C%2037.53788078753248%5D%2C%20%5B126.82889818288362%2C%2037.53909381305992%5D%2C%20%5B126.83017074557299%2C%2037.542611079015344%5D%2C%20%5B126.83191667070415%2C%2037.54146500511403%5D%2C%20%5B126.8325348945036%2C%2037.538953250433295%5D%2C%20%5B126.83522688458329%2C%2037.539042988809484%5D%2C%20%5B126.83716591765655%2C%2037.534935320492906%5D%2C%20%5B126.836555914069%2C%2037.53367208325903%5D%2C%20%5B126.84257291943153%2C%2037.52373707805596%5D%2C%20%5B126.85098397861944%2C%2037.525098716169985%5D%2C%20%5B126.86610073476395%2C%2037.52699964144669%5D%2C%20%5B126.8655037497872%2C%2037.53382926555605%5D%2C%20%5B126.86582129720519%2C%2037.53817151116851%5D%2C%20%5B126.86426635332332%2C%2037.54172958759955%5D%2C%20%5B126.86637464321238%2C%2037.54859191094823%5D%2C%20%5B126.8727924099192%2C%2037.544853699294116%5D%2C%20%5B126.8761093656006%2C%2037.54412882794802%5D%2C%20%5B126.88280520161935%2C%2037.545072121233225%5D%2C%20%5B126.8872486543506%2C%2037.54079100234749%5D%2C%20%5B126.88825757860099%2C%2037.54079733630232%5D%2C%20%5B126.88938421776182%2C%2037.54060159145325%5D%2C%20%5B126.89339176028666%2C%2037.533030814524004%5D%2C%20%5B126.89361739665432%2C%2037.53033899535983%5D%2C%20%5B126.89213569003026%2C%2037.52757969298779%5D%2C%20%5B126.89057378109133%2C%2037.52792091672938%5D%2C%20%5B126.88904768965743%2C%2037.525856504359034%5D%2C%20%5B126.88382776477316%2C%2037.52352483439659%5D%2C%20%5B126.88260109180834%2C%2037.52242565920786%5D%2C%20%5B126.88191372979959%2C%2037.51939416754389%5D%2C%20%5B126.88156402353862%2C%2037.513970034765684%5D%2C%20%5B126.88054908630636%2C%2037.51148026214697%5D%2C%20%5B126.87556919864359%2C%2037.505720626918%5D%2C%20%5B126.87432642792102%2C%2037.50260287829134%5D%2C%20%5B126.87109220473953%2C%2037.50203922322315%5D%2C%20%5B126.86795186545288%2C%2037.502755995885714%5D%2C%20%5B126.86525729660478%2C%2037.502448483868896%5D%2C%20%5B126.86454914535695%2C%2037.50388350542007%5D%2C%20%5B126.86219488732715%2C%2037.50388438562706%5D%2C%20%5B126.8602448049945%2C%2037.50714262450898%5D%2C%20%5B126.85767018319959%2C%2037.50643578404816%5D%2C%20%5B126.8549910115563%2C%2037.507774255244875%5D%2C%20%5B126.8521985385098%2C%2037.507310601432195%5D%2C%20%5B126.85079659934003%2C%2037.50601938589165%5D%2C%20%5B126.84730715497963%2C%2037.50522159123912%5D%2C%20%5B126.84689618668257%2C%2037.50287086505149%5D%2C%20%5B126.8421330711049%2C%2037.50273297478404%5D%2C%20%5B126.84270526111828%2C%2037.501190052842375%5D%2C%20%5B126.8385046623421%2C%2037.49965438083505%5D%2C%20%5B126.8341914436862%2C%2037.50238060850881%5D%2C%20%5B126.8312211095328%2C%2037.50541191299514%5D%2C%20%5B126.82688081517314%2C%2037.50548972232896%5D%2C%20%5B126.82609821744505%2C%2037.507816771867255%5D%2C%20%5B126.82665326173496%2C%2037.510416148524136%5D%2C%20%5B126.82529622550616%2C%2037.513385210403136%5D%2C%20%5B126.82763384465879%2C%2037.516923263281946%5D%2C%20%5B126.8273575421771%2C%2037.52002629298419%5D%2C%20%5B126.83054711509516%2C%2037.52390261457357%5D%2C%20%5B126.82938708105253%2C%2037.5268052663749%5D%2C%20%5B126.8276955169658%2C%2037.52706155314193%5D%2C%20%5B126.82389942108053%2C%2037.53199443525418%5D%2C%20%5B126.8242331426722%2C%2037.53788078753248%5D%5D%5D%2C%20%22type%22%3A%20%22Polygon%22%7D%2C%20%22properties%22%3A%20%7B%22base_year%22%3A%20%222013%22%2C%20%22code%22%3A%20%2211150%22%2C%20%22name%22%3A%20%22%5Cuc591%5Cucc9c%5Cuad6c%22%2C%20%22name_eng%22%3A%20%22Yangcheon-gu%22%7D%2C%20%22type%22%3A%20%22Feature%22%7D%2C%20%7B%22geometry%22%3A%20%7B%22coordinates%22%3A%20%5B%5B%5B126.90522065831053%2C%2037.57409700522574%5D%2C%20%5B126.90370105002282%2C%2037.57266722738834%5D%2C%20%5B126.90687243065778%2C%2037.57059762097416%5D%2C%20%5B126.92189004506%2C%2037.56391798973296%5D%2C%20%5B126.92778174854314%2C%2037.562495624023775%5D%2C%20%5B126.93034243306369%2C%2037.56054720372433%5D%2C%20%5B126.92881397392811%2C%2037.558202848902%5D%2C%20%5B126.92872097190046%2C%2037.556034533941734%5D%2C%20%5B126.93898161798973%2C%2037.552310003728124%5D%2C%20%5B126.94314477022111%2C%2037.5536460848349%5D%2C%20%5B126.95916768398142%2C%2037.55468176051932%5D%2C%20%5B126.96080686210321%2C%2037.55386236039188%5D%2C%20%5B126.96358226710812%2C%2037.55605635475154%5D%2C%20%5B126.96519694864509%2C%2037.55362533505407%5D%2C%20%5B126.96380145704283%2C%2037.55254525759954%5D%2C%20%5B126.96448570553055%2C%2037.548705692021635%5D%2C%20%5B126.96604189284825%2C%2037.546894141748815%5D%2C%20%5B126.96401856825223%2C%2037.54584596959762%5D%2C%20%5B126.96231305253527%2C%2037.543511558047456%5D%2C%20%5B126.9605977865388%2C%2037.542661954880806%5D%2C%20%5B126.95926437828754%2C%2037.53897908363236%5D%2C%20%5B126.95340780191557%2C%2037.533494726370755%5D%2C%20%5B126.94717864071288%2C%2037.53213495568077%5D%2C%20%5B126.94566733083212%2C%2037.526617542453366%5D%2C%20%5B126.93680342222562%2C%2037.53344577095931%5D%2C%20%5B126.93132557924062%2C%2037.53415416375281%5D%2C%20%5B126.90829204147958%2C%2037.539206065016785%5D%2C%20%5B126.90281125423546%2C%2037.54133630026083%5D%2C%20%5B126.89184663862764%2C%2037.547373974997114%5D%2C%20%5B126.87997924964915%2C%2037.55510740490174%5D%2C%20%5B126.86837407967381%2C%2037.56309561411933%5D%2C%20%5B126.8604929702619%2C%2037.566825621733905%5D%2C%20%5B126.85950389772532%2C%2037.5682771531189%5D%2C%20%5B126.85984199399667%2C%2037.571847855292745%5D%2C%20%5B126.85993476176495%2C%2037.5728262143511%5D%2C%20%5B126.8638132887273%2C%2037.57306147014704%5D%2C%20%5B126.86560520354786%2C%2037.57385540098251%5D%2C%20%5B126.86766286078968%2C%2037.57269227137124%5D%2C%20%5B126.87008117117851%2C%2037.574598289168996%5D%2C%20%5B126.87282267062741%2C%2037.574956427500126%5D%2C%20%5B126.8779661566318%2C%2037.57680133323819%5D%2C%20%5B126.87918874599603%2C%2037.5796889248137%5D%2C%20%5B126.87876320682938%2C%2037.581327335058546%5D%2C%20%5B126.88107183862735%2C%2037.583788024645344%5D%2C%20%5B126.88237824849728%2C%2037.586847436468204%5D%2C%20%5B126.88433284773288%2C%2037.588143322880526%5D%2C%20%5B126.89150044994719%2C%2037.58202374305761%5D%2C%20%5B126.89532313269488%2C%2037.579420322822145%5D%2C%20%5B126.89738573904876%2C%2037.578668647687564%5D%2C%20%5B126.90023584510952%2C%2037.575506080437606%5D%2C%20%5B126.90373193212757%2C%2037.573123712282076%5D%2C%20%5B126.90522065831053%2C%2037.57409700522574%5D%5D%5D%2C%20%22type%22%3A%20%22Polygon%22%7D%2C%20%22properties%22%3A%20%7B%22base_year%22%3A%20%222013%22%2C%20%22code%22%3A%20%2211140%22%2C%20%22name%22%3A%20%22%5Cub9c8%5Cud3ec%5Cuad6c%22%2C%20%22name_eng%22%3A%20%22Mapo-gu%22%7D%2C%20%22type%22%3A%20%22Feature%22%7D%2C%20%7B%22geometry%22%3A%20%7B%22coordinates%22%3A%20%5B%5B%5B126.9524752030572%2C%2037.60508692737045%5D%2C%20%5B126.95480868778256%2C%2037.60381765067903%5D%2C%20%5B126.95564117002459%2C%2037.601827148276776%5D%2C%20%5B126.95484771718951%2C%2037.59761368186209%5D%2C%20%5B126.95619178283661%2C%2037.59575826218021%5D%2C%20%5B126.95924434840931%2C%2037.59545024466215%5D%2C%20%5B126.95842779914786%2C%2037.592356673207824%5D%2C%20%5B126.960424902266%2C%2037.58868913291801%5D%2C%20%5B126.96048802632431%2C%2037.587202077053746%5D%2C%20%5B126.95879970726017%2C%2037.58189826471162%5D%2C%20%5B126.96177754536156%2C%2037.57970124256911%5D%2C%20%5B126.95789326971087%2C%2037.57793453336025%5D%2C%20%5B126.95565425846463%2C%2037.576080790881456%5D%2C%20%5B126.96873633279075%2C%2037.56313604690827%5D%2C%20%5B126.97169209525231%2C%2037.55921654641677%5D%2C%20%5B126.96900073076728%2C%2037.55850929094393%5D%2C%20%5B126.96570855677983%2C%2037.556512377492325%5D%2C%20%5B126.96358226710812%2C%2037.55605635475154%5D%2C%20%5B126.96080686210321%2C%2037.55386236039188%5D%2C%20%5B126.95916768398142%2C%2037.55468176051932%5D%2C%20%5B126.94314477022111%2C%2037.5536460848349%5D%2C%20%5B126.93898161798973%2C%2037.552310003728124%5D%2C%20%5B126.92872097190046%2C%2037.556034533941734%5D%2C%20%5B126.92881397392811%2C%2037.558202848902%5D%2C%20%5B126.93034243306369%2C%2037.56054720372433%5D%2C%20%5B126.92778174854314%2C%2037.562495624023775%5D%2C%20%5B126.92189004506%2C%2037.56391798973296%5D%2C%20%5B126.90687243065778%2C%2037.57059762097416%5D%2C%20%5B126.90370105002282%2C%2037.57266722738834%5D%2C%20%5B126.90522065831053%2C%2037.57409700522574%5D%2C%20%5B126.91464724464083%2C%2037.583228529985455%5D%2C%20%5B126.91827498278953%2C%2037.58276881451649%5D%2C%20%5B126.91792000144513%2C%2037.58034997804668%5D%2C%20%5B126.92444169370404%2C%2037.581233899739914%5D%2C%20%5B126.92596484570709%2C%2037.58441659356971%5D%2C%20%5B126.9281697003186%2C%2037.584376616028365%5D%2C%20%5B126.9302171100533%2C%2037.58559126746845%5D%2C%20%5B126.92996402426377%2C%2037.58767009299767%5D%2C%20%5B126.93104958440722%2C%2037.58996937993664%5D%2C%20%5B126.93575441237547%2C%2037.593605788596975%5D%2C%20%5B126.94277481511082%2C%2037.59587806191211%5D%2C%20%5B126.94359054641505%2C%2037.60034871312552%5D%2C%20%5B126.94451473597087%2C%2037.60203195380752%5D%2C%20%5B126.94701525068315%2C%2037.602028095480975%5D%2C%20%5B126.94919787550161%2C%2037.60506379949065%5D%2C%20%5B126.9524752030572%2C%2037.60508692737045%5D%5D%5D%2C%20%22type%22%3A%20%22Polygon%22%7D%2C%20%22properties%22%3A%20%7B%22base_year%22%3A%20%222013%22%2C%20%22code%22%3A%20%2211130%22%2C%20%22name%22%3A%20%22%5Cuc11c%5Cub300%5Cubb38%5Cuad6c%22%2C%20%22name_eng%22%3A%20%22Seodaemun-gu%22%7D%2C%20%22type%22%3A%20%22Feature%22%7D%2C%20%7B%22geometry%22%3A%20%7B%22coordinates%22%3A%20%5B%5B%5B126.9738864128702%2C%2037.62949634786888%5D%2C%20%5B126.97135221665513%2C%2037.62743418897386%5D%2C%20%5B126.96164158910712%2C%2037.62569322976388%5D%2C%20%5B126.95885198650147%2C%2037.6225761621008%5D%2C%20%5B126.95427017006129%2C%2037.622033431339425%5D%2C%20%5B126.95393421039743%2C%2037.61877981567335%5D%2C%20%5B126.9528332649861%2C%2037.6161065117682%5D%2C%20%5B126.95145384404022%2C%2037.61493028446385%5D%2C%20%5B126.95249458941419%2C%2037.61333750249896%5D%2C%20%5B126.95308190738618%2C%2037.60926681659027%5D%2C%20%5B126.95187994741721%2C%2037.60600915874973%5D%2C%20%5B126.9524752030572%2C%2037.60508692737045%5D%2C%20%5B126.94919787550161%2C%2037.60506379949065%5D%2C%20%5B126.94701525068315%2C%2037.602028095480975%5D%2C%20%5B126.94451473597087%2C%2037.60203195380752%5D%2C%20%5B126.94359054641505%2C%2037.60034871312552%5D%2C%20%5B126.94277481511082%2C%2037.59587806191211%5D%2C%20%5B126.93575441237547%2C%2037.593605788596975%5D%2C%20%5B126.93104958440722%2C%2037.58996937993664%5D%2C%20%5B126.92996402426377%2C%2037.58767009299767%5D%2C%20%5B126.9302171100533%2C%2037.58559126746845%5D%2C%20%5B126.9281697003186%2C%2037.584376616028365%5D%2C%20%5B126.92596484570709%2C%2037.58441659356971%5D%2C%20%5B126.92444169370404%2C%2037.581233899739914%5D%2C%20%5B126.91792000144513%2C%2037.58034997804668%5D%2C%20%5B126.91827498278953%2C%2037.58276881451649%5D%2C%20%5B126.91464724464083%2C%2037.583228529985455%5D%2C%20%5B126.90522065831053%2C%2037.57409700522574%5D%2C%20%5B126.90373193212757%2C%2037.573123712282076%5D%2C%20%5B126.90023584510952%2C%2037.575506080437606%5D%2C%20%5B126.89738573904876%2C%2037.578668647687564%5D%2C%20%5B126.89532313269488%2C%2037.579420322822145%5D%2C%20%5B126.89150044994719%2C%2037.58202374305761%5D%2C%20%5B126.88433284773288%2C%2037.588143322880526%5D%2C%20%5B126.88715278104091%2C%2037.59100341655796%5D%2C%20%5B126.88936046370014%2C%2037.59099007316069%5D%2C%20%5B126.88753401663872%2C%2037.58829545592628%5D%2C%20%5B126.88935419108029%2C%2037.58580092310326%5D%2C%20%5B126.89349057571656%2C%2037.585662344444785%5D%2C%20%5B126.89532781702978%2C%2037.58637054299599%5D%2C%20%5B126.89905466698256%2C%2037.58582731337662%5D%2C%20%5B126.9019347597747%2C%2037.58707359614439%5D%2C%20%5B126.9010825805882%2C%2037.58986595756633%5D%2C%20%5B126.90396681003595%2C%2037.59227403419942%5D%2C%20%5B126.90321089756087%2C%2037.594542731935476%5D%2C%20%5B126.90358350094938%2C%2037.59657528019595%5D%2C%20%5B126.90235425214276%2C%2037.60036302950128%5D%2C%20%5B126.90417801431465%2C%2037.60102912046836%5D%2C%20%5B126.90396561274416%2C%2037.60721180273151%5D%2C%20%5B126.90303066177668%2C%2037.609977911401344%5D%2C%20%5B126.90548675623195%2C%2037.61601216482774%5D%2C%20%5B126.90721633741286%2C%2037.6164590533837%5D%2C%20%5B126.90935539569412%2C%2037.61912234588074%5D%2C%20%5B126.90852982623917%2C%2037.62123670148755%5D%2C%20%5B126.91081768678396%2C%2037.62338674837964%5D%2C%20%5B126.91117179533428%2C%2037.62562846875194%5D%2C%20%5B126.90862530043799%2C%2037.62973539928895%5D%2C%20%5B126.91295124779275%2C%2037.633086577991136%5D%2C%20%5B126.91232131977827%2C%2037.635879167956396%5D%2C%20%5B126.91380622398978%2C%2037.63822817856539%5D%2C%20%5B126.91455481429648%2C%2037.64150050996935%5D%2C%20%5B126.9097405206299%2C%2037.643548736416925%5D%2C%20%5B126.9104285840059%2C%2037.64469477594629%5D%2C%20%5B126.91598194662826%2C%2037.64192000919822%5D%2C%20%5B126.92335892549015%2C%2037.642768849393626%5D%2C%20%5B126.92751618877016%2C%2037.644656244616336%5D%2C%20%5B126.93099150738166%2C%2037.64717805899008%5D%2C%20%5B126.93658892420821%2C%2037.64777520545395%5D%2C%20%5B126.93914008753828%2C%2037.64914400014214%5D%2C%20%5B126.94248904852749%2C%2037.65384179343651%5D%2C%20%5B126.94571884127255%2C%2037.655369042036206%5D%2C%20%5B126.94940373004215%2C%2037.656145979585894%5D%2C%20%5B126.94982400027399%2C%2037.65461320918016%5D%2C%20%5B126.95334970767568%2C%2037.65216408903825%5D%2C%20%5B126.956473797387%2C%2037.652480737339445%5D%2C%20%5B126.9588647426878%2C%2037.6498628918019%5D%2C%20%5B126.95972824076269%2C%2037.64638504253487%5D%2C%20%5B126.96223689995006%2C%2037.64553441285544%5D%2C%20%5B126.96424221141602%2C%2037.64071627640099%5D%2C%20%5B126.96652025322855%2C%2037.640285044901944%5D%2C%20%5B126.97092373342322%2C%2037.63589354812246%5D%2C%20%5B126.97086605626453%2C%2037.633738820281394%5D%2C%20%5B126.9738864128702%2C%2037.62949634786888%5D%5D%5D%2C%20%22type%22%3A%20%22Polygon%22%7D%2C%20%22properties%22%3A%20%7B%22base_year%22%3A%20%222013%22%2C%20%22code%22%3A%20%2211120%22%2C%20%22name%22%3A%20%22%5Cuc740%5Cud3c9%5Cuad6c%22%2C%20%22name_eng%22%3A%20%22Eunpyeong-gu%22%7D%2C%20%22type%22%3A%20%22Feature%22%7D%2C%20%7B%22geometry%22%3A%20%7B%22coordinates%22%3A%20%5B%5B%5B127.10782277688129%2C%2037.61804244241069%5D%2C%20%5B127.10361952102048%2C%2037.61701182935077%5D%2C%20%5B127.10191523948123%2C%2037.61531698025357%5D%2C%20%5B127.09825969127313%2C%2037.61431077622918%5D%2C%20%5B127.09125855705382%2C%2037.61703046232404%5D%2C%20%5B127.08796048322492%2C%2037.617471883010936%5D%2C%20%5B127.08325130652017%2C%2037.61626773063051%5D%2C%20%5B127.07351243825278%2C%2037.61283660342313%5D%2C%20%5B127.07011594002495%2C%2037.6127769191002%5D%2C%20%5B127.06726783142085%2C%2037.61136014256744%5D%2C%20%5B127.06412260483201%2C%2037.6115839902766%5D%2C%20%5B127.05631594723272%2C%2037.61738373018764%5D%2C%20%5B127.05209373568619%2C%2037.62164065487782%5D%2C%20%5B127.04999984182327%2C%2037.62412061598568%5D%2C%20%5B127.04358800895609%2C%2037.62848931298715%5D%2C%20%5B127.046042857549%2C%2037.630647660209426%5D%2C%20%5B127.0471214260595%2C%2037.63407841321815%5D%2C%20%5B127.05227148282157%2C%2037.642016305290156%5D%2C%20%5B127.05704472959141%2C%2037.63797342537787%5D%2C%20%5B127.05800075220091%2C%2037.64318263878276%5D%2C%20%5B127.05640030258566%2C%2037.648142414223344%5D%2C%20%5B127.05620364700786%2C%2037.65295201497795%5D%2C%20%5B127.05366382763933%2C%2037.65780685245659%5D%2C%20%5B127.05343284205686%2C%2037.660866393548005%5D%2C%20%5B127.05093085431419%2C%2037.666308257661356%5D%2C%20%5B127.05124324520023%2C%2037.6703356616521%5D%2C%20%5B127.05259811896667%2C%2037.67463041579101%5D%2C%20%5B127.05402878877452%2C%2037.682018621183914%5D%2C%20%5B127.05288479710485%2C%2037.68423857084347%5D%2C%20%5B127.05673771202906%2C%2037.68650223136443%5D%2C%20%5B127.05893512852644%2C%2037.68678532745334%5D%2C%20%5B127.06366923747898%2C%2037.68598834805241%5D%2C%20%5B127.06722106517597%2C%2037.68706409219909%5D%2C%20%5B127.07150256171397%2C%2037.69158365999211%5D%2C%20%5B127.07502582169255%2C%2037.691675325399515%5D%2C%20%5B127.07945174893383%2C%2037.693602239076704%5D%2C%20%5B127.0838752703195%2C%2037.69359534202034%5D%2C%20%5B127.08640047239444%2C%2037.69122798275615%5D%2C%20%5B127.08834747450551%2C%2037.68753106067129%5D%2C%20%5B127.09706391309695%2C%2037.686383719372294%5D%2C%20%5B127.09839746601683%2C%2037.682954904948026%5D%2C%20%5B127.09481040538887%2C%2037.678799295731295%5D%2C%20%5B127.0939394572467%2C%2037.676403111386776%5D%2C%20%5B127.09572273018789%2C%2037.673837879820674%5D%2C%20%5B127.09657954289648%2C%2037.670746511824845%5D%2C%20%5B127.09767362583241%2C%2037.67002252402865%5D%2C%20%5B127.0980220884148%2C%2037.66742967749355%5D%2C%20%5B127.09621282296045%2C%2037.66347990019021%5D%2C%20%5B127.09845931549125%2C%2037.659077182069595%5D%2C%20%5B127.0978618070161%2C%2037.656734861475485%5D%2C%20%5B127.08845241642267%2C%2037.65271564775536%5D%2C%20%5B127.09496093471334%2C%2037.65209266377008%5D%2C%20%5B127.09618835483448%2C%2037.65001330395237%5D%2C%20%5B127.09440766298717%2C%2037.64713490473045%5D%2C%20%5B127.09686381732382%2C%2037.642772590812655%5D%2C%20%5B127.10024317327698%2C%2037.642337895238754%5D%2C%20%5B127.10266382494892%2C%2037.64291284604662%5D%2C%20%5B127.11014084969742%2C%2037.641850613893396%5D%2C%20%5B127.11406637789241%2C%2037.63742154695932%5D%2C%20%5B127.1144974746579%2C%2037.632439003890255%5D%2C%20%5B127.11309628774731%2C%2037.627803407908374%5D%2C%20%5B127.10737639048635%2C%2037.62412346388371%5D%2C%20%5B127.10736111050278%2C%2037.62243873312504%5D%2C%20%5B127.10561964188106%2C%2037.620112931875134%5D%2C%20%5B127.10782277688129%2C%2037.61804244241069%5D%5D%5D%2C%20%22type%22%3A%20%22Polygon%22%7D%2C%20%22properties%22%3A%20%7B%22base_year%22%3A%20%222013%22%2C%20%22code%22%3A%20%2211110%22%2C%20%22name%22%3A%20%22%5Cub178%5Cuc6d0%5Cuad6c%22%2C%20%22name_eng%22%3A%20%22Nowon-gu%22%7D%2C%20%22type%22%3A%20%22Feature%22%7D%2C%20%7B%22geometry%22%3A%20%7B%22coordinates%22%3A%20%5B%5B%5B127.05288479710485%2C%2037.68423857084347%5D%2C%20%5B127.05402878877452%2C%2037.682018621183914%5D%2C%20%5B127.05259811896667%2C%2037.67463041579101%5D%2C%20%5B127.05124324520023%2C%2037.6703356616521%5D%2C%20%5B127.05093085431419%2C%2037.666308257661356%5D%2C%20%5B127.05343284205686%2C%2037.660866393548005%5D%2C%20%5B127.05366382763933%2C%2037.65780685245659%5D%2C%20%5B127.05620364700786%2C%2037.65295201497795%5D%2C%20%5B127.05640030258566%2C%2037.648142414223344%5D%2C%20%5B127.05800075220091%2C%2037.64318263878276%5D%2C%20%5B127.05704472959141%2C%2037.63797342537787%5D%2C%20%5B127.05227148282157%2C%2037.642016305290156%5D%2C%20%5B127.0471214260595%2C%2037.63407841321815%5D%2C%20%5B127.046042857549%2C%2037.630647660209426%5D%2C%20%5B127.04358800895609%2C%2037.62848931298715%5D%2C%20%5B127.04058571489718%2C%2037.6311245692538%5D%2C%20%5B127.03905574421407%2C%2037.63395360172076%5D%2C%20%5B127.03660759925259%2C%2037.63506293914692%5D%2C%20%5B127.03477664182829%2C%2037.63884292238491%5D%2C%20%5B127.02950136469548%2C%2037.64228467033725%5D%2C%20%5B127.0265542519312%2C%2037.644688649276304%5D%2C%20%5B127.02233660280599%2C%2037.64628067142158%5D%2C%20%5B127.01772305897457%2C%2037.64631597694605%5D%2C%20%5B127.01534913067235%2C%2037.64765266597785%5D%2C%20%5B127.01465935892466%2C%2037.64943687496812%5D%2C%20%5B127.01599412132472%2C%2037.65623256113309%5D%2C%20%5B127.01726703299362%2C%2037.65880555518138%5D%2C%20%5B127.01776269066357%2C%2037.66391319760785%5D%2C%20%5B127.02062116141389%2C%2037.667173575971205%5D%2C%20%5B127.01873683359163%2C%2037.66988242479123%5D%2C%20%5B127.0159718440919%2C%2037.67258796420281%5D%2C%20%5B127.01401600772708%2C%2037.67653037200686%5D%2C%20%5B127.01073060671976%2C%2037.67694372299732%5D%2C%20%5B127.01039666042071%2C%2037.681894589603594%5D%2C%20%5B127.01103947380624%2C%2037.684405447624954%5D%2C%20%5B127.01017954927539%2C%2037.686333239654594%5D%2C%20%5B127.0109997247323%2C%2037.691942369792514%5D%2C%20%5B127.01405303313638%2C%2037.69546278140397%5D%2C%20%5B127.01645586375106%2C%2037.69548055092485%5D%2C%20%5B127.01802453368332%2C%2037.698275937456124%5D%2C%20%5B127.02143522814708%2C%2037.698589417759045%5D%2C%20%5B127.02419558273166%2C%2037.69682256792619%5D%2C%20%5B127.02700292435075%2C%2037.69665589205863%5D%2C%20%5B127.03018866626446%2C%2037.69776745888886%5D%2C%20%5B127.03132724235057%2C%2037.69621818994332%5D%2C%20%5B127.03183574218306%2C%2037.69340418484943%5D%2C%20%5B127.03328657751797%2C%2037.69010729962784%5D%2C%20%5B127.0345286215439%2C%2037.688986544260594%5D%2C%20%5B127.0379422140845%2C%2037.68943836856245%5D%2C%20%5B127.04383030416193%2C%2037.692565730249534%5D%2C%20%5B127.04510703173885%2C%2037.690951514278055%5D%2C%20%5B127.04772506731972%2C%2037.68962174626068%5D%2C%20%5B127.05108189294938%2C%2037.69116379209157%5D%2C%20%5B127.05288479710485%2C%2037.68423857084347%5D%5D%5D%2C%20%22type%22%3A%20%22Polygon%22%7D%2C%20%22properties%22%3A%20%7B%22base_year%22%3A%20%222013%22%2C%20%22code%22%3A%20%2211100%22%2C%20%22name%22%3A%20%22%5Cub3c4%5Cubd09%5Cuad6c%22%2C%20%22name_eng%22%3A%20%22Dobong-gu%22%7D%2C%20%22type%22%3A%20%22Feature%22%7D%2C%20%7B%22geometry%22%3A%20%7B%22coordinates%22%3A%20%5B%5B%5B127.01039666042071%2C%2037.681894589603594%5D%2C%20%5B127.01073060671976%2C%2037.67694372299732%5D%2C%20%5B127.01401600772708%2C%2037.67653037200686%5D%2C%20%5B127.0159718440919%2C%2037.67258796420281%5D%2C%20%5B127.01873683359163%2C%2037.66988242479123%5D%2C%20%5B127.02062116141389%2C%2037.667173575971205%5D%2C%20%5B127.01776269066357%2C%2037.66391319760785%5D%2C%20%5B127.01726703299362%2C%2037.65880555518138%5D%2C%20%5B127.01599412132472%2C%2037.65623256113309%5D%2C%20%5B127.01465935892466%2C%2037.64943687496812%5D%2C%20%5B127.01534913067235%2C%2037.64765266597785%5D%2C%20%5B127.01772305897457%2C%2037.64631597694605%5D%2C%20%5B127.02233660280599%2C%2037.64628067142158%5D%2C%20%5B127.0265542519312%2C%2037.644688649276304%5D%2C%20%5B127.02950136469548%2C%2037.64228467033725%5D%2C%20%5B127.03477664182829%2C%2037.63884292238491%5D%2C%20%5B127.03660759925259%2C%2037.63506293914692%5D%2C%20%5B127.03905574421407%2C%2037.63395360172076%5D%2C%20%5B127.04058571489718%2C%2037.6311245692538%5D%2C%20%5B127.04358800895609%2C%2037.62848931298715%5D%2C%20%5B127.04999984182327%2C%2037.62412061598568%5D%2C%20%5B127.05209373568619%2C%2037.62164065487782%5D%2C%20%5B127.04887981022048%2C%2037.61973841113549%5D%2C%20%5B127.0460676006384%2C%2037.615885647801704%5D%2C%20%5B127.0419720518426%2C%2037.612838591864076%5D%2C%20%5B127.03892400992301%2C%2037.609715611023816%5D%2C%20%5B127.03251659844592%2C%2037.60634705009134%5D%2C%20%5B127.03229982090541%2C%2037.609536104167034%5D%2C%20%5B127.02851994524015%2C%2037.60987827182396%5D%2C%20%5B127.02433990415497%2C%2037.60847763545628%5D%2C%20%5B127.02136282940177%2C%2037.610961475137174%5D%2C%20%5B127.01685658093551%2C%2037.61280115359516%5D%2C%20%5B127.0128154749523%2C%2037.613652243470256%5D%2C%20%5B127.01060611893628%2C%2037.615741236385354%5D%2C%20%5B127.00960949401902%2C%2037.61822603840364%5D%2C%20%5B127.00997935126598%2C%2037.62111906051553%5D%2C%20%5B127.00210238658002%2C%2037.622984514557714%5D%2C%20%5B126.99867431516041%2C%2037.626297613391166%5D%2C%20%5B126.99614706382866%2C%2037.62719717129899%5D%2C%20%5B126.99529660787617%2C%2037.62923863577322%5D%2C%20%5B126.9933714170822%2C%2037.62922019292486%5D%2C%20%5B126.9877052521691%2C%2037.63265610340949%5D%2C%20%5B126.98672705513869%2C%2037.63377641288196%5D%2C%20%5B126.98826481934299%2C%2037.637416984207924%5D%2C%20%5B126.98537069512379%2C%2037.64080296617396%5D%2C%20%5B126.987065858581%2C%2037.64320008084445%5D%2C%20%5B126.98580395043626%2C%2037.64699767714015%5D%2C%20%5B126.9832621473545%2C%2037.64947328029498%5D%2C%20%5B126.9817452676551%2C%2037.65209769387776%5D%2C%20%5B126.98205504313285%2C%2037.653797128044495%5D%2C%20%5B126.98709809733522%2C%2037.65651691642121%5D%2C%20%5B126.99031779354014%2C%2037.661013121145366%5D%2C%20%5B126.99494735642686%2C%2037.66223870806347%5D%2C%20%5B126.99581225370686%2C%2037.6651171428027%5D%2C%20%5B126.99622950422442%2C%2037.669428820661516%5D%2C%20%5B126.99506026831365%2C%2037.674827885285765%5D%2C%20%5B126.99384134064161%2C%2037.67665247641944%5D%2C%20%5B126.9959894573757%2C%2037.67754299691771%5D%2C%20%5B127.00000021675876%2C%2037.68100582640454%5D%2C%20%5B127.00566931208934%2C%2037.68228507374621%5D%2C%20%5B127.01039666042071%2C%2037.681894589603594%5D%5D%5D%2C%20%22type%22%3A%20%22Polygon%22%7D%2C%20%22properties%22%3A%20%7B%22base_year%22%3A%20%222013%22%2C%20%22code%22%3A%20%2211090%22%2C%20%22name%22%3A%20%22%5Cuac15%5Cubd81%5Cuad6c%22%2C%20%22name_eng%22%3A%20%22Gangbuk-gu%22%7D%2C%20%22type%22%3A%20%22Feature%22%7D%2C%20%7B%22geometry%22%3A%20%7B%22coordinates%22%3A%20%5B%5B%5B126.977175406416%2C%2037.62859715400388%5D%2C%20%5B126.9794090069433%2C%2037.63071544568365%5D%2C%20%5B126.98360012419735%2C%2037.631915771386076%5D%2C%20%5B126.98672705513869%2C%2037.63377641288196%5D%2C%20%5B126.9877052521691%2C%2037.63265610340949%5D%2C%20%5B126.9933714170822%2C%2037.62922019292486%5D%2C%20%5B126.99529660787617%2C%2037.62923863577322%5D%2C%20%5B126.99614706382866%2C%2037.62719717129899%5D%2C%20%5B126.99867431516041%2C%2037.626297613391166%5D%2C%20%5B127.00210238658002%2C%2037.622984514557714%5D%2C%20%5B127.00997935126598%2C%2037.62111906051553%5D%2C%20%5B127.00960949401902%2C%2037.61822603840364%5D%2C%20%5B127.01060611893628%2C%2037.615741236385354%5D%2C%20%5B127.0128154749523%2C%2037.613652243470256%5D%2C%20%5B127.01685658093551%2C%2037.61280115359516%5D%2C%20%5B127.02136282940177%2C%2037.610961475137174%5D%2C%20%5B127.02433990415497%2C%2037.60847763545628%5D%2C%20%5B127.02851994524015%2C%2037.60987827182396%5D%2C%20%5B127.03229982090541%2C%2037.609536104167034%5D%2C%20%5B127.03251659844592%2C%2037.60634705009134%5D%2C%20%5B127.03892400992301%2C%2037.609715611023816%5D%2C%20%5B127.0419720518426%2C%2037.612838591864076%5D%2C%20%5B127.0460676006384%2C%2037.615885647801704%5D%2C%20%5B127.04887981022048%2C%2037.61973841113549%5D%2C%20%5B127.05209373568619%2C%2037.62164065487782%5D%2C%20%5B127.05631594723272%2C%2037.61738373018764%5D%2C%20%5B127.06412260483201%2C%2037.6115839902766%5D%2C%20%5B127.06726783142085%2C%2037.61136014256744%5D%2C%20%5B127.07011594002495%2C%2037.6127769191002%5D%2C%20%5B127.07351243825278%2C%2037.61283660342313%5D%2C%20%5B127.07382707099227%2C%2037.60401928986419%5D%2C%20%5B127.07257736686556%2C%2037.60654335765868%5D%2C%20%5B127.07069716820665%2C%2037.60653037341939%5D%2C%20%5B127.07084342033339%2C%2037.60407877132597%5D%2C%20%5B127.06753185518703%2C%2037.602724214598744%5D%2C%20%5B127.06424828533608%2C%2037.60234356864383%5D%2C%20%5B127.0612685122857%2C%2037.59823077263369%5D%2C%20%5B127.059485363799%2C%2037.598743571420485%5D%2C%20%5B127.05413734593897%2C%2037.5971595374718%5D%2C%20%5B127.05238061017225%2C%2037.598312271275574%5D%2C%20%5B127.04975439355248%2C%2037.59349421284317%5D%2C%20%5B127.0461318196879%2C%2037.593514180513594%5D%2C%20%5B127.042705222094%2C%2037.59239437593391%5D%2C%20%5B127.04116895171082%2C%2037.58847599306138%5D%2C%20%5B127.0384945038446%2C%2037.587129138658426%5D%2C%20%5B127.03121630347839%2C%2037.57957997701485%5D%2C%20%5B127.02527254528003%2C%2037.57524616245249%5D%2C%20%5B127.02395698453867%2C%2037.576068086896726%5D%2C%20%5B127.02039107536422%2C%2037.575771872553595%5D%2C%20%5B127.01849412471284%2C%2037.57904760334465%5D%2C%20%5B127.01678966486051%2C%2037.57943162455397%5D%2C%20%5B127.01094467951529%2C%2037.57765758282494%5D%2C%20%5B127.00914513999258%2C%2037.57928387879304%5D%2C%20%5B127.00896672237498%2C%2037.582512606964876%5D%2C%20%5B127.00803641804285%2C%2037.5841154647404%5D%2C%20%5B127.00453322588274%2C%2037.58626325611708%5D%2C%20%5B127.00304474231643%2C%2037.58959898679736%5D%2C%20%5B126.99774058571116%2C%2037.58944568945197%5D%2C%20%5B126.99647930158565%2C%2037.58845217708608%5D%2C%20%5B126.99348293358314%2C%2037.588565457216156%5D%2C%20%5B126.98858114244759%2C%2037.58971272682123%5D%2C%20%5B126.98596926877026%2C%2037.59105697466976%5D%2C%20%5B126.98411250331745%2C%2037.59305007059415%5D%2C%20%5B126.98366752610544%2C%2037.596350797276386%5D%2C%20%5B126.98700989661556%2C%2037.59664611897289%5D%2C%20%5B126.98984276495587%2C%2037.59842301677683%5D%2C%20%5B126.9880021251863%2C%2037.60434406739665%5D%2C%20%5B126.98906118629816%2C%2037.60778324866486%5D%2C%20%5B126.98879865992384%2C%2037.6118927319756%5D%2C%20%5B126.9849070918475%2C%2037.61390303132951%5D%2C%20%5B126.98297129719916%2C%2037.61996223346171%5D%2C%20%5B126.98130955822086%2C%2037.621781567952816%5D%2C%20%5B126.98162508963613%2C%2037.626412913357804%5D%2C%20%5B126.97877284074367%2C%2037.62605559220399%5D%2C%20%5B126.977175406416%2C%2037.62859715400388%5D%5D%5D%2C%20%22type%22%3A%20%22Polygon%22%7D%2C%20%22properties%22%3A%20%7B%22base_year%22%3A%20%222013%22%2C%20%22code%22%3A%20%2211080%22%2C%20%22name%22%3A%20%22%5Cuc131%5Cubd81%5Cuad6c%22%2C%20%22name_eng%22%3A%20%22Seongbuk-gu%22%7D%2C%20%22type%22%3A%20%22Feature%22%7D%2C%20%7B%22geometry%22%3A%20%7B%22coordinates%22%3A%20%5B%5B%5B127.07351243825278%2C%2037.61283660342313%5D%2C%20%5B127.08325130652017%2C%2037.61626773063051%5D%2C%20%5B127.08796048322492%2C%2037.617471883010936%5D%2C%20%5B127.09125855705382%2C%2037.61703046232404%5D%2C%20%5B127.09825969127313%2C%2037.61431077622918%5D%2C%20%5B127.10191523948123%2C%2037.61531698025357%5D%2C%20%5B127.10361952102048%2C%2037.61701182935077%5D%2C%20%5B127.10782277688129%2C%2037.61804244241069%5D%2C%20%5B127.11345331993296%2C%2037.617863842655304%5D%2C%20%5B127.11916337651404%2C%2037.615000227833356%5D%2C%20%5B127.1187755615964%2C%2037.61339189160851%5D%2C%20%5B127.11970006573152%2C%2037.60891483985411%5D%2C%20%5B127.11876125411283%2C%2037.606109446640644%5D%2C%20%5B127.12043057261968%2C%2037.60482121408794%5D%2C%20%5B127.1201246020114%2C%2037.60178457598188%5D%2C%20%5B127.11594480655864%2C%2037.59717030173888%5D%2C%20%5B127.1161657841268%2C%2037.5962121213837%5D%2C%20%5B127.12048134936907%2C%2037.59221917979044%5D%2C%20%5B127.11993709114493%2C%2037.5912110652886%5D%2C%20%5B127.11547153661459%2C%2037.590528329194775%5D%2C%20%5B127.11264015185725%2C%2037.58640964166709%5D%2C%20%5B127.11144053497418%2C%2037.58186897928644%5D%2C%20%5B127.10355419751173%2C%2037.58101570870827%5D%2C%20%5B127.10488038804347%2C%2037.57896712496416%5D%2C%20%5B127.10478332632734%2C%2037.575507303239235%5D%2C%20%5B127.10316405057817%2C%2037.57293156986855%5D%2C%20%5B127.10304174249214%2C%2037.57076342290955%5D%2C%20%5B127.1015990771266%2C%2037.56973288819573%5D%2C%20%5B127.09327554832984%2C%2037.566762290300666%5D%2C%20%5B127.08553261581505%2C%2037.56856310839328%5D%2C%20%5B127.08068541280403%2C%2037.56906425519017%5D%2C%20%5B127.08029626481297%2C%2037.57521980955321%5D%2C%20%5B127.07912345005859%2C%2037.57855657914261%5D%2C%20%5B127.07327401376529%2C%2037.585954498442064%5D%2C%20%5B127.07152840437725%2C%2037.593413161750675%5D%2C%20%5B127.07216156147413%2C%2037.59537631888819%5D%2C%20%5B127.07457336676376%2C%2037.5983180561341%5D%2C%20%5B127.07481016030349%2C%2037.60000012932336%5D%2C%20%5B127.07382707099227%2C%2037.60401928986419%5D%2C%20%5B127.07351243825278%2C%2037.61283660342313%5D%5D%5D%2C%20%22type%22%3A%20%22Polygon%22%7D%2C%20%22properties%22%3A%20%7B%22base_year%22%3A%20%222013%22%2C%20%22code%22%3A%20%2211070%22%2C%20%22name%22%3A%20%22%5Cuc911%5Cub791%5Cuad6c%22%2C%20%22name_eng%22%3A%20%22Jungnang-gu%22%7D%2C%20%22type%22%3A%20%22Feature%22%7D%2C%20%7B%22geometry%22%3A%20%7B%22coordinates%22%3A%20%5B%5B%5B127.02527254528003%2C%2037.57524616245249%5D%2C%20%5B127.03121630347839%2C%2037.57957997701485%5D%2C%20%5B127.0384945038446%2C%2037.587129138658426%5D%2C%20%5B127.04116895171082%2C%2037.58847599306138%5D%2C%20%5B127.042705222094%2C%2037.59239437593391%5D%2C%20%5B127.0461318196879%2C%2037.593514180513594%5D%2C%20%5B127.04975439355248%2C%2037.59349421284317%5D%2C%20%5B127.05238061017225%2C%2037.598312271275574%5D%2C%20%5B127.05413734593897%2C%2037.5971595374718%5D%2C%20%5B127.059485363799%2C%2037.598743571420485%5D%2C%20%5B127.0612685122857%2C%2037.59823077263369%5D%2C%20%5B127.06424828533608%2C%2037.60234356864383%5D%2C%20%5B127.06753185518703%2C%2037.602724214598744%5D%2C%20%5B127.07084342033339%2C%2037.60407877132597%5D%2C%20%5B127.07069716820665%2C%2037.60653037341939%5D%2C%20%5B127.07257736686556%2C%2037.60654335765868%5D%2C%20%5B127.07382707099227%2C%2037.60401928986419%5D%2C%20%5B127.07481016030349%2C%2037.60000012932336%5D%2C%20%5B127.07457336676376%2C%2037.5983180561341%5D%2C%20%5B127.07216156147413%2C%2037.59537631888819%5D%2C%20%5B127.07152840437725%2C%2037.593413161750675%5D%2C%20%5B127.07327401376529%2C%2037.585954498442064%5D%2C%20%5B127.07912345005859%2C%2037.57855657914261%5D%2C%20%5B127.08029626481297%2C%2037.57521980955321%5D%2C%20%5B127.08068541280403%2C%2037.56906425519017%5D%2C%20%5B127.07421053024362%2C%2037.55724769712085%5D%2C%20%5B127.07287485628252%2C%2037.55777591771644%5D%2C%20%5B127.06151678590773%2C%2037.55942885203987%5D%2C%20%5B127.06031059899311%2C%2037.55992251180729%5D%2C%20%5B127.05005601081567%2C%2037.567577612590846%5D%2C%20%5B127.0442866611438%2C%2037.57022476304866%5D%2C%20%5B127.04003329296518%2C%2037.57010227772625%5D%2C%20%5B127.03483042272745%2C%2037.567549767306716%5D%2C%20%5B127.03182413083377%2C%2037.56712900013391%5D%2C%20%5B127.02547266349976%2C%2037.568943552237734%5D%2C%20%5B127.02527254528003%2C%2037.57524616245249%5D%5D%5D%2C%20%22type%22%3A%20%22Polygon%22%7D%2C%20%22properties%22%3A%20%7B%22base_year%22%3A%20%222013%22%2C%20%22code%22%3A%20%2211060%22%2C%20%22name%22%3A%20%22%5Cub3d9%5Cub300%5Cubb38%5Cuad6c%22%2C%20%22name_eng%22%3A%20%22Dongdaemun-gu%22%7D%2C%20%22type%22%3A%20%22Feature%22%7D%2C%20%7B%22geometry%22%3A%20%7B%22coordinates%22%3A%20%5B%5B%5B127.08068541280403%2C%2037.56906425519017%5D%2C%20%5B127.08553261581505%2C%2037.56856310839328%5D%2C%20%5B127.09327554832984%2C%2037.566762290300666%5D%2C%20%5B127.1015990771266%2C%2037.56973288819573%5D%2C%20%5B127.10304174249214%2C%2037.57076342290955%5D%2C%20%5B127.10627148043552%2C%2037.568124945986824%5D%2C%20%5B127.10545359063936%2C%2037.56685230388649%5D%2C%20%5B127.10407152037101%2C%2037.55958871940823%5D%2C%20%5B127.10325742736646%2C%2037.5572251707506%5D%2C%20%5B127.11270952006532%2C%2037.55702358575743%5D%2C%20%5B127.11519584981606%2C%2037.557533180704915%5D%2C%20%5B127.11600943681239%2C%2037.55580061507081%5D%2C%20%5B127.11600200349189%2C%2037.55053147511706%5D%2C%20%5B127.11418412219375%2C%2037.54474592090681%5D%2C%20%5B127.1116764203608%2C%2037.540669955324965%5D%2C%20%5B127.10484130265957%2C%2037.53120327509912%5D%2C%20%5B127.10087519791962%2C%2037.524841220167055%5D%2C%20%5B127.0943611414465%2C%2037.523984206117525%5D%2C%20%5B127.08639455667742%2C%2037.52161824624356%5D%2C%20%5B127.07968915919895%2C%2037.52077294752823%5D%2C%20%5B127.07496309841329%2C%2037.52091052765938%5D%2C%20%5B127.0690698130372%2C%2037.522279423505026%5D%2C%20%5B127.05867359288398%2C%2037.52629974922568%5D%2C%20%5B127.06896218881212%2C%2037.544361436565524%5D%2C%20%5B127.07580697427795%2C%2037.556641581290656%5D%2C%20%5B127.07421053024362%2C%2037.55724769712085%5D%2C%20%5B127.08068541280403%2C%2037.56906425519017%5D%5D%5D%2C%20%22type%22%3A%20%22Polygon%22%7D%2C%20%22properties%22%3A%20%7B%22base_year%22%3A%20%222013%22%2C%20%22code%22%3A%20%2211050%22%2C%20%22name%22%3A%20%22%5Cuad11%5Cuc9c4%5Cuad6c%22%2C%20%22name_eng%22%3A%20%22Gwangjin-gu%22%7D%2C%20%22type%22%3A%20%22Feature%22%7D%2C%20%7B%22geometry%22%3A%20%7B%22coordinates%22%3A%20%5B%5B%5B127.02547266349976%2C%2037.568943552237734%5D%2C%20%5B127.03182413083377%2C%2037.56712900013391%5D%2C%20%5B127.03483042272745%2C%2037.567549767306716%5D%2C%20%5B127.04003329296518%2C%2037.57010227772625%5D%2C%20%5B127.0442866611438%2C%2037.57022476304866%5D%2C%20%5B127.05005601081567%2C%2037.567577612590846%5D%2C%20%5B127.06031059899311%2C%2037.55992251180729%5D%2C%20%5B127.06151678590773%2C%2037.55942885203987%5D%2C%20%5B127.07287485628252%2C%2037.55777591771644%5D%2C%20%5B127.07421053024362%2C%2037.55724769712085%5D%2C%20%5B127.07580697427795%2C%2037.556641581290656%5D%2C%20%5B127.06896218881212%2C%2037.544361436565524%5D%2C%20%5B127.05867359288398%2C%2037.52629974922568%5D%2C%20%5B127.05116490008963%2C%2037.52975116557232%5D%2C%20%5B127.04903802830752%2C%2037.53140496708317%5D%2C%20%5B127.04806779588436%2C%2037.52970198575087%5D%2C%20%5B127.0319617044248%2C%2037.536064291470424%5D%2C%20%5B127.0269608080842%2C%2037.53484752757724%5D%2C%20%5B127.02302831890559%2C%2037.53231899582663%5D%2C%20%5B127.01689265453608%2C%2037.536101393926174%5D%2C%20%5B127.01157414590769%2C%2037.53677688273679%5D%2C%20%5B127.01043978345277%2C%2037.53905983303592%5D%2C%20%5B127.01070894177482%2C%2037.54118048964762%5D%2C%20%5B127.01172101406588%2C%2037.545252245650516%5D%2C%20%5B127.01376082027429%2C%2037.54571276061997%5D%2C%20%5B127.01889368846282%2C%2037.55057696424215%5D%2C%20%5B127.01951516360089%2C%2037.55318470254581%5D%2C%20%5B127.02174792168286%2C%2037.55473509405241%5D%2C%20%5B127.02496143707425%2C%2037.555070476260596%5D%2C%20%5B127.0257913546443%2C%2037.558352834264504%5D%2C%20%5B127.02836991434461%2C%2037.56019645010606%5D%2C%20%5B127.02881029425372%2C%2037.56219283885279%5D%2C%20%5B127.02571971403893%2C%2037.56237200595601%5D%2C%20%5B127.02547266349976%2C%2037.568943552237734%5D%5D%5D%2C%20%22type%22%3A%20%22Polygon%22%7D%2C%20%22properties%22%3A%20%7B%22base_year%22%3A%20%222013%22%2C%20%22code%22%3A%20%2211040%22%2C%20%22name%22%3A%20%22%5Cuc131%5Cub3d9%5Cuad6c%22%2C%20%22name_eng%22%3A%20%22Seongdong-gu%22%7D%2C%20%22type%22%3A%20%22Feature%22%7D%2C%20%7B%22geometry%22%3A%20%7B%22coordinates%22%3A%20%5B%5B%5B127.01070894177482%2C%2037.54118048964762%5D%2C%20%5B127.01043978345277%2C%2037.53905983303592%5D%2C%20%5B127.01157414590769%2C%2037.53677688273679%5D%2C%20%5B127.01689265453608%2C%2037.536101393926174%5D%2C%20%5B127.02302831890559%2C%2037.53231899582663%5D%2C%20%5B127.01397119667513%2C%2037.52503988289669%5D%2C%20%5B127.01022186960886%2C%2037.522020085671926%5D%2C%20%5B127.00818058911564%2C%2037.51877313923874%5D%2C%20%5B127.00583392114271%2C%2037.516905128452926%5D%2C%20%5B127.00011962020382%2C%2037.513901653034374%5D%2C%20%5B126.99148001917875%2C%2037.50990503427709%5D%2C%20%5B126.98948242685965%2C%2037.5108780134613%5D%2C%20%5B126.98458580602838%2C%2037.51070333105394%5D%2C%20%5B126.98223807916081%2C%2037.509314966770326%5D%2C%20%5B126.96670111119346%2C%2037.50997579058433%5D%2C%20%5B126.95950268374823%2C%2037.51249532165974%5D%2C%20%5B126.95551848909955%2C%2037.514736123015844%5D%2C%20%5B126.95249990298159%2C%2037.51722500741813%5D%2C%20%5B126.95003825019774%2C%2037.520781022055274%5D%2C%20%5B126.9488066464266%2C%2037.52424913252661%5D%2C%20%5B126.94566733083212%2C%2037.526617542453366%5D%2C%20%5B126.94717864071288%2C%2037.53213495568077%5D%2C%20%5B126.95340780191557%2C%2037.533494726370755%5D%2C%20%5B126.95926437828754%2C%2037.53897908363236%5D%2C%20%5B126.9605977865388%2C%2037.542661954880806%5D%2C%20%5B126.96231305253527%2C%2037.543511558047456%5D%2C%20%5B126.96401856825223%2C%2037.54584596959762%5D%2C%20%5B126.96604189284825%2C%2037.546894141748815%5D%2C%20%5B126.96448570553055%2C%2037.548705692021635%5D%2C%20%5B126.96782902931233%2C%2037.55132047039716%5D%2C%20%5B126.97427174983227%2C%2037.55109017579016%5D%2C%20%5B126.97859017732588%2C%2037.550336476582174%5D%2C%20%5B126.97925452152829%2C%2037.552184137181925%5D%2C%20%5B126.98262900956787%2C%2037.5506055959842%5D%2C%20%5B126.98584427779701%2C%2037.55023778139842%5D%2C%20%5B126.98752996903328%2C%2037.55094818807139%5D%2C%20%5B126.9899124474417%2C%2037.54869376545355%5D%2C%20%5B126.99238536723166%2C%2037.54862980831976%5D%2C%20%5B126.99742220893982%2C%2037.544438365587226%5D%2C%20%5B127.00062378484931%2C%2037.54713274618077%5D%2C%20%5B127.00478682371764%2C%2037.54680216333233%5D%2C%20%5B127.00632779182564%2C%2037.54757707053058%5D%2C%20%5B127.00694507580798%2C%2037.5433832956489%5D%2C%20%5B127.00936066823724%2C%2037.54101133407434%5D%2C%20%5B127.01070894177482%2C%2037.54118048964762%5D%5D%5D%2C%20%22type%22%3A%20%22Polygon%22%7D%2C%20%22properties%22%3A%20%7B%22base_year%22%3A%20%222013%22%2C%20%22code%22%3A%20%2211030%22%2C%20%22name%22%3A%20%22%5Cuc6a9%5Cuc0b0%5Cuad6c%22%2C%20%22name_eng%22%3A%20%22Yongsan-gu%22%7D%2C%20%22type%22%3A%20%22Feature%22%7D%2C%20%7B%22geometry%22%3A%20%7B%22coordinates%22%3A%20%5B%5B%5B127.02547266349976%2C%2037.568943552237734%5D%2C%20%5B127.02571971403893%2C%2037.56237200595601%5D%2C%20%5B127.02881029425372%2C%2037.56219283885279%5D%2C%20%5B127.02836991434461%2C%2037.56019645010606%5D%2C%20%5B127.0257913546443%2C%2037.558352834264504%5D%2C%20%5B127.02496143707425%2C%2037.555070476260596%5D%2C%20%5B127.02174792168286%2C%2037.55473509405241%5D%2C%20%5B127.01951516360089%2C%2037.55318470254581%5D%2C%20%5B127.01889368846282%2C%2037.55057696424215%5D%2C%20%5B127.01376082027429%2C%2037.54571276061997%5D%2C%20%5B127.01172101406588%2C%2037.545252245650516%5D%2C%20%5B127.01070894177482%2C%2037.54118048964762%5D%2C%20%5B127.00936066823724%2C%2037.54101133407434%5D%2C%20%5B127.00694507580798%2C%2037.5433832956489%5D%2C%20%5B127.00632779182564%2C%2037.54757707053058%5D%2C%20%5B127.00478682371764%2C%2037.54680216333233%5D%2C%20%5B127.00062378484931%2C%2037.54713274618077%5D%2C%20%5B126.99742220893982%2C%2037.544438365587226%5D%2C%20%5B126.99238536723166%2C%2037.54862980831976%5D%2C%20%5B126.9899124474417%2C%2037.54869376545355%5D%2C%20%5B126.98752996903328%2C%2037.55094818807139%5D%2C%20%5B126.98584427779701%2C%2037.55023778139842%5D%2C%20%5B126.98262900956787%2C%2037.5506055959842%5D%2C%20%5B126.97925452152829%2C%2037.552184137181925%5D%2C%20%5B126.97859017732588%2C%2037.550336476582174%5D%2C%20%5B126.97427174983227%2C%2037.55109017579016%5D%2C%20%5B126.96782902931233%2C%2037.55132047039716%5D%2C%20%5B126.96448570553055%2C%2037.548705692021635%5D%2C%20%5B126.96380145704283%2C%2037.55254525759954%5D%2C%20%5B126.96519694864509%2C%2037.55362533505407%5D%2C%20%5B126.96358226710812%2C%2037.55605635475154%5D%2C%20%5B126.96570855677983%2C%2037.556512377492325%5D%2C%20%5B126.96900073076728%2C%2037.55850929094393%5D%2C%20%5B126.97169209525231%2C%2037.55921654641677%5D%2C%20%5B126.96873633279075%2C%2037.56313604690827%5D%2C%20%5B126.97114791678374%2C%2037.56539818101368%5D%2C%20%5B126.97500684322326%2C%2037.566406971064836%5D%2C%20%5B126.97990305661519%2C%2037.5664536437083%5D%2C%20%5B126.9910070921652%2C%2037.565312022428806%5D%2C%20%5B126.99879870609924%2C%2037.56591346564579%5D%2C%20%5B127.00372480409301%2C%2037.56679519621814%5D%2C%20%5B127.01786686709805%2C%2037.56701276414023%5D%2C%20%5B127.02250839667563%2C%2037.56892943928301%5D%2C%20%5B127.02547266349976%2C%2037.568943552237734%5D%5D%5D%2C%20%22type%22%3A%20%22Polygon%22%7D%2C%20%22properties%22%3A%20%7B%22base_year%22%3A%20%222013%22%2C%20%22code%22%3A%20%2211020%22%2C%20%22name%22%3A%20%22%5Cuc911%5Cuad6c%22%2C%20%22name_eng%22%3A%20%22Jung-gu%22%7D%2C%20%22type%22%3A%20%22Feature%22%7D%2C%20%7B%22geometry%22%3A%20%7B%22coordinates%22%3A%20%5B%5B%5B126.9738864128702%2C%2037.62949634786888%5D%2C%20%5B126.977175406416%2C%2037.62859715400388%5D%2C%20%5B126.97877284074367%2C%2037.62605559220399%5D%2C%20%5B126.98162508963613%2C%2037.626412913357804%5D%2C%20%5B126.98130955822086%2C%2037.621781567952816%5D%2C%20%5B126.98297129719916%2C%2037.61996223346171%5D%2C%20%5B126.9849070918475%2C%2037.61390303132951%5D%2C%20%5B126.98879865992384%2C%2037.6118927319756%5D%2C%20%5B126.98906118629816%2C%2037.60778324866486%5D%2C%20%5B126.9880021251863%2C%2037.60434406739665%5D%2C%20%5B126.98984276495587%2C%2037.59842301677683%5D%2C%20%5B126.98700989661556%2C%2037.59664611897289%5D%2C%20%5B126.98366752610544%2C%2037.596350797276386%5D%2C%20%5B126.98411250331745%2C%2037.59305007059415%5D%2C%20%5B126.98596926877026%2C%2037.59105697466976%5D%2C%20%5B126.98858114244759%2C%2037.58971272682123%5D%2C%20%5B126.99348293358314%2C%2037.588565457216156%5D%2C%20%5B126.99647930158565%2C%2037.58845217708608%5D%2C%20%5B126.99774058571116%2C%2037.58944568945197%5D%2C%20%5B127.00304474231643%2C%2037.58959898679736%5D%2C%20%5B127.00453322588274%2C%2037.58626325611708%5D%2C%20%5B127.00803641804285%2C%2037.5841154647404%5D%2C%20%5B127.00896672237498%2C%2037.582512606964876%5D%2C%20%5B127.00914513999258%2C%2037.57928387879304%5D%2C%20%5B127.01094467951529%2C%2037.57765758282494%5D%2C%20%5B127.01678966486051%2C%2037.57943162455397%5D%2C%20%5B127.01849412471284%2C%2037.57904760334465%5D%2C%20%5B127.02039107536422%2C%2037.575771872553595%5D%2C%20%5B127.02395698453867%2C%2037.576068086896726%5D%2C%20%5B127.02527254528003%2C%2037.57524616245249%5D%2C%20%5B127.02547266349976%2C%2037.568943552237734%5D%2C%20%5B127.02250839667563%2C%2037.56892943928301%5D%2C%20%5B127.01786686709805%2C%2037.56701276414023%5D%2C%20%5B127.00372480409301%2C%2037.56679519621814%5D%2C%20%5B126.99879870609924%2C%2037.56591346564579%5D%2C%20%5B126.9910070921652%2C%2037.565312022428806%5D%2C%20%5B126.97990305661519%2C%2037.5664536437083%5D%2C%20%5B126.97500684322326%2C%2037.566406971064836%5D%2C%20%5B126.97114791678374%2C%2037.56539818101368%5D%2C%20%5B126.96873633279075%2C%2037.56313604690827%5D%2C%20%5B126.95565425846463%2C%2037.576080790881456%5D%2C%20%5B126.95789326971087%2C%2037.57793453336025%5D%2C%20%5B126.96177754536156%2C%2037.57970124256911%5D%2C%20%5B126.95879970726017%2C%2037.58189826471162%5D%2C%20%5B126.96048802632431%2C%2037.587202077053746%5D%2C%20%5B126.960424902266%2C%2037.58868913291801%5D%2C%20%5B126.95842779914786%2C%2037.592356673207824%5D%2C%20%5B126.95924434840931%2C%2037.59545024466215%5D%2C%20%5B126.95619178283661%2C%2037.59575826218021%5D%2C%20%5B126.95484771718951%2C%2037.59761368186209%5D%2C%20%5B126.95564117002459%2C%2037.601827148276776%5D%2C%20%5B126.95480868778256%2C%2037.60381765067903%5D%2C%20%5B126.9524752030572%2C%2037.60508692737045%5D%2C%20%5B126.95187994741721%2C%2037.60600915874973%5D%2C%20%5B126.95308190738618%2C%2037.60926681659027%5D%2C%20%5B126.95249458941419%2C%2037.61333750249896%5D%2C%20%5B126.95145384404022%2C%2037.61493028446385%5D%2C%20%5B126.9528332649861%2C%2037.6161065117682%5D%2C%20%5B126.95393421039743%2C%2037.61877981567335%5D%2C%20%5B126.95427017006129%2C%2037.622033431339425%5D%2C%20%5B126.95885198650147%2C%2037.6225761621008%5D%2C%20%5B126.96164158910712%2C%2037.62569322976388%5D%2C%20%5B126.97135221665513%2C%2037.62743418897386%5D%2C%20%5B126.9738864128702%2C%2037.62949634786888%5D%5D%5D%2C%20%22type%22%3A%20%22Polygon%22%7D%2C%20%22properties%22%3A%20%7B%22base_year%22%3A%20%222013%22%2C%20%22code%22%3A%20%2211010%22%2C%20%22name%22%3A%20%22%5Cuc885%5Cub85c%5Cuad6c%22%2C%20%22name_eng%22%3A%20%22Jongno-gu%22%7D%2C%20%22type%22%3A%20%22Feature%22%7D%5D%2C%20%22type%22%3A%20%22FeatureCollection%22%7D%29%3B%0A%0A%20%20%20%20%20%20%20%20%0A%20%20%20%20%0A%20%20%20%20var%20color_map_96b89d0c11004034bace4611988fd3c0%20%3D%20%7B%7D%3B%0A%0A%20%20%20%20%0A%20%20%20%20color_map_96b89d0c11004034bace4611988fd3c0.color%20%3D%20d3.scale.threshold%28%29%0A%20%20%20%20%20%20%20%20%20%20%20%20%20%20.domain%28%5B-0.11933763799354079%2C%20-0.1183815459214873%2C%20-0.11742545384943381%2C%20-0.11646936177738032%2C%20-0.11551326970532684%2C%20-0.11455717763327335%2C%20-0.11360108556121985%2C%20-0.11264499348916637%2C%20-0.11168890141711288%2C%20-0.1107328093450594%2C%20-0.1097767172730059%2C%20-0.10882062520095241%2C%20-0.10786453312889893%2C%20-0.10690844105684544%2C%20-0.10595234898479194%2C%20-0.10499625691273846%2C%20-0.10404016484068497%2C%20-0.10308407276863149%2C%20-0.102127980696578%2C%20-0.1011718886245245%2C%20-0.10021579655247102%2C%20-0.09925970448041753%2C%20-0.09830361240836405%2C%20-0.09734752033631056%2C%20-0.09639142826425706%2C%20-0.09543533619220358%2C%20-0.09447924412015009%2C%20-0.09352315204809661%2C%20-0.09256705997604311%2C%20-0.09161096790398962%2C%20-0.09065487583193614%2C%20-0.08969878375988265%2C%20-0.08874269168782917%2C%20-0.08778659961577567%2C%20-0.08683050754372218%2C%20-0.08587441547166869%2C%20-0.08491832339961522%2C%20-0.08396223132756173%2C%20-0.08300613925550823%2C%20-0.08205004718345474%2C%20-0.08109395511140126%2C%20-0.08013786303934776%2C%20-0.07918177096729428%2C%20-0.07822567889524079%2C%20-0.0772695868231873%2C%20-0.0763134947511338%2C%20-0.07535740267908032%2C%20-0.07440131060702683%2C%20-0.07344521853497335%2C%20-0.07248912646291986%2C%20-0.07153303439086636%2C%20-0.0705769423188129%2C%20-0.0696208502467594%2C%20-0.06866475817470591%2C%20-0.06770866610265242%2C%20-0.06675257403059894%2C%20-0.06579648195854544%2C%20-0.06484038988649196%2C%20-0.06388429781443847%2C%20-0.06292820574238497%2C%20-0.06197211367033149%2C%20-0.061016021598278%2C%20-0.060059929526224506%2C%20-0.059103837454171027%2C%20-0.05814774538211753%2C%20-0.057191653310064046%2C%20-0.05623556123801056%2C%20-0.055279469165957065%2C%20-0.054323377093903585%2C%20-0.05336728502185009%2C%20-0.0524111929497966%2C%20-0.05145510087774312%2C%20-0.05049900880568964%2C%20-0.04954291673363613%2C%20-0.04858682466158265%2C%20-0.04763073258952916%2C%20-0.04667464051747568%2C%20-0.0457185484454222%2C%20-0.04476245637336869%2C%20-0.04380636430131521%2C%20-0.04285027222926173%2C%20-0.041894180157208236%2C%20-0.04093808808515474%2C%20-0.03998199601310126%2C%20-0.03902590394104777%2C%20-0.03806981186899429%2C%20-0.03711371979694078%2C%20-0.0361576277248873%2C%20-0.03520153565283382%2C%20-0.03424544358078033%2C%20-0.03328935150872683%2C%20-0.03233325943667335%2C%20-0.03137716736461986%2C%20-0.03042107529256638%2C%20-0.029464983220512872%2C%20-0.028508891148459392%2C%20-0.027552799076405912%2C%20-0.02659670700435242%2C%20-0.025640614932298925%2C%20-0.024684522860245445%2C%20-0.02372843078819195%2C%20-0.02277233871613847%2C%20-0.02181624664408499%2C%20-0.020860154572031483%2C%20-0.019904062499978004%2C%20-0.01894797042792451%2C%20-0.01799187835587103%2C%20-0.017035786283817536%2C%20-0.016079694211764042%2C%20-0.015123602139710562%2C%20-0.014167510067657083%2C%20-0.013211417995603575%2C%20-0.012255325923550095%2C%20-0.011299233851496615%2C%20-0.010343141779443121%2C%20-0.009387049707389628%2C%20-0.008430957635336134%2C%20-0.007474865563282654%2C%20-0.006518773491229174%2C%20-0.005562681419175666%2C%20-0.004606589347122186%2C%20-0.0036504972750687065%2C%20-0.0026944052030152127%2C%20-0.001738313130961719%2C%20-0.0007822210589082251%2C%200.00017387101314525477%2C%200.0011299630851987347%2C%200.0020860551572522285%2C%200.0030421472293057222%2C%200.003998239301359202%2C%200.004954331373412696%2C%200.005910423445466176%2C%200.00686651551751967%2C%200.007822607589573163%2C%200.008778699661626657%2C%200.009734791733680123%2C%200.010690883805733617%2C%200.01164697587778711%2C%200.012603067949840605%2C%200.013559160021894098%2C%200.014515252093947592%2C%200.015471344166001058%2C%200.016427436238054552%2C%200.017383528310108046%2C%200.01833962038216151%2C%200.019295712454215005%2C%200.020251804526268527%2C%200.021207896598321993%2C%200.022163988670375487%2C%200.02312008074242898%2C%200.024076172814482474%2C%200.02503226488653594%2C%200.025988356958589434%2C%200.026944449030642928%2C%200.027900541102696394%2C%200.028856633174749916%2C%200.02981272524680341%2C%200.030768817318856875%2C%200.03172490939091037%2C%200.03268100146296386%2C%200.03363709353501733%2C%200.03459318560707082%2C%200.035549277679124316%2C%200.03650536975117781%2C%200.037461461823231304%2C%200.0384175538952848%2C%200.039373645967338264%2C%200.04032973803939176%2C%200.04128583011144525%2C%200.042241922183498745%2C%200.04319801425555221%2C%200.04415410632760573%2C%200.045110198399659227%2C%200.04606629047171269%2C%200.047022382543766186%2C%200.04797847461581968%2C%200.048934566687873146%2C%200.04989065875992664%2C%200.050846750831980134%2C%200.0518028429040336%2C%200.05275893497608712%2C%200.053715027048140615%2C%200.05467111912019408%2C%200.055627211192247575%2C%200.05658330326430107%2C%200.057539395336354535%2C%200.05849548740840803%2C%200.05945157948046152%2C%200.060407671552515044%2C%200.06136376362456851%2C%200.062319855696622004%2C%200.0632759477686755%2C%200.06423203984072896%2C%200.06518813191278246%2C%200.06614422398483595%2C%200.06710031605688942%2C%200.06805640812894294%2C%200.06901250020099643%2C%200.0699685922730499%2C%200.07092468434510339%2C%200.07188077641715689%2C%200.07283686848921035%2C%200.07379296056126385%2C%200.07474905263331734%2C%200.0757051447053708%2C%200.07666123677742433%2C%200.07761732884947782%2C%200.07857342092153131%2C%200.07952951299358478%2C%200.08048560506563827%2C%200.08144169713769177%2C%200.08239778920974523%2C%200.08335388128179873%2C%200.08430997335385225%2C%200.08526606542590572%2C%200.08622215749795921%2C%200.0871782495700127%2C%200.08813434164206617%2C%200.08909043371411966%2C%200.09004652578617316%2C%200.09100261785822662%2C%200.09195870993028014%2C%200.09291480200233364%2C%200.0938708940743871%2C%200.0948269861464406%2C%200.09578307821849409%2C%200.09673917029054756%2C%200.09769526236260105%2C%200.09865135443465455%2C%200.09960744650670804%2C%200.10056353857876153%2C%200.10151963065081503%2C%200.10247572272286852%2C%200.10343181479492199%2C%200.10438790686697548%2C%200.10534399893902897%2C%200.10630009101108244%2C%200.10725618308313593%2C%200.10821227515518946%2C%200.10916836722724292%2C%200.11012445929929641%2C%200.11108055137134991%2C%200.11203664344340337%2C%200.11299273551545687%2C%200.11394882758751036%2C%200.11490491965956383%2C%200.11586101173161735%2C%200.11681710380367084%2C%200.11777319587572434%2C%200.1187292879477778%2C%200.1196853800198313%2C%200.12064147209188479%2C%200.12159756416393826%2C%200.12255365623599175%2C%200.12350974830804524%2C%200.12446584038009874%2C%200.12542193245215222%2C%200.1263780245242057%2C%200.1273341165962592%2C%200.1282902086683127%2C%200.1292463007403662%2C%200.13020239281241963%2C%200.13115848488447313%2C%200.13211457695652662%2C%200.1330706690285801%2C%200.1340267611006336%2C%200.1349828531726871%2C%200.1359389452447406%2C%200.1368950373167941%2C%200.13785112938884753%2C%200.13880722146090102%2C%200.13976331353295451%2C%200.140719405605008%2C%200.1416754976770615%2C%200.142631589749115%2C%200.14358768182116843%2C%200.14454377389322198%2C%200.14549986596527548%2C%200.14645595803732897%2C%200.14741205010938246%2C%200.14836814218143596%2C%200.14932423425348945%2C%200.1502803263255429%2C%200.15123641839759638%2C%200.15219251046964988%2C%200.15314860254170337%2C%200.15410469461375687%2C%200.15506078668581036%2C%200.1560168787578638%2C%200.1569729708299173%2C%200.15792906290197078%2C%200.15888515497402428%2C%200.15984124704607783%2C%200.16079733911813132%2C%200.16175343119018476%2C%200.16270952326223825%2C%200.16366561533429175%2C%200.16462170740634524%2C%200.16557779947839874%2C%200.16653389155045223%2C%200.16748998362250572%2C%200.16844607569455916%2C%200.16940216776661265%2C%200.17035825983866615%2C%200.17131435191071964%2C%200.17227044398277314%2C%200.17322653605482663%2C%200.17418262812688007%2C%200.17513872019893356%2C%200.1760948122709871%2C%200.1770509043430406%2C%200.1780069964150941%2C%200.1789630884871476%2C%200.17991918055920103%2C%200.18087527263125452%2C%200.18183136470330802%2C%200.1827874567753615%2C%200.183743548847415%2C%200.1846996409194685%2C%200.185655732991522%2C%200.18661182506357543%2C%200.18756791713562893%2C%200.18852400920768242%2C%200.1894801012797359%2C%200.1904361933517894%2C%200.19139228542384296%2C%200.1923483774958964%2C%200.1933044695679499%2C%200.19426056164000338%2C%200.19521665371205688%2C%200.19617274578411037%2C%200.19712883785616386%2C%200.1980849299282173%2C%200.1990410220002708%2C%200.1999971140723243%2C%200.20095320614437778%2C%200.20190929821643128%2C%200.20286539028848477%2C%200.20382148236053826%2C%200.2047775744325917%2C%200.2057336665046452%2C%200.2066897585766987%2C%200.20764585064875224%2C%200.20860194272080573%2C%200.20955803479285923%2C%200.21051412686491267%2C%200.21147021893696616%2C%200.21242631100901965%2C%200.21338240308107315%2C%200.21433849515312664%2C%200.21529458722518013%2C%200.21625067929723357%2C%200.21720677136928707%2C%200.21816286344134056%2C%200.21911895551339405%2C%200.22007504758544755%2C%200.22103113965750104%2C%200.22198723172955453%2C%200.22294332380160797%2C%200.22389941587366152%2C%200.22485550794571502%2C%200.2258116000177685%2C%200.226767692089822%2C%200.2277237841618755%2C%200.22867987623392894%2C%200.22963596830598243%2C%200.23059206037803592%2C%200.23154815245008942%2C%200.2325042445221429%2C%200.2334603365941964%2C%200.23441642866624984%2C%200.23537252073830334%2C%200.23632861281035683%2C%200.23728470488241032%2C%200.23824079695446382%2C%200.23919688902651737%2C%200.24015298109857086%2C%200.2411090731706243%2C%200.2420651652426778%2C%200.2430212573147313%2C%200.24397734938678478%2C%200.24493344145883827%2C%200.24588953353089177%2C%200.2468456256029452%2C%200.2478017176749987%2C%200.2487578097470522%2C%200.2497139018191057%2C%200.2506699938911592%2C%200.2516260859632127%2C%200.2525821780352661%2C%200.2535382701073196%2C%200.2544943621793731%2C%200.25545045425142665%2C%200.25640654632348014%2C%200.25736263839553364%2C%200.25831873046758713%2C%200.25927482253964057%2C%200.26023091461169406%2C%200.26118700668374756%2C%200.26214309875580105%2C%200.26309919082785455%2C%200.26405528289990804%2C%200.2650113749719615%2C%200.26596746704401497%2C%200.26692355911606847%2C%200.26787965118812196%2C%200.26883574326017545%2C%200.26979183533222895%2C%200.2707479274042824%2C%200.27170401947633593%2C%200.27266011154838943%2C%200.2736162036204429%2C%200.2745722956924964%2C%200.2755283877645499%2C%200.2764844798366034%2C%200.27744057190865684%2C%200.27839666398071033%2C%200.27935275605276383%2C%200.2803088481248173%2C%200.2812649401968708%2C%200.2822210322689243%2C%200.28317712434097775%2C%200.28413321641303124%2C%200.28508930848508474%2C%200.28604540055713823%2C%200.2870014926291918%2C%200.2879575847012453%2C%200.2889136767732987%2C%200.2898697688453522%2C%200.2908258609174057%2C%200.2917819529894592%2C%200.2927380450615127%2C%200.2936941371335662%2C%200.2946502292056196%2C%200.2956063212776731%2C%200.2965624133497266%2C%200.2975185054217801%2C%200.2984745974938336%2C%200.2994306895658871%2C%200.3003867816379406%2C%200.301342873709994%2C%200.3022989657820475%2C%200.30325505785410106%2C%200.30421114992615456%2C%200.30516724199820805%2C%200.30612333407026154%2C%200.307079426142315%2C%200.3080355182143685%2C%200.30899161028642197%2C%200.30994770235847546%2C%200.31090379443052896%2C%200.31185988650258245%2C%200.3128159785746359%2C%200.3137720706466894%2C%200.3147281627187429%2C%200.31568425479079637%2C%200.31664034686284986%2C%200.31759643893490336%2C%200.31855253100695685%2C%200.31950862307901035%2C%200.32046471515106384%2C%200.32142080722311733%2C%200.3223768992951708%2C%200.3233329913672243%2C%200.3242890834392778%2C%200.32524517551133125%2C%200.32620126758338475%2C%200.32715735965543824%2C%200.32811345172749173%2C%200.3290695437995452%2C%200.3300256358715987%2C%200.33098172794365216%2C%200.33193782001570565%2C%200.33289391208775915%2C%200.33385000415981264%2C%200.3348060962318662%2C%200.3357621883039197%2C%200.3367182803759732%2C%200.3376743724480266%2C%200.3386304645200801%2C%200.3395865565921336%2C%200.3405426486641871%2C%200.3414987407362406%2C%200.3424548328082941%2C%200.3434109248803475%2C%200.344367016952401%2C%200.3453231090244545%2C%200.346279201096508%2C%200.3472352931685615%2C%200.348191385240615%2C%200.34914747731266843%2C%200.3501035693847219%2C%200.3510596614567755%2C%200.35201575352882897%2C%200.35297184560088246%2C%200.35392793767293595%2C%200.35488402974498945%2C%200.3558401218170429%2C%200.3567962138890964%2C%200.3577523059611499%5D%29%0A%20%20%20%20%20%20%20%20%20%20%20%20%20%20.range%28%5B%27%23eff3ffff%27%2C%20%27%23eff3ffff%27%2C%20%27%23eff3ffff%27%2C%20%27%23eff3ffff%27%2C%20%27%23eff3ffff%27%2C%20%27%23eff3ffff%27%2C%20%27%23eff3ffff%27%2C%20%27%23eff3ffff%27%2C%20%27%23eff3ffff%27%2C%20%27%23eff3ffff%27%2C%20%27%23eff3ffff%27%2C%20%27%23eff3ffff%27%2C%20%27%23eff3ffff%27%2C%20%27%23eff3ffff%27%2C%20%27%23eff3ffff%27%2C%20%27%23eff3ffff%27%2C%20%27%23eff3ffff%27%2C%20%27%23eff3ffff%27%2C%20%27%23eff3ffff%27%2C%20%27%23eff3ffff%27%2C%20%27%23eff3ffff%27%2C%20%27%23eff3ffff%27%2C%20%27%23eff3ffff%27%2C%20%27%23eff3ffff%27%2C%20%27%23eff3ffff%27%2C%20%27%23eff3ffff%27%2C%20%27%23eff3ffff%27%2C%20%27%23eff3ffff%27%2C%20%27%23eff3ffff%27%2C%20%27%23eff3ffff%27%2C%20%27%23eff3ffff%27%2C%20%27%23eff3ffff%27%2C%20%27%23eff3ffff%27%2C%20%27%23eff3ffff%27%2C%20%27%23eff3ffff%27%2C%20%27%23eff3ffff%27%2C%20%27%23eff3ffff%27%2C%20%27%23eff3ffff%27%2C%20%27%23eff3ffff%27%2C%20%27%23eff3ffff%27%2C%20%27%23eff3ffff%27%2C%20%27%23eff3ffff%27%2C%20%27%23eff3ffff%27%2C%20%27%23eff3ffff%27%2C%20%27%23eff3ffff%27%2C%20%27%23eff3ffff%27%2C%20%27%23eff3ffff%27%2C%20%27%23eff3ffff%27%2C%20%27%23eff3ffff%27%2C%20%27%23eff3ffff%27%2C%20%27%23eff3ffff%27%2C%20%27%23eff3ffff%27%2C%20%27%23eff3ffff%27%2C%20%27%23eff3ffff%27%2C%20%27%23eff3ffff%27%2C%20%27%23eff3ffff%27%2C%20%27%23eff3ffff%27%2C%20%27%23eff3ffff%27%2C%20%27%23eff3ffff%27%2C%20%27%23eff3ffff%27%2C%20%27%23eff3ffff%27%2C%20%27%23eff3ffff%27%2C%20%27%23eff3ffff%27%2C%20%27%23eff3ffff%27%2C%20%27%23eff3ffff%27%2C%20%27%23eff3ffff%27%2C%20%27%23eff3ffff%27%2C%20%27%23eff3ffff%27%2C%20%27%23eff3ffff%27%2C%20%27%23eff3ffff%27%2C%20%27%23eff3ffff%27%2C%20%27%23eff3ffff%27%2C%20%27%23eff3ffff%27%2C%20%27%23eff3ffff%27%2C%20%27%23eff3ffff%27%2C%20%27%23eff3ffff%27%2C%20%27%23eff3ffff%27%2C%20%27%23eff3ffff%27%2C%20%27%23eff3ffff%27%2C%20%27%23eff3ffff%27%2C%20%27%23eff3ffff%27%2C%20%27%23eff3ffff%27%2C%20%27%23eff3ffff%27%2C%20%27%23eff3ffff%27%2C%20%27%23c6dbefff%27%2C%20%27%23c6dbefff%27%2C%20%27%23c6dbefff%27%2C%20%27%23c6dbefff%27%2C%20%27%23c6dbefff%27%2C%20%27%23c6dbefff%27%2C%20%27%23c6dbefff%27%2C%20%27%23c6dbefff%27%2C%20%27%23c6dbefff%27%2C%20%27%23c6dbefff%27%2C%20%27%23c6dbefff%27%2C%20%27%23c6dbefff%27%2C%20%27%23c6dbefff%27%2C%20%27%23c6dbefff%27%2C%20%27%23c6dbefff%27%2C%20%27%23c6dbefff%27%2C%20%27%23c6dbefff%27%2C%20%27%23c6dbefff%27%2C%20%27%23c6dbefff%27%2C%20%27%23c6dbefff%27%2C%20%27%23c6dbefff%27%2C%20%27%23c6dbefff%27%2C%20%27%23c6dbefff%27%2C%20%27%23c6dbefff%27%2C%20%27%23c6dbefff%27%2C%20%27%23c6dbefff%27%2C%20%27%23c6dbefff%27%2C%20%27%23c6dbefff%27%2C%20%27%23c6dbefff%27%2C%20%27%23c6dbefff%27%2C%20%27%23c6dbefff%27%2C%20%27%23c6dbefff%27%2C%20%27%23c6dbefff%27%2C%20%27%23c6dbefff%27%2C%20%27%23c6dbefff%27%2C%20%27%23c6dbefff%27%2C%20%27%23c6dbefff%27%2C%20%27%23c6dbefff%27%2C%20%27%23c6dbefff%27%2C%20%27%23c6dbefff%27%2C%20%27%23c6dbefff%27%2C%20%27%23c6dbefff%27%2C%20%27%23c6dbefff%27%2C%20%27%23c6dbefff%27%2C%20%27%23c6dbefff%27%2C%20%27%23c6dbefff%27%2C%20%27%23c6dbefff%27%2C%20%27%23c6dbefff%27%2C%20%27%23c6dbefff%27%2C%20%27%23c6dbefff%27%2C%20%27%23c6dbefff%27%2C%20%27%23c6dbefff%27%2C%20%27%23c6dbefff%27%2C%20%27%23c6dbefff%27%2C%20%27%23c6dbefff%27%2C%20%27%23c6dbefff%27%2C%20%27%23c6dbefff%27%2C%20%27%23c6dbefff%27%2C%20%27%23c6dbefff%27%2C%20%27%23c6dbefff%27%2C%20%27%23c6dbefff%27%2C%20%27%23c6dbefff%27%2C%20%27%23c6dbefff%27%2C%20%27%23c6dbefff%27%2C%20%27%23c6dbefff%27%2C%20%27%23c6dbefff%27%2C%20%27%23c6dbefff%27%2C%20%27%23c6dbefff%27%2C%20%27%23c6dbefff%27%2C%20%27%23c6dbefff%27%2C%20%27%23c6dbefff%27%2C%20%27%23c6dbefff%27%2C%20%27%23c6dbefff%27%2C%20%27%23c6dbefff%27%2C%20%27%23c6dbefff%27%2C%20%27%23c6dbefff%27%2C%20%27%23c6dbefff%27%2C%20%27%23c6dbefff%27%2C%20%27%23c6dbefff%27%2C%20%27%23c6dbefff%27%2C%20%27%23c6dbefff%27%2C%20%27%23c6dbefff%27%2C%20%27%23c6dbefff%27%2C%20%27%239ecae1ff%27%2C%20%27%239ecae1ff%27%2C%20%27%239ecae1ff%27%2C%20%27%239ecae1ff%27%2C%20%27%239ecae1ff%27%2C%20%27%239ecae1ff%27%2C%20%27%239ecae1ff%27%2C%20%27%239ecae1ff%27%2C%20%27%239ecae1ff%27%2C%20%27%239ecae1ff%27%2C%20%27%239ecae1ff%27%2C%20%27%239ecae1ff%27%2C%20%27%239ecae1ff%27%2C%20%27%239ecae1ff%27%2C%20%27%239ecae1ff%27%2C%20%27%239ecae1ff%27%2C%20%27%239ecae1ff%27%2C%20%27%239ecae1ff%27%2C%20%27%239ecae1ff%27%2C%20%27%239ecae1ff%27%2C%20%27%239ecae1ff%27%2C%20%27%239ecae1ff%27%2C%20%27%239ecae1ff%27%2C%20%27%239ecae1ff%27%2C%20%27%239ecae1ff%27%2C%20%27%239ecae1ff%27%2C%20%27%239ecae1ff%27%2C%20%27%239ecae1ff%27%2C%20%27%239ecae1ff%27%2C%20%27%239ecae1ff%27%2C%20%27%239ecae1ff%27%2C%20%27%239ecae1ff%27%2C%20%27%239ecae1ff%27%2C%20%27%239ecae1ff%27%2C%20%27%239ecae1ff%27%2C%20%27%239ecae1ff%27%2C%20%27%239ecae1ff%27%2C%20%27%239ecae1ff%27%2C%20%27%239ecae1ff%27%2C%20%27%239ecae1ff%27%2C%20%27%239ecae1ff%27%2C%20%27%239ecae1ff%27%2C%20%27%239ecae1ff%27%2C%20%27%239ecae1ff%27%2C%20%27%239ecae1ff%27%2C%20%27%239ecae1ff%27%2C%20%27%239ecae1ff%27%2C%20%27%239ecae1ff%27%2C%20%27%239ecae1ff%27%2C%20%27%239ecae1ff%27%2C%20%27%239ecae1ff%27%2C%20%27%239ecae1ff%27%2C%20%27%239ecae1ff%27%2C%20%27%239ecae1ff%27%2C%20%27%239ecae1ff%27%2C%20%27%239ecae1ff%27%2C%20%27%239ecae1ff%27%2C%20%27%239ecae1ff%27%2C%20%27%239ecae1ff%27%2C%20%27%239ecae1ff%27%2C%20%27%239ecae1ff%27%2C%20%27%239ecae1ff%27%2C%20%27%239ecae1ff%27%2C%20%27%239ecae1ff%27%2C%20%27%239ecae1ff%27%2C%20%27%239ecae1ff%27%2C%20%27%239ecae1ff%27%2C%20%27%239ecae1ff%27%2C%20%27%239ecae1ff%27%2C%20%27%239ecae1ff%27%2C%20%27%239ecae1ff%27%2C%20%27%239ecae1ff%27%2C%20%27%239ecae1ff%27%2C%20%27%239ecae1ff%27%2C%20%27%239ecae1ff%27%2C%20%27%239ecae1ff%27%2C%20%27%239ecae1ff%27%2C%20%27%239ecae1ff%27%2C%20%27%239ecae1ff%27%2C%20%27%239ecae1ff%27%2C%20%27%239ecae1ff%27%2C%20%27%239ecae1ff%27%2C%20%27%239ecae1ff%27%2C%20%27%236baed6ff%27%2C%20%27%236baed6ff%27%2C%20%27%236baed6ff%27%2C%20%27%236baed6ff%27%2C%20%27%236baed6ff%27%2C%20%27%236baed6ff%27%2C%20%27%236baed6ff%27%2C%20%27%236baed6ff%27%2C%20%27%236baed6ff%27%2C%20%27%236baed6ff%27%2C%20%27%236baed6ff%27%2C%20%27%236baed6ff%27%2C%20%27%236baed6ff%27%2C%20%27%236baed6ff%27%2C%20%27%236baed6ff%27%2C%20%27%236baed6ff%27%2C%20%27%236baed6ff%27%2C%20%27%236baed6ff%27%2C%20%27%236baed6ff%27%2C%20%27%236baed6ff%27%2C%20%27%236baed6ff%27%2C%20%27%236baed6ff%27%2C%20%27%236baed6ff%27%2C%20%27%236baed6ff%27%2C%20%27%236baed6ff%27%2C%20%27%236baed6ff%27%2C%20%27%236baed6ff%27%2C%20%27%236baed6ff%27%2C%20%27%236baed6ff%27%2C%20%27%236baed6ff%27%2C%20%27%236baed6ff%27%2C%20%27%236baed6ff%27%2C%20%27%236baed6ff%27%2C%20%27%236baed6ff%27%2C%20%27%236baed6ff%27%2C%20%27%236baed6ff%27%2C%20%27%236baed6ff%27%2C%20%27%236baed6ff%27%2C%20%27%236baed6ff%27%2C%20%27%236baed6ff%27%2C%20%27%236baed6ff%27%2C%20%27%236baed6ff%27%2C%20%27%236baed6ff%27%2C%20%27%236baed6ff%27%2C%20%27%236baed6ff%27%2C%20%27%236baed6ff%27%2C%20%27%236baed6ff%27%2C%20%27%236baed6ff%27%2C%20%27%236baed6ff%27%2C%20%27%236baed6ff%27%2C%20%27%236baed6ff%27%2C%20%27%236baed6ff%27%2C%20%27%236baed6ff%27%2C%20%27%236baed6ff%27%2C%20%27%236baed6ff%27%2C%20%27%236baed6ff%27%2C%20%27%236baed6ff%27%2C%20%27%236baed6ff%27%2C%20%27%236baed6ff%27%2C%20%27%236baed6ff%27%2C%20%27%236baed6ff%27%2C%20%27%236baed6ff%27%2C%20%27%236baed6ff%27%2C%20%27%236baed6ff%27%2C%20%27%236baed6ff%27%2C%20%27%236baed6ff%27%2C%20%27%236baed6ff%27%2C%20%27%236baed6ff%27%2C%20%27%236baed6ff%27%2C%20%27%236baed6ff%27%2C%20%27%236baed6ff%27%2C%20%27%236baed6ff%27%2C%20%27%236baed6ff%27%2C%20%27%236baed6ff%27%2C%20%27%236baed6ff%27%2C%20%27%236baed6ff%27%2C%20%27%236baed6ff%27%2C%20%27%236baed6ff%27%2C%20%27%236baed6ff%27%2C%20%27%236baed6ff%27%2C%20%27%236baed6ff%27%2C%20%27%236baed6ff%27%2C%20%27%236baed6ff%27%2C%20%27%233182bdff%27%2C%20%27%233182bdff%27%2C%20%27%233182bdff%27%2C%20%27%233182bdff%27%2C%20%27%233182bdff%27%2C%20%27%233182bdff%27%2C%20%27%233182bdff%27%2C%20%27%233182bdff%27%2C%20%27%233182bdff%27%2C%20%27%233182bdff%27%2C%20%27%233182bdff%27%2C%20%27%233182bdff%27%2C%20%27%233182bdff%27%2C%20%27%233182bdff%27%2C%20%27%233182bdff%27%2C%20%27%233182bdff%27%2C%20%27%233182bdff%27%2C%20%27%233182bdff%27%2C%20%27%233182bdff%27%2C%20%27%233182bdff%27%2C%20%27%233182bdff%27%2C%20%27%233182bdff%27%2C%20%27%233182bdff%27%2C%20%27%233182bdff%27%2C%20%27%233182bdff%27%2C%20%27%233182bdff%27%2C%20%27%233182bdff%27%2C%20%27%233182bdff%27%2C%20%27%233182bdff%27%2C%20%27%233182bdff%27%2C%20%27%233182bdff%27%2C%20%27%233182bdff%27%2C%20%27%233182bdff%27%2C%20%27%233182bdff%27%2C%20%27%233182bdff%27%2C%20%27%233182bdff%27%2C%20%27%233182bdff%27%2C%20%27%233182bdff%27%2C%20%27%233182bdff%27%2C%20%27%233182bdff%27%2C%20%27%233182bdff%27%2C%20%27%233182bdff%27%2C%20%27%233182bdff%27%2C%20%27%233182bdff%27%2C%20%27%233182bdff%27%2C%20%27%233182bdff%27%2C%20%27%233182bdff%27%2C%20%27%233182bdff%27%2C%20%27%233182bdff%27%2C%20%27%233182bdff%27%2C%20%27%233182bdff%27%2C%20%27%233182bdff%27%2C%20%27%233182bdff%27%2C%20%27%233182bdff%27%2C%20%27%233182bdff%27%2C%20%27%233182bdff%27%2C%20%27%233182bdff%27%2C%20%27%233182bdff%27%2C%20%27%233182bdff%27%2C%20%27%233182bdff%27%2C%20%27%233182bdff%27%2C%20%27%233182bdff%27%2C%20%27%233182bdff%27%2C%20%27%233182bdff%27%2C%20%27%233182bdff%27%2C%20%27%233182bdff%27%2C%20%27%233182bdff%27%2C%20%27%233182bdff%27%2C%20%27%233182bdff%27%2C%20%27%233182bdff%27%2C%20%27%233182bdff%27%2C%20%27%233182bdff%27%2C%20%27%233182bdff%27%2C%20%27%233182bdff%27%2C%20%27%233182bdff%27%2C%20%27%233182bdff%27%2C%20%27%233182bdff%27%2C%20%27%233182bdff%27%2C%20%27%233182bdff%27%2C%20%27%233182bdff%27%2C%20%27%233182bdff%27%2C%20%27%233182bdff%27%2C%20%27%233182bdff%27%2C%20%27%2308519cff%27%2C%20%27%2308519cff%27%2C%20%27%2308519cff%27%2C%20%27%2308519cff%27%2C%20%27%2308519cff%27%2C%20%27%2308519cff%27%2C%20%27%2308519cff%27%2C%20%27%2308519cff%27%2C%20%27%2308519cff%27%2C%20%27%2308519cff%27%2C%20%27%2308519cff%27%2C%20%27%2308519cff%27%2C%20%27%2308519cff%27%2C%20%27%2308519cff%27%2C%20%27%2308519cff%27%2C%20%27%2308519cff%27%2C%20%27%2308519cff%27%2C%20%27%2308519cff%27%2C%20%27%2308519cff%27%2C%20%27%2308519cff%27%2C%20%27%2308519cff%27%2C%20%27%2308519cff%27%2C%20%27%2308519cff%27%2C%20%27%2308519cff%27%2C%20%27%2308519cff%27%2C%20%27%2308519cff%27%2C%20%27%2308519cff%27%2C%20%27%2308519cff%27%2C%20%27%2308519cff%27%2C%20%27%2308519cff%27%2C%20%27%2308519cff%27%2C%20%27%2308519cff%27%2C%20%27%2308519cff%27%2C%20%27%2308519cff%27%2C%20%27%2308519cff%27%2C%20%27%2308519cff%27%2C%20%27%2308519cff%27%2C%20%27%2308519cff%27%2C%20%27%2308519cff%27%2C%20%27%2308519cff%27%2C%20%27%2308519cff%27%2C%20%27%2308519cff%27%2C%20%27%2308519cff%27%2C%20%27%2308519cff%27%2C%20%27%2308519cff%27%2C%20%27%2308519cff%27%2C%20%27%2308519cff%27%2C%20%27%2308519cff%27%2C%20%27%2308519cff%27%2C%20%27%2308519cff%27%2C%20%27%2308519cff%27%2C%20%27%2308519cff%27%2C%20%27%2308519cff%27%2C%20%27%2308519cff%27%2C%20%27%2308519cff%27%2C%20%27%2308519cff%27%2C%20%27%2308519cff%27%2C%20%27%2308519cff%27%2C%20%27%2308519cff%27%2C%20%27%2308519cff%27%2C%20%27%2308519cff%27%2C%20%27%2308519cff%27%2C%20%27%2308519cff%27%2C%20%27%2308519cff%27%2C%20%27%2308519cff%27%2C%20%27%2308519cff%27%2C%20%27%2308519cff%27%2C%20%27%2308519cff%27%2C%20%27%2308519cff%27%2C%20%27%2308519cff%27%2C%20%27%2308519cff%27%2C%20%27%2308519cff%27%2C%20%27%2308519cff%27%2C%20%27%2308519cff%27%2C%20%27%2308519cff%27%2C%20%27%2308519cff%27%2C%20%27%2308519cff%27%2C%20%27%2308519cff%27%2C%20%27%2308519cff%27%2C%20%27%2308519cff%27%2C%20%27%2308519cff%27%2C%20%27%2308519cff%27%2C%20%27%2308519cff%27%2C%20%27%2308519cff%27%5D%29%3B%0A%20%20%20%20%0A%0A%20%20%20%20color_map_96b89d0c11004034bace4611988fd3c0.x%20%3D%20d3.scale.linear%28%29%0A%20%20%20%20%20%20%20%20%20%20%20%20%20%20.domain%28%5B-0.11933763799354079%2C%200.3577523059611499%5D%29%0A%20%20%20%20%20%20%20%20%20%20%20%20%20%20.range%28%5B0%2C%20400%5D%29%3B%0A%0A%20%20%20%20color_map_96b89d0c11004034bace4611988fd3c0.legend%20%3D%20L.control%28%7Bposition%3A%20%27topright%27%7D%29%3B%0A%20%20%20%20color_map_96b89d0c11004034bace4611988fd3c0.legend.onAdd%20%3D%20function%20%28map%29%20%7Bvar%20div%20%3D%20L.DomUtil.create%28%27div%27%2C%20%27legend%27%29%3B%20return%20div%7D%3B%0A%20%20%20%20color_map_96b89d0c11004034bace4611988fd3c0.legend.addTo%28map_9b5bcbf948b047f79bc07cf3235cea1c%29%3B%0A%0A%20%20%20%20color_map_96b89d0c11004034bace4611988fd3c0.xAxis%20%3D%20d3.svg.axis%28%29%0A%20%20%20%20%20%20%20%20.scale%28color_map_96b89d0c11004034bace4611988fd3c0.x%29%0A%20%20%20%20%20%20%20%20.orient%28%22top%22%29%0A%20%20%20%20%20%20%20%20.tickSize%281%29%0A%20%20%20%20%20%20%20%20.tickValues%28%5B-0.11933763799354079%2C%20-0.03982264733442567%2C%200.03969234332468945%2C%200.11920733398380458%2C%200.19872232464291967%2C%200.27823731530203477%2C%200.3577523059611499%5D%29%3B%0A%0A%20%20%20%20color_map_96b89d0c11004034bace4611988fd3c0.svg%20%3D%20d3.select%28%22.legend.leaflet-control%22%29.append%28%22svg%22%29%0A%20%20%20%20%20%20%20%20.attr%28%22id%22%2C%20%27legend%27%29%0A%20%20%20%20%20%20%20%20.attr%28%22width%22%2C%20450%29%0A%20%20%20%20%20%20%20%20.attr%28%22height%22%2C%2040%29%3B%0A%0A%20%20%20%20color_map_96b89d0c11004034bace4611988fd3c0.g%20%3D%20color_map_96b89d0c11004034bace4611988fd3c0.svg.append%28%22g%22%29%0A%20%20%20%20%20%20%20%20.attr%28%22class%22%2C%20%22key%22%29%0A%20%20%20%20%20%20%20%20.attr%28%22transform%22%2C%20%22translate%2825%2C16%29%22%29%3B%0A%0A%20%20%20%20color_map_96b89d0c11004034bace4611988fd3c0.g.selectAll%28%22rect%22%29%0A%20%20%20%20%20%20%20%20.data%28color_map_96b89d0c11004034bace4611988fd3c0.color.range%28%29.map%28function%28d%2C%20i%29%20%7B%0A%20%20%20%20%20%20%20%20%20%20return%20%7B%0A%20%20%20%20%20%20%20%20%20%20%20%20x0%3A%20i%20%3F%20color_map_96b89d0c11004034bace4611988fd3c0.x%28color_map_96b89d0c11004034bace4611988fd3c0.color.domain%28%29%5Bi%20-%201%5D%29%20%3A%20color_map_96b89d0c11004034bace4611988fd3c0.x.range%28%29%5B0%5D%2C%0A%20%20%20%20%20%20%20%20%20%20%20%20x1%3A%20i%20%3C%20color_map_96b89d0c11004034bace4611988fd3c0.color.domain%28%29.length%20%3F%20color_map_96b89d0c11004034bace4611988fd3c0.x%28color_map_96b89d0c11004034bace4611988fd3c0.color.domain%28%29%5Bi%5D%29%20%3A%20color_map_96b89d0c11004034bace4611988fd3c0.x.range%28%29%5B1%5D%2C%0A%20%20%20%20%20%20%20%20%20%20%20%20z%3A%20d%0A%20%20%20%20%20%20%20%20%20%20%7D%3B%0A%20%20%20%20%20%20%20%20%7D%29%29%0A%20%20%20%20%20%20.enter%28%29.append%28%22rect%22%29%0A%20%20%20%20%20%20%20%20.attr%28%22height%22%2C%2010%29%0A%20%20%20%20%20%20%20%20.attr%28%22x%22%2C%20function%28d%29%20%7B%20return%20d.x0%3B%20%7D%29%0A%20%20%20%20%20%20%20%20.attr%28%22width%22%2C%20function%28d%29%20%7B%20return%20d.x1%20-%20d.x0%3B%20%7D%29%0A%20%20%20%20%20%20%20%20.style%28%22fill%22%2C%20function%28d%29%20%7B%20return%20d.z%3B%20%7D%29%3B%0A%0A%20%20%20%20color_map_96b89d0c11004034bace4611988fd3c0.g.call%28color_map_96b89d0c11004034bace4611988fd3c0.xAxis%29.append%28%22text%22%29%0A%20%20%20%20%20%20%20%20.attr%28%22class%22%2C%20%22caption%22%29%0A%20%20%20%20%20%20%20%20.attr%28%22y%22%2C%2021%29%0A%20%20%20%20%20%20%20%20.text%28%27%27%29%3B%0A%3C/script%3E onload=\"this.contentDocument.open();this.contentDocument.write(    decodeURIComponent(this.getAttribute('data-html')));this.contentDocument.close();\" allowfullscreen webkitallowfullscreen mozallowfullscreen></iframe></div></div>"
      ],
      "text/plain": [
       "<folium.folium.Map at 0x2329f5d2790>"
      ]
     },
     "execution_count": 79,
     "metadata": {},
     "output_type": "execute_result"
    }
   ],
   "source": [
    "m = folium.Map(location = [37.566345, 126.977893], tiles = 'Stamen Terrain')\n",
    "folium.Choropleth(geo_data = geo_json,\n",
    "                 name = 'choropleth',\n",
    "                 data= corr_df,\n",
    "                 columns = ['gu','corr'],\n",
    "                 key_on = 'feature.properties.name',\n",
    "                 fill_color ='Blues',\n",
    "                 fill_opacity = 0.7,\n",
    "                 line_opacity=0.2).add_to(m)\n",
    "\n",
    "m"
   ]
  },
  {
   "cell_type": "code",
   "execution_count": 80,
   "metadata": {},
   "outputs": [],
   "source": [
    "# 결론 코로나로 인해 서울의 교통 이용자수는 코로나로 인해 영향을 받았고 그 중\n",
    "# 강남부근이 가장 영향을 많이 받았음을 알 수 있었다,"
   ]
  },
  {
   "cell_type": "markdown",
   "metadata": {},
   "source": [
    "# 기여도(총 100점) 및 역할\n",
    "\n",
    "김창현 - 역할 : 상관관계 분석, 분산 분석, 데이터 시각화(지도, 그래프), 회귀 분석\n",
    "기여도 - 자신의 역할(50) + 성실성(30) + 팀플 출석(20) = 100점 \n",
    "\n",
    "강범창 - 데이터 전처리 및 데이터 수집(api), 프로젝트 총 정리\n",
    "기여도 - 자신의 역할(50) + 성실성(30) + 팀플 출석(20) = 100점\n",
    "\n",
    "고준수- 역할 : 분산 분석, 데이터 정규성 확인, 데이터 시각화(그래프)\n",
    "기여도 - 자신의 역할(50) + 성실성(30) + 팀플 출석(20) = 100점"
   ]
  }
 ],
 "metadata": {
  "kernelspec": {
   "display_name": "Python 3",
   "language": "python",
   "name": "python3"
  },
  "language_info": {
   "codemirror_mode": {
    "name": "ipython",
    "version": 3
   },
   "file_extension": ".py",
   "mimetype": "text/x-python",
   "name": "python",
   "nbconvert_exporter": "python",
   "pygments_lexer": "ipython3",
   "version": "3.8.5"
  }
 },
 "nbformat": 4,
 "nbformat_minor": 4
}
